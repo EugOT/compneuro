{
  "cells": [
    {
      "cell_type": "markdown",
      "metadata": {
        "id": "view-in-github",
        "colab_type": "text"
      },
      "source": [
        "<a href=\"https://colab.research.google.com/github/EugOT/compneuro/blob/jonathankremla/notebooks/2023-11-19-PCA.ipynb\" target=\"_parent\"><img src=\"https://colab.research.google.com/assets/colab-badge.svg\" alt=\"Open In Colab\"/></a>"
      ]
    },
    {
      "cell_type": "markdown",
      "metadata": {
        "execution": {},
        "id": "Yb9n7ZrD2rxv"
      },
      "source": [
        "# Tutorial 2: Principal Component Analysis (PCA)"
      ]
    },
    {
      "cell_type": "markdown",
      "metadata": {
        "execution": {},
        "id": "OS5gvG9d2rxw"
      },
      "source": [
        "---\n",
        "# Tutorial Objectives\n",
        "\n",
        "In this notebook we'll learn how to perform PCA by projecting the data onto the eigenvectors of its covariance matrix.\n",
        "\n",
        "Overview:\n",
        "- Calculate the eigenvectors of the sample covariance matrix.\n",
        "- Perform PCA by projecting data onto the eigenvectors of the covariance matrix.\n",
        "- Plot and explore the eigenvalues.\n",
        "\n",
        "To quickly refresh your knowledge of eigenvalues and eigenvectors, you can watch this [short video](https://www.youtube.com/watch?v=kwA3qM0rm7c) (4 minutes) for a geometrical explanation. For a deeper understanding, this [in-depth video](https://www.youtube.com/watch?v=PFDu9oVAE-g&list=PLZHQObOWTQDPD3MizzM2xVFitgF8hE_ab&index=14) (17 minutes) provides an excellent basis and is beautifully illustrated."
      ]
    },
    {
      "cell_type": "markdown",
      "metadata": {
        "execution": {},
        "id": "decjBsIn2rxw"
      },
      "source": [
        "---\n",
        "# Setup\n"
      ]
    },
    {
      "cell_type": "code",
      "execution_count": null,
      "metadata": {
        "execution": {},
        "id": "V4PHt3_e2rxx"
      },
      "outputs": [],
      "source": [
        "# Imports\n",
        "import numpy as np\n",
        "import matplotlib.pyplot as plt"
      ]
    },
    {
      "cell_type": "code",
      "execution_count": null,
      "metadata": {
        "cellView": "form",
        "execution": {},
        "id": "RzAHEnlv2rxx"
      },
      "outputs": [],
      "source": [
        "# @title Figure Settings\n",
        "import logging\n",
        "logging.getLogger('matplotlib.font_manager').disabled = True\n",
        "\n",
        "import ipywidgets as widgets  # interactive display\n",
        "%config InlineBackend.figure_format = 'retina'\n",
        "plt.style.use(\"https://raw.githubusercontent.com/NeuromatchAcademy/course-content/main/nma.mplstyle\")"
      ]
    },
    {
      "cell_type": "code",
      "execution_count": null,
      "metadata": {
        "cellView": "form",
        "execution": {},
        "id": "YX-onfmm2rxx"
      },
      "outputs": [],
      "source": [
        "# @title Plotting Functions\n",
        "\n",
        "def plot_eigenvalues(evals):\n",
        "  \"\"\"\n",
        "  Plots eigenvalues.\n",
        "\n",
        "  Args:\n",
        "      (numpy array of floats) : Vector of eigenvalues\n",
        "\n",
        "  Returns:\n",
        "    Nothing.\n",
        "\n",
        "  \"\"\"\n",
        "  plt.figure(figsize=(4, 4))\n",
        "  plt.plot(np.arange(1, len(evals) + 1), evals, 'o-k')\n",
        "  plt.xlabel('Component')\n",
        "  plt.ylabel('Eigenvalue')\n",
        "  plt.title('Scree plot')\n",
        "  plt.xticks(np.arange(1, len(evals) + 1))\n",
        "  plt.ylim([0, 2.5])\n",
        "  plt.show()\n",
        "\n",
        "\n",
        "def plot_data(X):\n",
        "  \"\"\"\n",
        "  Plots bivariate data. Includes a plot of each random variable, and a scatter\n",
        "  scatter plot of their joint activity. The title indicates the sample\n",
        "  correlation calculated from the data.\n",
        "\n",
        "  Args:\n",
        "    X (numpy array of floats) : Data matrix each column corresponds to a\n",
        "                                different random variable\n",
        "\n",
        "  Returns:\n",
        "    Nothing.\n",
        "  \"\"\"\n",
        "\n",
        "  fig = plt.figure(figsize=[8, 4])\n",
        "  gs = fig.add_gridspec(2, 2)\n",
        "  ax1 = fig.add_subplot(gs[0, 0])\n",
        "  ax1.plot(X[:, 0], color='k')\n",
        "  plt.ylabel('Neuron 1')\n",
        "  ax2 = fig.add_subplot(gs[1, 0])\n",
        "  ax2.plot(X[:, 1], color='k')\n",
        "  plt.xlabel('Sample Number (sorted)')\n",
        "  plt.ylabel('Neuron 2')\n",
        "  ax3 = fig.add_subplot(gs[:, 1])\n",
        "  ax3.plot(X[:, 0], X[:, 1], '.', markerfacecolor=[.5, .5, .5],\n",
        "           markeredgewidth=0)\n",
        "  ax3.axis('equal')\n",
        "  plt.xlabel('Neuron 1 activity')\n",
        "  plt.ylabel('Neuron 2 activity')\n",
        "  plt.title('Sample corr: {:.1f}'.format(np.corrcoef(X[:, 0], X[:, 1])[0, 1]))\n",
        "  plt.show()\n",
        "\n",
        "\n",
        "def plot_data_new_basis(Y):\n",
        "  \"\"\"\n",
        "  Plots bivariate data after transformation to new bases. Similar to plot_data\n",
        "  but with colors corresponding to projections onto basis 1 (red) and\n",
        "  basis 2 (blue).\n",
        "  The title indicates the sample correlation calculated from the data.\n",
        "\n",
        "  Note that samples are re-sorted in ascending order for the first random\n",
        "  variable.\n",
        "\n",
        "  Args:\n",
        "    Y (numpy array of floats) : Data matrix in new basis each column\n",
        "                                corresponds to a different random variable\n",
        "\n",
        "  Returns:\n",
        "    Nothing.\n",
        "  \"\"\"\n",
        "\n",
        "  fig = plt.figure(figsize=[8, 4])\n",
        "  gs = fig.add_gridspec(2, 2)\n",
        "  ax1 = fig.add_subplot(gs[0, 0])\n",
        "  ax1.plot(Y[:, 0], 'r')\n",
        "  plt.ylabel('Projection \\n basis vector 1')\n",
        "  ax2 = fig.add_subplot(gs[1, 0])\n",
        "  ax2.plot(Y[:, 1], 'b')\n",
        "  plt.xlabel('Sample number')\n",
        "  plt.ylabel('Projection \\n basis vector 2')\n",
        "  ax3 = fig.add_subplot(gs[:, 1])\n",
        "  ax3.plot(Y[:, 0], Y[:, 1], '.', color=[.5, .5, .5])\n",
        "  ax3.axis('equal')\n",
        "  plt.xlabel('Projection basis vector 1')\n",
        "  plt.ylabel('Projection basis vector 2')\n",
        "  plt.title('Sample corr: {:.1f}'.format(np.corrcoef(Y[:, 0], Y[:, 1])[0, 1]))\n",
        "  plt.show()\n",
        "\n",
        "\n",
        "def plot_basis_vectors(X, W):\n",
        "  \"\"\"\n",
        "  Plots bivariate data as well as new basis vectors.\n",
        "\n",
        "  Args:\n",
        "    X (numpy array of floats) : Data matrix each column corresponds to a\n",
        "                                different random variable\n",
        "    W (numpy array of floats) : Square matrix representing new orthonormal\n",
        "                                basis each column represents a basis vector\n",
        "\n",
        "  Returns:\n",
        "    Nothing.\n",
        "  \"\"\"\n",
        "\n",
        "  plt.figure(figsize=[4, 4])\n",
        "  plt.plot(X[:, 0], X[:, 1], '.', color=[.5, .5, .5], label='Data')\n",
        "  plt.axis('equal')\n",
        "  plt.xlabel('Neuron 1 activity')\n",
        "  plt.ylabel('Neuron 2 activity')\n",
        "  plt.plot([0, W[0, 0]], [0, W[1, 0]], color='r', linewidth=3,\n",
        "           label='Basis vector 1')\n",
        "  plt.plot([0, W[0, 1]], [0, W[1, 1]], color='b', linewidth=3,\n",
        "           label='Basis vector 2')\n",
        "  plt.legend()\n",
        "  plt.show()"
      ]
    },
    {
      "cell_type": "code",
      "execution_count": null,
      "metadata": {
        "cellView": "form",
        "execution": {},
        "id": "071VlV0T2rxy"
      },
      "outputs": [],
      "source": [
        "# @title Helper functions\n",
        "\n",
        "def sort_evals_descending(evals, evectors):\n",
        "  \"\"\"\n",
        "  Sorts eigenvalues and eigenvectors in decreasing order. Also aligns first two\n",
        "  eigenvectors to be in first two quadrants (if 2D).\n",
        "\n",
        "  Args:\n",
        "    evals (numpy array of floats)    : Vector of eigenvalues\n",
        "    evectors (numpy array of floats) : Corresponding matrix of eigenvectors\n",
        "                                        each column corresponds to a different\n",
        "                                        eigenvalue\n",
        "\n",
        "  Returns:\n",
        "    (numpy array of floats)          : Vector of eigenvalues after sorting\n",
        "    (numpy array of floats)          : Matrix of eigenvectors after sorting\n",
        "  \"\"\"\n",
        "\n",
        "  index = np.flip(np.argsort(evals))\n",
        "  evals = evals[index]\n",
        "  evectors = evectors[:, index]\n",
        "  if evals.shape[0] == 2:\n",
        "    if np.arccos(np.matmul(evectors[:, 0],\n",
        "                           1 / np.sqrt(2) * np.array([1, 1]))) > np.pi / 2:\n",
        "      evectors[:, 0] = -evectors[:, 0]\n",
        "    if np.arccos(np.matmul(evectors[:, 1],\n",
        "                           1 / np.sqrt(2) * np.array([-1, 1]))) > np.pi / 2:\n",
        "      evectors[:, 1] = -evectors[:, 1]\n",
        "  return evals, evectors\n",
        "\n",
        "\n",
        "def get_data(cov_matrix):\n",
        "  \"\"\"\n",
        "  Returns a matrix of 1000 samples from a bivariate, zero-mean Gaussian\n",
        "\n",
        "  Note that samples are sorted in ascending order for the first random\n",
        "  variable.\n",
        "\n",
        "  Args:\n",
        "    var_1 (scalar)                     : variance of the first random variable\n",
        "    var_2 (scalar)                     : variance of the second random variable\n",
        "    cov_matrix (numpy array of floats) : desired covariance matrix\n",
        "\n",
        "  Returns:\n",
        "    (numpy array of floats)            : samples from the bivariate Gaussian,\n",
        "                                          with each column corresponding to a\n",
        "                                          different random variable\n",
        "  \"\"\"\n",
        "\n",
        "  mean = np.array([0, 0])\n",
        "  X = np.random.multivariate_normal(mean, cov_matrix, size=1000)\n",
        "  indices_for_sorting = np.argsort(X[:, 0])\n",
        "  X = X[indices_for_sorting, :]\n",
        "  return X\n",
        "\n",
        "\n",
        "def calculate_cov_matrix(var_1, var_2, corr_coef):\n",
        "  \"\"\"\n",
        "  Calculates the covariance matrix based on the variances and\n",
        "  correlation coefficient.\n",
        "\n",
        "  Args:\n",
        "    var_1 (scalar)         :  variance of the first random variable\n",
        "    var_2 (scalar)         :  variance of the second random variable\n",
        "    corr_coef (scalar)     :  correlation coefficient\n",
        "\n",
        "  Returns:\n",
        "    (numpy array of floats) : covariance matrix\n",
        "  \"\"\"\n",
        "  cov = corr_coef * np.sqrt(var_1 * var_2)\n",
        "  cov_matrix = np.array([[var_1, cov], [cov, var_2]])\n",
        "  return cov_matrix\n",
        "\n",
        "\n",
        "def define_orthonormal_basis(u):\n",
        "  \"\"\"\n",
        "  Calculates an orthonormal basis given an arbitrary vector u.\n",
        "\n",
        "  Args:\n",
        "    u (numpy array of floats) : arbitrary 2D vector used for new basis\n",
        "\n",
        "  Returns:\n",
        "    (numpy array of floats)   : new orthonormal basis columns correspond to\n",
        "                                basis vectors\n",
        "  \"\"\"\n",
        "\n",
        "  u = u / np.sqrt(u[0] ** 2 + u[1] ** 2)\n",
        "  w = np.array([-u[1], u[0]])\n",
        "  W = np.column_stack((u, w))\n",
        "  return W\n",
        "\n",
        "\n",
        "def change_of_basis(X, W):\n",
        "  \"\"\"\n",
        "  Projects data onto a new basis.\n",
        "\n",
        "  Args:\n",
        "    X (numpy array of floats) : Data matrix each column corresponding to a\n",
        "                                different random variable\n",
        "    W (numpy array of floats) : new orthonormal basis columns correspond to\n",
        "                                basis vectors\n",
        "\n",
        "  Returns:\n",
        "    (numpy array of floats)   : Data matrix expressed in new basis\n",
        "  \"\"\"\n",
        "\n",
        "  Y = np.matmul(X, W)\n",
        "  return Y"
      ]
    },
    {
      "cell_type": "markdown",
      "metadata": {
        "execution": {},
        "id": "LpB_i0XR2rxy"
      },
      "source": [
        "---\n",
        "# Section 1: Calculate the eigenvectors of the the sample covariance matrix\n",
        "\n",
        "As we saw in the lecture, PCA represents data in a new orthonormal basis defined by the eigenvectors of the covariance matrix. Remember that in the previous tutorial, we generated bivariate normal data with a specified covariance matrix $\\bf \\Sigma$, whose $(i,j)$th element is:\n",
        "\n",
        "\\begin{equation}\n",
        "\\Sigma_{ij} = \\mathbb{E}[ x_i x_j ] - \\mathbb{E}[ x_i] \\mathbb{E}[ x_j ] .\n",
        "\\end{equation}\n",
        "\n",
        "However, in real life we don't have access to this ground-truth covariance\n",
        "matrix. To get around this, we can use the sample covariance matrix, $\\bf\\hat\\Sigma$, which is calculated directly from the data. The $(i,j)$th element of the sample covariance matrix is:\n",
        "\n",
        "\\begin{equation}\n",
        "\\hat \\Sigma_{ij} =  \\frac{1}{N_\\text{samples}}{\\bf x}_i^\\top {\\bf x}_j - \\bar {\\bf x}_i \\bar{\\bf x}_j ,\n",
        "\\end{equation}\n",
        "\n",
        "where ${\\bf x}_i = [ x_i(1), x_i(2), \\dots,x_i(N_\\text{samples})]^\\top$ is a column vector representing all measurements of neuron $i$, and  $\\bar {\\bf x}_i$ is the mean of neuron $i$ across samples:\n",
        "\n",
        "\\begin{equation}\n",
        "\\bar {\\bf x}_i = \\frac{1}{N_\\text{samples}} \\sum_{k=1}^{N_\\text{samples}} x_i(k).\n",
        "\\end{equation}\n",
        "\n",
        "If we assume that the data has already been mean-subtracted, then we can write the sample covariance matrix in a much simpler matrix form:\n",
        "\n",
        "\\begin{equation}\n",
        "{\\bf \\hat \\Sigma} = \\frac{1}{N_\\text{samples}} {\\bf X}^\\top {\\bf X}.\n",
        "\\end{equation}\n",
        "\n",
        "where $\\bf X$ is the full data matrix (each column of $\\bf X$ is a different $\\bf x_i$)."
      ]
    },
    {
      "cell_type": "markdown",
      "metadata": {
        "execution": {},
        "id": "jS_bkNv62rxz"
      },
      "source": [
        "## Coding Exercise 1.1: Calculate the covariance matrix\n",
        "\n",
        "Before calculating the eigenvectors, you must first calculate the sample covariance matrix.\n",
        "\n",
        "**Steps**\n",
        "* Complete the function `get_sample_cov_matrix` by first subtracting the sample mean of the data, then calculate $\\bf \\hat \\Sigma$ using the equation above.\n",
        "* Use `get_data` to generate bivariate normal data, and calculate the sample covariance matrix with your finished `get_sample_cov_matrix`. Compare this estimate to the true covariate matrix using `calculate_cov_matrix`. You've seen both `get_data` and `calculate_cov_matrix` in Tutorial 1.\n"
      ]
    },
    {
      "cell_type": "code",
      "execution_count": null,
      "metadata": {
        "execution": {},
        "id": "_rFT7M0q2rxz",
        "outputId": "97d8a3c2-c815-4dea-a129-55f8a30c0c3a",
        "colab": {
          "base_uri": "https://localhost:8080/"
        }
      },
      "outputs": [
        {
          "output_type": "stream",
          "name": "stdout",
          "text": [
            "Help on function get_data in module __main__:\n",
            "\n",
            "get_data(cov_matrix)\n",
            "    Returns a matrix of 1000 samples from a bivariate, zero-mean Gaussian\n",
            "    \n",
            "    Note that samples are sorted in ascending order for the first random\n",
            "    variable.\n",
            "    \n",
            "    Args:\n",
            "      var_1 (scalar)                     : variance of the first random variable\n",
            "      var_2 (scalar)                     : variance of the second random variable\n",
            "      cov_matrix (numpy array of floats) : desired covariance matrix\n",
            "    \n",
            "    Returns:\n",
            "      (numpy array of floats)            : samples from the bivariate Gaussian,\n",
            "                                            with each column corresponding to a\n",
            "                                            different random variable\n",
            "\n",
            "Help on function calculate_cov_matrix in module __main__:\n",
            "\n",
            "calculate_cov_matrix(var_1, var_2, corr_coef)\n",
            "    Calculates the covariance matrix based on the variances and\n",
            "    correlation coefficient.\n",
            "    \n",
            "    Args:\n",
            "      var_1 (scalar)         :  variance of the first random variable\n",
            "      var_2 (scalar)         :  variance of the second random variable\n",
            "      corr_coef (scalar)     :  correlation coefficient\n",
            "    \n",
            "    Returns:\n",
            "      (numpy array of floats) : covariance matrix\n",
            "\n"
          ]
        }
      ],
      "source": [
        "help(get_data)\n",
        "help(calculate_cov_matrix)"
      ]
    },
    {
      "cell_type": "code",
      "execution_count": null,
      "metadata": {
        "execution": {},
        "id": "4-D1eW-Y2rxz",
        "outputId": "6ef56d7b-7135-4821-f663-db60ffa8be74",
        "colab": {
          "base_uri": "https://localhost:8080/"
        }
      },
      "outputs": [
        {
          "output_type": "stream",
          "name": "stdout",
          "text": [
            "[[1.  0.8]\n",
            " [0.8 1. ]]\n",
            "[[0.99316457 0.82346444]\n",
            " [0.82346444 1.01282542]]\n"
          ]
        }
      ],
      "source": [
        "def get_sample_cov_matrix(X):\n",
        "  \"\"\"\n",
        "  Returns the sample covariance matrix of data X\n",
        "\n",
        "  Args:\n",
        "    X (numpy array of floats) : Data matrix each column corresponds to a\n",
        "                                different random variable\n",
        "\n",
        "  Returns:\n",
        "    (numpy array of floats)   : Covariance matrix\n",
        "  \"\"\"\n",
        "\n",
        "  # Subtract the mean of X\n",
        "  X = X - np.mean(X)\n",
        "\n",
        "  # Calculate the covariance matrix (hint: use np.matmul)\n",
        "  cov_matrix = 1 / X.shape[0] * np.matmul(X.T, X)\n",
        "\n",
        "  return cov_matrix\n",
        "\n",
        "\n",
        "# Set parameters\n",
        "np.random.seed(2020)  # set random seed\n",
        "variance_1 = 1\n",
        "variance_2 = 1\n",
        "corr_coef = 0.8\n",
        "\n",
        "# Calculate covariance matrix\n",
        "cov_matrix = calculate_cov_matrix(variance_1, variance_2, corr_coef)\n",
        "print(cov_matrix)\n",
        "\n",
        "# Generate data with that covariance matrix\n",
        "X = get_data(cov_matrix)\n",
        "\n",
        "# Get sample covariance matrix\n",
        "sample_cov_matrix = get_sample_cov_matrix(X)\n",
        "print(sample_cov_matrix)"
      ]
    },
    {
      "cell_type": "markdown",
      "metadata": {
        "execution": {},
        "id": "xUAzbeI52rx0"
      },
      "source": [
        "We get a sample covariance matrix that doesn't look too far off from the true covariance matrix, so that's a good sign!"
      ]
    },
    {
      "cell_type": "markdown",
      "metadata": {
        "execution": {},
        "id": "H6tC71Lh2rx0"
      },
      "source": [
        "## Coding Exercise 1.2: Eigenvectors of the covariance matrix\n",
        "\n",
        "Next you will calculate the eigenvectors of the covariance matrix. Plot them along with the data to check that they align with the geometry of the data.\n",
        "\n",
        "**Steps:**\n",
        "* Calculate the eigenvalues and eigenvectors of the sample covariance matrix. (**Hint:** use `np.linalg.eigh`, which finds the eigenvalues of a symmetric matrix).\n",
        "* Use the provided code to sort the eigenvalues in descending order.\n",
        "* Plot the eigenvectors on a scatter plot of the data, using the function `plot_basis_vectors`."
      ]
    },
    {
      "cell_type": "code",
      "execution_count": null,
      "metadata": {
        "execution": {},
        "id": "tz0dhJ0o2rx0",
        "outputId": "64ecc545-a19e-405d-c186-26a9e3b83655",
        "colab": {
          "base_uri": "https://localhost:8080/"
        }
      },
      "outputs": [
        {
          "output_type": "stream",
          "name": "stdout",
          "text": [
            "Help on function sort_evals_descending in module __main__:\n",
            "\n",
            "sort_evals_descending(evals, evectors)\n",
            "    Sorts eigenvalues and eigenvectors in decreasing order. Also aligns first two\n",
            "    eigenvectors to be in first two quadrants (if 2D).\n",
            "    \n",
            "    Args:\n",
            "      evals (numpy array of floats)    : Vector of eigenvalues\n",
            "      evectors (numpy array of floats) : Corresponding matrix of eigenvectors\n",
            "                                          each column corresponds to a different\n",
            "                                          eigenvalue\n",
            "    \n",
            "    Returns:\n",
            "      (numpy array of floats)          : Vector of eigenvalues after sorting\n",
            "      (numpy array of floats)          : Matrix of eigenvectors after sorting\n",
            "\n"
          ]
        }
      ],
      "source": [
        "help(sort_evals_descending)"
      ]
    },
    {
      "cell_type": "code",
      "execution_count": null,
      "metadata": {
        "execution": {},
        "id": "hdUrv0yX2rx0",
        "outputId": "346e21b5-61f6-4bd1-9dad-b9d0f909fed7",
        "colab": {
          "base_uri": "https://localhost:8080/",
          "height": 395
        }
      },
      "outputs": [
        {
          "output_type": "display_data",
          "data": {
            "text/plain": [
              "<Figure size 400x400 with 1 Axes>"
            ],
            "image/png": "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\n"
          },
          "metadata": {
            "image/png": {
              "width": 379,
              "height": 378
            }
          }
        }
      ],
      "source": [
        "# Calculate the eigenvalues and eigenvectors\n",
        "evals, evectors = np.linalg.eigh(cov_matrix)\n",
        "\n",
        "# Sort the eigenvalues in descending order\n",
        "evals, evectors = sort_evals_descending(evals, evectors)\n",
        "\n",
        "# Visualize\n",
        "with plt.xkcd():\n",
        "    plot_basis_vectors(X, evectors)\n"
      ]
    },
    {
      "cell_type": "markdown",
      "metadata": {
        "execution": {},
        "id": "IXCsjwX42rx0"
      },
      "source": [
        "---\n",
        "# Section 2: Perform PCA by projecting data onto the eigenvectors\n",
        "\n"
      ]
    },
    {
      "cell_type": "markdown",
      "metadata": {
        "execution": {},
        "id": "DnPktpPh2rx0"
      },
      "source": [
        "To perform PCA, we will project the data onto the eigenvectors of the covariance matrix, i.e.,:\n",
        "\n",
        "\\begin{equation}\n",
        "\\bf S = X W\n",
        "\\end{equation}\n",
        "\n",
        "where $\\bf S$ is an $N_\\text{samples} \\times N$ matrix representing the projected data (also called *scores*), and $\\bf W$ is an $N\\times N$ orthogonal matrix, each of whose columns represents the eigenvectors of the covariance matrix (also called *weights* or *loadings*)."
      ]
    },
    {
      "cell_type": "markdown",
      "metadata": {
        "execution": {},
        "id": "ZjbQREeA2rx1"
      },
      "source": [
        "## Coding Exercise 2: PCA implementation\n",
        "\n",
        "You will now perform PCA on the data using the intuition and functions you have developed so far. Fill in the function below to carry out the steps to perform PCA by projecting the data onto the eigenvectors of its covariance matrix.\n",
        "\n",
        "**Steps:**\n",
        "* First subtract the mean and calculate the sample covariance matrix.\n",
        "* Then find the eigenvalues and eigenvectors and sort them in descending order.\n",
        "* Finally project the mean-centered data onto the eigenvectors."
      ]
    },
    {
      "cell_type": "code",
      "execution_count": null,
      "metadata": {
        "execution": {},
        "id": "Ke6qZE0A2rx1",
        "outputId": "9f9804be-159a-4c09-a6bb-befdad2e6560",
        "colab": {
          "base_uri": "https://localhost:8080/"
        }
      },
      "outputs": [
        {
          "output_type": "stream",
          "name": "stdout",
          "text": [
            "Help on function change_of_basis in module __main__:\n",
            "\n",
            "change_of_basis(X, W)\n",
            "    Projects data onto a new basis.\n",
            "    \n",
            "    Args:\n",
            "      X (numpy array of floats) : Data matrix each column corresponding to a\n",
            "                                  different random variable\n",
            "      W (numpy array of floats) : new orthonormal basis columns correspond to\n",
            "                                  basis vectors\n",
            "    \n",
            "    Returns:\n",
            "      (numpy array of floats)   : Data matrix expressed in new basis\n",
            "\n"
          ]
        }
      ],
      "source": [
        "help(change_of_basis)"
      ]
    },
    {
      "cell_type": "code",
      "execution_count": null,
      "metadata": {
        "execution": {},
        "id": "rSj1e1J-2rx1",
        "outputId": "f5d208fa-d352-4b91-bc61-c6472628af0d",
        "colab": {
          "base_uri": "https://localhost:8080/",
          "height": 349
        }
      },
      "outputs": [
        {
          "output_type": "error",
          "ename": "NotImplementedError",
          "evalue": "Student exercise: sort eigenvalues/eigenvectors!",
          "traceback": [
            "\u001b[0;31m---------------------------------------------------------------------------\u001b[0m",
            "\u001b[0;31mNotImplementedError\u001b[0m                       Traceback (most recent call last)",
            "\u001b[0;32m<ipython-input-10-258435991f88>\u001b[0m in \u001b[0;36m<cell line: 38>\u001b[0;34m()\u001b[0m\n\u001b[1;32m     36\u001b[0m \u001b[0;34m\u001b[0m\u001b[0m\n\u001b[1;32m     37\u001b[0m \u001b[0;31m# Perform PCA on the data matrix X\u001b[0m\u001b[0;34m\u001b[0m\u001b[0;34m\u001b[0m\u001b[0m\n\u001b[0;32m---> 38\u001b[0;31m \u001b[0mscore\u001b[0m\u001b[0;34m,\u001b[0m \u001b[0mevectors\u001b[0m\u001b[0;34m,\u001b[0m \u001b[0mevals\u001b[0m \u001b[0;34m=\u001b[0m \u001b[0mpca\u001b[0m\u001b[0;34m(\u001b[0m\u001b[0mX\u001b[0m\u001b[0;34m)\u001b[0m\u001b[0;34m\u001b[0m\u001b[0;34m\u001b[0m\u001b[0m\n\u001b[0m\u001b[1;32m     39\u001b[0m \u001b[0;34m\u001b[0m\u001b[0m\n\u001b[1;32m     40\u001b[0m \u001b[0;31m# Plot the data projected into the new basis\u001b[0m\u001b[0;34m\u001b[0m\u001b[0;34m\u001b[0m\u001b[0m\n",
            "\u001b[0;32m<ipython-input-10-258435991f88>\u001b[0m in \u001b[0;36mpca\u001b[0;34m(X)\u001b[0m\n\u001b[1;32m     17\u001b[0m   \u001b[0;31m## TODO for students: calculate the covariance matrix\u001b[0m\u001b[0;34m\u001b[0m\u001b[0;34m\u001b[0m\u001b[0m\n\u001b[1;32m     18\u001b[0m   \u001b[0;31m# Fill out function and remove\u001b[0m\u001b[0;34m\u001b[0m\u001b[0;34m\u001b[0m\u001b[0m\n\u001b[0;32m---> 19\u001b[0;31m   \u001b[0;32mraise\u001b[0m \u001b[0mNotImplementedError\u001b[0m\u001b[0;34m(\u001b[0m\u001b[0;34m\"Student exercise: sort eigenvalues/eigenvectors!\"\u001b[0m\u001b[0;34m)\u001b[0m\u001b[0;34m\u001b[0m\u001b[0;34m\u001b[0m\u001b[0m\n\u001b[0m\u001b[1;32m     20\u001b[0m   \u001b[0;31m#################################################\u001b[0m\u001b[0;34m\u001b[0m\u001b[0;34m\u001b[0m\u001b[0m\n\u001b[1;32m     21\u001b[0m \u001b[0;34m\u001b[0m\u001b[0m\n",
            "\u001b[0;31mNotImplementedError\u001b[0m: Student exercise: sort eigenvalues/eigenvectors!"
          ]
        }
      ],
      "source": [
        "def pca(X):\n",
        "  \"\"\"\n",
        "  Sorts eigenvalues and eigenvectors in decreasing order.\n",
        "\n",
        "  Args:\n",
        "    X (numpy array of floats): Data matrix each column corresponds to a\n",
        "                               different random variable\n",
        "\n",
        "  Returns:\n",
        "    (numpy array of floats)  : Data projected onto the new basis\n",
        "    (numpy array of floats)  : Vector of eigenvalues\n",
        "    (numpy array of floats)  : Corresponding matrix of eigenvectors\n",
        "\n",
        "  \"\"\"\n",
        "\n",
        "  # Calculate the sample covariance matrix\n",
        "  cov_matrix = get_sample_cov_matrix(X)\n",
        "\n",
        "  # Calculate the eigenvalues and eigenvectors\n",
        "  evals, evectors = np.linalg.eigh(cov_matrix)\n",
        "\n",
        "  # Sort the eigenvalues in descending order\n",
        "  evals, evectors = sort_evals_descending(evals, evectors)\n",
        "\n",
        "  # Project the data onto the new eigenvector basis\n",
        "  score = change_of_basis(X, evectors)\n",
        "\n",
        "  return score, evectors, evals\n",
        "\n",
        "\n",
        "# Perform PCA on the data matrix X\n",
        "score, evectors, evals = pca(X)\n",
        "\n",
        "# Plot the data projected into the new basis\n",
        "plot_data_new_basis(score)"
      ]
    },
    {
      "cell_type": "markdown",
      "metadata": {
        "execution": {},
        "id": "my7NXOo92rx1"
      },
      "source": [
        "   Finally, we will examine the eigenvalues of the covariance matrix. Remember that each eigenvalue describes the variance of the data projected onto its corresponding eigenvector. This is an important concept because it allows us to rank the PCA basis vectors based on how much variance each one can capture. First run the code below to plot the eigenvalues (sometimes called the \"scree plot\"). Which eigenvalue is larger?"
      ]
    },
    {
      "cell_type": "code",
      "execution_count": null,
      "metadata": {
        "execution": {},
        "id": "VwpkhePB2rx1"
      },
      "outputs": [],
      "source": [
        "plot_eigenvalues(evals)"
      ]
    },
    {
      "cell_type": "markdown",
      "metadata": {
        "execution": {},
        "id": "LWfhcQeV2rx2"
      },
      "source": [
        "## Interactive Demo 2: Exploration of the correlation coefficient\n",
        "\n",
        "Run the following cell and use the slider to change the correlation coefficient in the data. You should see the scree plot and the plot of basis vectors updated.\n",
        "\n",
        "1.  What happens to the eigenvalues as you change the correlation coefficient?\n",
        "2.  Can you find a value for which both eigenvalues are equal?\n",
        "3.  Can you find a value for which only one eigenvalue is nonzero?"
      ]
    },
    {
      "cell_type": "code",
      "execution_count": null,
      "metadata": {
        "cellView": "form",
        "execution": {},
        "id": "mzIwENd92rx2"
      },
      "outputs": [],
      "source": [
        "# @markdown Make sure you execute this cell to enable the widget!\n",
        "\n",
        "def refresh(corr_coef=.8):\n",
        "  cov_matrix = calculate_cov_matrix(variance_1, variance_2, corr_coef)\n",
        "  X = get_data(cov_matrix)\n",
        "  score, evectors, evals = pca(X)\n",
        "  plot_eigenvalues(evals)\n",
        "  plot_basis_vectors(X, evectors)\n",
        "\n",
        "\n",
        "_ = widgets.interact(refresh, corr_coef=(-1, 1, .1))"
      ]
    },
    {
      "cell_type": "markdown",
      "metadata": {
        "id": "9CANFxqx2rx2"
      },
      "source": [
        "1) As the absolute value of the correlation coefficient decreases, the two eigenvalues\n",
        "become more similar (closer in value)\n",
        "\n",
        "2) The two eigenvalues are extremely similar (basically equal) with a correlation coefficient of 0.\n",
        "\n",
        "3) A correlation coefficient of 1 or -1 results in only one non-zero eigenvalues."
      ]
    },
    {
      "cell_type": "markdown",
      "metadata": {
        "execution": {},
        "id": "ZsGJoNNN2rx2"
      },
      "source": [
        "---\n",
        "# Summary\n",
        "\n",
        "- In this tutorial, we learned that the goal of PCA is to find an orthonormal basis capturing the directions of maximum variance of the data. More precisely, the **i***th* basis vector is the direction that maximizes the projected variance, while being orthogonal to all previous basis vectors. Mathematically, these basis vectors are the eigenvectors of the covariance matrix (also called *loadings*).\n",
        "- PCA also has the useful property that the projected data (*scores*) are uncorrelated.\n",
        "- The projected variance along each basis vector is given by its corresponding eigenvalue. This is important because it allows us to rank the \"importance\" of each basis vector in terms of how much of the data variability it explains. An eigenvalue of zero means there is no variation along that direction so it can be dropped without losing any information about the original data.\n",
        "- In the next tutorial, we will use this property to reduce the dimensionality of high-dimensional data.\n"
      ]
    },
    {
      "cell_type": "markdown",
      "metadata": {
        "execution": {},
        "id": "9sgufm1I2rx2"
      },
      "source": [
        "---\n",
        "# Notation\n",
        "\n",
        "\\begin{align}\n",
        "\\mathbf{x_i}  &\\quad \\text{all measurements of neuron } i\\\\\n",
        "\\bar{\\bf x_i}  &\\quad \\text{mean across samples for neuron } i \\\\\n",
        "\\bf \\Sigma &\\quad \\text{covariance matrix}\\\\\n",
        "\\bf \\hat \\Sigma &\\quad \\text{sample covariance matrix}\\\\\n",
        "\\bf W &\\quad \\text{weights, loadings matrix}\\\\\n",
        "{\\bf X} &\\quad \\text{original data matrix}\\\\\n",
        "\\bf S &\\quad \\text{projected matrix, scores}\\\\\n",
        "N &\\quad \\text{data dimensionality}\\\\\n",
        "N_\\text{samples} &\\quad \\text{number of samples}\\\\\n",
        "\\end{align}"
      ]
    }
  ],
  "metadata": {
    "colab": {
      "name": "W1D4_Tutorial2",
      "provenance": [],
      "toc_visible": true,
      "include_colab_link": true
    },
    "kernel": {
      "display_name": "Python 3",
      "language": "python",
      "name": "python3"
    },
    "kernelspec": {
      "display_name": "Python 3",
      "language": "python",
      "name": "python3"
    },
    "language_info": {
      "codemirror_mode": {
        "name": "ipython",
        "version": 3
      },
      "file_extension": ".py",
      "mimetype": "text/x-python",
      "name": "python",
      "nbconvert_exporter": "python",
      "pygments_lexer": "ipython3",
      "version": "3.9.17"
    }
  },
<<<<<<< HEAD
  "nbformat": 4,
  "nbformat_minor": 0
}
=======
  {
   "cell_type": "markdown",
   "metadata": {
    "execution": {}
   },
   "source": [
    "# Tutorial 2: Principal Component Analysis (PCA)"
   ]
  },
  {
   "cell_type": "markdown",
   "metadata": {
    "execution": {}
   },
   "source": [
    "---\n",
    "# Tutorial Objectives\n",
    "\n",
    "In this notebook we'll learn how to perform PCA by projecting the data onto the eigenvectors of its covariance matrix.\n",
    "\n",
    "Overview:\n",
    "- Calculate the eigenvectors of the sample covariance matrix.\n",
    "- Perform PCA by projecting data onto the eigenvectors of the covariance matrix.\n",
    "- Plot and explore the eigenvalues.\n",
    "\n",
    "To quickly refresh your knowledge of eigenvalues and eigenvectors, you can watch this [short video](https://www.youtube.com/watch?v=kwA3qM0rm7c) (4 minutes) for a geometrical explanation. For a deeper understanding, this [in-depth video](https://www.youtube.com/watch?v=PFDu9oVAE-g&list=PLZHQObOWTQDPD3MizzM2xVFitgF8hE_ab&index=14) (17 minutes) provides an excellent basis and is beautifully illustrated."
   ]
  },
  {
   "cell_type": "markdown",
   "metadata": {
    "execution": {}
   },
   "source": [
    "---\n",
    "# Setup\n"
   ]
  },
  {
   "cell_type": "code",
   "execution_count": null,
   "metadata": {
    "execution": {}
   },
   "outputs": [],
   "source": [
    "# Imports\n",
    "import numpy as np\n",
    "import matplotlib.pyplot as plt"
   ]
  },
  {
   "cell_type": "code",
   "execution_count": null,
   "metadata": {
    "cellView": "form",
    "execution": {}
   },
   "outputs": [],
   "source": [
    "# @title Figure Settings\n",
    "import logging\n",
    "logging.getLogger('matplotlib.font_manager').disabled = True\n",
    "\n",
    "import ipywidgets as widgets  # interactive display\n",
    "%config InlineBackend.figure_format = 'retina'\n",
    "plt.style.use(\"https://raw.githubusercontent.com/NeuromatchAcademy/course-content/main/nma.mplstyle\")"
   ]
  },
  {
   "cell_type": "code",
   "execution_count": null,
   "metadata": {
    "cellView": "form",
    "execution": {}
   },
   "outputs": [],
   "source": [
    "# @title Plotting Functions\n",
    "\n",
    "def plot_eigenvalues(evals):\n",
    "  \"\"\"\n",
    "  Plots eigenvalues.\n",
    "\n",
    "  Args:\n",
    "      (numpy array of floats) : Vector of eigenvalues\n",
    "\n",
    "  Returns:\n",
    "    Nothing.\n",
    "\n",
    "  \"\"\"\n",
    "  plt.figure(figsize=(4, 4))\n",
    "  plt.plot(np.arange(1, len(evals) + 1), evals, 'o-k')\n",
    "  plt.xlabel('Component')\n",
    "  plt.ylabel('Eigenvalue')\n",
    "  plt.title('Scree plot')\n",
    "  plt.xticks(np.arange(1, len(evals) + 1))\n",
    "  plt.ylim([0, 2.5])\n",
    "  plt.show()\n",
    "\n",
    "\n",
    "def plot_data(X):\n",
    "  \"\"\"\n",
    "  Plots bivariate data. Includes a plot of each random variable, and a scatter\n",
    "  scatter plot of their joint activity. The title indicates the sample\n",
    "  correlation calculated from the data.\n",
    "\n",
    "  Args:\n",
    "    X (numpy array of floats) : Data matrix each column corresponds to a\n",
    "                                different random variable\n",
    "\n",
    "  Returns:\n",
    "    Nothing.\n",
    "  \"\"\"\n",
    "\n",
    "  fig = plt.figure(figsize=[8, 4])\n",
    "  gs = fig.add_gridspec(2, 2)\n",
    "  ax1 = fig.add_subplot(gs[0, 0])\n",
    "  ax1.plot(X[:, 0], color='k')\n",
    "  plt.ylabel('Neuron 1')\n",
    "  ax2 = fig.add_subplot(gs[1, 0])\n",
    "  ax2.plot(X[:, 1], color='k')\n",
    "  plt.xlabel('Sample Number (sorted)')\n",
    "  plt.ylabel('Neuron 2')\n",
    "  ax3 = fig.add_subplot(gs[:, 1])\n",
    "  ax3.plot(X[:, 0], X[:, 1], '.', markerfacecolor=[.5, .5, .5],\n",
    "           markeredgewidth=0)\n",
    "  ax3.axis('equal')\n",
    "  plt.xlabel('Neuron 1 activity')\n",
    "  plt.ylabel('Neuron 2 activity')\n",
    "  plt.title('Sample corr: {:.1f}'.format(np.corrcoef(X[:, 0], X[:, 1])[0, 1]))\n",
    "  plt.show()\n",
    "\n",
    "\n",
    "def plot_data_new_basis(Y):\n",
    "  \"\"\"\n",
    "  Plots bivariate data after transformation to new bases. Similar to plot_data\n",
    "  but with colors corresponding to projections onto basis 1 (red) and\n",
    "  basis 2 (blue).\n",
    "  The title indicates the sample correlation calculated from the data.\n",
    "\n",
    "  Note that samples are re-sorted in ascending order for the first random\n",
    "  variable.\n",
    "\n",
    "  Args:\n",
    "    Y (numpy array of floats) : Data matrix in new basis each column\n",
    "                                corresponds to a different random variable\n",
    "\n",
    "  Returns:\n",
    "    Nothing.\n",
    "  \"\"\"\n",
    "\n",
    "  fig = plt.figure(figsize=[8, 4])\n",
    "  gs = fig.add_gridspec(2, 2)\n",
    "  ax1 = fig.add_subplot(gs[0, 0])\n",
    "  ax1.plot(Y[:, 0], 'r')\n",
    "  plt.ylabel('Projection \\n basis vector 1')\n",
    "  ax2 = fig.add_subplot(gs[1, 0])\n",
    "  ax2.plot(Y[:, 1], 'b')\n",
    "  plt.xlabel('Sample number')\n",
    "  plt.ylabel('Projection \\n basis vector 2')\n",
    "  ax3 = fig.add_subplot(gs[:, 1])\n",
    "  ax3.plot(Y[:, 0], Y[:, 1], '.', color=[.5, .5, .5])\n",
    "  ax3.axis('equal')\n",
    "  plt.xlabel('Projection basis vector 1')\n",
    "  plt.ylabel('Projection basis vector 2')\n",
    "  plt.title('Sample corr: {:.1f}'.format(np.corrcoef(Y[:, 0], Y[:, 1])[0, 1]))\n",
    "  plt.show()\n",
    "\n",
    "\n",
    "def plot_basis_vectors(X, W):\n",
    "  \"\"\"\n",
    "  Plots bivariate data as well as new basis vectors.\n",
    "\n",
    "  Args:\n",
    "    X (numpy array of floats) : Data matrix each column corresponds to a\n",
    "                                different random variable\n",
    "    W (numpy array of floats) : Square matrix representing new orthonormal\n",
    "                                basis each column represents a basis vector\n",
    "\n",
    "  Returns:\n",
    "    Nothing.\n",
    "  \"\"\"\n",
    "\n",
    "  plt.figure(figsize=[4, 4])\n",
    "  plt.plot(X[:, 0], X[:, 1], '.', color=[.5, .5, .5], label='Data')\n",
    "  plt.axis('equal')\n",
    "  plt.xlabel('Neuron 1 activity')\n",
    "  plt.ylabel('Neuron 2 activity')\n",
    "  plt.plot([0, W[0, 0]], [0, W[1, 0]], color='r', linewidth=3,\n",
    "           label='Basis vector 1')\n",
    "  plt.plot([0, W[0, 1]], [0, W[1, 1]], color='b', linewidth=3,\n",
    "           label='Basis vector 2')\n",
    "  plt.legend()\n",
    "  plt.show()"
   ]
  },
  {
   "cell_type": "code",
   "execution_count": null,
   "metadata": {
    "cellView": "form",
    "execution": {}
   },
   "outputs": [],
   "source": [
    "# @title Helper functions\n",
    "\n",
    "def sort_evals_descending(evals, evectors):\n",
    "  \"\"\"\n",
    "  Sorts eigenvalues and eigenvectors in decreasing order. Also aligns first two\n",
    "  eigenvectors to be in first two quadrants (if 2D).\n",
    "\n",
    "  Args:\n",
    "    evals (numpy array of floats)    : Vector of eigenvalues\n",
    "    evectors (numpy array of floats) : Corresponding matrix of eigenvectors\n",
    "                                        each column corresponds to a different\n",
    "                                        eigenvalue\n",
    "\n",
    "  Returns:\n",
    "    (numpy array of floats)          : Vector of eigenvalues after sorting\n",
    "    (numpy array of floats)          : Matrix of eigenvectors after sorting\n",
    "  \"\"\"\n",
    "\n",
    "  index = np.flip(np.argsort(evals))\n",
    "  evals = evals[index]\n",
    "  evectors = evectors[:, index]\n",
    "  if evals.shape[0] == 2:\n",
    "    if np.arccos(np.matmul(evectors[:, 0],\n",
    "                           1 / np.sqrt(2) * np.array([1, 1]))) > np.pi / 2:\n",
    "      evectors[:, 0] = -evectors[:, 0]\n",
    "    if np.arccos(np.matmul(evectors[:, 1],\n",
    "                           1 / np.sqrt(2) * np.array([-1, 1]))) > np.pi / 2:\n",
    "      evectors[:, 1] = -evectors[:, 1]\n",
    "  return evals, evectors\n",
    "\n",
    "\n",
    "def get_data(cov_matrix):\n",
    "  \"\"\"\n",
    "  Returns a matrix of 1000 samples from a bivariate, zero-mean Gaussian\n",
    "\n",
    "  Note that samples are sorted in ascending order for the first random\n",
    "  variable.\n",
    "\n",
    "  Args:\n",
    "    var_1 (scalar)                     : variance of the first random variable\n",
    "    var_2 (scalar)                     : variance of the second random variable\n",
    "    cov_matrix (numpy array of floats) : desired covariance matrix\n",
    "\n",
    "  Returns:\n",
    "    (numpy array of floats)            : samples from the bivariate Gaussian,\n",
    "                                          with each column corresponding to a\n",
    "                                          different random variable\n",
    "  \"\"\"\n",
    "\n",
    "  mean = np.array([0, 0])\n",
    "  X = np.random.multivariate_normal(mean, cov_matrix, size=1000)\n",
    "  indices_for_sorting = np.argsort(X[:, 0])\n",
    "  X = X[indices_for_sorting, :]\n",
    "  return X\n",
    "\n",
    "\n",
    "def calculate_cov_matrix(var_1, var_2, corr_coef):\n",
    "  \"\"\"\n",
    "  Calculates the covariance matrix based on the variances and\n",
    "  correlation coefficient.\n",
    "\n",
    "  Args:\n",
    "    var_1 (scalar)         :  variance of the first random variable\n",
    "    var_2 (scalar)         :  variance of the second random variable\n",
    "    corr_coef (scalar)     :  correlation coefficient\n",
    "\n",
    "  Returns:\n",
    "    (numpy array of floats) : covariance matrix\n",
    "  \"\"\"\n",
    "  cov = corr_coef * np.sqrt(var_1 * var_2)\n",
    "  cov_matrix = np.array([[var_1, cov], [cov, var_2]])\n",
    "  return cov_matrix\n",
    "\n",
    "\n",
    "def define_orthonormal_basis(u):\n",
    "  \"\"\"\n",
    "  Calculates an orthonormal basis given an arbitrary vector u.\n",
    "\n",
    "  Args:\n",
    "    u (numpy array of floats) : arbitrary 2D vector used for new basis\n",
    "\n",
    "  Returns:\n",
    "    (numpy array of floats)   : new orthonormal basis columns correspond to\n",
    "                                basis vectors\n",
    "  \"\"\"\n",
    "\n",
    "  u = u / np.sqrt(u[0] ** 2 + u[1] ** 2)\n",
    "  w = np.array([-u[1], u[0]])\n",
    "  W = np.column_stack((u, w))\n",
    "  return W\n",
    "\n",
    "\n",
    "def change_of_basis(X, W):\n",
    "  \"\"\"\n",
    "  Projects data onto a new basis.\n",
    "\n",
    "  Args:\n",
    "    X (numpy array of floats) : Data matrix each column corresponding to a\n",
    "                                different random variable\n",
    "    W (numpy array of floats) : new orthonormal basis columns correspond to\n",
    "                                basis vectors\n",
    "\n",
    "  Returns:\n",
    "    (numpy array of floats)   : Data matrix expressed in new basis\n",
    "  \"\"\"\n",
    "\n",
    "  Y = np.matmul(X, W)\n",
    "  return Y"
   ]
  },
  {
   "cell_type": "markdown",
   "metadata": {
    "execution": {}
   },
   "source": [
    "---\n",
    "# Section 1: Calculate the eigenvectors of the the sample covariance matrix\n",
    "\n",
    "As we saw in the lecture, PCA represents data in a new orthonormal basis defined by the eigenvectors of the covariance matrix. Remember that in the previous tutorial, we generated bivariate normal data with a specified covariance matrix $\\bf \\Sigma$, whose $(i,j)$th element is:\n",
    "\n",
    "\\begin{equation}\n",
    "\\Sigma_{ij} = \\mathbb{E}[ x_i x_j ] - \\mathbb{E}[ x_i] \\mathbb{E}[ x_j ] .\n",
    "\\end{equation}\n",
    "\n",
    "However, in real life we don't have access to this ground-truth covariance\n",
    "matrix. To get around this, we can use the sample covariance matrix, $\\bf\\hat\\Sigma$, which is calculated directly from the data. The $(i,j)$th element of the sample covariance matrix is:\n",
    "\n",
    "\\begin{equation}\n",
    "\\hat \\Sigma_{ij} =  \\frac{1}{N_\\text{samples}}{\\bf x}_i^\\top {\\bf x}_j - \\bar {\\bf x}_i \\bar{\\bf x}_j ,\n",
    "\\end{equation}\n",
    "\n",
    "where ${\\bf x}_i = [ x_i(1), x_i(2), \\dots,x_i(N_\\text{samples})]^\\top$ is a column vector representing all measurements of neuron $i$, and  $\\bar {\\bf x}_i$ is the mean of neuron $i$ across samples:\n",
    "\n",
    "\\begin{equation}\n",
    "\\bar {\\bf x}_i = \\frac{1}{N_\\text{samples}} \\sum_{k=1}^{N_\\text{samples}} x_i(k).\n",
    "\\end{equation}\n",
    "\n",
    "If we assume that the data has already been mean-subtracted, then we can write the sample covariance matrix in a much simpler matrix form:\n",
    "\n",
    "\\begin{equation}\n",
    "{\\bf \\hat \\Sigma} = \\frac{1}{N_\\text{samples}} {\\bf X}^\\top {\\bf X}.\n",
    "\\end{equation}\n",
    "\n",
    "where $\\bf X$ is the full data matrix (each column of $\\bf X$ is a different $\\bf x_i$)."
   ]
  },
  {
   "cell_type": "markdown",
   "metadata": {
    "execution": {}
   },
   "source": [
    "## Coding Exercise 1.1: Calculate the covariance matrix\n",
    "\n",
    "Before calculating the eigenvectors, you must first calculate the sample covariance matrix.\n",
    "\n",
    "**Steps**\n",
    "* Complete the function `get_sample_cov_matrix` by first subtracting the sample mean of the data, then calculate $\\bf \\hat \\Sigma$ using the equation above.\n",
    "* Use `get_data` to generate bivariate normal data, and calculate the sample covariance matrix with your finished `get_sample_cov_matrix`. Compare this estimate to the true covariate matrix using `calculate_cov_matrix`. You've seen both `get_data` and `calculate_cov_matrix` in Tutorial 1.\n"
   ]
  },
  {
   "cell_type": "code",
   "execution_count": null,
   "metadata": {
    "execution": {}
   },
   "outputs": [],
   "source": [
    "help(get_data)\n",
    "help(calculate_cov_matrix)"
   ]
  },
  {
   "cell_type": "code",
   "execution_count": null,
   "metadata": {
    "execution": {}
   },
   "outputs": [],
   "source": [
    "def get_sample_cov_matrix(X):\n",
    "  \"\"\"\n",
    "  Returns the sample covariance matrix of data X\n",
    "\n",
    "  Args:\n",
    "    X (numpy array of floats) : Data matrix each column corresponds to a\n",
    "                                different random variable\n",
    "\n",
    "  Returns:\n",
    "    (numpy array of floats)   : Covariance matrix\n",
    "  \"\"\"\n",
    "\n",
    "  #################################################\n",
    "  ## TODO for students: calculate the covariance matrix\n",
    "  # Fill out function and remove\n",
    "  raise NotImplementedError(\"Student exercise: calculate the covariance matrix!\")\n",
    "  #################################################\n",
    "\n",
    "  # Subtract the mean of X\n",
    "  X = ...\n",
    "\n",
    "  # Calculate the covariance matrix (hint: use np.matmul)\n",
    "  cov_matrix = ...\n",
    "\n",
    "  return cov_matrix\n",
    "\n",
    "\n",
    "# Set parameters\n",
    "np.random.seed(2020)  # set random seed\n",
    "variance_1 = 1\n",
    "variance_2 = 1\n",
    "corr_coef = 0.8\n",
    "\n",
    "# Calculate covariance matrix\n",
    "cov_matrix = calculate_cov_matrix(variance_1, variance_2, corr_coef)\n",
    "print(cov_matrix)\n",
    "\n",
    "# Generate data with that covariance matrix\n",
    "X = get_data(cov_matrix)\n",
    "\n",
    "# Get sample covariance matrix\n",
    "sample_cov_matrix = get_sample_cov_matrix(X)\n",
    "print(sample_cov_matrix)"
   ]
  },
  {
   "cell_type": "markdown",
   "metadata": {
    "execution": {}
   },
   "source": [
    "We get a sample covariance matrix that doesn't look too far off from the true covariance matrix, so that's a good sign!"
   ]
  },
  {
   "cell_type": "markdown",
   "metadata": {
    "execution": {}
   },
   "source": [
    "## Coding Exercise 1.2: Eigenvectors of the covariance matrix\n",
    "\n",
    "Next you will calculate the eigenvectors of the covariance matrix. Plot them along with the data to check that they align with the geometry of the data.\n",
    "\n",
    "**Steps:**\n",
    "* Calculate the eigenvalues and eigenvectors of the sample covariance matrix. (**Hint:** use `np.linalg.eigh`, which finds the eigenvalues of a symmetric matrix).\n",
    "* Use the provided code to sort the eigenvalues in descending order.\n",
    "* Plot the eigenvectors on a scatter plot of the data, using the function `plot_basis_vectors`."
   ]
  },
  {
   "cell_type": "code",
   "execution_count": null,
   "metadata": {
    "execution": {}
   },
   "outputs": [],
   "source": [
    "help(sort_evals_descending)"
   ]
  },
  {
   "cell_type": "code",
   "execution_count": null,
   "metadata": {
    "execution": {}
   },
   "outputs": [],
   "source": [
    "# Calculate the eigenvalues and eigenvectors\n",
    "evals, evectors = np.linalg.eigh(cov_matrix)\n",
    "\n",
    "# Sort the eigenvalues in descending order\n",
    "evals, evectors = sort_evals_descending(evals, evectors)\n",
    "\n",
    "# Visualize\n",
    "with plt.xkcd():\n",
    "    plot_basis_vectors(X, evectors)\n"
   ]
  },
  {
   "cell_type": "markdown",
   "metadata": {
    "execution": {}
   },
   "source": [
    "---\n",
    "# Section 2: Perform PCA by projecting data onto the eigenvectors\n",
    "\n"
   ]
  },
  {
   "cell_type": "markdown",
   "metadata": {
    "execution": {}
   },
   "source": [
    "To perform PCA, we will project the data onto the eigenvectors of the covariance matrix, i.e.,:\n",
    "\n",
    "\\begin{equation}\n",
    "\\bf S = X W\n",
    "\\end{equation}\n",
    "\n",
    "where $\\bf S$ is an $N_\\text{samples} \\times N$ matrix representing the projected data (also called *scores*), and $\\bf W$ is an $N\\times N$ orthogonal matrix, each of whose columns represents the eigenvectors of the covariance matrix (also called *weights* or *loadings*)."
   ]
  },
  {
   "cell_type": "markdown",
   "metadata": {
    "execution": {}
   },
   "source": [
    "## Coding Exercise 2: PCA implementation\n",
    "\n",
    "You will now perform PCA on the data using the intuition and functions you have developed so far. Fill in the function below to carry out the steps to perform PCA by projecting the data onto the eigenvectors of its covariance matrix.\n",
    "\n",
    "**Steps:**\n",
    "* First subtract the mean and calculate the sample covariance matrix.\n",
    "* Then find the eigenvalues and eigenvectors and sort them in descending order.\n",
    "* Finally project the mean-centered data onto the eigenvectors."
   ]
  },
  {
   "cell_type": "code",
   "execution_count": null,
   "metadata": {
    "execution": {}
   },
   "outputs": [],
   "source": [
    "help(change_of_basis)"
   ]
  },
  {
   "cell_type": "code",
   "execution_count": null,
   "metadata": {
    "execution": {}
   },
   "outputs": [],
   "source": [
    "def pca(X):\n",
    "  \"\"\"\n",
    "  Sorts eigenvalues and eigenvectors in decreasing order.\n",
    "\n",
    "  Args:\n",
    "    X (numpy array of floats): Data matrix each column corresponds to a\n",
    "                               different random variable\n",
    "\n",
    "  Returns:\n",
    "    (numpy array of floats)  : Data projected onto the new basis\n",
    "    (numpy array of floats)  : Vector of eigenvalues\n",
    "    (numpy array of floats)  : Corresponding matrix of eigenvectors\n",
    "\n",
    "  \"\"\"\n",
    "\n",
    "  #################################################\n",
    "  ## TODO for students: calculate the covariance matrix\n",
    "  # Fill out function and remove\n",
    "  raise NotImplementedError(\"Student exercise: sort eigenvalues/eigenvectors!\")\n",
    "  #################################################\n",
    "\n",
    "  # Calculate the sample covariance matrix\n",
    "  cov_matrix = ...\n",
    "\n",
    "  # Calculate the eigenvalues and eigenvectors\n",
    "  evals, evectors = ...\n",
    "\n",
    "  # Sort the eigenvalues in descending order\n",
    "  evals, evectors = ...\n",
    "\n",
    "  # Project the data onto the new eigenvector basis\n",
    "  score = ...\n",
    "\n",
    "  return score, evectors, evals\n",
    "\n",
    "\n",
    "# Perform PCA on the data matrix X\n",
    "score, evectors, evals = pca(X)\n",
    "\n",
    "# Plot the data projected into the new basis\n",
    "plot_data_new_basis(score)"
   ]
  },
  {
   "cell_type": "markdown",
   "metadata": {
    "execution": {}
   },
   "source": [
    "   Finally, we will examine the eigenvalues of the covariance matrix. Remember that each eigenvalue describes the variance of the data projected onto its corresponding eigenvector. This is an important concept because it allows us to rank the PCA basis vectors based on how much variance each one can capture. First run the code below to plot the eigenvalues (sometimes called the \"scree plot\"). Which eigenvalue is larger?"
   ]
  },
  {
   "cell_type": "code",
   "execution_count": null,
   "metadata": {
    "execution": {}
   },
   "outputs": [],
   "source": [
    "plot_eigenvalues(evals)"
   ]
  },
  {
   "cell_type": "markdown",
   "metadata": {
    "execution": {}
   },
   "source": [
    "## Interactive Demo 2: Exploration of the correlation coefficient\n",
    "\n",
    "Run the following cell and use the slider to change the correlation coefficient in the data. You should see the scree plot and the plot of basis vectors updated.\n",
    "\n",
    "1.  What happens to the eigenvalues as you change the correlation coefficient?\n",
    "2.  Can you find a value for which both eigenvalues are equal?\n",
    "3.  Can you find a value for which only one eigenvalue is nonzero?"
   ]
  },
  {
   "cell_type": "code",
   "execution_count": null,
   "metadata": {
    "cellView": "form",
    "execution": {}
   },
   "outputs": [],
   "source": [
    "# @markdown Make sure you execute this cell to enable the widget!\n",
    "\n",
    "def refresh(corr_coef=.8):\n",
    "  cov_matrix = calculate_cov_matrix(variance_1, variance_2, corr_coef)\n",
    "  X = get_data(cov_matrix)\n",
    "  score, evectors, evals = pca(X)\n",
    "  plot_eigenvalues(evals)\n",
    "  plot_basis_vectors(X, evectors)\n",
    "\n",
    "\n",
    "_ = widgets.interact(refresh, corr_coef=(-1, 1, .1))"
   ]
  },
  {
   "cell_type": "markdown",
   "metadata": {},
   "source": [
    "1) As the absolute value of the correlation coefficient decreases, the two eigenvalues\n",
    "become more similar (closer in value)\n",
    "\n",
    "2) The two eigenvalues are extremely similar (basically equal) with a correlation coefficient of 0.\n",
    "\n",
    "3) A correlation coefficient of 1 or -1 results in only one non-zero eigenvalues."
   ]
  },
  {
   "cell_type": "markdown",
   "metadata": {
    "execution": {}
   },
   "source": [
    "---\n",
    "# Summary\n",
    "\n",
    "- In this tutorial, we learned that the goal of PCA is to find an orthonormal basis capturing the directions of maximum variance of the data. More precisely, the **i***th* basis vector is the direction that maximizes the projected variance, while being orthogonal to all previous basis vectors. Mathematically, these basis vectors are the eigenvectors of the covariance matrix (also called *loadings*).\n",
    "- PCA also has the useful property that the projected data (*scores*) are uncorrelated.\n",
    "- The projected variance along each basis vector is given by its corresponding eigenvalue. This is important because it allows us to rank the \"importance\" of each basis vector in terms of how much of the data variability it explains. An eigenvalue of zero means there is no variation along that direction so it can be dropped without losing any information about the original data.\n",
    "- In the next tutorial, we will use this property to reduce the dimensionality of high-dimensional data.\n"
   ]
  },
  {
   "cell_type": "markdown",
   "metadata": {
    "execution": {}
   },
   "source": [
    "---\n",
    "# Notation\n",
    "\n",
    "\\begin{align}\n",
    "\\mathbf{x_i}  &\\quad \\text{all measurements of neuron } i\\\\\n",
    "\\bar{\\bf x_i}  &\\quad \\text{mean across samples for neuron } i \\\\\n",
    "\\bf \\Sigma &\\quad \\text{covariance matrix}\\\\\n",
    "\\bf \\hat \\Sigma &\\quad \\text{sample covariance matrix}\\\\\n",
    "\\bf W &\\quad \\text{weights, loadings matrix}\\\\\n",
    "{\\bf X} &\\quad \\text{original data matrix}\\\\\n",
    "\\bf S &\\quad \\text{projected matrix, scores}\\\\\n",
    "N &\\quad \\text{data dimensionality}\\\\\n",
    "N_\\text{samples} &\\quad \\text{number of samples}\\\\\n",
    "\\end{align}"
   ]
  }
 ],
 "metadata": {
  "colab": {
   "collapsed_sections": [],
   "include_colab_link": true,
   "name": "W1D4_Tutorial2",
   "provenance": [],
   "toc_visible": true
  },
  "kernel": {
   "display_name": "Python 3",
   "language": "python",
   "name": "python3"
  },
  "kernelspec": {
   "display_name": "Python 3",
   "language": "python",
   "name": "python3"
  },
  "language_info": {
   "codemirror_mode": {
    "name": "ipython",
    "version": 3
   },
   "file_extension": ".py",
   "mimetype": "text/x-python",
   "name": "python",
   "nbconvert_exporter": "python",
   "pygments_lexer": "ipython3",
   "version": "3.9.17"
  }
 },
 "nbformat": 4,
 "nbformat_minor": 0
}
