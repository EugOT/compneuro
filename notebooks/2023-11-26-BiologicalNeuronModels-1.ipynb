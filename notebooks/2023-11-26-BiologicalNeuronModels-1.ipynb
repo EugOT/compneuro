{
  "cells": [
    {
      "cell_type": "markdown",
      "metadata": {
        "id": "view-in-github",
        "colab_type": "text"
      },
      "source": [
        "<a href=\"https://colab.research.google.com/github/EugOT/compneuro/blob/jonathankremla/notebooks/2023-11-26-BiologicalNeuronModels-1.ipynb\" target=\"_parent\"><img src=\"https://colab.research.google.com/assets/colab-badge.svg\" alt=\"Open In Colab\"/></a>"
      ]
    },
    {
      "cell_type": "markdown",
      "metadata": {
        "execution": {},
        "id": "oeCGjJJBltrS"
      },
      "source": [
        "# Tutorial 1: The Leaky Integrate-and-Fire (LIF) Neuron Model\n"
      ]
    },
    {
      "cell_type": "markdown",
      "metadata": {
        "execution": {},
        "id": "luotxmimltrT"
      },
      "source": [
        "---\n",
        "# Tutorial Objectives\n",
        "\n",
        "This is Tutorial 1 of a series on implementing realistic neuron models. In this tutorial, we will build up a leaky integrate-and-fire (LIF) neuron model and study its dynamics in response to various types of inputs. In particular, we are going to write a few lines of code to:\n",
        "\n",
        "- simulate the LIF neuron model\n",
        "\n",
        "- drive the LIF neuron with external inputs, such as direct currents, Gaussian white noise, and Poisson spike trains, etc.\n",
        "\n",
        "- study how different inputs affect the  LIF neuron's output (firing rate and spike time irregularity)\n",
        "\n",
        "Here, we will especially emphasize identifying conditions (input statistics) under which a neuron can spike at low firing rates and in an irregular manner. The reason for focusing on this is that in most cases, neocortical neurons spike in an irregular manner."
      ]
    },
    {
      "cell_type": "markdown",
      "metadata": {
        "execution": {},
        "id": "D3aHrhH7ltrT"
      },
      "source": [
        "---\n",
        "# Setup"
      ]
    },
    {
      "cell_type": "code",
      "execution_count": 1,
      "metadata": {
        "cellView": "both",
        "execution": {},
        "id": "vUR9ZzKFltrU"
      },
      "outputs": [],
      "source": [
        "# Imports\n",
        "import numpy as np\n",
        "import matplotlib.pyplot as plt"
      ]
    },
    {
      "cell_type": "code",
      "execution_count": 2,
      "metadata": {
        "cellView": "form",
        "execution": {},
        "id": "OY0diqtPltrU"
      },
      "outputs": [],
      "source": [
        "# @title Figure Settings\n",
        "import logging\n",
        "logging.getLogger('matplotlib.font_manager').disabled = True\n",
        "\n",
        "import ipywidgets as widgets  # interactive display\n",
        "%config InlineBackend.figure_format = 'retina'\n",
        "# use NMA plot style\n",
        "plt.style.use(\"https://raw.githubusercontent.com/NeuromatchAcademy/course-content/main/nma.mplstyle\")\n",
        "my_layout = widgets.Layout()"
      ]
    },
    {
      "cell_type": "code",
      "execution_count": 3,
      "metadata": {
        "cellView": "form",
        "execution": {},
        "id": "j3OguhVNltrV"
      },
      "outputs": [],
      "source": [
        "# @title Plotting Functions\n",
        "\n",
        "def plot_volt_trace(pars, v, sp):\n",
        "  \"\"\"\n",
        "  Plot trajetory of membrane potential for a single neuron\n",
        "\n",
        "  Expects:\n",
        "  pars   : parameter dictionary\n",
        "  v      : volt trajetory\n",
        "  sp     : spike train\n",
        "\n",
        "  Returns:\n",
        "  figure of the membrane potential trajetory for a single neuron\n",
        "  \"\"\"\n",
        "\n",
        "  V_th = pars['V_th']\n",
        "  dt, range_t = pars['dt'], pars['range_t']\n",
        "  if sp.size:\n",
        "    sp_num = (sp / dt).astype(int) - 1\n",
        "    v[sp_num] += 20  # draw nicer spikes\n",
        "\n",
        "  plt.plot(pars['range_t'], v, 'b')\n",
        "  plt.axhline(V_th, 0, 1, color='k', ls='--')\n",
        "  plt.xlabel('Time (ms)')\n",
        "  plt.ylabel('V (mV)')\n",
        "  plt.legend(['Membrane\\npotential', r'Threshold V$_{\\mathrm{th}}$'],\n",
        "             loc=[1.05, 0.75])\n",
        "  plt.ylim([-80, -40])\n",
        "  plt.show()\n",
        "\n",
        "\n",
        "def plot_GWN(pars, I_GWN):\n",
        "  \"\"\"\n",
        "  Args:\n",
        "    pars  : parameter dictionary\n",
        "    I_GWN : Gaussian white noise input\n",
        "\n",
        "  Returns:\n",
        "    figure of the gaussian white noise input\n",
        "  \"\"\"\n",
        "\n",
        "  plt.figure(figsize=(12, 4))\n",
        "  plt.subplot(121)\n",
        "  plt.plot(pars['range_t'][::3], I_GWN[::3], 'b')\n",
        "  plt.xlabel('Time (ms)')\n",
        "  plt.ylabel(r'$I_{GWN}$ (pA)')\n",
        "  plt.subplot(122)\n",
        "  plot_volt_trace(pars, v, sp)\n",
        "  plt.tight_layout()\n",
        "  plt.show()\n",
        "\n",
        "\n",
        "def my_hists(isi1, isi2, cv1, cv2, sigma1, sigma2):\n",
        "  \"\"\"\n",
        "  Args:\n",
        "    isi1 : vector with inter-spike intervals\n",
        "    isi2 : vector with inter-spike intervals\n",
        "    cv1  : coefficient of variation for isi1\n",
        "    cv2  : coefficient of variation for isi2\n",
        "\n",
        "  Returns:\n",
        "    figure with two histograms, isi1, isi2\n",
        "\n",
        "  \"\"\"\n",
        "  plt.figure(figsize=(11, 4))\n",
        "  my_bins = np.linspace(10, 30, 20)\n",
        "  plt.subplot(121)\n",
        "  plt.hist(isi1, bins=my_bins, color='b', alpha=0.5)\n",
        "  plt.xlabel('ISI (ms)')\n",
        "  plt.ylabel('count')\n",
        "  plt.title(r'$\\sigma_{GWN}=$%.1f, CV$_{\\mathrm{isi}}$=%.3f' % (sigma1, cv1))\n",
        "\n",
        "  plt.subplot(122)\n",
        "  plt.hist(isi2, bins=my_bins, color='b', alpha=0.5)\n",
        "  plt.xlabel('ISI (ms)')\n",
        "  plt.ylabel('count')\n",
        "  plt.title(r'$\\sigma_{GWN}=$%.1f, CV$_{\\mathrm{isi}}$=%.3f' % (sigma2, cv2))\n",
        "  plt.tight_layout()\n",
        "  plt.show()"
      ]
    },
    {
      "cell_type": "markdown",
      "metadata": {
        "execution": {},
        "id": "DQngEDefltrV"
      },
      "source": [
        "---\n",
        "# Section 1: The Leaky Integrate-and-Fire (LIF) model"
      ]
    },
    {
      "cell_type": "markdown",
      "metadata": {
        "execution": {},
        "id": "SvTjj9wNltrW"
      },
      "source": [
        "Now, it's your turn to implement one of the simplest mathematical model of a neuron: the leaky integrate-and-fire (LIF) model. The basic idea of LIF neuron was proposed in 1907 by Louis Édouard Lapicque, long before we understood the electrophysiology of a neuron (see a translation of [Lapicque's paper](https://pubmed.ncbi.nlm.nih.gov/17968583/) ). More details of the model can be found in the book [**Theoretical neuroscience**](http://www.gatsby.ucl.ac.uk/~dayan/book/) by Peter Dayan and Laurence F. Abbott.\n",
        "\n",
        "The subthreshold membrane potential dynamics of a LIF neuron is described by\n",
        "\n",
        "\\begin{eqnarray}\n",
        "C_m\\frac{dV}{dt} = -g_L(V-E_L) + I,\\quad (1)\n",
        "\\end{eqnarray}\n",
        "\n",
        "where $C_m$ is the membrane capacitance, $V$ is the membrane potential, $g_L$ is the leak conductance ($g_L = 1/R$, the inverse of the leak resistance $R$ mentioned in previous tutorials), $E_L$ is the resting potential, and $I$ is the external input current.\n",
        "\n",
        "Dividing both sides of the above equation by $g_L$ gives\n",
        "\n",
        "\\begin{align}\n",
        "\\tau_m\\frac{dV}{dt} = -(V-E_L) + \\frac{I}{g_L}\\,,\\quad (2)\n",
        "\\end{align}\n",
        "\n",
        "where the $\\tau_m$ is membrane time constant and is defined as $\\tau_m=C_m/g_L$.\n",
        "\n",
        "Note that dividing capacitance by conductance gives units of time!\n",
        "\n",
        "Below, we will use Eqn.(2) to simulate LIF neuron dynamics.\n",
        "\n",
        "If $I$ is sufficiently strong such that $V$ reaches a certain threshold value $V_{\\rm th}$, $V$ is reset to a reset potential $V_{\\rm reset}< V_{\\rm th}$, and voltage is clamped to $V_{\\rm reset}$ for $\\tau_{\\rm ref}$ ms, mimicking the refractoriness of the neuron during an action potential:\n",
        "\n",
        "\\begin{eqnarray}\n",
        "\\mathrm{if}\\quad V(t_{\\text{sp}})\\geq V_{\\rm th}&:& V(t)=V_{\\rm reset} \\text{  for } t\\in(t_{\\text{sp}}, t_{\\text{sp}} + \\tau_{\\text{ref}}]\n",
        "\\end{eqnarray}\n",
        "where $t_{\\rm sp}$ is the spike time when $V(t)$ just exceeded $V_{\\rm th}$.\n",
        "\n",
        "(**Note:** in the lecture slides, $\\theta$ corresponds to the threshold voltage $V_{th}$, and $\\Delta$ corresponds to the refractory time $\\tau_{\\rm ref}$.)\n",
        "\n",
        "</details>\n",
        "\n",
        "Note that you have seen the LIF model before if you looked at the pre-reqs Python or Calculus days!\n",
        "\n",
        "The LIF model captures the facts that a neuron:\n",
        "- performs spatial and temporal integration of synaptic inputs\n",
        "- generates a spike when the voltage reaches a certain threshold\n",
        "- goes refractory during the action potential\n",
        "- has a leaky membrane\n",
        "\n",
        "The LIF model assumes that the spatial and temporal integration of inputs is linear. Also, membrane potential dynamics close to the spike threshold are much slower in LIF neurons than in real neurons."
      ]
    },
    {
      "cell_type": "markdown",
      "metadata": {
        "execution": {},
        "id": "8KWI5V_KltrW"
      },
      "source": [
        "## Coding Exercise 1: Python code to simulate the LIF neuron\n",
        "\n",
        "We now write Python code to calculate our equation for the LIF neuron and simulate the LIF neuron dynamics. We will use the Euler method, which you saw in the linear systems case yesterday  to numerically integrate this equation:\n",
        "\n",
        "\\begin{equation}\n",
        "\\tau_m\\frac{dV}{dt} = -(V-E_L) + \\frac{I}{g_L}\\,\n",
        "\\end{equation}\n",
        "\n",
        "where $V$ is the membrane potential, $g_L$ is the leak conductance, $E_L$ is the resting potential, $I$ is the external input current, and $\\tau_m$ is membrane time constant.\n",
        "\n",
        "The cell below initializes a dictionary that stores parameters of the LIF neuron model and the simulation scheme. You can use `pars=default_pars(T=simulation_time, dt=time_step)` to get the parameters. Note that, `simulation_time` and `time_step` have the unit `ms`. In addition, you can add the value to a new parameter by `pars['New_param'] = value`."
      ]
    },
    {
      "cell_type": "code",
      "execution_count": 4,
      "metadata": {
        "execution": {},
        "id": "9V_K8cxQltrW",
        "outputId": "18eb0405-e084-4388-c317-9dd977acb2cf",
        "colab": {
          "base_uri": "https://localhost:8080/"
        }
      },
      "outputs": [
        {
          "output_type": "stream",
          "name": "stdout",
          "text": [
            "{'V_th': -55.0, 'V_reset': -75.0, 'tau_m': 10.0, 'g_L': 10.0, 'V_init': -75.0, 'E_L': -75.0, 'tref': 2.0, 'T': 400.0, 'dt': 0.1, 'range_t': array([0.000e+00, 1.000e-01, 2.000e-01, ..., 3.997e+02, 3.998e+02,\n",
            "       3.999e+02])}\n"
          ]
        }
      ],
      "source": [
        "# @markdown Execute this code to initialize the default parameters\n",
        "\n",
        "def default_pars(**kwargs):\n",
        "  pars = {}\n",
        "\n",
        "  # typical neuron parameters#\n",
        "  pars['V_th'] = -55.     # spike threshold [mV]\n",
        "  pars['V_reset'] = -75.  # reset potential [mV]\n",
        "  pars['tau_m'] = 10.     # membrane time constant [ms]\n",
        "  pars['g_L'] = 10.       # leak conductance [nS]\n",
        "  pars['V_init'] = -75.   # initial potential [mV]\n",
        "  pars['E_L'] = -75.      # leak reversal potential [mV]\n",
        "  pars['tref'] = 2.       # refractory time (ms)\n",
        "\n",
        "  # simulation parameters #\n",
        "  pars['T'] = 400.  # Total duration of simulation [ms]\n",
        "  pars['dt'] = .1   # Simulation time step [ms]\n",
        "\n",
        "  # external parameters if any #\n",
        "  for k in kwargs:\n",
        "    pars[k] = kwargs[k]\n",
        "\n",
        "  pars['range_t'] = np.arange(0, pars['T'], pars['dt'])  # Vector of discretized time points [ms]\n",
        "\n",
        "  return pars\n",
        "\n",
        "\n",
        "pars = default_pars()\n",
        "print(pars)"
      ]
    },
    {
      "cell_type": "markdown",
      "metadata": {
        "execution": {},
        "id": "hiH7NhlrltrW"
      },
      "source": [
        "Complete the function below to simulate the LIF neuron when receiving external current inputs. You can use `v, sp = run_LIF(pars, Iinj)` to get the membrane potential (`v`) and spike train (`sp`) given the dictionary `pars` and input current `Iinj`."
      ]
    },
    {
      "cell_type": "code",
      "execution_count": 9,
      "metadata": {
        "cellView": "both",
        "execution": {},
        "id": "lM8rYsNwltrW",
        "outputId": "4f30c25d-c80b-4ed0-81e7-d555c208728e",
        "colab": {
          "base_uri": "https://localhost:8080/",
          "height": 592
        }
      },
      "outputs": [
        {
          "output_type": "display_data",
          "data": {
            "text/plain": [
              "<Figure size 800x600 with 1 Axes>"
            ],
            "image/png": "[encoded data removed]"
          },
          "metadata": {
            "image/png": {
              "width": 767,
              "height": 575
            }
          }
        }
      ],
      "source": [
        "def run_LIF(pars, Iinj, stop=False):\n",
        "  \"\"\"\n",
        "  Simulate the LIF dynamics with external input current\n",
        "\n",
        "  Args:\n",
        "    pars       : parameter dictionary\n",
        "    Iinj       : input current [pA]. The injected current here can be a value\n",
        "                 or an array\n",
        "    stop       : boolean. If True, use a current pulse\n",
        "\n",
        "  Returns:\n",
        "    rec_v      : membrane potential\n",
        "    rec_sp     : spike times\n",
        "  \"\"\"\n",
        "\n",
        "  # Set parameters\n",
        "  V_th, V_reset = pars['V_th'], pars['V_reset']\n",
        "  tau_m, g_L = pars['tau_m'], pars['g_L']\n",
        "  V_init, E_L = pars['V_init'], pars['E_L']\n",
        "  dt, range_t = pars['dt'], pars['range_t']\n",
        "  Lt = range_t.size\n",
        "  tref = pars['tref']\n",
        "\n",
        "  # Initialize voltage\n",
        "  v = np.zeros(Lt)\n",
        "  v[0] = V_init\n",
        "\n",
        "  # Set current time course\n",
        "  Iinj = Iinj * np.ones(Lt)\n",
        "\n",
        "  # If current pulse, set beginning and end to 0\n",
        "  if stop:\n",
        "    Iinj[:int(len(Iinj) / 2) - 1000] = 0\n",
        "    Iinj[int(len(Iinj) / 2) + 1000:] = 0\n",
        "\n",
        "  # Loop over time\n",
        "  rec_spikes = []  # record spike times\n",
        "  tr = 0.  # the count for refractory duration\n",
        "\n",
        "  for it in range(Lt - 1):\n",
        "\n",
        "    if tr > 0:  # check if in refractory period\n",
        "      v[it] = V_reset  # set voltage to reset\n",
        "      tr = tr - 1 # reduce running counter of refractory period\n",
        "\n",
        "    elif v[it] >= V_th:  # if voltage over threshold\n",
        "      rec_spikes.append(it)  # record spike event\n",
        "      v[it] = V_reset  # reset voltage\n",
        "      tr = tref / dt  # set refractory time\n",
        "\n",
        "\n",
        "    # Calculate the increment of the membrane potential\n",
        "    dv = (-(v[it]- E_L) + Iinj[it]/g_L)*(dt/tau_m)\n",
        "\n",
        "    # Update the membrane potential\n",
        "    v[it + 1] = v[it] + dv\n",
        "\n",
        "  # Get spike times in ms\n",
        "  rec_spikes = np.array(rec_spikes) * dt\n",
        "\n",
        "  return v, rec_spikes\n",
        "\n",
        "\n",
        "# Get parameters\n",
        "pars = default_pars(T=500)\n",
        "\n",
        "# Simulate LIF model\n",
        "v, sp = run_LIF(pars, Iinj=100, stop=True)\n",
        "\n",
        "# Visualize\n",
        "plot_volt_trace(pars, v, sp)"
      ]
    },
    {
      "cell_type": "markdown",
      "metadata": {
        "execution": {},
        "id": "KYcFOvgFltrX"
      },
      "source": [
        "---\n",
        "# Section 2: Response of an LIF model to different types of input currents\n",
        "\n",
        "In the following section, we will learn how to inject direct current and white noise to study the response of an LIF neuron."
      ]
    },
    {
      "cell_type": "markdown",
      "metadata": {
        "execution": {},
        "id": "JQgqTIAoltrX"
      },
      "source": [
        "## Section 2.1: Direct current (DC)\n",
        "\n"
      ]
    },
    {
      "cell_type": "markdown",
      "metadata": {
        "execution": {},
        "id": "rey-x5-3ltrX"
      },
      "source": [
        "### Interactive Demo 2.1: Parameter exploration of DC input amplitude\n",
        "Here's an interactive demo that shows how the LIF neuron behavior changes for DC input (constant current) with different amplitudes. We plot the membrane potential of an LIF neuron. You may notice that the neuron generates a spike. But this is just a cosmetic spike only for illustration purposes. In an LIF neuron, we only need to keep track of times when the neuron hits the threshold so the postsynaptic neurons can be informed of the spike.\n",
        "\n",
        "How much DC is needed to reach the threshold (rheobase current)? How does the membrane time constant affect the frequency of the neuron?"
      ]
    },
    {
      "cell_type": "code",
      "execution_count": 10,
      "metadata": {
        "cellView": "form",
        "execution": {},
        "id": "d7D8k4n_ltrX",
        "outputId": "ab33849a-16ae-49f7-95a9-6791024d1b91",
        "colab": {
          "base_uri": "https://localhost:8080/",
          "height": 656,
          "referenced_widgets": [
            "2f2c90d6dc364b35b89dbef5948dcf17",
            "f43eeab0452644178da2c87115e01b15",
            "76c75ca990fb4155a51cc2f13918be3d",
            "dbdefb344d5946a2862926a6e44286bb",
            "92ff2229e51045178b065d626efa0869",
            "c1bd40df7b51419fae22bd1569b40789",
            "d9f39c8e2b4948238ec710142fc6276f",
            "6983be5daace49a98b7a77046c33f1ad",
            "4136a7e8dedf4bac950d6565eb4d1333"
          ]
        }
      },
      "outputs": [
        {
          "output_type": "display_data",
          "data": {
            "text/plain": [
              "interactive(children=(FloatSlider(value=50.0, description='I_dc', layout=Layout(width='450px'), max=300.0, ste…"
            ],
            "application/vnd.jupyter.widget-view+json": {
              "version_major": 2,
              "version_minor": 0,
              "model_id": "2f2c90d6dc364b35b89dbef5948dcf17"
            }
          },
          "metadata": {}
        }
      ],
      "source": [
        "# @markdown Make sure you execute this cell to enable the widget!\n",
        "my_layout.width = '450px'\n",
        "@widgets.interact(\n",
        "    I_dc=widgets.FloatSlider(50., min=0., max=300., step=10.,\n",
        "                             layout=my_layout),\n",
        "    tau_m=widgets.FloatSlider(10., min=2., max=20., step=2.,\n",
        "                              layout=my_layout)\n",
        ")\n",
        "\n",
        "def diff_DC(I_dc=200., tau_m=10.):\n",
        "  pars = default_pars(T=100.)\n",
        "  pars['tau_m'] = tau_m\n",
        "  v, sp = run_LIF(pars, Iinj=I_dc)\n",
        "  plot_volt_trace(pars, v, sp)\n",
        "  plt.show()"
      ]
    },
    {
      "cell_type": "markdown",
      "metadata": {
        "execution": {},
        "id": "4FlGpn4IltrX"
      },
      "source": [
        "## Section 2.2: Gaussian white noise (GWN) current\n",
        "\n",
        "\n",
        "Given the noisy nature of neuronal activity _in vivo_, neurons usually receive complex, time-varying inputs.\n",
        "\n",
        "To mimic this, we will now investigate the neuronal response when the LIF neuron receives Gaussian white noise $\\xi(t)$ with mean 0 ($\\mu = 0$) and some standard deviation $\\sigma$.\n",
        "\n",
        "Note that the GWN has zero mean, that is, it describes only the fluctuations of the input received by a neuron. We can thus modify our definition of GWN to have a nonzero mean value $\\mu$ that equals the DC input, since this is the average input into the cell. The cell below defines the modified gaussian white noise currents with nonzero mean $\\mu$."
      ]
    },
    {
      "cell_type": "markdown",
      "metadata": {
        "execution": {},
        "id": "8KSfkgGvltrX"
      },
      "source": [
        "### Interactive Demo 2.2: LIF neuron Explorer for noisy input\n",
        "\n",
        "\n",
        "The mean of the Gaussian white noise (GWN) is the amplitude of DC. Indeed, when $\\sigma = 0$, GWN is just a DC.\n",
        "\n",
        "So the question arises how does $\\sigma$ of the GWN affect the spiking behavior of the neuron. For instance we may want to know\n",
        "1.  how does the minimum input (i.e., $\\mu$) needed to make a neuron spike change with increase in $\\sigma$\n",
        "2.  how does the spike regularity change with increase in $\\sigma$\n",
        "\n",
        "To get an intuition about these questions you can use the following interactive demo that shows how the LIF neuron behavior changes for noisy input with different amplitudes (the mean $\\mu$) and fluctuation sizes ($\\sigma$). We use a helper function to generate this noisy input current: `my_GWN(pars, mu, sig, myseed=False)`.  Note that fixing the value of the random seed (e.g., `myseed=2020`) will allow you to obtain the same result every time you run this. We then use our `run_LIF` function to simulate the LIF model.\n"
      ]
    },
    {
      "cell_type": "code",
      "execution_count": null,
      "metadata": {
        "cellView": "form",
        "execution": {},
        "id": "bNmOl3tKltrX"
      },
      "outputs": [],
      "source": [
        "# @markdown Execute to enable helper function `my_GWN`\n",
        "\n",
        "def my_GWN(pars, mu, sig, myseed=False):\n",
        "  \"\"\"\n",
        "  Function that generates Gaussian white noise input\n",
        "\n",
        "  Args:\n",
        "    pars       : parameter dictionary\n",
        "    mu         : noise baseline (mean)\n",
        "    sig        : noise amplitute (standard deviation)\n",
        "    myseed     : random seed. int or boolean\n",
        "                 the same seed will give the same\n",
        "                 random number sequence\n",
        "\n",
        "  Returns:\n",
        "    I          : Gaussian white noise input\n",
        "  \"\"\"\n",
        "\n",
        "  # Retrieve simulation parameters\n",
        "  dt, range_t = pars['dt'], pars['range_t']\n",
        "  Lt = range_t.size\n",
        "\n",
        "  # Set random seed\n",
        "  if myseed:\n",
        "      np.random.seed(seed=myseed)\n",
        "  else:\n",
        "      np.random.seed()\n",
        "\n",
        "  # Generate GWN\n",
        "  # we divide here by 1000 to convert units to sec.\n",
        "  I_gwn = mu + sig * np.random.randn(Lt) / np.sqrt(dt / 1000.)\n",
        "\n",
        "  return I_gwn\n",
        "\n",
        "help(my_GWN)"
      ]
    },
    {
      "cell_type": "code",
      "execution_count": null,
      "metadata": {
        "cellView": "form",
        "execution": {},
        "id": "rFFIKi-YltrX"
      },
      "outputs": [],
      "source": [
        "# @markdown Make sure you execute this cell to enable the widget!\n",
        "\n",
        "my_layout.width = '450px'\n",
        "@widgets.interact(\n",
        "    mu_gwn=widgets.FloatSlider(200., min=100., max=300., step=5.,\n",
        "                               layout=my_layout),\n",
        "    sig_gwn=widgets.FloatSlider(2.5, min=0., max=5., step=.5,\n",
        "                                layout=my_layout)\n",
        ")\n",
        "\n",
        "\n",
        "def diff_GWN_to_LIF(mu_gwn, sig_gwn):\n",
        "  pars = default_pars(T=100.)\n",
        "  I_GWN = my_GWN(pars, mu=mu_gwn, sig=sig_gwn)\n",
        "  v, sp = run_LIF(pars, Iinj=I_GWN)\n",
        "  plt.figure(figsize=(12, 4))\n",
        "  plt.subplot(121)\n",
        "  plt.plot(pars['range_t'][::3], I_GWN[::3], 'b')\n",
        "  plt.xlabel('Time (ms)')\n",
        "  plt.ylabel(r'$I_{GWN}$ (pA)')\n",
        "  plt.subplot(122)\n",
        "  plot_volt_trace(pars, v, sp)\n",
        "  plt.tight_layout()\n",
        "  plt.show()"
      ]
    },
    {
      "cell_type": "markdown",
      "metadata": {
        "execution": {},
        "id": "srNe2ekZltrX"
      },
      "source": [
        "### Think! 2.2: Analyzing GWN Effects on Spiking\n",
        "- As we increase the input average ($\\mu$) or the input fluctuation ($\\sigma$), the spike count changes. How much can we increase the spike count, and what might be the relationship between GWN mean/std or DC value and spike count?\n",
        "\n",
        "- We have seen above that when we inject DC, the neuron spikes in a regular manner (clock-like), and this regularity is reduced when GWN is injected. The question is, how irregular can we make the neurons spiking by changing the parameters of the GWN?\n",
        "\n",
        "We will see the answers to these questions in the next section but discuss first!\n"
      ]
    },
    {
      "cell_type": "markdown",
      "metadata": {
        "execution": {},
        "id": "NkOlOfI3ltrX"
      },
      "source": [
        "---\n",
        "# Section 3: Firing rate and spike time irregularity\n",
        "\n",
        "\n",
        "When we plot the output firing rate as a function of GWN mean or DC value, it is called the input-output transfer function of the neuron (so simply F-I curve).\n",
        "\n",
        "Spike regularity can be quantified as the **coefficient of variation (CV) of the interspike interval (ISI)**:\n",
        "\n",
        "\\begin{equation}\n",
        "\\text{CV}_{\\text{ISI}} = \\frac{std(\\text{ISI})}{mean(\\text{ISI})}\n",
        "\\end{equation}\n",
        "\n",
        "A Poisson train is an example of high irregularity, in which $\\textbf{CV}_{\\textbf{ISI}} \\textbf{= 1}$. And for a clocklike (regular) process we have $\\textbf{CV}_{\\textbf{ISI}} \\textbf{= 0}$ because of **std(ISI)=0**."
      ]
    },
    {
      "cell_type": "markdown",
      "metadata": {
        "execution": {},
        "id": "tKpGKMOJltrX"
      },
      "source": [
        "## Interactive Demo 3A: F-I Explorer for different `sig_gwn`\n",
        "\n",
        "How does the F-I curve of the LIF neuron change as we increase the $\\sigma$ of the GWN? We can already expect that the F-I curve will be stochastic and the results will vary from one trial to another. But will there be any other change compared to the F-I curved measured using DC?\n",
        "\n",
        "Here's an interactive demo that shows how the F-I curve of a LIF neuron changes for different levels of fluctuation $\\sigma$.\n"
      ]
    },
    {
      "cell_type": "code",
      "execution_count": null,
      "metadata": {
        "cellView": "form",
        "execution": {},
        "id": "uZpwjGTdltrX"
      },
      "outputs": [],
      "source": [
        "# @markdown Make sure you execute this cell to enable the widget!\n",
        "\n",
        "my_layout.width = '450px'\n",
        "@widgets.interact(\n",
        "    sig_gwn=widgets.FloatSlider(3.0, min=0., max=6., step=0.5,\n",
        "                                layout=my_layout)\n",
        ")\n",
        "\n",
        "\n",
        "def diff_std_affect_fI(sig_gwn):\n",
        "  pars = default_pars(T=1000.)\n",
        "  I_mean = np.arange(100., 400., 10.)\n",
        "  spk_count = np.zeros(len(I_mean))\n",
        "  spk_count_dc = np.zeros(len(I_mean))\n",
        "\n",
        "  for idx in range(len(I_mean)):\n",
        "      I_GWN = my_GWN(pars, mu=I_mean[idx], sig=sig_gwn, myseed=2020)\n",
        "      v, rec_spikes = run_LIF(pars, Iinj=I_GWN)\n",
        "      v_dc, rec_sp_dc = run_LIF(pars, Iinj=I_mean[idx])\n",
        "      spk_count[idx] = len(rec_spikes)\n",
        "      spk_count_dc[idx] = len(rec_sp_dc)\n",
        "\n",
        "  # Plot the F-I curve i.e. Output firing rate as a function of input mean.\n",
        "  plt.figure()\n",
        "  plt.plot(I_mean, spk_count, 'k',\n",
        "           label=r'$\\sigma_{\\mathrm{GWN}}=%.2f$' % sig_gwn)\n",
        "  plt.plot(I_mean, spk_count_dc, 'k--', alpha=0.5, lw=4, dashes=(2, 2),\n",
        "           label='DC input')\n",
        "  plt.ylabel('Spike count')\n",
        "  plt.xlabel('Average injected current (pA)')\n",
        "  plt.legend(loc='best')\n",
        "  plt.show()"
      ]
    },
    {
      "cell_type": "markdown",
      "metadata": {
        "execution": {},
        "id": "NqZqCFrhltrY"
      },
      "source": [
        "## Coding Exercise 3: Compute $CV_{ISI}$ values\n",
        "\n",
        "As shown above, the F-I curve becomes smoother while increasing the amplitude of the fluctuation ($\\sigma$). In addition, the fluctuation can also change the irregularity of the spikes. Let's investigate the effect of $\\mu=250$ with $\\sigma=0.5$ vs $\\sigma=3$.\n",
        "\n",
        "Fill in the code below to compute ISI, then plot the histogram of the ISI and compute the $CV_{ISI}$. Note that, you can use `np.diff` to calculate ISI."
      ]
    },
    {
      "cell_type": "code",
      "execution_count": null,
      "metadata": {
        "execution": {},
        "id": "Q_fOhsXLltrY"
      },
      "outputs": [],
      "source": [
        "def isi_cv_LIF(spike_times):\n",
        "  \"\"\"\n",
        "  Calculates the interspike intervals (isi) and\n",
        "  the coefficient of variation (cv) for a given spike_train\n",
        "\n",
        "  Args:\n",
        "    spike_times : (n, ) vector with the spike times (ndarray)\n",
        "\n",
        "  Returns:\n",
        "    isi         : (n-1,) vector with the inter-spike intervals (ms)\n",
        "    cv          : coefficient of variation of isi (float)\n",
        "\n",
        "  \"\"\"\n",
        "  ########################################################################\n",
        "  ## TODO for students: compute the membrane potential v, spike train sp #\n",
        "  # Fill out function and remove\n",
        "  raise NotImplementedError('Student Exercise: calculate the isi and the cv!')\n",
        "  ########################################################################\n",
        "  if len(spike_times) >= 2:\n",
        "    # Compute isi\n",
        "    isi = ...\n",
        "    # Compute cv\n",
        "    cv = ...\n",
        "  else:\n",
        "    isi = np.nan\n",
        "    cv = np.nan\n",
        "\n",
        "  return isi, cv\n",
        "\n",
        "\n",
        "# Set parameters\n",
        "pars = default_pars(T=1000.)\n",
        "mu_gwn = 250\n",
        "sig_gwn1 = 0.5\n",
        "sig_gwn2 = 3.0\n",
        "\n",
        "# Run LIF model for sigma = 0.5\n",
        "I_GWN1 = my_GWN(pars, mu=mu_gwn, sig=sig_gwn1, myseed=2020)\n",
        "_, sp1 = run_LIF(pars, Iinj=I_GWN1)\n",
        "\n",
        "# Run LIF model for sigma = 3\n",
        "I_GWN2 = my_GWN(pars, mu=mu_gwn, sig=sig_gwn2, myseed=2020)\n",
        "_, sp2 = run_LIF(pars, Iinj=I_GWN2)\n",
        "\n",
        "# Compute ISIs/CV\n",
        "isi1, cv1 = isi_cv_LIF(sp1)\n",
        "isi2, cv2 = isi_cv_LIF(sp2)\n",
        "\n",
        "# Visualize\n",
        "my_hists(isi1, isi2, cv1, cv2, sig_gwn1, sig_gwn2)"
      ]
    },
    {
      "cell_type": "markdown",
      "metadata": {
        "execution": {},
        "id": "wsL9Xm3_ltrY"
      },
      "source": [
        "## Interactive Demo 3B: Spike irregularity explorer for different `sig_gwn`\n",
        "\n",
        "In the above illustration, we see that the CV of inter-spike-interval (ISI) distribution depends on $\\sigma$ of GWN. What about the mean of GWN, should that also affect the CV$_{\\rm ISI}$? If yes, how? Does the efficacy of $\\sigma$ in increasing the CV$_{\\rm ISI}$ depend on $\\mu$?\n",
        "\n",
        "In the following interactive demo, you will examine how different levels of fluctuation $\\sigma$ affect the CVs for different average injected currents ($\\mu$).\n",
        "\n",
        "1. Does the standard deviation of the injected current affect the F-I curve in any qualitative manner?\n",
        "2. Why does increasing the mean of GWN reduce the CV$_{\\rm ISI}$?\n",
        "3.  If you plot spike count (or rate) vs. CV$_{\\rm ISI}$, should there be a relationship between the two? Try out yourself."
      ]
    },
    {
      "cell_type": "code",
      "execution_count": null,
      "metadata": {
        "cellView": "form",
        "execution": {},
        "id": "0PydJx0XltrY"
      },
      "outputs": [],
      "source": [
        "# @markdown Make sure you execute this cell to enable the widget!\n",
        "\n",
        "my_layout.width = '450px'\n",
        "@widgets.interact(\n",
        "    sig_gwn=widgets.FloatSlider(0.0, min=0., max=10.,\n",
        "                                step=0.5, layout=my_layout)\n",
        ")\n",
        "\n",
        "\n",
        "def diff_std_affect_fI(sig_gwn):\n",
        "  pars = default_pars(T=1000.)\n",
        "  I_mean = np.arange(100., 400., 20)\n",
        "  spk_count = np.zeros(len(I_mean))\n",
        "  cv_isi = np.empty(len(I_mean))\n",
        "\n",
        "  for idx in range(len(I_mean)):\n",
        "    I_GWN = my_GWN(pars, mu=I_mean[idx], sig=sig_gwn)\n",
        "    v, rec_spikes = run_LIF(pars, Iinj=I_GWN)\n",
        "    spk_count[idx] = len(rec_spikes)\n",
        "    if len(rec_spikes) > 3:\n",
        "      isi = np.diff(rec_spikes)\n",
        "      cv_isi[idx] = np.std(isi) / np.mean(isi)\n",
        "\n",
        "  # Plot the F-I curve i.e. Output firing rate as a function of input mean.\n",
        "  plt.figure()\n",
        "  plt.plot(I_mean[spk_count > 5], cv_isi[spk_count > 5], 'bo', alpha=0.5)\n",
        "  plt.xlabel('Average injected current (pA)')\n",
        "  plt.ylabel(r'Spike irregularity ($\\mathrm{CV}_\\mathrm{ISI}$)')\n",
        "  plt.ylim(-0.1, 1.5)\n",
        "  plt.grid(True)\n",
        "  plt.show()"
      ]
    },
    {
      "cell_type": "markdown",
      "metadata": {
        "execution": {},
        "id": "SQuCL1gIltrY"
      },
      "source": [
        "---\n",
        "# Summary\n",
        "\n",
        "Congratulations! You've just built a leaky integrate-and-fire (LIF) neuron model from scratch, and studied its dynamics in response to various types of inputs, having:\n",
        "\n",
        "- simulated the LIF neuron model\n",
        "\n",
        "- driven the LIF neuron with external inputs, such as direct current and Gaussian white noise\n",
        "\n",
        "- studied how different inputs affect the  LIF neuron's output (firing rate and spike time irregularity),\n",
        "\n",
        "with a special focus on low rate and irregular firing regime to mimic real cortical neurons. The next tutorial will look at how spiking statistics may be influenced by a neuron's input statistics.\n",
        "\n",
        "If you have extra time, look at the bonus sections below to explore a different type of noise input and learn about extensions to integrate-and-fire models.\n"
      ]
    },
    {
      "cell_type": "markdown",
      "metadata": {
        "execution": {},
        "id": "adRl1s9RltrY"
      },
      "source": [
        "---\n",
        "# Bonus"
      ]
    },
    {
      "cell_type": "markdown",
      "metadata": {
        "execution": {},
        "id": "P_OQp7fyltrY"
      },
      "source": [
        "## Bonus Section 1: Ornstein-Uhlenbeck Process\n",
        "\n",
        "When a neuron receives spiking input, the synaptic current is Shot Noise -- which is a kind of colored noise and the spectrum of the noise determined by the synaptic kernel time constant. That is, a neuron is driven by **colored noise** and not GWN.\n",
        "\n",
        "We can model colored noise using the Ornstein-Uhlenbeck process - filtered white noise."
      ]
    },
    {
      "cell_type": "markdown",
      "metadata": {
        "execution": {},
        "id": "_sK-ti3MltrY"
      },
      "source": [
        "We next study if the input current is temporally correlated and is modeled as an Ornstein-Uhlenbeck process $\\eta(t)$, i.e., low-pass filtered GWN with a time constant $\\tau_{\\eta}$:\n",
        "\n",
        "\\begin{equation}\n",
        "\\tau_\\eta \\frac{d}{dt}\\eta(t) = \\mu-\\eta(t) + \\sigma_\\eta\\sqrt{2\\tau_\\eta}\\xi(t)\n",
        "\\end{equation}\n",
        "\n",
        "**Hint:** An OU process as defined above has\n",
        "\n",
        "\\begin{equation}\n",
        "\\mathbb{E}[\\eta(t)]=\\mu\n",
        "\\end{equation}\n",
        "\n",
        "and autocovariance\n",
        "\n",
        "\\begin{equation}\n",
        "[\\eta(t)\\eta(t+\\tau)]=\\sigma_\\eta^2e^{-|t-\\tau|/\\tau_\\eta}\n",
        "\\end{equation}\n",
        "\n",
        "which can be used to check your code."
      ]
    },
    {
      "cell_type": "code",
      "execution_count": null,
      "metadata": {
        "cellView": "form",
        "execution": {},
        "id": "SPz4ETt4ltrY"
      },
      "outputs": [],
      "source": [
        "# @markdown Execute this cell to get helper function `my_OU`\n",
        "\n",
        "\n",
        "def my_OU(pars, mu, sig, myseed=False):\n",
        "  \"\"\"\n",
        "  Function that produces Ornstein-Uhlenbeck input\n",
        "\n",
        "  Args:\n",
        "    pars       : parameter dictionary\n",
        "    sig        : noise amplitute\n",
        "    myseed     : random seed. int or boolean\n",
        "\n",
        "  Returns:\n",
        "    I_ou       : Ornstein-Uhlenbeck input current\n",
        "  \"\"\"\n",
        "\n",
        "  # Retrieve simulation parameters\n",
        "  dt, range_t = pars['dt'], pars['range_t']\n",
        "  Lt = range_t.size\n",
        "  tau_ou = pars['tau_ou']  # [ms]\n",
        "\n",
        "  # set random seed\n",
        "  if myseed:\n",
        "    np.random.seed(seed=myseed)\n",
        "  else:\n",
        "    np.random.seed()\n",
        "\n",
        "  # Initialize\n",
        "  noise = np.random.randn(Lt)\n",
        "  I_ou = np.zeros(Lt)\n",
        "  I_ou[0] = noise[0] * sig\n",
        "\n",
        "  # generate OU\n",
        "  for it in range(Lt-1):\n",
        "    I_ou[it+1] = I_ou[it] + (dt / tau_ou) * (mu - I_ou[it]) + np.sqrt(2 * dt / tau_ou) * sig * noise[it + 1]\n",
        "\n",
        "  return I_ou\n",
        "\n",
        "\n",
        "help(my_OU)"
      ]
    },
    {
      "cell_type": "markdown",
      "metadata": {
        "execution": {},
        "id": "r4R_8BIHltrY"
      },
      "source": [
        "### Bonus Interactive Demo 1: LIF Explorer with OU input\n",
        "In the following, we will check how a neuron responds to a noisy current that follows the statistics of an OU process.\n",
        "\n",
        "-  How does the OU type input change neuron responsiveness?\n",
        "-  What do you think will happen to the spike pattern and rate if you increased or decreased the time constant of the OU process?"
      ]
    },
    {
      "cell_type": "code",
      "execution_count": null,
      "metadata": {
        "cellView": "form",
        "execution": {},
        "id": "YLuXqWzfltrZ"
      },
      "outputs": [],
      "source": [
        "# @markdown Remember to enable the widget by running the cell!\n",
        "\n",
        "my_layout.width = '450px'\n",
        "@widgets.interact(\n",
        "  tau_ou=widgets.FloatSlider(10.0, min=5., max=20.,\n",
        "                             step=2.5, layout=my_layout),\n",
        "  sig_ou=widgets.FloatSlider(10.0, min=5., max=40.,\n",
        "                             step=2.5, layout=my_layout),\n",
        "  mu_ou=widgets.FloatSlider(190.0, min=180., max=220.,\n",
        "                            step=2.5, layout=my_layout)\n",
        ")\n",
        "\n",
        "\n",
        "def LIF_with_OU(tau_ou=10., sig_ou=40., mu_ou=200.):\n",
        "  pars = default_pars(T=1000.)\n",
        "  pars['tau_ou'] = tau_ou  # [ms]\n",
        "\n",
        "  I_ou = my_OU(pars, mu_ou, sig_ou)\n",
        "  v, sp = run_LIF(pars, Iinj=I_ou)\n",
        "\n",
        "  plt.figure(figsize=(12, 4))\n",
        "  plt.subplot(121)\n",
        "  plt.plot(pars['range_t'], I_ou, 'b', lw=1.0)\n",
        "  plt.xlabel('Time (ms)')\n",
        "  plt.ylabel(r'$I_{\\mathrm{OU}}$ (pA)')\n",
        "  plt.subplot(122)\n",
        "  plot_volt_trace(pars, v, sp)\n",
        "  plt.tight_layout()\n",
        "  plt.show()"
      ]
    }
  ],
  "metadata": {
    "colab": {
      "provenance": [],
      "toc_visible": true,
      "include_colab_link": true
    },
    "kernel": {
      "display_name": "Python 3",
      "language": "python",
      "name": "python3"
    },
    "kernelspec": {
      "display_name": "Python 3",
      "name": "python3"
    },
    "language_info": {
      "codemirror_mode": {
        "name": "ipython",
        "version": 3
      },
      "file_extension": ".py",
      "mimetype": "text/x-python",
      "name": "python",
      "nbconvert_exporter": "python",
      "pygments_lexer": "ipython3",
      "version": "3.9.17"
    },
    "widgets": {
      "application/vnd.jupyter.widget-state+json": {
        "2f2c90d6dc364b35b89dbef5948dcf17": {
          "model_module": "@jupyter-widgets/controls",
          "model_name": "VBoxModel",
          "model_module_version": "1.5.0",
          "state": {
            "_dom_classes": [
              "widget-interact"
            ],
            "_model_module": "@jupyter-widgets/controls",
            "_model_module_version": "1.5.0",
            "_model_name": "VBoxModel",
            "_view_count": null,
            "_view_module": "@jupyter-widgets/controls",
            "_view_module_version": "1.5.0",
            "_view_name": "VBoxView",
            "box_style": "",
            "children": [
              "IPY_MODEL_f43eeab0452644178da2c87115e01b15",
              "IPY_MODEL_76c75ca990fb4155a51cc2f13918be3d",
              "IPY_MODEL_dbdefb344d5946a2862926a6e44286bb"
            ],
            "layout": "IPY_MODEL_92ff2229e51045178b065d626efa0869"
          }
        },
        "f43eeab0452644178da2c87115e01b15": {
          "model_module": "@jupyter-widgets/controls",
          "model_name": "FloatSliderModel",
          "model_module_version": "1.5.0",
          "state": {
            "_dom_classes": [],
            "_model_module": "@jupyter-widgets/controls",
            "_model_module_version": "1.5.0",
            "_model_name": "FloatSliderModel",
            "_view_count": null,
            "_view_module": "@jupyter-widgets/controls",
            "_view_module_version": "1.5.0",
            "_view_name": "FloatSliderView",
            "continuous_update": true,
            "description": "I_dc",
            "description_tooltip": null,
            "disabled": false,
            "layout": "IPY_MODEL_c1bd40df7b51419fae22bd1569b40789",
            "max": 300,
            "min": 0,
            "orientation": "horizontal",
            "readout": true,
            "readout_format": ".2f",
            "step": 10,
            "style": "IPY_MODEL_d9f39c8e2b4948238ec710142fc6276f",
            "value": 210
          }
        },
        "76c75ca990fb4155a51cc2f13918be3d": {
          "model_module": "@jupyter-widgets/controls",
          "model_name": "FloatSliderModel",
          "model_module_version": "1.5.0",
          "state": {
            "_dom_classes": [],
            "_model_module": "@jupyter-widgets/controls",
            "_model_module_version": "1.5.0",
            "_model_name": "FloatSliderModel",
            "_view_count": null,
            "_view_module": "@jupyter-widgets/controls",
            "_view_module_version": "1.5.0",
            "_view_name": "FloatSliderView",
            "continuous_update": true,
            "description": "tau_m",
            "description_tooltip": null,
            "disabled": false,
            "layout": "IPY_MODEL_c1bd40df7b51419fae22bd1569b40789",
            "max": 20,
            "min": 2,
            "orientation": "horizontal",
            "readout": true,
            "readout_format": ".2f",
            "step": 2,
            "style": "IPY_MODEL_6983be5daace49a98b7a77046c33f1ad",
            "value": 14
          }
        },
        "dbdefb344d5946a2862926a6e44286bb": {
          "model_module": "@jupyter-widgets/output",
          "model_name": "OutputModel",
          "model_module_version": "1.0.0",
          "state": {
            "_dom_classes": [],
            "_model_module": "@jupyter-widgets/output",
            "_model_module_version": "1.0.0",
            "_model_name": "OutputModel",
            "_view_count": null,
            "_view_module": "@jupyter-widgets/output",
            "_view_module_version": "1.0.0",
            "_view_name": "OutputView",
            "layout": "IPY_MODEL_4136a7e8dedf4bac950d6565eb4d1333",
            "msg_id": "",
            "outputs": [
              {
                "output_type": "display_data",
                "data": {
                  "text/plain": "<Figure size 800x600 with 1 Axes>",
                  "image/png": "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\n"
                },
                "metadata": {
                  "image/png": {
                    "width": 767,
                    "height": 575
                  }
                }
              }
            ]
          }
        },
        "92ff2229e51045178b065d626efa0869": {
          "model_module": "@jupyter-widgets/base",
          "model_name": "LayoutModel",
          "model_module_version": "1.2.0",
          "state": {
            "_model_module": "@jupyter-widgets/base",
            "_model_module_version": "1.2.0",
            "_model_name": "LayoutModel",
            "_view_count": null,
            "_view_module": "@jupyter-widgets/base",
            "_view_module_version": "1.2.0",
            "_view_name": "LayoutView",
            "align_content": null,
            "align_items": null,
            "align_self": null,
            "border": null,
            "bottom": null,
            "display": null,
            "flex": null,
            "flex_flow": null,
            "grid_area": null,
            "grid_auto_columns": null,
            "grid_auto_flow": null,
            "grid_auto_rows": null,
            "grid_column": null,
            "grid_gap": null,
            "grid_row": null,
            "grid_template_areas": null,
            "grid_template_columns": null,
            "grid_template_rows": null,
            "height": null,
            "justify_content": null,
            "justify_items": null,
            "left": null,
            "margin": null,
            "max_height": null,
            "max_width": null,
            "min_height": null,
            "min_width": null,
            "object_fit": null,
            "object_position": null,
            "order": null,
            "overflow": null,
            "overflow_x": null,
            "overflow_y": null,
            "padding": null,
            "right": null,
            "top": null,
            "visibility": null,
            "width": null
          }
        },
        "c1bd40df7b51419fae22bd1569b40789": {
          "model_module": "@jupyter-widgets/base",
          "model_name": "LayoutModel",
          "model_module_version": "1.2.0",
          "state": {
            "_model_module": "@jupyter-widgets/base",
            "_model_module_version": "1.2.0",
            "_model_name": "LayoutModel",
            "_view_count": null,
            "_view_module": "@jupyter-widgets/base",
            "_view_module_version": "1.2.0",
            "_view_name": "LayoutView",
            "align_content": null,
            "align_items": null,
            "align_self": null,
            "border": null,
            "bottom": null,
            "display": null,
            "flex": null,
            "flex_flow": null,
            "grid_area": null,
            "grid_auto_columns": null,
            "grid_auto_flow": null,
            "grid_auto_rows": null,
            "grid_column": null,
            "grid_gap": null,
            "grid_row": null,
            "grid_template_areas": null,
            "grid_template_columns": null,
            "grid_template_rows": null,
            "height": null,
            "justify_content": null,
            "justify_items": null,
            "left": null,
            "margin": null,
            "max_height": null,
            "max_width": null,
            "min_height": null,
            "min_width": null,
            "object_fit": null,
            "object_position": null,
            "order": null,
            "overflow": null,
            "overflow_x": null,
            "overflow_y": null,
            "padding": null,
            "right": null,
            "top": null,
            "visibility": null,
            "width": "450px"
          }
        },
        "d9f39c8e2b4948238ec710142fc6276f": {
          "model_module": "@jupyter-widgets/controls",
          "model_name": "SliderStyleModel",
          "model_module_version": "1.5.0",
          "state": {
            "_model_module": "@jupyter-widgets/controls",
            "_model_module_version": "1.5.0",
            "_model_name": "SliderStyleModel",
            "_view_count": null,
            "_view_module": "@jupyter-widgets/base",
            "_view_module_version": "1.2.0",
            "_view_name": "StyleView",
            "description_width": "",
            "handle_color": null
          }
        },
        "6983be5daace49a98b7a77046c33f1ad": {
          "model_module": "@jupyter-widgets/controls",
          "model_name": "SliderStyleModel",
          "model_module_version": "1.5.0",
          "state": {
            "_model_module": "@jupyter-widgets/controls",
            "_model_module_version": "1.5.0",
            "_model_name": "SliderStyleModel",
            "_view_count": null,
            "_view_module": "@jupyter-widgets/base",
            "_view_module_version": "1.2.0",
            "_view_name": "StyleView",
            "description_width": "",
            "handle_color": null
          }
        },
        "4136a7e8dedf4bac950d6565eb4d1333": {
          "model_module": "@jupyter-widgets/base",
          "model_name": "LayoutModel",
          "model_module_version": "1.2.0",
          "state": {
            "_model_module": "@jupyter-widgets/base",
            "_model_module_version": "1.2.0",
            "_model_name": "LayoutModel",
            "_view_count": null,
            "_view_module": "@jupyter-widgets/base",
            "_view_module_version": "1.2.0",
            "_view_name": "LayoutView",
            "align_content": null,
            "align_items": null,
            "align_self": null,
            "border": null,
            "bottom": null,
            "display": null,
            "flex": null,
            "flex_flow": null,
            "grid_area": null,
            "grid_auto_columns": null,
            "grid_auto_flow": null,
            "grid_auto_rows": null,
            "grid_column": null,
            "grid_gap": null,
            "grid_row": null,
            "grid_template_areas": null,
            "grid_template_columns": null,
            "grid_template_rows": null,
            "height": null,
            "justify_content": null,
            "justify_items": null,
            "left": null,
            "margin": null,
            "max_height": null,
            "max_width": null,
            "min_height": null,
            "min_width": null,
            "object_fit": null,
            "object_position": null,
            "order": null,
            "overflow": null,
            "overflow_x": null,
            "overflow_y": null,
            "padding": null,
            "right": null,
            "top": null,
            "visibility": null,
            "width": null
          }
        }
      }
    }
  },
  "nbformat": 4,
  "nbformat_minor": 0
}