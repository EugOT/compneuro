{
 "cells": [
  {
   "cell_type": "markdown",
   "metadata": {
    "colab_type": "text",
    "id": "5Uu0L6pRg-JB"
   },
   "source": [
    "# 2023 Oct 6th, Tutorial 1\n",
    "\n",
    "## Intro\n",
    "\n",
    "So today will be about the diversity of models and what different models can do for us. Typically everyone has an intuition about how different analysis tools can extract different kinds of information from experimental data; you choose a different analysis depending on your question. However, this is less appreciated for models. But it’s the same for them; you want to build a different kind of model to answer different kinds of questions. It all depends on your goals. So today, we will examine three kinds of models that we can classify as (according to Dayan and Abbott, 2001): **what**, **how**, and **why** models.\n",
    "\n",
    "Each tutorial will guide you through one of those models to describe the exact same data: the time interval between neuronal action potentials, aka inter-spike interval (ISI). In tutorial 1, we will ask what function best describes the shape of the ISI distribution (it’s an exponential distribution). Such a “what” model can compactly describe the ISI distribution and allows, for example, to quantify ISI properties across datasets, task conditions, brain areas etc. In tutorial 2, we ask which mechanism could generate the observed ISI distribution. Such a “how” model proposes a specific way that a system produces the observed behavior. Here, you will see that it’s a balance between excitation and inhibition that generates exponentially distributed ISIs. Finally we will ask “why” the exponential distribution is the most optimal way to code information in neurons. “Why” models thus ask about the underlying principles of a phenomenon.\n",
    "\n",
    "In any research, we typically start with descriptive (“what”) models; you will see examples of those during the model fitting, GLM, dimensionality reduction, and deep learning days. Next, we often ask about the mechanisms and build “how” models to generate or test hypotheses of underlying mechanisms; examples of those will be in linear systems, real neurons, dynamic networks, and decision making days. Ultimately, we are usually interested in the underlying reason of why the phenomenon exists in the first place; examples of those are in Bayes, optimal Control, and reinforcement learning days. “Why” models are often the hardest to achieve; “what” models are usually the easiest. But more importantly, they allow answering different questions, provide different insights and have different utilities. Thinking about the question I want to answer, why I want to answer this question (i.e. my goal) and the hypotheses I want to evaluate determines my own modeling choices every day. The resulting diversity in models is great because all models address different facets of a problem (like in today's 3 tutorials) and are thus complementary in our quest for knowledge. Today’s materials will hopefully allow you to better appreciate the opportunities and limitations offered by all the modeling tools you will learn during the course.\n",
    "\n",
    "\n",
    "# Model Types: \"What\" models\n",
    "\n",
    "We would like to acknowledge [Steinmetz _et al._ (2019)](https://www.nature.com/articles/s41586-019-1787-x) for sharing their data, a subset of which is used here.\n"
   ]
  },
  {
   "cell_type": "markdown",
   "metadata": {
    "colab_type": "text",
    "id": "xizgwM0DPnFc"
   },
   "source": [
    "___\n",
    "# Tutorial Objectives\n",
    "This is tutorial 1 of a 3-part series on different flavors of models used to understand neural data. In this tutorial we will explore 'What' models, used to describe the data. To understand what our data looks like, we will visualize it in different ways. Then we will compare it to simple mathematical models. Specifically, we will:\n",
    "\n",
    "- Load a dataset with spiking activity from hundreds of neurons and understand how it is organized\n",
    "- Make plots to visualize characteristics of the spiking activity across the population\n",
    "- Compute the distribution of \"inter-spike intervals\" (ISIs) for a single neuron\n",
    "- Consider several formal models of this distribution's shape and fit them to the data \"by hand\""
   ]
  },
  {
   "cell_type": "markdown",
   "metadata": {
    "colab_type": "text",
    "id": "YOCsVZYBhDMi"
   },
   "source": [
    "# Setup\n",
    "\n"
   ]
  },
  {
   "cell_type": "markdown",
   "metadata": {
    "colab_type": "text",
    "id": "D1Pt68_Lcsn8"
   },
   "source": [
    "Python requires you to explictly \"import\" libraries before their functions are available to use. We will always specify our imports at the beginning of each notebook or script."
   ]
  },
  {
   "cell_type": "code",
   "execution_count": 2,
   "metadata": {
    "cellView": "both",
    "colab": {},
    "colab_type": "code",
    "executionInfo": {
     "elapsed": 676,
     "status": "ok",
     "timestamp": 1594628183320,
     "user": {
      "displayName": "Evgenii Tretiakov",
      "photoUrl": "https://lh3.googleusercontent.com/a-/AOh14Ggu3c2KuDxkCviEiF6RedytMTB3sHW4G95B3lqboQ=s64",
      "userId": "14040943026517255518"
     },
     "user_tz": -120
    },
    "id": "83AqE2hlg9H-"
   },
   "outputs": [],
   "source": [
    "import numpy as np\n",
    "import matplotlib.pyplot as plt"
   ]
  },
  {
   "cell_type": "markdown",
   "metadata": {
    "colab_type": "text",
    "id": "hkvzsPVCc63w"
   },
   "source": [
    "Tutorial notebooks typically begin with several set-up steps that are hidden from view by default.\n",
    "\n",
    "**Important:** Even though the code is hidden, you still need to run it so that the rest of the notebook can work properly. Step through each cell, either by pressing the play button in the upper-left-hand corner or with a keyboard shortcut (`Cmd-Return` on a Mac, `Ctrl-Enter` otherwise). A number will appear inside the brackets (e.g. `[3]`) to tell you that the cell was executed and what order that happened in.\n",
    "\n",
    "If you are curious to see what is going on inside each cell, you can double click to expand. Once expanded, double-click the white space to the right of the editor to collapse again."
   ]
  },
  {
   "cell_type": "markdown",
   "metadata": {},
   "source": [
    "## This next cell is critical for the success on MacOS"
   ]
  },
  {
   "cell_type": "code",
   "execution_count": 1,
   "metadata": {
    "cellView": "form",
    "colab": {},
    "colab_type": "code",
    "executionInfo": {
     "elapsed": 481,
     "status": "ok",
     "timestamp": 1594628200906,
     "user": {
      "displayName": "Evgenii Tretiakov",
      "photoUrl": "https://lh3.googleusercontent.com/a-/AOh14Ggu3c2KuDxkCviEiF6RedytMTB3sHW4G95B3lqboQ=s64",
      "userId": "14040943026517255518"
     },
     "user_tz": -120
    },
    "id": "FyJb8B5vFYND"
   },
   "outputs": [],
   "source": [
    "#@title Figure Settings\n",
    "import ipywidgets as widgets #interactive display\n",
    "\n",
    "%matplotlib inline\n",
    "%config InlineBackend.figure_format = 'retina'\n"
   ]
  },
  {
   "cell_type": "code",
   "execution_count": 3,
   "metadata": {
    "cellView": "form",
    "colab": {},
    "colab_type": "code",
    "executionInfo": {
     "elapsed": 656,
     "status": "ok",
     "timestamp": 1594628209774,
     "user": {
      "displayName": "Evgenii Tretiakov",
      "photoUrl": "https://lh3.googleusercontent.com/a-/AOh14Ggu3c2KuDxkCviEiF6RedytMTB3sHW4G95B3lqboQ=s64",
      "userId": "14040943026517255518"
     },
     "user_tz": -120
    },
    "id": "velBtnwIM0Dl"
   },
   "outputs": [],
   "source": [
    "#@title Helper functions\n",
    "\n",
    "#@markdown Most of the tutorials make use of helper functions\n",
    "#@markdown to simplify the code that you need to write. They are defined here.\n",
    "\n",
    "# Please don't edit these, or worry about understanding them now!\n",
    "\n",
    "def restrict_spike_times(spike_times, interval):\n",
    "  \"\"\"Given a spike_time dataset, restrict to spikes within given interval.\n",
    "\n",
    "  Args:\n",
    "    spike_times (sequence of np.ndarray): List or array of arrays,\n",
    "      each inner array has spike times for a single neuron.\n",
    "    interval (tuple): Min, max time values; keep min <= t < max.\n",
    "\n",
    "  Returns:\n",
    "    np.ndarray: like `spike_times`, but only within `interval`\n",
    "  \"\"\"\n",
    "  interval_spike_times = []\n",
    "  for spikes in spike_times:\n",
    "    interval_mask = (spikes >= interval[0]) & (spikes < interval[1])\n",
    "    interval_spike_times.append(spikes[interval_mask])\n",
    "  return np.array(interval_spike_times, object)"
   ]
  },
  {
   "cell_type": "code",
   "execution_count": 4,
   "metadata": {
    "cellView": "form",
    "colab": {},
    "colab_type": "code",
    "executionInfo": {
     "elapsed": 2110,
     "status": "ok",
     "timestamp": 1594628213408,
     "user": {
      "displayName": "Evgenii Tretiakov",
      "photoUrl": "https://lh3.googleusercontent.com/a-/AOh14Ggu3c2KuDxkCviEiF6RedytMTB3sHW4G95B3lqboQ=s64",
      "userId": "14040943026517255518"
     },
     "user_tz": -120
    },
    "id": "9O9uom_44lAZ"
   },
   "outputs": [
    {
     "name": "stderr",
     "output_type": "stream",
     "text": [
      "/Users/edwald/python_venvs/meduni/lib/python3.9/site-packages/urllib3/__init__.py:35: NotOpenSSLWarning: urllib3 v2 only supports OpenSSL 1.1.1+, currently the 'ssl' module is compiled with 'LibreSSL 2.8.3'. See: https://github.com/urllib3/urllib3/issues/3020\n",
      "  warnings.warn(\n"
     ]
    }
   ],
   "source": [
    "#@title Data retrieval\n",
    "#@markdown This cell downloads the example dataset that we will use in this tutorial.\n",
    "import io\n",
    "import requests\n",
    "r = requests.get('https://osf.io/sy5xt/download')\n",
    "if r.status_code != 200:\n",
    "  print('Failed to download data')\n",
    "else:\n",
    "  spike_times = np.load(io.BytesIO(r.content), allow_pickle=True)['spike_times']"
   ]
  },
  {
   "cell_type": "markdown",
   "metadata": {
    "colab_type": "text",
    "id": "E81PWKTGym7P"
   },
   "source": [
    "---\n",
    "\n",
    "# Section 1: Exploring the Steinmetz dataset\n",
    "\n",
    "In this tutorial we will explore the structure of a neuroscience dataset. \n",
    "\n",
    "We consider a subset of data from a study of [Steinmetz _et al._ (2019)](https://www.nature.com/articles/s41586-019-1787-x). In this study, Neuropixels probes were implanted in the brains of mice. Electrical potentials were measured by hundreds of electrodes along the length of each probe. Each electrode's measurements captured local variations in the electric field due to nearby spiking neurons. A spike sorting algorithm was used to infer spike times and cluster spikes according to common origin: a single cluster of sorted spikes is causally attributed to a single neuron.\n",
    "\n",
    "In particular, a single recording session of spike times and neuron assignments was loaded and assigned to `spike_times` in the preceding setup. \n",
    "\n",
    "Typically a dataset comes with some information about its structure. However, this information may be incomplete. You might also apply some transformations or \"pre-processing\" to create a working representation of the data of interest, which might go partly undocumented depending on the circumstances. In any case it is important to be able to use the available tools to investigate unfamiliar aspects of a data structure. \n",
    "\n",
    "Let's see what our data looks like..."
   ]
  },
  {
   "cell_type": "markdown",
   "metadata": {
    "colab_type": "text",
    "id": "U3a_9c4sjQ7c"
   },
   "source": [
    "## Section 1.1: Warming up with `spike_times`"
   ]
  },
  {
   "cell_type": "markdown",
   "metadata": {
    "colab_type": "text",
    "id": "lHvAgKuMJGt3"
   },
   "source": [
    "What is the Python type of our variable?"
   ]
  },
  {
   "cell_type": "code",
   "execution_count": 5,
   "metadata": {
    "colab": {
     "base_uri": "https://localhost:8080/",
     "height": 34
    },
    "colab_type": "code",
    "executionInfo": {
     "elapsed": 689,
     "status": "ok",
     "timestamp": 1594628251186,
     "user": {
      "displayName": "Evgenii Tretiakov",
      "photoUrl": "https://lh3.googleusercontent.com/a-/AOh14Ggu3c2KuDxkCviEiF6RedytMTB3sHW4G95B3lqboQ=s64",
      "userId": "14040943026517255518"
     },
     "user_tz": -120
    },
    "id": "WsZrKJUFZ38z",
    "outputId": "d3533fbc-8df0-4aac-df1d-eb0db4d75c9e"
   },
   "outputs": [
    {
     "data": {
      "text/plain": [
       "numpy.ndarray"
      ]
     },
     "execution_count": 5,
     "metadata": {},
     "output_type": "execute_result"
    }
   ],
   "source": [
    "type(spike_times)"
   ]
  },
  {
   "cell_type": "markdown",
   "metadata": {
    "colab_type": "text",
    "id": "mdzX4_CUFp2U"
   },
   "source": [
    "You should see `numpy.ndarray`, which means that it's a normal NumPy array.\n",
    "\n",
    "If you see an error message, it probably means that you did not execute the set-up cells at the top of the notebook. So go ahead and make sure to do that.\n",
    "\n",
    "Once everything is running properly, we can ask the next question about the dataset: what's its shape?"
   ]
  },
  {
   "cell_type": "code",
   "execution_count": 6,
   "metadata": {
    "colab": {
     "base_uri": "https://localhost:8080/",
     "height": 34
    },
    "colab_type": "code",
    "executionInfo": {
     "elapsed": 636,
     "status": "ok",
     "timestamp": 1594628267653,
     "user": {
      "displayName": "Evgenii Tretiakov",
      "photoUrl": "https://lh3.googleusercontent.com/a-/AOh14Ggu3c2KuDxkCviEiF6RedytMTB3sHW4G95B3lqboQ=s64",
      "userId": "14040943026517255518"
     },
     "user_tz": -120
    },
    "id": "_dYl5pCrIlRa",
    "outputId": "d0802e5e-adbf-4d6e-b5ea-34006a230107"
   },
   "outputs": [
    {
     "data": {
      "text/plain": [
       "(734,)"
      ]
     },
     "execution_count": 6,
     "metadata": {},
     "output_type": "execute_result"
    }
   ],
   "source": [
    "spike_times.shape"
   ]
  },
  {
   "cell_type": "markdown",
   "metadata": {
    "colab_type": "text",
    "id": "B1LEO0d4Fz3f"
   },
   "source": [
    "There are 734 entries in one dimension, and no other dimensions. What is the Python type of the first entry, and what is *its* shape?"
   ]
  },
  {
   "cell_type": "code",
   "execution_count": 7,
   "metadata": {
    "colab": {
     "base_uri": "https://localhost:8080/",
     "height": 51
    },
    "colab_type": "code",
    "executionInfo": {
     "elapsed": 625,
     "status": "ok",
     "timestamp": 1594628276434,
     "user": {
      "displayName": "Evgenii Tretiakov",
      "photoUrl": "https://lh3.googleusercontent.com/a-/AOh14Ggu3c2KuDxkCviEiF6RedytMTB3sHW4G95B3lqboQ=s64",
      "userId": "14040943026517255518"
     },
     "user_tz": -120
    },
    "id": "VR63MAS91Dgn",
    "outputId": "f07e4388-d238-4323-dd84-049dd8b457cc"
   },
   "outputs": [
    {
     "name": "stdout",
     "output_type": "stream",
     "text": [
      "<class 'numpy.ndarray'>\n",
      "(826,)\n"
     ]
    }
   ],
   "source": [
    "idx = 0\n",
    "print(\n",
    "  type(spike_times[idx]),\n",
    "  spike_times[idx].shape,\n",
    "  sep=\"\\n\",\n",
    ")"
   ]
  },
  {
   "cell_type": "markdown",
   "metadata": {
    "colab_type": "text",
    "id": "SNNE2OqLGSDM"
   },
   "source": [
    "It's also a NumPy array with a 1D shape! Why didn't this show up as a second dimension in the shape of `spike_times`? That is, why not `spike_times.shape == (734, 826)`?\n",
    "\n",
    "To investigate, let's check another entry."
   ]
  },
  {
   "cell_type": "code",
   "execution_count": 8,
   "metadata": {
    "colab": {
     "base_uri": "https://localhost:8080/",
     "height": 51
    },
    "colab_type": "code",
    "executionInfo": {
     "elapsed": 633,
     "status": "ok",
     "timestamp": 1594628328883,
     "user": {
      "displayName": "Evgenii Tretiakov",
      "photoUrl": "https://lh3.googleusercontent.com/a-/AOh14Ggu3c2KuDxkCviEiF6RedytMTB3sHW4G95B3lqboQ=s64",
      "userId": "14040943026517255518"
     },
     "user_tz": -120
    },
    "id": "34VOEiufG-Ec",
    "outputId": "8e3b8c8f-587a-4405-bf81-43b03ec68f14"
   },
   "outputs": [
    {
     "name": "stdout",
     "output_type": "stream",
     "text": [
      "<class 'numpy.ndarray'>\n",
      "(9723,)\n"
     ]
    }
   ],
   "source": [
    "idx = 321\n",
    "print(\n",
    "  type(spike_times[idx]),\n",
    "  spike_times[idx].shape,\n",
    "  sep=\"\\n\",\n",
    ")"
   ]
  },
  {
   "cell_type": "markdown",
   "metadata": {
    "colab_type": "text",
    "id": "225jJ8LgaV5W"
   },
   "source": [
    "It's also a 1D NumPy array, but it has a different shape. Checking the NumPy types of the values in these arrays, and their first few elements, we see they are composed of floating point numbers (not another level of `np.ndarray`):"
   ]
  },
  {
   "cell_type": "code",
   "execution_count": 9,
   "metadata": {
    "colab": {
     "base_uri": "https://localhost:8080/",
     "height": 187
    },
    "colab_type": "code",
    "executionInfo": {
     "elapsed": 605,
     "status": "ok",
     "timestamp": 1594628364623,
     "user": {
      "displayName": "Evgenii Tretiakov",
      "photoUrl": "https://lh3.googleusercontent.com/a-/AOh14Ggu3c2KuDxkCviEiF6RedytMTB3sHW4G95B3lqboQ=s64",
      "userId": "14040943026517255518"
     },
     "user_tz": -120
    },
    "id": "C5tROGLzaqeI",
    "outputId": "cacecfba-aeb9-4c4e-901f-b6f33b8c2a18"
   },
   "outputs": [
    {
     "name": "stdout",
     "output_type": "stream",
     "text": [
      "Neuron 0:\n",
      "float32\n",
      "[ 0.8149   14.822467 24.9646   25.1436   38.8709  ]\n",
      "\n",
      "\n",
      "Neuron 321:\n",
      "float32\n",
      "[1.0698667 1.1536334 1.2403667 1.7072    1.799    ]\n",
      "\n",
      "\n"
     ]
    }
   ],
   "source": [
    "i_neurons = [0, 321]\n",
    "i_print = slice(0, 5)\n",
    "\n",
    "for i in i_neurons:\n",
    "  print(\n",
    "    \"Neuron {}:\".format(i),\n",
    "    spike_times[i].dtype,\n",
    "    spike_times[i][i_print],\n",
    "    \"\\n\",\n",
    "    sep=\"\\n\"\n",
    "  )\n"
   ]
  },
  {
   "cell_type": "markdown",
   "metadata": {
    "colab_type": "text",
    "id": "KOFA2ntcZBiy"
   },
   "source": [
    "Note that this time we've checked the NumPy `dtype` rather than the Python variable type. These two arrays contain floating point numbers (\"floats\") with 32 bits of precision.\n",
    "\n",
    "The basic picture is coming together:\n",
    "- `spike_times` is 1D, its entries are NumPy arrays, and its length is the number of neurons (734): by indexing it, we select a subset of neurons. \n",
    "- An array in `spike_times` is also 1D and corresponds to a single neuron; its entries are floating point numbers, and its length is the number of spikes attributed to that neuron. By indexing it, we select a subset of spike times for that neuron. \n",
    "\n",
    "Visually, you can think of the data structure as looking something like this:\n",
    "\n",
    "```\n",
    "| . . . . . |\n",
    "| . . . . . . . . |\n",
    "| . . . |\n",
    "| . . . . . . . |\n",
    "```\n",
    "\n",
    "Before moving on, we'll calculate and store the number of neurons in the dataset and the number of spikes per neuron:"
   ]
  },
  {
   "cell_type": "code",
   "execution_count": 10,
   "metadata": {
    "colab": {
     "base_uri": "https://localhost:8080/",
     "height": 51
    },
    "colab_type": "code",
    "executionInfo": {
     "elapsed": 648,
     "status": "ok",
     "timestamp": 1594628476074,
     "user": {
      "displayName": "Evgenii Tretiakov",
      "photoUrl": "https://lh3.googleusercontent.com/a-/AOh14Ggu3c2KuDxkCviEiF6RedytMTB3sHW4G95B3lqboQ=s64",
      "userId": "14040943026517255518"
     },
     "user_tz": -120
    },
    "id": "98RflSLUuIdx",
    "outputId": "9dc6bdef-7468-4895-cc86-63be1fcc5876"
   },
   "outputs": [
    {
     "name": "stdout",
     "output_type": "stream",
     "text": [
      "Number of neurons: 734\n",
      "Number of spikes for first five neurons: [826, 2818, 3953, 646, 1115]\n"
     ]
    }
   ],
   "source": [
    "n_neurons = len(spike_times)\n",
    "total_spikes_per_neuron = [len(spike_times_i) for spike_times_i in spike_times]\n",
    "\n",
    "print(f\"Number of neurons: {n_neurons}\")\n",
    "print(f\"Number of spikes for first five neurons: {total_spikes_per_neuron[:5]}\")"
   ]
  },
  {
   "cell_type": "markdown",
   "metadata": {
    "colab_type": "text",
    "id": "239jckGLuHb5"
   },
   "source": [
    "## Section 1.2: Getting warmer: counting and plotting total spike counts\n",
    "\n",
    "As we've seen, the number of spikes over the entire recording is variable between neurons. More generally, some neurons tend to spike more than others in a given period. Lets explore what the distribution of spiking looks like across all the neurons in the dataset."
   ]
  },
  {
   "cell_type": "markdown",
   "metadata": {
    "colab_type": "text",
    "id": "zblGrgIVQgLk"
   },
   "source": [
    "Are most neurons \"loud\" or \"quiet\", compared to the average? To see, we'll define bins of constant width in terms of total spikes and count the neurons that fall in each bin. This is known as a \"histogram\".\n",
    "\n",
    "You can plot a histogram with the matplotlib function `plt.hist`. If you just need to compute it, you can use the numpy function `np.histogram` instead."
   ]
  },
  {
   "cell_type": "code",
   "execution_count": 11,
   "metadata": {
    "colab": {
     "base_uri": "https://localhost:8080/",
     "height": 431
    },
    "colab_type": "code",
    "executionInfo": {
     "elapsed": 1204,
     "status": "ok",
     "timestamp": 1594628767669,
     "user": {
      "displayName": "Evgenii Tretiakov",
      "photoUrl": "https://lh3.googleusercontent.com/a-/AOh14Ggu3c2KuDxkCviEiF6RedytMTB3sHW4G95B3lqboQ=s64",
      "userId": "14040943026517255518"
     },
     "user_tz": -120
    },
    "id": "jQtz2HtsEiwd",
    "outputId": "170e5f5a-0265-49ad-d720-49d0db526c3f"
   },
   "outputs": [
    {
     "data": {
      "image/png": "[encoded data removed]",
      "text/plain": [
       "<Figure size 640x480 with 1 Axes>"
      ]
     },
     "metadata": {
      "image/png": {
       "height": 432,
       "width": 571
      }
     },
     "output_type": "display_data"
    }
   ],
   "source": [
    "plt.hist(total_spikes_per_neuron, bins=50)\n",
    "plt.xlabel(\"Total spikes per neuron\")\n",
    "plt.ylabel(\"Number of neurons\");"
   ]
  },
  {
   "cell_type": "markdown",
   "metadata": {
    "colab_type": "text",
    "id": "vrp7PWtZeG-H"
   },
   "source": [
    "Let's see what percentage of neurons have a below-average spike count:"
   ]
  },
  {
   "cell_type": "code",
   "execution_count": 12,
   "metadata": {
    "colab": {
     "base_uri": "https://localhost:8080/",
     "height": 34
    },
    "colab_type": "code",
    "executionInfo": {
     "elapsed": 794,
     "status": "ok",
     "timestamp": 1594628788818,
     "user": {
      "displayName": "Evgenii Tretiakov",
      "photoUrl": "https://lh3.googleusercontent.com/a-/AOh14Ggu3c2KuDxkCviEiF6RedytMTB3sHW4G95B3lqboQ=s64",
      "userId": "14040943026517255518"
     },
     "user_tz": -120
    },
    "id": "yWcnId0_FHb2",
    "outputId": "2b510319-6bf3-4b3f-fc55-4805db306835"
   },
   "outputs": [
    {
     "name": "stdout",
     "output_type": "stream",
     "text": [
      "68.0% of neurons are below the mean\n"
     ]
    }
   ],
   "source": [
    "mean_spike_count = np.mean(total_spikes_per_neuron)\n",
    "frac_below_mean = (total_spikes_per_neuron < mean_spike_count).mean()\n",
    "print(f\"{frac_below_mean:2.1%} of neurons are below the mean\")"
   ]
  },
  {
   "cell_type": "markdown",
   "metadata": {
    "colab_type": "text",
    "id": "_OH6T-ikImSJ"
   },
   "source": [
    "We can also see this by adding the average spike count to the histogram plot:"
   ]
  },
  {
   "cell_type": "code",
   "execution_count": 13,
   "metadata": {
    "colab": {
     "base_uri": "https://localhost:8080/",
     "height": 431
    },
    "colab_type": "code",
    "executionInfo": {
     "elapsed": 980,
     "status": "ok",
     "timestamp": 1594628843796,
     "user": {
      "displayName": "Evgenii Tretiakov",
      "photoUrl": "https://lh3.googleusercontent.com/a-/AOh14Ggu3c2KuDxkCviEiF6RedytMTB3sHW4G95B3lqboQ=s64",
      "userId": "14040943026517255518"
     },
     "user_tz": -120
    },
    "id": "r80VSqHuIx26",
    "outputId": "0e496e00-6270-4b53-b47e-557e4a8e1ba3"
   },
   "outputs": [
    {
     "data": {
      "image/png": "[encoded data removed]",
      "text/plain": [
       "<Figure size 640x480 with 1 Axes>"
      ]
     },
     "metadata": {
      "image/png": {
       "height": 432,
       "width": 571
      }
     },
     "output_type": "display_data"
    }
   ],
   "source": [
    "plt.hist(total_spikes_per_neuron, bins=50)\n",
    "plt.xlabel(\"Total spikes per neuron\")\n",
    "plt.ylabel(\"Number of neurons\")\n",
    "plt.axvline(mean_spike_count, color=\"orange\", label=\"Mean neuron\")\n",
    "plt.legend();"
   ]
  },
  {
   "cell_type": "markdown",
   "metadata": {
    "colab_type": "text",
    "id": "qwcMvOddf8lm"
   },
   "source": [
    "This shows that the majority of neurons are relatively \"quiet\" compared to the mean, while a small number of neurons are exceptionally \"loud\": they must have spiked more often to reach a large count.\n",
    "\n",
    "### Exercise 1: Comparing mean and median neurons\n",
    "\n",
    "If the mean neuron is more active than 68% of the population, what does that imply about the relationship between the mean neuron and the median neuron?\n",
    "\n",
    "*Exercise objective:* Reproduce the plot above, but add the median neuron.\n"
   ]
  },
  {
   "cell_type": "code",
   "execution_count": 14,
   "metadata": {
    "colab": {
     "base_uri": "https://localhost:8080/",
     "height": 448
    },
    "colab_type": "code",
    "executionInfo": {
     "elapsed": 1359,
     "status": "ok",
     "timestamp": 1594628992922,
     "user": {
      "displayName": "Evgenii Tretiakov",
      "photoUrl": "https://lh3.googleusercontent.com/a-/AOh14Ggu3c2KuDxkCviEiF6RedytMTB3sHW4G95B3lqboQ=s64",
      "userId": "14040943026517255518"
     },
     "user_tz": -120
    },
    "id": "xITqNSatw7pP",
    "outputId": "7f407cbb-ffd4-4383-9ace-a0fd2f3183a3"
   },
   "outputs": [
    {
     "data": {
      "text/plain": [
       "<matplotlib.legend.Legend at 0x11afe2cd0>"
      ]
     },
     "execution_count": 14,
     "metadata": {},
     "output_type": "execute_result"
    },
    {
     "data": {
      "image/png": "[encoded data removed]",
      "text/plain": [
       "<Figure size 640x480 with 1 Axes>"
      ]
     },
     "metadata": {
      "image/png": {
       "height": 432,
       "width": 571
      }
     },
     "output_type": "display_data"
    }
   ],
   "source": [
    "# To complete the exercise, fill in the missing parts (...) and uncomment the code\n",
    "\n",
    "median_spike_count = np.median(total_spikes_per_neuron)  # Hint: Try the function np.median\n",
    "\n",
    "plt.hist(total_spikes_per_neuron, bins=50)\n",
    "plt.axvline(median_spike_count, color=\"limegreen\", label=\"Median neuron\")\n",
    "plt.axvline(mean_spike_count, color=\"orange\", label=\"Mean neuron\")\n",
    "plt.xlabel(\"Total spikes per neuron\")\n",
    "plt.ylabel(\"Number of neurons\")\n",
    "plt.legend()"
   ]
  },
  {
   "cell_type": "markdown",
   "metadata": {
    "colab_type": "text",
    "id": "dAilqW_Bxuk6"
   },
   "source": [
    "\n",
    "*Bonus:* The median is the 50th percentile. What about other percentiles? Can you show the interquartile range on the histogram?"
   ]
  },
  {
   "cell_type": "markdown",
   "metadata": {
    "colab_type": "text",
    "id": "qupPEXRjrsfi"
   },
   "source": [
    "---\n",
    "\n",
    "# Section 2: Visualizing neuronal spiking activity"
   ]
  },
  {
   "cell_type": "markdown",
   "metadata": {
    "colab_type": "text",
    "id": "9ytWqlqIs95u"
   },
   "source": [
    "## Section 2.1: Getting a subset of the data\n",
    "\n",
    "Now we'll visualize trains of spikes. Because the recordings are long, we will first define a short time interval and restrict the visualization to only the spikes in this interval. We defined a utility function, `restrict_spike_times`, to do this for you. If you call `help()` on the function, it will tell you a little bit about itself:"
   ]
  },
  {
   "cell_type": "code",
   "execution_count": 15,
   "metadata": {
    "colab": {
     "base_uri": "https://localhost:8080/",
     "height": 238
    },
    "colab_type": "code",
    "executionInfo": {
     "elapsed": 624,
     "status": "ok",
     "timestamp": 1594629064223,
     "user": {
      "displayName": "Evgenii Tretiakov",
      "photoUrl": "https://lh3.googleusercontent.com/a-/AOh14Ggu3c2KuDxkCviEiF6RedytMTB3sHW4G95B3lqboQ=s64",
      "userId": "14040943026517255518"
     },
     "user_tz": -120
    },
    "id": "F7EeTMtLguVy",
    "outputId": "eaefd0be-70c2-4bda-e5c7-1dc732f0761b"
   },
   "outputs": [
    {
     "name": "stdout",
     "output_type": "stream",
     "text": [
      "Help on function restrict_spike_times in module __main__:\n",
      "\n",
      "restrict_spike_times(spike_times, interval)\n",
      "    Given a spike_time dataset, restrict to spikes within given interval.\n",
      "    \n",
      "    Args:\n",
      "      spike_times (sequence of np.ndarray): List or array of arrays,\n",
      "        each inner array has spike times for a single neuron.\n",
      "      interval (tuple): Min, max time values; keep min <= t < max.\n",
      "    \n",
      "    Returns:\n",
      "      np.ndarray: like `spike_times`, but only within `interval`\n",
      "\n"
     ]
    }
   ],
   "source": [
    "help(restrict_spike_times)"
   ]
  },
  {
   "cell_type": "code",
   "execution_count": 16,
   "metadata": {
    "colab": {},
    "colab_type": "code",
    "executionInfo": {
     "elapsed": 627,
     "status": "ok",
     "timestamp": 1594629068973,
     "user": {
      "displayName": "Evgenii Tretiakov",
      "photoUrl": "https://lh3.googleusercontent.com/a-/AOh14Ggu3c2KuDxkCviEiF6RedytMTB3sHW4G95B3lqboQ=s64",
      "userId": "14040943026517255518"
     },
     "user_tz": -120
    },
    "id": "HHw20g3P4fCI"
   },
   "outputs": [],
   "source": [
    "t_interval = (5, 15)  # units are seconds after start of recording\n",
    "interval_spike_times = restrict_spike_times(spike_times, t_interval)"
   ]
  },
  {
   "cell_type": "markdown",
   "metadata": {
    "colab_type": "text",
    "id": "gP_sc8L7zHqg"
   },
   "source": [
    "Is this a representative interval? What fraction of the total spikes fall in this interval?"
   ]
  },
  {
   "cell_type": "code",
   "execution_count": 17,
   "metadata": {
    "colab": {
     "base_uri": "https://localhost:8080/",
     "height": 34
    },
    "colab_type": "code",
    "executionInfo": {
     "elapsed": 666,
     "status": "ok",
     "timestamp": 1594629077876,
     "user": {
      "displayName": "Evgenii Tretiakov",
      "photoUrl": "https://lh3.googleusercontent.com/a-/AOh14Ggu3c2KuDxkCviEiF6RedytMTB3sHW4G95B3lqboQ=s64",
      "userId": "14040943026517255518"
     },
     "user_tz": -120
    },
    "id": "4bA_Twv5fV05",
    "outputId": "8a9b2ee7-dfa6-4c5f-c433-65118d2f18d3"
   },
   "outputs": [
    {
     "name": "stdout",
     "output_type": "stream",
     "text": [
      "0.33% of the total spikes are in the interval\n"
     ]
    }
   ],
   "source": [
    "original_counts = sum([len(spikes) for spikes in spike_times])\n",
    "interval_counts = sum([len(spikes) for spikes in interval_spike_times])\n",
    "frac_interval_spikes = interval_counts / original_counts\n",
    "print(f\"{frac_interval_spikes:.2%} of the total spikes are in the interval\")"
   ]
  },
  {
   "cell_type": "markdown",
   "metadata": {
    "colab_type": "text",
    "id": "HCMu5XGZf_Lk"
   },
   "source": [
    "How does this compare to the ratio between the interval duration and the experiment duration? (What fraction of the total time is in this interval?)\n",
    "\n",
    "We can approximate the experiment duration by taking the minimum and maximum spike time in the whole dataset. To do that, we \"concatenate\" all of the neurons into one array and then use `np.ptp` (\"peak-to-peak\") to get the difference between the maximum and minimum value:"
   ]
  },
  {
   "cell_type": "code",
   "execution_count": 18,
   "metadata": {
    "colab": {
     "base_uri": "https://localhost:8080/",
     "height": 34
    },
    "colab_type": "code",
    "executionInfo": {
     "elapsed": 945,
     "status": "ok",
     "timestamp": 1594629171811,
     "user": {
      "displayName": "Evgenii Tretiakov",
      "photoUrl": "https://lh3.googleusercontent.com/a-/AOh14Ggu3c2KuDxkCviEiF6RedytMTB3sHW4G95B3lqboQ=s64",
      "userId": "14040943026517255518"
     },
     "user_tz": -120
    },
    "id": "zgX397FNj9zG",
    "outputId": "9341c125-6ce2-4b90-b2a8-0c786f1c1364"
   },
   "outputs": [
    {
     "name": "stdout",
     "output_type": "stream",
     "text": [
      "0.37% of the total time is in the interval\n"
     ]
    }
   ],
   "source": [
    "spike_times_flat = np.concatenate(spike_times)\n",
    "experiment_duration = np.ptp(spike_times_flat)\n",
    "interval_duration = t_interval[1] - t_interval[0]\n",
    "\n",
    "frac_interval_time = interval_duration / experiment_duration\n",
    "print(f\"{frac_interval_time:.2%} of the total time is in the interval\")"
   ]
  },
  {
   "cell_type": "markdown",
   "metadata": {
    "colab_type": "text",
    "id": "iOiCg3lIY6JG"
   },
   "source": [
    "These two values—the fraction of total spikes and the fraction of total time—are similar. This suggests the average spike rate of the neuronal population is not very different in this interval compared to the entire recording.\n",
    "\n",
    "## Section 2.2: Plotting spike trains and rasters\n",
    "\n",
    "Now that we have a representative subset, we're ready to plot the spikes, using the matplotlib `plt.eventplot` function. Let's look at a single neuron first:"
   ]
  },
  {
   "cell_type": "code",
   "execution_count": 19,
   "metadata": {
    "colab": {
     "base_uri": "https://localhost:8080/",
     "height": 431
    },
    "colab_type": "code",
    "executionInfo": {
     "elapsed": 599,
     "status": "ok",
     "timestamp": 1594629218543,
     "user": {
      "displayName": "Evgenii Tretiakov",
      "photoUrl": "https://lh3.googleusercontent.com/a-/AOh14Ggu3c2KuDxkCviEiF6RedytMTB3sHW4G95B3lqboQ=s64",
      "userId": "14040943026517255518"
     },
     "user_tz": -120
    },
    "id": "HchIghkaNXKM",
    "outputId": "b3cb91fb-23ef-4aa3-ed85-ddb078d776b0"
   },
   "outputs": [
    {
     "data": {
      "image/png": "[encoded data removed]",
      "text/plain": [
       "<Figure size 640x480 with 1 Axes>"
      ]
     },
     "metadata": {
      "image/png": {
       "height": 432,
       "width": 515
      }
     },
     "output_type": "display_data"
    }
   ],
   "source": [
    "neuron_idx = 1\n",
    "plt.eventplot(interval_spike_times[neuron_idx], color=\".2\")\n",
    "plt.xlabel(\"Time (s)\")\n",
    "plt.yticks([]);"
   ]
  },
  {
   "cell_type": "code",
   "execution_count": null,
   "metadata": {
    "colab": {},
    "colab_type": "code",
    "executionInfo": {
     "elapsed": 668,
     "status": "ok",
     "timestamp": 1594630009878,
     "user": {
      "displayName": "Evgenii Tretiakov",
      "photoUrl": "https://lh3.googleusercontent.com/a-/AOh14Ggu3c2KuDxkCviEiF6RedytMTB3sHW4G95B3lqboQ=s64",
      "userId": "14040943026517255518"
     },
     "user_tz": -120
    },
    "id": "BDdeZdi6Tt27"
   },
   "outputs": [],
   "source": []
  },
  {
   "cell_type": "markdown",
   "metadata": {
    "colab_type": "text",
    "id": "L282dtXQCO6w"
   },
   "source": [
    "We can also plot multiple neurons. Here are three:"
   ]
  },
  {
   "cell_type": "code",
   "execution_count": 20,
   "metadata": {
    "colab": {
     "base_uri": "https://localhost:8080/",
     "height": 430
    },
    "colab_type": "code",
    "executionInfo": {
     "elapsed": 871,
     "status": "ok",
     "timestamp": 1594630019736,
     "user": {
      "displayName": "Evgenii Tretiakov",
      "photoUrl": "https://lh3.googleusercontent.com/a-/AOh14Ggu3c2KuDxkCviEiF6RedytMTB3sHW4G95B3lqboQ=s64",
      "userId": "14040943026517255518"
     },
     "user_tz": -120
    },
    "id": "m6c_Yd_7yEPp",
    "outputId": "0b837732-0064-4571-b016-c25b4965689d"
   },
   "outputs": [
    {
     "data": {
      "image/png": "[encoded data removed]",
      "text/plain": [
       "<Figure size 640x480 with 1 Axes>"
      ]
     },
     "metadata": {
      "image/png": {
       "height": 432,
       "width": 515
      }
     },
     "output_type": "display_data"
    }
   ],
   "source": [
    "neuron_idx = [1, 11, 51]\n",
    "plt.eventplot(interval_spike_times[neuron_idx], color=\".2\")\n",
    "plt.xlabel(\"Time (s)\")\n",
    "plt.yticks([]);"
   ]
  },
  {
   "cell_type": "markdown",
   "metadata": {
    "colab_type": "text",
    "id": "1NJdg_TjyB9_"
   },
   "source": [
    "This makes a \"raster\" plot, where the spikes from each neuron appear in a different row.\n",
    "\n",
    "Plotting a large number of neurons can give you a sense for the characteristics in the population. Let's show every 5th neuron that was recorded:"
   ]
  },
  {
   "cell_type": "code",
   "execution_count": 21,
   "metadata": {
    "colab": {
     "base_uri": "https://localhost:8080/",
     "height": 430
    },
    "colab_type": "code",
    "executionInfo": {
     "elapsed": 1277,
     "status": "ok",
     "timestamp": 1594630041645,
     "user": {
      "displayName": "Evgenii Tretiakov",
      "photoUrl": "https://lh3.googleusercontent.com/a-/AOh14Ggu3c2KuDxkCviEiF6RedytMTB3sHW4G95B3lqboQ=s64",
      "userId": "14040943026517255518"
     },
     "user_tz": -120
    },
    "id": "_b_wMUPmiPiS",
    "outputId": "55c4048d-dfce-492d-d475-13f9f36a9d45"
   },
   "outputs": [
    {
     "data": {
      "image/png": "[encoded data removed]",
      "text/plain": [
       "<Figure size 640x480 with 1 Axes>"
      ]
     },
     "metadata": {
      "image/png": {
       "height": 432,
       "width": 515
      }
     },
     "output_type": "display_data"
    }
   ],
   "source": [
    "neuron_idx = np.arange(0, len(spike_times), 5)\n",
    "plt.eventplot(interval_spike_times[neuron_idx], color=\".2\")\n",
    "plt.xlabel(\"Time (s)\")\n",
    "plt.yticks([]);"
   ]
  },
  {
   "cell_type": "markdown",
   "metadata": {
    "colab_type": "text",
    "id": "YDWveM6NjaBG"
   },
   "source": [
    "*Question*: How does the information in this plot relate to the histogram of total spike counts that you saw above?"
   ]
  },
  {
   "cell_type": "markdown",
   "metadata": {
    "colab_type": "text",
    "id": "KO4SaTXByZly"
   },
   "source": [
    "---\n",
    "\n",
    "# Section 3: Inter-spike intervals and their distributions"
   ]
  },
  {
   "cell_type": "markdown",
   "metadata": {
    "colab_type": "text",
    "id": "Pks6reFdeatu"
   },
   "source": [
    "Given the ordered arrays of spike times for each neuron in `spike_times`, which we've just visualized, what can we ask next? \n",
    "\n",
    "Scientific questions are informed by existing models. So, what knowledge do we already have that can inform questions about this data?\n",
    "\n",
    "We know that there are physical constraints on neuron spiking. Spiking costs energy, which the neuron's cellular machinery can only obtain at a finite rate. Therefore neurons should have a refractory period: they can only fire as quickly as their metabolic processes can support, and there is a minimum delay between consecutive spikes of the same neuron.\n",
    "\n",
    "More generally, we can ask \"how long does a neuron wait to spike again?\" or \"what is the longest a neuron will wait?\" Can we transform spike times into something else, to address questions like these more directly?\n",
    "\n",
    "We can consider the inter-spike times (or interspike intervals: ISIs). These are simply the time differences between consecutive spikes of the same neuron.\n",
    "\n",
    "### Exercise 2: Plot the distribution of ISIs for a single neuron\n",
    "\n",
    "*Exercise objective:* make a histogram, like we did for spike counts, to show the distribution of ISIs for one of the neurons in the dataset.\n",
    "\n",
    "Do this in three steps:\n",
    "\n",
    "1. Extract the spike times for one of the neurons\n",
    "2. Compute the ISIs (the amount of time between spikes, or equivalently, the difference between adjacent spike times)\n",
    "3. Plot a histogram with the array of individual ISIs"
   ]
  },
  {
   "cell_type": "code",
   "execution_count": 22,
   "metadata": {
    "colab": {
     "base_uri": "https://localhost:8080/",
     "height": 430
    },
    "colab_type": "code",
    "executionInfo": {
     "elapsed": 1090,
     "status": "ok",
     "timestamp": 1594631317234,
     "user": {
      "displayName": "Evgenii Tretiakov",
      "photoUrl": "https://lh3.googleusercontent.com/a-/AOh14Ggu3c2KuDxkCviEiF6RedytMTB3sHW4G95B3lqboQ=s64",
      "userId": "14040943026517255518"
     },
     "user_tz": -120
    },
    "id": "51CSFx6IiRhd",
    "outputId": "2c1cb9f8-948f-4f0b-991e-df2d9c8c2ec4"
   },
   "outputs": [
    {
     "data": {
      "image/png": "[encoded data removed]",
      "text/plain": [
       "<Figure size 640x480 with 1 Axes>"
      ]
     },
     "metadata": {
      "image/png": {
       "height": 432,
       "width": 589
      }
     },
     "output_type": "display_data"
    }
   ],
   "source": [
    "def compute_single_neuron_isis(spike_times, neuron_idx):\n",
    "  \"\"\"Compute a vector of ISIs for a single neuron given spike times.\n",
    "\n",
    "  Args:\n",
    "    spike_times (list of 1D arrays): Spike time dataset, with the first\n",
    "      dimension corresponding to different neurons.\n",
    "    neuron_idx (int): Index of the unit to compute ISIs for.\n",
    "\n",
    "  Returns:\n",
    "    isis (1D array): Duration of time between each spike from one neuron.\n",
    "  \"\"\"\n",
    "  #############################################################################\n",
    "  # Students: Fill in missing code (...) and comment or remove the next line\n",
    "  # raise NotImplementedError(\"Exercise: compute single neuron ISIs\")\n",
    "  #############################################################################\n",
    "\n",
    "  # Extract the spike times for the specified neuron\n",
    "  single_neuron_spikes = spike_times[neuron_idx]\n",
    "\n",
    "  # Compute the ISIs for this set of spikes\n",
    "  # Hint: the function np.diff computes discrete differences along an array\n",
    "  isis = np.diff(single_neuron_spikes)\n",
    "\n",
    "  return isis\n",
    "\n",
    "# Uncomment the following lines when you are ready to test your function\n",
    "single_neuron_isis = compute_single_neuron_isis(spike_times, neuron_idx=283)\n",
    "plt.hist(single_neuron_isis, bins=50, histtype=\"stepfilled\")\n",
    "plt.axvline(single_neuron_isis.mean(), color=\"orange\", label=\"Mean ISI\")\n",
    "plt.xlabel(\"ISI duration (s)\")\n",
    "plt.ylabel(\"Number of spikes\")\n",
    "plt.legend()\n",
    "plt.show()"
   ]
  },
  {
   "cell_type": "markdown",
   "metadata": {
    "colab_type": "text",
    "id": "W8GmZDFV6JjP"
   },
   "source": [
    "---\n",
    "\n",
    "In general, the shorter ISIs are predominant, with counts decreasing rapidly (and smoothly, more or less) with increasing ISI. However, counts also rapidly decrease to zero with _decreasing_ ISI, below the maximum of the distribution (8-11 ms). The absence of these very low ISIs agrees with the refractory period hypothesis: the neuron cannot fire quickly enough to populate this region of the ISI distribution.\n",
    "\n",
    "Check the distributions of some other neurons. To resolve various features of the distributions, you might need to play with the value of `n_bins`. Using too few bins might smooth over interesting details, but if you use too many bins, the random variability will start to dominate.\n",
    "\n",
    "You might also want to restrict the range to see the shape of the distribution when focusing on relatively short or long ISIs. *Hint:* the third argument to `plt.hist` sets the interval to define bins over."
   ]
  },
  {
   "cell_type": "markdown",
   "metadata": {
    "colab_type": "text",
    "id": "bns9w278zVx6"
   },
   "source": [
    "---\n",
    "\n",
    "# Section 4: What is the functional form of an ISI distribution?"
   ]
  },
  {
   "cell_type": "markdown",
   "metadata": {
    "colab_type": "text",
    "id": "AxGOkl-AfvFs"
   },
   "source": [
    "The ISI histograms seem to follow continuous, monotonically decreasing functions above their maxima. The function is clearly non-linear. Could it belong to a single family of functions?\n",
    "\n",
    "To motivate the idea of using a mathematical function to explain physiological phenomena, let's define a few different function forms that we might expect the relationship to follow: exponential, inverse, and linear."
   ]
  },
  {
   "cell_type": "code",
   "execution_count": 23,
   "metadata": {
    "colab": {},
    "colab_type": "code",
    "executionInfo": {
     "elapsed": 622,
     "status": "ok",
     "timestamp": 1594632176398,
     "user": {
      "displayName": "Evgenii Tretiakov",
      "photoUrl": "https://lh3.googleusercontent.com/a-/AOh14Ggu3c2KuDxkCviEiF6RedytMTB3sHW4G95B3lqboQ=s64",
      "userId": "14040943026517255518"
     },
     "user_tz": -120
    },
    "id": "uaJcbGPv-1AX"
   },
   "outputs": [],
   "source": [
    "def exponential(xs, scale, rate, x0):\n",
    "  \"\"\"A simple parametrized exponential function, applied element-wise.\n",
    "\n",
    "  Args:\n",
    "    xs (np.ndarray or float): Input(s) to the function.\n",
    "    scale (float): Linear scaling factor.\n",
    "    rate (float): Exponential growth (positive) or decay (negative) rate.\n",
    "    x0 (float): Horizontal offset.\n",
    "\n",
    "  \"\"\"\n",
    "  ys = scale * np.exp(rate * (xs - x0))\n",
    "  return ys\n",
    "\n",
    "def inverse(xs, scale, x0):\n",
    "  \"\"\"A simple parametrized inverse function (`1/x`), applied element-wise.\n",
    "\n",
    "  Args:\n",
    "    xs (np.ndarray or float): Input(s) to the function.\n",
    "    scale (float): Linear scaling factor.\n",
    "    x0 (float): Horizontal offset.\n",
    "\n",
    "  \"\"\"\n",
    "  ys = scale / (xs - x0)\n",
    "  return ys\n",
    "\n",
    "def linear(xs, slope, y0):\n",
    "  \"\"\"A simple linear function, applied element-wise.\n",
    "\n",
    "  Args:\n",
    "    xs (np.ndarray or float): Input(s) to the function.\n",
    "    slope (float): Slope of the line.\n",
    "    y0 (float): y-intercept of the line.\n",
    "\n",
    "  \"\"\"\n",
    "  ys = slope * xs + y0\n",
    "  return ys"
   ]
  },
  {
   "cell_type": "markdown",
   "metadata": {
    "colab_type": "text",
    "id": "AQbn-rpageDC"
   },
   "source": [
    "### Interactive Demo: ISI functions explorer\n",
    "\n",
    "Here is an interactive demo where you can vary the parameters of these functions and see how well the resulting outputs correspond to the data. Adjust the parameters by moving the sliders and see how close you can get the lines to follow the falling curve of the histogram. This will give you a taste of what you're trying to do when you *fit a model* to data.\n",
    "\n",
    "\"Interactive demo\" cells have hidden code that defines an interface where you can play with the parameters of some function using sliders. You don't need to worry about how the code works – but you do need to **run the cell** to enable the sliders.\n"
   ]
  },
  {
   "cell_type": "code",
   "execution_count": 25,
   "metadata": {
    "cellView": "form",
    "colab": {
     "base_uri": "https://localhost:8080/",
     "height": 654,
     "referenced_widgets": [
      "4f2a3d9cab764453ac605b41f1b7e54e",
      "96665b69c8e5411a9d1210a66e3f88ca",
      "f6d7ae314c574863bbc22107e685c025",
      "284c8c5ecbac4360b469276d893234fc",
      "50325d0d3b20454b8efa3c26b2d29b90",
      "09ea6e063c234f458b4254e22572533e",
      "7cdbd91c2e5d4cce976a0f177c036adb",
      "5586f87ba5a446e8a88ca82fa1564501",
      "a84730c9e0c24e82bee4322a5e9ae0de",
      "7e47ab895d4f4837a22be4b4f730aa32",
      "92ba8f075e194605b36da11dd3eaf333",
      "4b5128f28ea74899beb0b4fd1edb4ee0",
      "b7edddfe469c44a0bd55d02a77835466",
      "5037e2db83bd48209d2a921c4396f321",
      "009f27f91ec645fca128a49db99a82b5",
      "e8c07b2075d1443fb9544a3af53435cc",
      "e6d1f7cda68b4a33ada857021f7cee15",
      "d12c6f6d4b544784afdbb383c401e913",
      "f8b812486cae4bc5966b61f974bef3d9",
      "7b801fb883b14f0eafc71c8548fc28a5",
      "e1f45c871923480383653c39918ac53a",
      "71ecb2b1d8f645229166ffe3331fa963",
      "2a2e9b2859c943d7802cd7d5c5b385fb",
      "5eee97e92c174a4fba77f8403caf4e62",
      "5547d58405b342f38b3a432091cb1407"
     ]
    },
    "colab_type": "code",
    "executionInfo": {
     "elapsed": 1214,
     "status": "ok",
     "timestamp": 1594632186260,
     "user": {
      "displayName": "Evgenii Tretiakov",
      "photoUrl": "https://lh3.googleusercontent.com/a-/AOh14Ggu3c2KuDxkCviEiF6RedytMTB3sHW4G95B3lqboQ=s64",
      "userId": "14040943026517255518"
     },
     "user_tz": -120
    },
    "id": "NGIGUXtV9Y9v",
    "outputId": "4444e687-48e4-47e6-cdec-ae0d1360ff75"
   },
   "outputs": [
    {
     "data": {
      "application/vnd.jupyter.widget-view+json": {
       "model_id": "ca22bb3a19364fb590c48e2eebaad32e",
       "version_major": 2,
       "version_minor": 0
      },
      "text/plain": [
       "interactive(children=(FloatSlider(value=1000.0, description='exp_scale', max=20000.0, step=250.0), FloatSlider…"
      ]
     },
     "metadata": {},
     "output_type": "display_data"
    }
   ],
   "source": [
    "#@title\n",
    "\n",
    "#@markdown Be sure to run this cell to enable the demo\n",
    "# Don't worry about understanding this code! It's to setup an interactive plot.\n",
    "single_neuron_idx = 283\n",
    "single_neuron_spikes = spike_times[single_neuron_idx]\n",
    "single_neuron_isis = np.diff(single_neuron_spikes)\n",
    "\n",
    "counts, edges = np.histogram(\n",
    "  single_neuron_isis,\n",
    "  bins=50,\n",
    "  range=(0, single_neuron_isis.max())\n",
    ")\n",
    "\n",
    "functions = dict(\n",
    "  exponential=exponential,\n",
    "  inverse=inverse,\n",
    "  linear=linear,\n",
    ")\n",
    "\n",
    "colors = dict(\n",
    "  exponential=\"C1\",\n",
    "  inverse=\"C2\",\n",
    "  linear=\"C4\",\n",
    ")\n",
    "\n",
    "@widgets.interact(\n",
    "  exp_scale=widgets.FloatSlider(1000, min=0, max=20000, step=250),\n",
    "  exp_rate=widgets.FloatSlider(-10, min=-200, max=50, step=1),\n",
    "  exp_x0=widgets.FloatSlider(0.1, min=-0.5, max=0.5, step=0.005),\n",
    "  inv_scale=widgets.FloatSlider(1000, min=0, max=3e2, step=10),\n",
    "  inv_x0=widgets.FloatSlider(0, min=-0.2, max=0.2, step=0.01),\n",
    "  lin_slope=widgets.FloatSlider(-1e5, min=-6e5, max=1e5, step=10000),\n",
    "  lin_y0=widgets.FloatSlider(10000, min=0, max=4e4, step=1000),\n",
    ")\n",
    "def fit_plot(\n",
    "  exp_scale=1000, exp_rate=-10, exp_x0=0.1,\n",
    "  inv_scale=1000, inv_x0=0,\n",
    "  lin_slope=-1e5, lin_y0=2000,\n",
    "):\n",
    "  \"\"\"Helper function for plotting function fits with interactive sliders.\"\"\"\n",
    "  func_params = dict(\n",
    "    exponential=(exp_scale, exp_rate, exp_x0),\n",
    "    inverse=(inv_scale, inv_x0),\n",
    "    linear=(lin_slope, lin_y0),\n",
    "  )\n",
    "  f, ax = plt.subplots()\n",
    "  ax.fill_between(edges[:-1], counts, step=\"post\", alpha=.5)\n",
    "  xs = np.linspace(1e-10, edges.max())\n",
    "  for name, function in functions.items():\n",
    "    ys = function(xs, *func_params[name])\n",
    "    ax.plot(xs, ys, lw=3, color=colors[name], label=name);\n",
    "  ax.set(\n",
    "      xlim=(edges.min(), edges.max()),\n",
    "      ylim=(0, counts.max() * 1.1),\n",
    "      xlabel=\"ISI (s)\",\n",
    "      ylabel=\"Number of spikes\",\n",
    "  )\n",
    "  ax.legend()"
   ]
  },
  {
   "cell_type": "markdown",
   "metadata": {
    "colab_type": "text",
    "id": "rI0h02Scdt6g"
   },
   "source": [
    "# Summary\n",
    "\n",
    "In this tutorial, we loaded some neural data and poked at it to understand how the dataset is organized. Then we made some basic plots to visualize (1) the average level of activity across the population and (2) the distribution of ISIs for an individual neuron. In the very last bit, we started to think about using mathematical formalisms to understand or explain some physiological phenomenon. All of this only allowed us to understand \"What\" the data looks like.\n",
    "\n",
    "This is the first step towards developing models that can tell us something about the brain. That's what we'll focus on in the next two tutorials."
   ]
  }
 ],
 "metadata": {
  "colab": {
   "collapsed_sections": [],
   "name": "Copy of NeuromatchAcademy_W1D1_Tutorial1",
   "provenance": [
    {
     "file_id": "https://github.com/NeuromatchAcademy/course-content/blob/master/tutorials/W1D1_ModelTypes/student/W1D1_Tutorial1.ipynb",
     "timestamp": 1594627592210
    }
   ],
   "toc_visible": true
  },
  "kernelspec": {
   "display_name": "Python 3 (ipykernel)",
   "language": "python",
   "name": "python3"
  },
  "language_info": {
   "codemirror_mode": {
    "name": "ipython",
    "version": 3
   },
   "file_extension": ".py",
   "mimetype": "text/x-python",
   "name": "python",
   "nbconvert_exporter": "python",
   "pygments_lexer": "ipython3",
   "version": "3.9.6"
  },
  "widgets": {
   "application/vnd.jupyter.widget-state+json": {
    "009f27f91ec645fca128a49db99a82b5": {
     "model_module": "@jupyter-widgets/controls",
     "model_name": "SliderStyleModel",
     "state": {
      "_model_module": "@jupyter-widgets/controls",
      "_model_module_version": "1.5.0",
      "_model_name": "SliderStyleModel",
      "_view_count": null,
      "_view_module": "@jupyter-widgets/base",
      "_view_module_version": "1.2.0",
      "_view_name": "StyleView",
      "description_width": "",
      "handle_color": null
     }
    },
    "09ea6e063c234f458b4254e22572533e": {
     "model_module": "@jupyter-widgets/controls",
     "model_name": "FloatSliderModel",
     "state": {
      "_dom_classes": [],
      "_model_module": "@jupyter-widgets/controls",
      "_model_module_version": "1.5.0",
      "_model_name": "FloatSliderModel",
      "_view_count": null,
      "_view_module": "@jupyter-widgets/controls",
      "_view_module_version": "1.5.0",
      "_view_name": "FloatSliderView",
      "continuous_update": true,
      "description": "inv_scale",
      "description_tooltip": null,
      "disabled": false,
      "layout": "IPY_MODEL_d12c6f6d4b544784afdbb383c401e913",
      "max": 300,
      "min": 0,
      "orientation": "horizontal",
      "readout": true,
      "readout_format": ".2f",
      "step": 10,
      "style": "IPY_MODEL_e6d1f7cda68b4a33ada857021f7cee15",
      "value": 300
     }
    },
    "284c8c5ecbac4360b469276d893234fc": {
     "model_module": "@jupyter-widgets/controls",
     "model_name": "FloatSliderModel",
     "state": {
      "_dom_classes": [],
      "_model_module": "@jupyter-widgets/controls",
      "_model_module_version": "1.5.0",
      "_model_name": "FloatSliderModel",
      "_view_count": null,
      "_view_module": "@jupyter-widgets/controls",
      "_view_module_version": "1.5.0",
      "_view_name": "FloatSliderView",
      "continuous_update": true,
      "description": "exp_rate",
      "description_tooltip": null,
      "disabled": false,
      "layout": "IPY_MODEL_5037e2db83bd48209d2a921c4396f321",
      "max": 50,
      "min": -200,
      "orientation": "horizontal",
      "readout": true,
      "readout_format": ".2f",
      "step": 1,
      "style": "IPY_MODEL_b7edddfe469c44a0bd55d02a77835466",
      "value": -10
     }
    },
    "2a2e9b2859c943d7802cd7d5c5b385fb": {
     "model_module": "@jupyter-widgets/controls",
     "model_name": "SliderStyleModel",
     "state": {
      "_model_module": "@jupyter-widgets/controls",
      "_model_module_version": "1.5.0",
      "_model_name": "SliderStyleModel",
      "_view_count": null,
      "_view_module": "@jupyter-widgets/base",
      "_view_module_version": "1.2.0",
      "_view_name": "StyleView",
      "description_width": "",
      "handle_color": null
     }
    },
    "4b5128f28ea74899beb0b4fd1edb4ee0": {
     "model_module": "@jupyter-widgets/base",
     "model_name": "LayoutModel",
     "state": {
      "_model_module": "@jupyter-widgets/base",
      "_model_module_version": "1.2.0",
      "_model_name": "LayoutModel",
      "_view_count": null,
      "_view_module": "@jupyter-widgets/base",
      "_view_module_version": "1.2.0",
      "_view_name": "LayoutView",
      "align_content": null,
      "align_items": null,
      "align_self": null,
      "border": null,
      "bottom": null,
      "display": null,
      "flex": null,
      "flex_flow": null,
      "grid_area": null,
      "grid_auto_columns": null,
      "grid_auto_flow": null,
      "grid_auto_rows": null,
      "grid_column": null,
      "grid_gap": null,
      "grid_row": null,
      "grid_template_areas": null,
      "grid_template_columns": null,
      "grid_template_rows": null,
      "height": null,
      "justify_content": null,
      "justify_items": null,
      "left": null,
      "margin": null,
      "max_height": null,
      "max_width": null,
      "min_height": null,
      "min_width": null,
      "object_fit": null,
      "object_position": null,
      "order": null,
      "overflow": null,
      "overflow_x": null,
      "overflow_y": null,
      "padding": null,
      "right": null,
      "top": null,
      "visibility": null,
      "width": null
     }
    },
    "4f2a3d9cab764453ac605b41f1b7e54e": {
     "model_module": "@jupyter-widgets/controls",
     "model_name": "VBoxModel",
     "state": {
      "_dom_classes": [
       "widget-interact"
      ],
      "_model_module": "@jupyter-widgets/controls",
      "_model_module_version": "1.5.0",
      "_model_name": "VBoxModel",
      "_view_count": null,
      "_view_module": "@jupyter-widgets/controls",
      "_view_module_version": "1.5.0",
      "_view_name": "VBoxView",
      "box_style": "",
      "children": [
       "IPY_MODEL_f6d7ae314c574863bbc22107e685c025",
       "IPY_MODEL_284c8c5ecbac4360b469276d893234fc",
       "IPY_MODEL_50325d0d3b20454b8efa3c26b2d29b90",
       "IPY_MODEL_09ea6e063c234f458b4254e22572533e",
       "IPY_MODEL_7cdbd91c2e5d4cce976a0f177c036adb",
       "IPY_MODEL_5586f87ba5a446e8a88ca82fa1564501",
       "IPY_MODEL_a84730c9e0c24e82bee4322a5e9ae0de",
       "IPY_MODEL_7e47ab895d4f4837a22be4b4f730aa32"
      ],
      "layout": "IPY_MODEL_96665b69c8e5411a9d1210a66e3f88ca"
     }
    },
    "50325d0d3b20454b8efa3c26b2d29b90": {
     "model_module": "@jupyter-widgets/controls",
     "model_name": "FloatSliderModel",
     "state": {
      "_dom_classes": [],
      "_model_module": "@jupyter-widgets/controls",
      "_model_module_version": "1.5.0",
      "_model_name": "FloatSliderModel",
      "_view_count": null,
      "_view_module": "@jupyter-widgets/controls",
      "_view_module_version": "1.5.0",
      "_view_name": "FloatSliderView",
      "continuous_update": true,
      "description": "exp_x0",
      "description_tooltip": null,
      "disabled": false,
      "layout": "IPY_MODEL_e8c07b2075d1443fb9544a3af53435cc",
      "max": 0.5,
      "min": -0.5,
      "orientation": "horizontal",
      "readout": true,
      "readout_format": ".2f",
      "step": 0.005,
      "style": "IPY_MODEL_009f27f91ec645fca128a49db99a82b5",
      "value": 0.1
     }
    },
    "5037e2db83bd48209d2a921c4396f321": {
     "model_module": "@jupyter-widgets/base",
     "model_name": "LayoutModel",
     "state": {
      "_model_module": "@jupyter-widgets/base",
      "_model_module_version": "1.2.0",
      "_model_name": "LayoutModel",
      "_view_count": null,
      "_view_module": "@jupyter-widgets/base",
      "_view_module_version": "1.2.0",
      "_view_name": "LayoutView",
      "align_content": null,
      "align_items": null,
      "align_self": null,
      "border": null,
      "bottom": null,
      "display": null,
      "flex": null,
      "flex_flow": null,
      "grid_area": null,
      "grid_auto_columns": null,
      "grid_auto_flow": null,
      "grid_auto_rows": null,
      "grid_column": null,
      "grid_gap": null,
      "grid_row": null,
      "grid_template_areas": null,
      "grid_template_columns": null,
      "grid_template_rows": null,
      "height": null,
      "justify_content": null,
      "justify_items": null,
      "left": null,
      "margin": null,
      "max_height": null,
      "max_width": null,
      "min_height": null,
      "min_width": null,
      "object_fit": null,
      "object_position": null,
      "order": null,
      "overflow": null,
      "overflow_x": null,
      "overflow_y": null,
      "padding": null,
      "right": null,
      "top": null,
      "visibility": null,
      "width": null
     }
    },
    "5547d58405b342f38b3a432091cb1407": {
     "model_module": "@jupyter-widgets/base",
     "model_name": "LayoutModel",
     "state": {
      "_model_module": "@jupyter-widgets/base",
      "_model_module_version": "1.2.0",
      "_model_name": "LayoutModel",
      "_view_count": null,
      "_view_module": "@jupyter-widgets/base",
      "_view_module_version": "1.2.0",
      "_view_name": "LayoutView",
      "align_content": null,
      "align_items": null,
      "align_self": null,
      "border": null,
      "bottom": null,
      "display": null,
      "flex": null,
      "flex_flow": null,
      "grid_area": null,
      "grid_auto_columns": null,
      "grid_auto_flow": null,
      "grid_auto_rows": null,
      "grid_column": null,
      "grid_gap": null,
      "grid_row": null,
      "grid_template_areas": null,
      "grid_template_columns": null,
      "grid_template_rows": null,
      "height": null,
      "justify_content": null,
      "justify_items": null,
      "left": null,
      "margin": null,
      "max_height": null,
      "max_width": null,
      "min_height": null,
      "min_width": null,
      "object_fit": null,
      "object_position": null,
      "order": null,
      "overflow": null,
      "overflow_x": null,
      "overflow_y": null,
      "padding": null,
      "right": null,
      "top": null,
      "visibility": null,
      "width": null
     }
    },
    "5586f87ba5a446e8a88ca82fa1564501": {
     "model_module": "@jupyter-widgets/controls",
     "model_name": "FloatSliderModel",
     "state": {
      "_dom_classes": [],
      "_model_module": "@jupyter-widgets/controls",
      "_model_module_version": "1.5.0",
      "_model_name": "FloatSliderModel",
      "_view_count": null,
      "_view_module": "@jupyter-widgets/controls",
      "_view_module_version": "1.5.0",
      "_view_name": "FloatSliderView",
      "continuous_update": true,
      "description": "lin_slope",
      "description_tooltip": null,
      "disabled": false,
      "layout": "IPY_MODEL_71ecb2b1d8f645229166ffe3331fa963",
      "max": 100000,
      "min": -600000,
      "orientation": "horizontal",
      "readout": true,
      "readout_format": ".2f",
      "step": 10000,
      "style": "IPY_MODEL_e1f45c871923480383653c39918ac53a",
      "value": -100000
     }
    },
    "5eee97e92c174a4fba77f8403caf4e62": {
     "model_module": "@jupyter-widgets/base",
     "model_name": "LayoutModel",
     "state": {
      "_model_module": "@jupyter-widgets/base",
      "_model_module_version": "1.2.0",
      "_model_name": "LayoutModel",
      "_view_count": null,
      "_view_module": "@jupyter-widgets/base",
      "_view_module_version": "1.2.0",
      "_view_name": "LayoutView",
      "align_content": null,
      "align_items": null,
      "align_self": null,
      "border": null,
      "bottom": null,
      "display": null,
      "flex": null,
      "flex_flow": null,
      "grid_area": null,
      "grid_auto_columns": null,
      "grid_auto_flow": null,
      "grid_auto_rows": null,
      "grid_column": null,
      "grid_gap": null,
      "grid_row": null,
      "grid_template_areas": null,
      "grid_template_columns": null,
      "grid_template_rows": null,
      "height": null,
      "justify_content": null,
      "justify_items": null,
      "left": null,
      "margin": null,
      "max_height": null,
      "max_width": null,
      "min_height": null,
      "min_width": null,
      "object_fit": null,
      "object_position": null,
      "order": null,
      "overflow": null,
      "overflow_x": null,
      "overflow_y": null,
      "padding": null,
      "right": null,
      "top": null,
      "visibility": null,
      "width": null
     }
    },
    "71ecb2b1d8f645229166ffe3331fa963": {
     "model_module": "@jupyter-widgets/base",
     "model_name": "LayoutModel",
     "state": {
      "_model_module": "@jupyter-widgets/base",
      "_model_module_version": "1.2.0",
      "_model_name": "LayoutModel",
      "_view_count": null,
      "_view_module": "@jupyter-widgets/base",
      "_view_module_version": "1.2.0",
      "_view_name": "LayoutView",
      "align_content": null,
      "align_items": null,
      "align_self": null,
      "border": null,
      "bottom": null,
      "display": null,
      "flex": null,
      "flex_flow": null,
      "grid_area": null,
      "grid_auto_columns": null,
      "grid_auto_flow": null,
      "grid_auto_rows": null,
      "grid_column": null,
      "grid_gap": null,
      "grid_row": null,
      "grid_template_areas": null,
      "grid_template_columns": null,
      "grid_template_rows": null,
      "height": null,
      "justify_content": null,
      "justify_items": null,
      "left": null,
      "margin": null,
      "max_height": null,
      "max_width": null,
      "min_height": null,
      "min_width": null,
      "object_fit": null,
      "object_position": null,
      "order": null,
      "overflow": null,
      "overflow_x": null,
      "overflow_y": null,
      "padding": null,
      "right": null,
      "top": null,
      "visibility": null,
      "width": null
     }
    },
    "7b801fb883b14f0eafc71c8548fc28a5": {
     "model_module": "@jupyter-widgets/base",
     "model_name": "LayoutModel",
     "state": {
      "_model_module": "@jupyter-widgets/base",
      "_model_module_version": "1.2.0",
      "_model_name": "LayoutModel",
      "_view_count": null,
      "_view_module": "@jupyter-widgets/base",
      "_view_module_version": "1.2.0",
      "_view_name": "LayoutView",
      "align_content": null,
      "align_items": null,
      "align_self": null,
      "border": null,
      "bottom": null,
      "display": null,
      "flex": null,
      "flex_flow": null,
      "grid_area": null,
      "grid_auto_columns": null,
      "grid_auto_flow": null,
      "grid_auto_rows": null,
      "grid_column": null,
      "grid_gap": null,
      "grid_row": null,
      "grid_template_areas": null,
      "grid_template_columns": null,
      "grid_template_rows": null,
      "height": null,
      "justify_content": null,
      "justify_items": null,
      "left": null,
      "margin": null,
      "max_height": null,
      "max_width": null,
      "min_height": null,
      "min_width": null,
      "object_fit": null,
      "object_position": null,
      "order": null,
      "overflow": null,
      "overflow_x": null,
      "overflow_y": null,
      "padding": null,
      "right": null,
      "top": null,
      "visibility": null,
      "width": null
     }
    },
    "7cdbd91c2e5d4cce976a0f177c036adb": {
     "model_module": "@jupyter-widgets/controls",
     "model_name": "FloatSliderModel",
     "state": {
      "_dom_classes": [],
      "_model_module": "@jupyter-widgets/controls",
      "_model_module_version": "1.5.0",
      "_model_name": "FloatSliderModel",
      "_view_count": null,
      "_view_module": "@jupyter-widgets/controls",
      "_view_module_version": "1.5.0",
      "_view_name": "FloatSliderView",
      "continuous_update": true,
      "description": "inv_x0",
      "description_tooltip": null,
      "disabled": false,
      "layout": "IPY_MODEL_7b801fb883b14f0eafc71c8548fc28a5",
      "max": 0.2,
      "min": -0.2,
      "orientation": "horizontal",
      "readout": true,
      "readout_format": ".2f",
      "step": 0.01,
      "style": "IPY_MODEL_f8b812486cae4bc5966b61f974bef3d9",
      "value": 0
     }
    },
    "7e47ab895d4f4837a22be4b4f730aa32": {
     "model_module": "@jupyter-widgets/output",
     "model_name": "OutputModel",
     "state": {
      "_dom_classes": [],
      "_model_module": "@jupyter-widgets/output",
      "_model_module_version": "1.0.0",
      "_model_name": "OutputModel",
      "_view_count": null,
      "_view_module": "@jupyter-widgets/output",
      "_view_module_version": "1.0.0",
      "_view_name": "OutputView",
      "layout": "IPY_MODEL_5547d58405b342f38b3a432091cb1407",
      "msg_id": "",
      "outputs": [
       {
        "image/png": "iVBORw0KGgoAAAANSUhEUgAABFwAAAM7CAYAAAB3L4SlAAAABHNCSVQICAgIfAhkiAAAAAlwSFlzAAAWJQAAFiUBSVIk8AAAADh0RVh0U29mdHdhcmUAbWF0cGxvdGxpYiB2ZXJzaW9uMy4yLjIsIGh0dHA6Ly9tYXRwbG90bGliLm9yZy+WH4yJAAAgAElEQVR4nOzdeXxU9b3/8fcne0IyhC0IBARcEVzABb14FQGXulW0bqCIG8L1d9tiK72t1sbqrbd6rba3CoheqUWkAuKKC6IIingrVgUKisoWQNaQPSFkvr8/ZiZkmZMECDOTyev5eMwjc77nfM75ZGqs+eT7/XzNOScAAAAAAAC0nIRoJwAAAAAAABBvKLgAAAAAAAC0MAouAAAAAAAALYyCCwAAAAAAQAuj4AIAAAAAANDCKLgAAAAAAAC0MAouAAAAAAAALYyCCwAAAAAAQAuj4AIAAAAAANDCKLgAAAAAAAC0MAouAAAAAAAALYyCC1qMmT1vZs9HOw8AAAAAAKItKdoJIK4cP2jQoEGSRkU7kVj11JdP6X/+8T8Nxsf2H6ufnfazKGQEAAAAAGiCHUwQM1yACOqQ1iHs+O6K3RHOBAAAAABwOFFwASKoY1rHsOMFFQURzgQAAAAAcDhRcAEiyKvgwgwXAAAAAIgvFFyACGKGCwAAAAC0DRRcgAiihwsAAAAAtA0UXIAIykrOUlJCw83BKqorVFZVFoWMAAAAAACHAwUXIILMTB1T6eMCAAAAAPGOggsQYR3T6eMCAAAAAPGOggsQYR1S6eMCAAAAAPGOggsQYV4zXCi4AAAAAED8oOACRBgzXAAAAAAg/jXcLgXAYdUpvVPYcXq4AAAAtE4VFRUqKipScXGxqqqq5JyLdkoAFNi0JDk5WVlZWfL5fEpLS4vo8ym4ABHGDBcAAID4UVJSovz8fIosQAxyzmnv3r3atWuXdu/erdzcXGVmZkbs+RRcgAjrmObRw6WSggsAAEBrUlFRUVNs8fl86tChg9LS0pSQQOcGIBb4/X5VVFSooKBARUVFys/PV58+fZSamhqR51NwASKsQ5rHDJdyCi4AAACtSVFRUU2xpXv37jKzaKcEoJaEhARlZGQoPT1dUuBntrCwUDk5OZF5fkSeAqBGpzSPHi6V9HABAABoTYqLiyVJHTp0oNgCxDAzU4cOgT98h35uIyFuCy5mlmFmPzCze83sJTPbYGYu+MprJK53reua83o2zD2mNzO20RlGZnaemc0zs61mVmlm+WY2w8wGNfMzuNLM3jaz7WZWYWbrzGyqmR3dnHgcHo3NcGHtLwAAQOtRVVUlSRFvxAngwIV+TkM/t5EQz0uKzpA0/yDiqiVta+KaNEntg+//3sh1FZIKGznv+dt1sCj0m1rXFUnqIWm0pGvNbIJz7mmPWJP0jKSbg0N+SSWSeksaJ+kGM7vaOXcwnw8OUbvkdkpJSNFe/94643v9e1W2r0ztkttFKTMAAAAciNAfy+jZAsS+0Cy0SP6RO97/zVAgaaGkRyRdL+n7pgKcc5ucc0c09pL01+Dl5ZJmNnK7vzVxr+pwQWZ2jfYXW6ZK6uKcy5bUU9LLChTKppjZWR7PvVv7iy33S2rvnGsv6XhJSyVlSHrRzPo09Xmg5ZkZfVwAAAAAIIKisewvngsuS5xzHZ1zI5xzk5xzsyRVHupNzSxNgVkmkjTXObfnUO9Z7/6Jkh4OHr7lnBvvnNslSc65fEnXSlopqfZ1teM7SLo3eDjVOZfnnCsJxn8l6VIFCk/tJP22JXNH87FTEQAAAADEt7gtuHjNHmkBV0oKTU8Iu6TnEJ0r6cjg+4fqn3TO7ZX038HDs8PMUhkpKauR+AJJU4KHV5kZ61eiwLPgwgwXAAAAAIgLcVtwOYxuDX5d65z74DDc//zg12JJH3lc82at9xd4xP/TObehifh0SWcfcIY4ZF5LitipCAAAAADiAwWXA2BmfSWdFzx8phkhw83s6+AOQUVmtsLMHjezYxqJGRD8utprlo5zbrukHcHD/h7xKxt5Ru1z9eMRAZ4zXCqY4QIAAAAA8YCCy4G5RZJJ2ifpL824PldSX0llCjSqHSDpJ5JWmtkEj5juwa+bm7h36Hz3euNNxjvnyiSFes/Ujw/LzJY39VKgKS+awbNpLgUXAAAAAHHCzGRmWrRoUYved+jQoTIz5eXlteh9WxoFl2YKNrMdGzx8wznX2I5Hn0n6fwpsw5zqnOsoySfpKknfSkqR9KSZXRUmNtR/payJlELns+qNH2o8IqBTWqew4zvKdoQdBwAAAIBY8fjjjysvL0+ff/55tFOJaUnRTqAVuUhSj+D7RpvlOuf+FGasTNJLZvaBpL9L6iPpUTN7yUVyI/CD5Jw7talrgrNcBkUgnVbviHZHhB3fVLwpwpkAAAAAwIF5/PHHtWHDBvXu3VunnHKK53XHHXecJCkjIyNSqcUUCi7Nd1vw62bVbVp7QJxzu8zsd5KmKbAb0UAFZsSEFAe/NvVPZOh8cb3xYkkdDyEeEdAzq2fY8Y3FGyOcCQAAAAAcHmvWrIl2ClHFkqJmMLOuki4NHk5vgS2nP671vm+9c1uCX3uocaHzW+qNNxlvZhmSsj3iEQFHtDtCSQkN653Fe4tVWFkYhYwAAAAAAC2JgkvzjFFgNpCT9L+H+VmhHYT6BfvGNGBmOZK6BA9XecQPkLfa5+rHIwKSEpKUm5kb9tzGIma5AAAAoO1av369fvrTn6p///7KzMxURkaGjj/+eP3kJz/Rxo11/1t5woQJMjNlZ2dr/fr1Ye83efJkmZmSkpK0ePHiOs8JNXVdv3691q5dq7Fjxyo3N1epqanq1auXxo8fry1bGv8bdWFhoX77299q0KBB8vl8Sk9P1zHHHKMJEybou+++84yr3VC2uLhY9957r44//nilp6erU6dOuvTSS/XJJ580+Xm98cYbuuqqq9SjRw+lpqaqQ4cOOuecczR58mTt3bs3bEztprPOOU2bNk2DBw+Wz+dTVlaWzjrrLM2YMaNBXF5ensxMGzZskCTdfPPNNd9H6OX1Pda3cuVK5eXladiwYTrqqKOUnp4un8+ngQMH6t5779XOnTub/N5jHUuKmufW4Nf3nXPePzHNd2at9+vqnVsg6T8UaGb7L5KWhIm/qNb7d8LEX6dAwaaXcy7cb++h+HJJHzY3abSsnlk9tb5ofYPxjcUbdWKXEyOfEAAAAFpWXvtoZ3B45bX8zOznn39et956qyorKyVJqampSkhI0FdffaWvvvpKzz77rObMmaMLLrhAkvSHP/xBS5Ys0apVqzRq1CgtXrxYSUn7f81duXKl7rrrLknSPffco3POOSfscz/55BPdfvvtKi4uVmZmphITE7Vp0yZNnTpVs2fP1oIFCzRoUMN2latWrdJFF12k/Px8SVJaWpqSk5P1zTff6JtvvtGzzz6r559/XlddFW6/lICtW7dq0KBB+uabb5SWlqaEhATt3r1bb7zxhhYsWKDXXnut5vutrby8XGPGjNGcOXNqxnw+nwoLC7VkyRItWbJEzz33nObPn68OHcLvklpdXa2RI0fqlVdeUVJSkjIyMlRcXKxly5Zp2bJlWrt2re6///6a6zMzM9W1a1ft2LFDfr+/psB0MC699NKawk1aWpoyMjJUUFCgzz//XJ9//rmmT5+uhQsX1vSBaY2Y4dIEMztbUuh/4Uab5QavtybOd5T0q+DhJkn/qHfJB5I2BN//R5j4ZEk/Cx5+6JyrX7CZp0BfFvOIz5Y0Png41zlX2li+OHx6+XqFHaePCwAAANqiBQsWaMyYMaqurtakSZO0bt06lZeXq7S0VGvWrNHVV1+t4uJiXX311TUzXdLT0zVr1iylp6fr448/1m9+85ua+5WXl+u6665TRUWFhgwZovvuu8/z2XfccYf69OmjTz75RMXFxSotLdXbb7+tXr16affu3Ro5cqSKi+u2vywuLtZll12m/Px89ejRQ2+88YZKS0tVVFSkzz//XGeeeaYqKys1evRoffHFF57PvvPOO5WSkqL33ntPpaWlKikp0f/93//puOOO0969ezVu3Dj5/f4GcePGjdOcOXPUt29fPf/88yosLFRhYaHKysr0yiuvqG/fvlq2bJluueUWz2c/8cQTWrRokaZPn66ioiIVFhZq06ZNuuyyyyRJDz74oNauXVtz/c9//nN9//336tkz0JPyj3/8o77//vs6r+Y699xzNX36dG3YsEHl5eXatWuXKioq9O677+qMM87Q5s2bNWrUqGbfLxbFdcHFzDqYWefQS/u/34za42aW2chtQs1yd0t6qRmPvcHMXjKzq4JLf0K5pJvZFQr0bwn1bbnbOVfnJyfYH2ZS8PBiM3syWKSRmfWQNEvSSZJqX1c7vkDSg8HD8WZ2n5m1C8YfK+k1Sd0klUry/jcODjuvxrmbitipCAAAAG2L3+/XnXfeKb/fryeeeEK///3v1bt375olKccdd5xefPFFXX755SoqKtIf/vCHmtgBAwbUHP/Xf/2X3n//fUnSxIkTtWrVKmVnZ2vmzJlKTAzbsUGSlJSUpAULFuiMM86QFFgKc8EFF+itt95SSkqKNm7cqClTptSJefLJJ7Vu3TolJyfrrbfe0sUXX6yEhMCvnCeffLLeeecd9e7dW5WVlbrnnnsaffb777+v8847TwkJCTIznX766Zo9e7YkacOGDfr444/rxCxZskQzZsxQTk6OFi1apFGjRsnn80kKzBa5/PLL9cEHH6hdu3Z6+eWXPbdvLigo0Lx583TTTTfVzFTJzc3V7Nmz1b17d/n9fr344oueuR+Kv/zlL7rpppvUq9f+P0SnpKRo+PDhWrhwobp27arPPvtMH37YehdlxHXBRYHZIztqvUK/4d5db/zP4YLNzCfp6uDhDOdcZTOemShppKQ5kraZWYmZ7VRg1sk8ScdKqpR0p3Pub+Fu4Jx7UVJo3tYESTvNrEBSvqQrJe2TNN4593G4eEmPSHpWgVku90sqNLM9kr6SdLakMknXhJkdgwjyLLiwNTQAAADamMWLF2vt2rXq3LmzbrvtNs/rxowZI0l6++2364yPHz9eV155pfx+v2644QY99dRTmjp1qiRp2rRpdX6pD2f8+PHKyclpMN6vXz/96Ec/kiTNmjWrzrm//S3w69yPfvQjDRjQsIVmVlaWJk0K/I38zTffVGFh+CVY48aNC/vsE088UX369JEkffnll3XOPfPMM5Kk0aNH18w2qS83N1fnnXeepIafV8iQIUNqrqktNTVVF154YdhnR0JmZqbOPfdcSWrVBRd6uDTuOu3fPrnJ5URB70u6R9JZkvpJ6iSpvaQiSd9Iek/S1KaKHc65PDNbLOnfg/fqoMCW1B9I+oNzbnkjsU7SLWb2hqQ7FNh6OkuBpUrvSHrYOfdNM78fHCa9slhSBAAAAEjSRx99JCnQgLZ79+6e14WawIZ6f9T29NNP69NPP9XGjRt1xx13SJJuu+22moJJY4YNG9bouZkzZ+rLL79UVVWVkpOTtXfv3ppCxIgRIzxjzz//fEmBGTyfffZZ2OLG4MGDPeO7d++udevWaffu3XXGQ5/XM888o5kzZ3rGh4o84T6v5jxbUoNnt6TXX39df/3rX/X3v/9d27ZtU1lZWYNrQv1xWqO4Lrg453ofYvxTkp46wJgNkn53KM+tda/3FCjQHGz8XElzWyIXtLwemT2UYAny111Vpt0Vu1Wyt0SZKY2tdAMAAADiR2gnoKqqKm3btq3J68vLyxuMdejQQU888URN/5G+ffvqj3/8Y7Oe36NHjybP7du3T7t371bXrl21e/duVVdXNxmbm7t/Z9Lt27eHvSYrK8szPtQAuKqqqs546PMqKipSUVGRZ3xIuELGwT67JYRmIr3wwgt1ntehQwelpKRIChSLKioqVFraetuOxnXBBYhlyYnJ6taumzaXbG5wblPxJvXr1C8KWQEAAKDFHIZdfOJVqHgxePBgLVu27KDvM23atJr3mzdv1jfffKOTTjrpkPOLNaHPa/LkyRo/fnwTV8eeZ555Ri+88IISExN1zz336MYbb1Tfvn1reuBI0o033qgZM2YosICjdYr3Hi5ATPPq48KyIgAAALQlRxxxhCTvpS/N8ec//1mvvvqqEhMTdcIJJ6iyslLXXXed5+yO2jZvbvhH0PrnkpKS1LFjR0lSx44da5rwNrbkpfa5cH1aDlZLfF7RFOqHc9ttt+n+++/X0UcfXafYIumAdjyKVRRcgCjy6uNC41wAAAC0JUOGDJEU+CX7008/PeD4FStW6O6775Yk3XfffZo/f76ys7O1evVqTZw4scn40M5GjZ076aSTlJycLCmwm05o5szChQs9Y999911JUkJCggYNGtS8b6YZQp/X66+/3mL3PBCh4sjBzj7ZtCnw+87AgQPDni8pKdEnn3xycMnFEAouQBT18lFwAQAAAM477zwdffTRkgLbOYea43qp3ci1vLxc1113nSoqKnT22Wfrnnvu0ZFHHqmnngq043zqqac0d27jrS2nTJminTt3Nhj/6quvNGfOHEnStddeW+fcddddJ0maM2eOVq5c2SC2pKREDz/8sCTp4osvVvv27RvN4UCMGzdOkrRy5UpNnjy50WtLS0ub/DwPVGgL6j179hxUfOiz+OKLL8Kef+CBB1RcXHxwycUQCi5AFHkuKSpiSREAAADajqSkJE2ZMkVJSUn68MMPdc4552jhwoV1GrZ+9913mjJlik4//XQ9+eSTNeMTJ07UP//5T2VnZ+v555+vWepz9dVX69Zbb5Uk3X777TWzKsKpqqrS+eefr7///e+SAjM33n33XV144YWqrKxUz549G/RKmTBhgvr06aOqqir94Ac/0Jtvvim/P7AhxooVK3ThhRdq3bp1Sk1N1YMPPtgyH1TQueeeq5tvvlmSdOedd2rixIn67rvvas5XVlZq2bJlmjRpko488kjPhr0HK7QN9pw5c1RQUHDA8RdddJGkQM+dp556qqYg9P3332vixIl6+OGH1alTp5ZLOEpomgtEEVtDAwAAAAHDhw/X7NmzNWbMGH3yyScaMWKEkpOT5fP5VFJSosrKypprr7jiCknSSy+9pKlTp0oK/PLeq1fd/77+05/+pI8++khr1qzR6NGj9f7779cUZGqbOnWqbr/9dp1xxhnKzMyU3++v6f2SnZ2tl156qWZWR0hWVpZeffVVXXTRRcrPz9fFF1+stLQ0paSk1OwclJqaqhkzZujkk09uuQ8qaMqUKUpMTNTTTz+txx9/XI8//rgyMzOVnJyswsLCmuKPJJlZiz573LhxmjlzppYuXaouXbooJyenZneh9evXNxn/s5/9THPmzNGaNWt0xx13aMKECfL5fCosLJRzTnfccYcqKir0l7/8pUXzjjRmuABRlJuVG3Z8e9l2VeyriHA2AAAAQHRdccUV+uabb/Sb3/ympvixZ88epaam6uSTT9Ztt92mefPm6e6779amTZt02223SZJuvfVW/ehHP2pwv4yMDL3wwgtKTU3VkiVLPGeaDB48WJ9++qnGjBmj9u3ba9++ferRo4duv/12rVixQqeddlrYuAEDBmjVqlXKy8vTKaecoqSkJFVWVuqoo47S+PHjtWrVqrB5tYSUlBRNmzZNS5cu1dixY3XUUUepurpaJSUlysnJ0dChQ3Xffffpyy+/bHTr6oNxzjnn6I033tCIESOUnZ2tbdu2acOGDc1u4pudna2lS5fqpz/9qXr37q3ExEQlJSVp6NCheuGFFzRlypQWzTdarDVvsYTYYmbLBw0aNGj58uXRTqVVGT57uLaXNZziN+/yeTq6w9FRyAgAAADNsXr1aklSv379opwJDsb69evVp08fSdK6devUu3fv6CaEw+4QfmYPaooQM1yAKGNZEQAAAADEHwouQJSxUxEAAAAAxB8KLkCUsVMRAAAAAMQfCi5AlHkWXFhSBAAAAACtFttCA1Hm1cOFJUUAAADA4dO7d2+xiQwOJ2a4AFHmNcNla+lWVVVXRTgbAAAAAEBLoOACRFlmSqY6pnVsMO53fm0u2RyFjAAAAAAAh4qCCxAD2BoaAAAAAOILBRcgBngtK6KPCwAAAAC0ThRcgBjQ00fBBQAAAADiCQUXIAZ4LikqYkkRAAAAALRGFFyAGMDW0AAAAAAQXyi4ADGgly98wSW/JF/7/PsinA0AAAAA4FBRcAFiQPvU9spKyWowvs+/T9+Xfh+FjAAAAAAAh4KCCxAjWFYEAAAAAPGDggsQIyi4AAAAAED8oOACxAivraHZqQgAAABtwdixY2VmGjt2bLRTAVoEBRcgRnhuDV1MwQUAAAAAWhsKLkCM8NqpiCVFAAAAaAu6deum4447Tt26dYt2KkCLSIp2AgACemaFX1KUX5wvv/MrwaiPAgAAIH499NBDeuihh6KdBtBi+A0OiBGd0jopPSm9wXhFdYV2lO2IQkYAAAAAgINFwQWIEWZGHxcAAAC0WV5Nc4cOHSozU15enpxzmjZtmgYPHiyfz6esrCydddZZmjFjRoP7/eMf/5CZycz05ZdfNvrsMWPGyMw0fPjwsOffeOMNXXXVVerRo4dSU1PVoUMHnXPOOZo8ebL27t0bNqZ23lVVVXr00Ud12mmnKTs7W2amRYsW1Vy7Zs0ajRs3Tscee6wyMjKUlpamnj176swzz9SvfvUrrVmzJuwz/H6/nn/+eV188cXq2rWrUlJS1KVLF11wwQV64YUX5Jxr9PvG4cWSIrQJjy34usXuNfH8Y1vsXvX18vXSVwVfNRjfVLxJpx9x+mF7LgAAABDrqqurNXLkSL3yyitKSkpSRkaGiouLtWzZMi1btkxr167V/fffX3P9wIED1b9/f61atUp//etf9cgjj4S9b2lpqV566SVJgcJLbeXl5RozZozmzJlTM+bz+VRYWKglS5ZoyZIleu655zR//nx16NAh7P0rKio0dOhQLV26VElJScrKypKZ1ZxfsGCBLrvsMlVWVkqSkpOT1a5dO+Xn5ys/P1+ffPKJUlJSlJeXV+e+u3fv1siRI7V48eKasfbt22vnzp1asGCBFixYoFmzZmn27NlKSUlpxieMlkbBBYghXn1c2BoaAACg9TnxLydGO4XDasVNKyL6vCeeeEJ+v1/Tp0/XNddco/T0dOXn5+vf/u3f9Nprr+nBBx/UDTfcoGOOOaYmZsyYMfrFL36hmTNn6ve//70SEhou8pg3b55KS0vVrl07XXXVVXXOjRs3TnPmzFHfvn31wAMP6NJLL5XP51NFRYXeeecdTZw4UcuWLdMtt9yiefPmeeYtSc8++6yuvfZapaena9euXTVFlwkTJqiyslIXXHCBHn30UQ0YMEBSoFDz7bffau7cuerVq+5M+Orqal155ZVavHixTjnlFD3wwAMaNmyYMjIyVFpaqrlz5+ruu+/Wq6++ql/84hd67LHHDv6Dx0FjSREQQ7wKLuxUBAAAgLauoKBA8+bN00033aT09EDvw9zcXM2ePVvdu3eX3+/Xiy++WCdm9OjRSkhI0JYtW/Tuu++Gve9f//pXSdLIkSOVmZlZM75kyRLNmDFDOTk5WrRokUaNGiWfzydJSktL0+WXX64PPvhA7dq108svv6zPP/887P1LSko0c+ZMjR07tibvTp06qWPHjtq+fbu+/fZbSdL06dNrii2hZ/Tv31/33Xdfg2VWM2fO1AcffKDjjz9eixYt0qWXXqqMjAxJUrt27TRmzBjNnz9fZqYnn3xS27dvb9ZnjJZFwQWIIV49XCi4AAAAoK0bMmSIzjvvvAbjqampuvDCCyWpQa+WHj16aNiwYZL2F1Zq27p1qxYuXChJuvHGG+uce+aZZyQFijY9e4b/w2hubm5NTm+//XbYa/r376/LLrss7LmsrKyaWTdbt24Ne004odwmTJig9u3bh73m1FNPVf/+/bV37169//77zb43Wg5LioAY0svn3TTXOVdnrScAAADQlgwePNjzXPfu3SUF+prUN2bMGL377rt1lg6FzJw5U9XV1erevbtGjBhRJ+6jjz6SFChuzJw50/PZhYWFkqQNGzaEPT9kyBDP2PT0dA0fPlwLFizQRRddpPHjx+uSSy7RwIEDPfuuVFdXa9myZZKkvLw8/e53v/O8f+jz8MoNhxczXIAYkpORo5SEhv9iLa0q1e6Khv/nAQAAALQVWVlZnueSkgJzCaqqqhqcu/LKK5WZmVmnOW5IaNZLaOlRbVu2bJEkFRUVadu2bZ6viooKSVJZWVnY3HJychr9vp5++mmdfPLJ2rFjhx544AGdeeaZysrK0tlnn61HHnmkQRFp9+7dNQ12CwoKGs0t9Hl45YbDi4ILEEMSLIE+LgAAAEALateuna688kpJ0nPPPVczvmLFCn3xxReSGi4nkgIzSSRp8uTJcs41+Zo+fXrY5ycmJjaaX69evfTZZ5/prbfe0o9//GOdeuqp8vv9+uijjzRp0iQdffTReu+99xrkJUlvvvlms3Krv8MRIoMlRUCM6ZnVU98WfttgfFPxJp2Sc0oUMgIAAMDBiPQuPvB244036rnnntN7772nzZs3q0ePHjWzW0455RSdeGLDHaWOOOIIbdiwISLLcRISEnThhRfW9KIpLi7Wa6+9pl/+8pfauHGjRo0apY0bNyolJUWdOnVSUlKS9u3bx1KhGMcMFyDG9PR5bA1dzNbQAAAAwMEYNmyYcnNz5ff7NXPmzJqvUqDHSzih3iuvv/56xPIMycrK0qhRo2qa427btk0rVgQKeMnJyTrjjDMkSa+99lrEc0PzUXABYozXTkUbiyi4AAAAAAcjISFBo0ePlhTo2xKa6ZKYmKhRo0aFjRk3bpwkaeXKlZo8eXKj9y8tLdXevXsPOK+mYkLbSEuq02MmlNv8+fM1f/78Ru8RrpEwIoOCCxBj2BoaAAAAaHmhPi0rVqzQL3/5S0nSBRdcoK5du4a9/txzz9XNN98sSbrzzjs1ceJEfffddzXnKysrtWzZMk2aNElHHnmktm/ffsA5LV26VCeddJIee+wxrV69Wn6/X5LknNPSpUs1YcIESYHtp0866aSauBtuuEEjRoyQc3hVJkoAACAASURBVE4jR47Ugw8+WNPkVwoUgN5//33deeed6tu37wHnhZZBDxcgxrCkCAAAAGh5/fv316BBg/TZZ5/p008/leS9nChkypQpSkxM1NNPP63HH39cjz/+uDIzM5WcnKzCwsKaAokkmdlB5bVixQrddddduuuuu5ScnCyfz6fCwkLt27dPkuTz+TRz5sw6zXcTExM1d+5cjR49Wq+//rp+/etf69e//rV8Pp8SEhJUWFgo55yk/Ts4IfKY4QLEmG7tuinJGv5LsbCyUIWVhVHICAAAAIgPtQssPp9PP/zhDxu9PiUlRdOmTdPSpUs1duxYHXXUUaqurlZJSYlycnI0dOhQ3Xffffryyy/Vo0ePA87n9NNP14svvqgJEybo1FNPVefOnVVUVKS0tDSdcsopmjRpklavXq1//dd/bRDr8/n02muvaf78+br22mvVq1cvVVZWqqysTD169NAFF1yghx56SF999dUB54WWYaGqF3CozGz5oEGDBi1fvjzaqTTw2IKvW+xeE88/tsXu5eWSly4JO6Nl1iWz1L9z/8P+fAAAADRt9erVkqR+/fpFORMAzXEIP7MHNX2JGS5ADGJZEQAAAAC0bhRcgBjETkUAAAAA0LpRcAFikGfBhRkuAAAAANAqUHABYlDPrPBLivKL8yOcCQAAAADgYFBwAWIQPVwAAAAAoHWj4ALEoNzMXFmYRtg7y3eqrKosChkBAAAAAA4EBRcgBqUkpqhbu25hz20q3hThbAAAAAAAB4qCCxCjWFYEAAAAAK0XBRcgRnk1zmWGCwAAAADEPgouQIzy3Bq6iBkuAAAAABDrKLgAMcqr4MIMFwAAAACIfRRcgBhFDxcAAAAAaL0ouAAxKjczN+z496Xfq2JfRYSzAQAAAAAcCAouQIzKSM5Ql/QuYc9tLtkc4WwAAAAAAAeCggsQw9ipCAAAAABaJwouQAzr5WOnIgAAAABojSi4ADHMc2toGucCAAAAQEyj4ALEMK+dilhSBAAAgHgzduxYmZnGjh3brHEg1lFwAWKYVw8XlhQBAAAAQGyj4ALEMK+Cy9bSraryV0U4GwAAACDyunXrpuOOO07dunWLdirAAUmKdgIAvPlSfOqQ2kEFlQV1xqtdtbaWbPVsqgsAAADEi4ceekgPPfRQtNMADhgzXIAY59XHhca5AAAAABC7KLgAMc5zpyL6uAAAAKANaKxp7tChQ2VmysvLk3NO06ZN0+DBg+Xz+ZSVlaWzzjpLM2bMaPIZK1eu1Lhx43TMMccoIyNDmZmZOumkk3TPPfdo586dYWOqqqr06quvaty4cTrttNPUrVs3paSkKCcnRxdeeKFeeOEFOefCxi5atEhmJjOTJP3jH//Q6NGjlZubq+TkZA0dOrTZnw9iF0uKgBjn1ceFnYoAAABi2xPj34t2CofVnVOGRTuFGtXV1Ro5cqReeeUVJSUlKSMjQ8XFxVq2bJmWLVumtWvX6v777w8b+/DDD+uXv/yl/H6/JCkjI0NVVVVasWKFVqxYoWeffVZvvPGGBg4cWCfuo48+0g9/+MOaY5/Pp7S0NO3YsUPvvPOO3nnnHc2bN0+zZs1SQoL3XIe5c+fq+uuvV1VVlXw+n5KS+DU9XjDDBYhxFFwAAACAxj3xxBNatGiRpk+frqKiIhUWFmrTpk267LLLJEkPPvig1q5d2yDumWee0S9+8QtlZGToP//zP7V161aVlpaqrKxMn376qYYNG6atW7fq8ssvV0lJSZ3YjIwM3XHHHVqwYIEKCwtVWFiooqIi7dq1S3/84x/l8/k0e/Zs/fnPf24097Fjx+r888/X6tWrVVhYqPLyck2bNq3lPhxEDQUXIMZ5NcalhwsAAAAQUFBQoHnz5ummm25Senq6JCk3N1ezZ89W9+7d5ff79eKLL9aJKS4u1s9//nNJ0pw5c/SrX/1KRxxxhCQpMTFRp556qt5++22deuqpys/P19NPP10n/owzztCUKVM0YsQI+Xy+mvGOHTvqxz/+sZ555hlJ0p/+9KdGcz/hhBP06quv6vjjj68ZO+aYYw7yk0AsoeACxDivHi75xfmq9ldHOBsAAAAg9gwZMkTnnXdeg/HU1FRdeOGFkqQvv/yyzrm5c+dqz549GjhwYM019SUlJen666+XJL399tsHlNMll1wiSfr222/1/fffe1539913KzEx8YDujdaBxWFAjMtOzVZWcpaKq4rrjFf5q7StbJu6Z3aPUmYAAABAbBg8eLDnue7dA/+9vHv37jrjH330kSRp9erVNTNbwikvL5ckbdiwocG54uJiTZkyRa+//rpWr16tPXv2qKqqqsF1+fn5ns8YMmSI57PRulFwAWKcmSk3K1erd69ucG5j8UYKLgAAAGjzsrKyPM+FmtDWL4Rs2bJFklRRUaGKioomn1FWVlbn+Ouvv9bw4cOVn59fM5aRkaHs7OyaJrnbtm2TJJWWlnreNycnp8lno3Wi4AK0Ar18vcIWXDYVb9KZ3c6MQkYAAABoSizt4oOGqqsDy/OvvfZazZo164Djb775ZuXn56t379565JFHNGzYMHXs2LHO/UPFHq/toSWxnCiOUXABWgGvPi6bitipCAAAADgYoSU+4ZYKNWXTpk1aunSpJOmFF17QmWc2/CNoY31b0DZQcAEO0GMLvm6xe008/9hmXee1NTQ7FQEAAAAHZ8iQIfrLX/6i5cuXa+vWrerWrVuzYzdt2v+Hz4EDB4a95t133z3kHNG6sUsR0AqwNTQAAADQsq6++mplZ2erqqpKd911V6PLfvx+v/bs2VNz3L59+5r3X3zxRYPri4uL9eCDD7Zswmh1KLgArYDXDJf84vxG/48BAAAAQHjZ2dl6/PHHJUmzZs3SJZdcok8++UR+v19SoMiyevVqPfroo+rfv79ef/31mth+/fqpV6/AH0VvueUWLV++vObcxx9/rKFDh6qgoCCC3w1iEUuKgFagS3oXpSWmqaK6bvf08n3l2lm+U10yukQpMwAAAKD1uummm1ReXq6f/OQnevPNN/Xmm28qNTVVmZmZKioqqrOzkZnVvE9ISNATTzyhkSNHatWqVTrttNOUkZEhKbCbUbt27fTKK69oxIgREf+eEDuY4QK0Amamnj76uAAAAAAtbfz48frqq6/085//XCeffLJSU1O1Z88eZWZm6rTTTtO///u/a8GCBbr++uvrxF166aVavHixLrnkEmVnZ2vfvn3q3Lmzbr75Zi1fvlzDhw+P0neEWGEsR0BLMbPlgwYNGlR7Ol2saMlGty2puU1zJemn7/9UCzcubDD+23/5rUYeM7Il0wIAAEAzrF69WlJgeQmA2HcIP7PW9CUNxe0MFzPLMLMfmNm9ZvaSmW0wMxd85TURm1fr2sZeRzdxn0FmNsPM8s2s0sy2mtk8MxvWzO/hvOD1W4Px+cH7DWpm/JVm9raZbTezCjNbZ2ZTm8obsclza+hitoYGAAAAgFgTzz1czpA0/xDvUSVpdyPn93mdMLPbJE3W/s+4UFJXSVdIusLM7nfO5TUSnyfpN8FDJ6lIUg9JoyVda2YTnHNPe8SapGck3Rwc8ksqkdRb0jhJN5jZ1c65Q/18EEG5Wblhx1lSBAAAAACxJ25nuAQVSFoo6RFJ10v6/gDjlzrnjmjktT5ckJmdJWmKAsWWlyX1dM5lS+oiaWrwst+Y2TUe8ddof7FlqqQuwfiewfslSZoSfE44d2t/seV+Se2dc+0lHS9pqaQMSS+aWZ9mfg6IAV5bQzPDBQAAAABiTzwXXJY45zo650Y45yY552ZJqozQsx+WlChphaRrnHP5kuSc2+WcGy/p7eB1vzezxNqBweOHg4dvOefGO+d2BePzJV0raWXw/g+rHjPrIOne4OFU51yec64kGP+VpEsVKDy1k/TbFvp+EQGeS4qKNrE1NAAAAADEmLgtuDjnqqPxXDPrK+ns4OF/O+eqwlz2UPBrb0nn1Dt3rqQj611Xwzm3V9J/Bw/PDjNLZaSkrEbiCxSYfSNJV5lZu/DfCWJN14yuSk5IbjBeXFWsPZV7opARAAAAAMBL3BZcouj8Wu/f8rjmQ0nFwfcXeMQXS/rII/7NWu+94v/pnNvQRHy69heHEOMSExLp4wIAAAAArUQ8N81tCf3NbKWkvgo0nt0sabGkJ51z//CIGRD8ut05tz3cBc65ajNbI+l0Sf094ld7zdJxzm03sx0K9ITxil/pkV/9c/21f4mTJzNrzl7PxzfjGhyCnlk9ta5wXYPxjUUbdXKXk6OQEQAAAAAgHGa4NK6zpH6SyiWlSjpW0m2SlpvZgx4x3YNfNzdx79D57vXGD3u8c65MUmgNSv14xDCvPi75xfkRzgQAAAAAWo9o9L1khkt4ayVNkvSKpHXOuSozS5E0VNLvJJ0q6R4zK3DOPVovNtQ/payJZ4TOZ9Ubj2R8dpj4sJxzpzZ1TXAWzKDm3A8Hp2dWz7DjLCkCAACIPDOTc05+v18JCfwtG4hloYKLmUXsmfxbIQzn3PPOuUecc1+Hmt465/Y6595RoOfJ34OX5plZ+6glijbHa2toCi4AAACRl5wc2NCgoqIiypkAaEro5zT0cxsJFFwOkHOuQtKvgoeZkobXuyTUDDejiVuFzhfXG492PGJYY1tDAwAAILKysgKTxQsKCqKyXAFA8zjnVFBQIGn/z20kUHA5OB/Xet+33rktwa89mrhH6PyWeuOHPd7MMhRYThQuHjGsW2Y3JVpig/GCygIV76V2BgAAEEk+n09mpqKiIm3ZskVlZWXy+/0UX4AYEFruV1ZWpi1btqioqEhmpvbtI7dIhR4uLS+0A1COmXVxzu2of4GZJWr/jj6rwsRfKqmfmSWG26nIzHIU2KHIK36A9u9WFE7tc/XjEcOSE5LVrV035Zc0bJK7qXiTTuh0QhSyAgAAaJvS0tKUm5ur/Px8FRUVqaioKNopAfBgZsrNzVVqamrEnskMl4NzZq339ffoXVDr/UUe8UO0v1ntOx7xWZL+xSO+9n294vuZWfj1J/vjyyV96HENYhR9XAAAAGJHZmam+vTpo06dOiklJSWiDTkBNM7MlJKSok6dOqlPnz7KzMyM6POZ4VKPmZlrZA6gmaVK+s/gYamkhbXPO+e+M7MPFWiu+zMzmxVqvFvLfwS/bpC0uN65D4LjRwavW1Lv+cmSfhY8/NA5V7/gM0/S4woUbP5D0r/Vi8+WND54ONc5V+r1vSI2ee1URB8XAACA6EhNTVVOTo5ycnKinQqAGBLXM1zMrIOZdQ69tP/7zag9bma1y1znmNm7ZnajmeXWuleymQ1XoAAyODj8W+fcnjCP/oWkakknS5plZj2C9+hoZk9K+kHwukn1lwwFjycFDy82syfNrGMwvoekWZJOCt5/kupxzhVIejB4ON7M7jOzdsH4YyW9JqmbAsWi+7w/PcQqr8a5zHABAAAAgNgR1wUXSf+QtKPWKzQ14O5643+uFWMK7Dz0nKRNZlZmZjsUKFC8K+l0SX5Jv3POPRzuoc65pQrMItkn6UpJ+WZWIGmnpAnBy+53zr3oEf+ipPuDhxMk7QzG5wfvt0/SeOfcx+HiJT0i6dng93K/pEIz2yPpKwVm3pRJuibM7Bi0Al4zXDYWUXABAAAAgFgR7wWXg7FC0s8lzZX0tQJ9TrKDX79QoDhzinPunsZu4px7WoGZMDMlbVZgG+btkl6WNNw5l9dEfJ4ChZ+Xg3EZwfvMlHRm8P5esc45d4ukHynQ06VAUpoCS5WmSTrZOTe/secjdnn1cMkvbthIFwAAAAAQHXHdw8U51/sgYnZJerSFnv+ZpNGHEP+epPcOIX6uAoUjxJHcrFyZTE51Ww1tL9+usqoyZSRnRCkzAAAAAEAIM1yAViY1MVVd23UNey7cdtEAAAAAgMij4AK0Ql6Nc9mpCAAAAABiAwUXoBXybJzLTkUAAAAAEBMouACtkFfBZVMxM1wAAAAAIBZQcAFaIa+dipjhAgAAAACxgYIL0ArRwwUAAAAAYltcbwsNxLrHFnx9UHFV/oqw41tLt2pv9V6lJKYcSloAAAAAgEPEDBegFUpOSFd6QnaDcSfH1tAAAAAAEAMouACtVFbSEWHH84spuAAAAABAtFFwAVopX2L4gsvGIhrnAgAAAEC0UXABWilfUrew4+xUBAAAAADRR8EFaKV8HkuKKLgAAAAAQPRRcAFaqSyPJUVsDQ0AAAAA0UfBBWilvGa4bCnZon3+fRHOBgAAAABQGwUXoJVKTchUqmU2GN/n9mlr6dYoZAQAAAAACKHgArRiWR6Nc1lWBAAAAADRRcEFaMVonAsAAAAAsYmCC9CK+RK7hh2n4AIAAAAA0UXBBWjFPJcUFbOkCAAAAACiiYIL0Ip5LSmihwsAAAAARBcFF6AV8yV6z3DxO3+EswEAAAAAhFBwAVqxtASfki29wfhe/15tL9sehYwAAAAAABIFF6BVMzNlJXrsVFRE41wAAAAAiBYKLkAr59nHhca5AAAAABA1FFyAVs6r4MLW0AAAAAAQPRRcgFbO57GkiBkuAAAAABA9FFyAVi4rKfxORfRwAQAAAIDooeACtHKNLSlyzkU4GwAAAACARMEFaPUyEjooUSkNxsv3lWtb2bYoZAQAAAAAoOACtHJmCWqf1D3suVU7V0U4GwAAAACARMEFiAudU44OO75i54oIZwIAAAAAkCi4AHGhS3L4gsvKXSsjnAkAAAAAQKLgAsQFrxkuq3aukt/5I5wNAAAAAICCCxAHOiT1VFpiWoPxkqoSrS9aH/mEAAAAAKCNo+ACxIEES1K/Tv3Cnlu5k2VFAAAAABBpFFyAONG/U/+w4xRcAAAAACDyKLgAceLEzieGHafgAgAAAACRR8EFiBNeBZc1u9eoqroqwtkAAAAAQNtGwQWIE7lZuWqf2r7BeJW/Sl8XfB2FjAAAAACg7aLgAsQJM9OATgPCnluxc0WEswEAAACAto2CCxBHBnSm4AIAAAAAsYCCCxBHvAouq3auinAmAAAAANC2UXAB4ohXweW7wu9UsrckwtkAAAAAQNtFwQWII53TO6tbu24Nxp2c/rnrn1HICAAAAADaJgouQJzxmuWyctfKCGcCAAAAAG0XBRcgzngWXHZScAEAAACASKHgAsSZEzufGHacnYoAAAAAIHIouABx5oROJ8hkDca/L/1eO8t3RiEjAAAAAGh7KLgAcaZdcjv1bd837DmWFQEAAABAZFBwAeKQVx8XlhUBAAAAQGRQcAHikFcfF2a4AAAAAEBkUHAB4lBjOxU55yKcDQAAAAC0PRRcgDh0bIdjlZyQ3GC8aG+RNhVvikJGAAAAANC2UHAB4lByYrL6dewX9hx9XAAAAADg8KPgAsSp/p37hx2njwsAAAAAHH4UXIA4ReNcAAAAAIiepGgnAHh5bMHX0U6hVfNqnLt692pV+avC9ngBAAAAALQMZrgAcepI35HKSs5qMF5ZXalv93wbhYwAAAAAoO2g4ALEqQRL0AmdTwh7jsa5AAAAAHB4UXAB4hh9XAAAAAAgOii4AHHMq48LM1wAAAAA4PCi4ALEsQGdwhdcvt3zrcqqyiKcDQAAAAC0HRRcgDjWtV1X5aTnNBj3O79W714dhYwAAAAAoG2g4ALEOa9lRfRxAQAAAIDDh4ILEOcouAAAAABA5FFwAeIcjXMBAAAAIPIouABxrn/n/mHHN5ds1u6K3RHOBgAAAADaBgouQJzzpfjU29c77LlVO1dFNhkAAAAAaCMouABtAH1cAAAAACCyKLgAbQB9XAAAAAAgsii4AG2AV8Fl1a5Vcs5FOBsAAAAAiH8UXIA24PiOxyvJkhqM767YrS2lW6KQEQAAAADENwouQBuQmpiqYzseG/Ycy4oAAAAAoOVRcAHaiBM7nxh2nJ2KAAAAAKDlUXAB2oj+nfqHHWeGCwAAAAC0PAouQBvhNcPln7v+qX3+fRHOBgAAAADiGwUXoI3o076PMpIyGoyX7yvXd4XfRSEjAAAAAIhfFFyANiIxIVEndDoh7Dn6uAAAAABAy6LgArQhXsuK6OMCAAAAAC2LggvQhgzoPCDs+MqdKyOcCQAAAADEt7gtuJhZhpn9wMzuNbOXzGyDmbngK6+J2B5m9m9mNtvMvjGz8uBrnZm9YGbDmojPq/Wsxl5HN3GfQWY2w8zyzazSzLaa2bymnl8r/rzg9VuD8fnB+w1qTjzij1fBZW3BWlXsq4hwNgAAAAAQv5KincBhdIak+QcaZGY9JW2QZLWGy4LHvYOv68zsfyWNc85VN3K7Kkm7GznvuTWMmd0mabL2/29UKKmrpCskXWFm9zvn8hqJz5P0m+Chk1QkqYek0ZKuNbMJzrmnG8kNcahbu27qmNZRuyvq/mO5z+3Tmt1rdErOKVHKDAAAAADiS9zOcAkqkLRQ0iOSrpf0fTNiEhUoriyUdJOkHs65dpIyJfWX9Erwulsk5TVxr6XOuSMaea0PF2RmZ0maokCx5WVJPZ1z2ZK6SJoavOw3ZnaNR/w12l9smSqpSzC+Z/B+SZKmBJ+DNsTMPPu4sKwIAAAAAFpOPBdcljjnOjrnRjjnJjnnZkmqbEZcgaRTg3HPOee2SJJzzu+c+6ekkZLeCl77UzNLOwy5P6xA4WeFpGucc/nBHHY558ZLejt43e/NLLF2YPD44eDhW8658c65XcH4fEnXSloZvP/DQpvTv3P/sOMrd1FwAQAAAICWErcFlyaW+jQWV+ic+6yR807S/wYPMyX1O5jneDGzvpLODh7+t3OuKsxlDwW/9pZ0Tr1z50o6st51NZxzeyX9d/DwbDPrc0gJo9VhhgsAAAAAHH5xW3A5zGp3F030vOrgnF/r/Vse13woqTj4/gKP+GJJH3nEv1nrff14xLkBncI3zt1QtEGFlYURzgYAAAAA4hMFl4MzNPh1r6SvG7muv5mtNLMyMysxs6/MbJqZDWwkJvTb8Hbn3PZwFwRn76wJPcMjfrXXLJ/gfXd4xCPOZadlq2dWz7DnVu1aFeFsAAAAACA+xfMuRYdFcAnO+ODh35xzRY1c3llSR0l7JPkkHRt83Wpmv3PO3Rsmpnvw6+YmUtks6fRa1x9MfJcw8WGZ2fJmXHZ8c+6Fw+OxBY3V/upK2tdL0qYG41OXLdInWZ018fxjWzAzAAAAAGh7mOFyAMwsXdJsSRmSdkr6D49L10qaJOk4SWnOuU6S2km6UNJyBXZBusfMfhYmNiv4tayJdELns+qNH2o82oAuyceEHd9Z9U2EMwEAAACA+MQMl2YysyRJMyWdKqlK0ujQDkb1OeeeDzO2V9I7ZrZY0mIFZqfkmdnTzrmYb5zhnDu1qWuCs2AGRSAdHCKvgsuOvWsV6AsNAAAAADgUzHBphuBWy89LukLSPkmjnHPvHMy9nHMVkn4VPMyUNLzeJaFmuBlN3Cp0vrje+KHGow3olNxHFubHv9y/R2X+3VHICAAAAADiCwWXJgSLLTMkXSOpWtINzrk5h3jbj2u971vvXGjWTI8m7hE6X3+WzaHGow1ISkhVh6ReYc/t2Ls2wtkAAAAAQPyh4NKIWjNbrtP+YsvfDvNjVwa/5phZl0byCjWorb+tTCi+X/C6cPE5CjTMDRePNqJzytFhx3dUUXABAAAAgENFwcVDsFgxU9K12l9smdVCtz+z1vt19c4tqPX+Io/4Idrf7Lb+0qZQfJakf/GIr33fg1oahdavS3L4gsvOvd9GOBMAAAAAiD8UXMKoNbPlGgV6toxubrHFzKyJ86mS/jN4WCppYe3zzrnvJH0YPPyZmSWHuU1od6QNCjTgre2D4Hjt62o/P1lSaHekD51z9Qs+aCM6p3jvVOR3/ghnAwAAAADxJa4LLmbWwcw6h17a//1m1B43s8xaMaGeLddqf4PcA1lGdI6ZvWtmN5pZbq37JpvZcElLJA0ODv/WObcnzD1+ocCsmpMlzTKzHsF7dDSzJyX9IHjdJOdcde3A4PGk4OHFZvakmXUMxveQNEvSScH7TxLarA5JPZVoKQ3Gq1y51heuj3xCAAAAABBHolJwsYBjzeyE4IyPw+UfknbUevUMjt9db/zPtWKGKNCzRZKcpP8xs+8beV1b75mmwM5Dz0naZGZlZrZDgdks7yqwHbRf0u+ccw+HS9o5t1TSeAUKPldKyjezAkk7JU0IXna/c+5Fj/gXJd0fPJwgaWcwPj94v32SxjvnPg4Xj7YhwRLVKbl+z+aAlbtWhh0HAAAAADRPixZczCzdzC4Pvnp6XHO9AjvjrJa0QtJ2M8tryTwOUe3PJFlS1yZe6fXiV0j6uaS5kr6WVC4pO/j1CwWKO6c45+5pLAnn3NMKzISZKWmzAts4b5f0sqThzrm8JuLzFCj8vByMywjeZ6akM4P3Rxvn1cdlxY4VEc4EAAAAAOJLUgvf72pJ0xVYrtLgT+dmdqECy3WkwEwQKdDc9ddmluWc+1n9mEPhnOt9EDGLtD+3g3nmLkmPHmx8vXt9Jmn0IcS/J+m9lsgF8alLyjGBuVf1rNzJDJf/z959x8dVnfkf/z5TZFvusmSDbcAYY7oNpoMbEIcSSoBskk2ym06AzS/ZhECykB8tm2VDQvilLKElu5tNZQOGUEJJwDbGpgljDBgXjDGukrvcJM3M8/tjrrCQ7oyK74w00uf9et3XmbnnnDuP6+s1j845DwAAAADsi6i3FM0I2hfc/b2Q/h8qm8wwSS9L+pOkbcH7r5vZxIjjAZBHZY4VLku2LFFDuqHI0QAAAABAzxF1wuVIZc89aVk5R2Y2SdLRQf+P3f0kd/+4smea7FQ26fKFiOMBkMfA+Aj12Xtm9PsaM41aumVpF0QEAAAAAD1D1AmXqqBdEtJ3dtA2am9ZZLn7ckn3KZtwmRxxPADyMLOc5aEXbeQcFwAAAADorKgTLpVBuz2krymZMs/dt7ToeylowLYR3wAAIABJREFUD444HgBtyHVwLue4AAAAAEDnRZ1waTps9gOVe8zMJJ2qHNuNlC13LEmt9zYAKKjKMhIuAAAAABC1qBMutUE7vsX9k5QtjSxJ80LmlQftnojjAdCGXCtc3tn2juoa6oocDQAAAAD0DFEnXF5VdpXL35tZ81UuXw7aRknPhcxrKiG9LuJ4ALShX3yIBsSrWt13ud7c9GYXRAQAAAAApS/qhMv/Bu04SbPM7Otmdrey1Ydc0qPuvjNk3slBuzjieAC0Q67y0GwrAgAAAIDOiTrh8ltJLyu7yuUEST+W9MWgr0HSjS0nmNkgSWcom5B5PuJ4ALRDFee4AAAAAECkIk24uHtG0rmSHgpuWXCtlfQxdw+rM/s5SWXB679GGQ+A9qlMUhoaAAAAAKKUiPqB7r5J0sVmVqXs2Sy7JL0RJGPCvCXp89mp/nLU8QBoW2VyrLK5Uf/A/Q27Nqh2V62qyluf8QIAAAAAyC3yhEsTd6/V3qpF+cY9WagYALRPMtZPQxKjtTX1Xqu+1ze+rjMOPKMLogIAAACA0hX1GS4ASlQV24oAAAAAIDIFT7iY2YFmdraZfdLM/rHQnwegcyrLDgm9/8amN4ocCQAAAACUvoJtKTKzyyR9U1LLH5v/usW46yRNk7Ta3b9QqHgA5JdvhYu7y8yKHBEAAAAAlK7IV7iY2QAze0rSL5RNtlizK8zzkj4k6bNmdlTU8QBon6HJAxVXstX9uoY6rapb1QURAQAAAEDpKsSWot9LOkvZBMs7km6RdGee8U9LWh+8Pr8A8QBoh7glVZE8OLTv9Y2vFzkaAAAAAChtkSZczOw8SR9Rtrbsf0s63N2vk/RErjnu7pKeUjZBMznKeAB0TFXZuND7JFwAAAAAoGOiXuHSdCjuUklfcvdUO+ctDNojIo4HQAdUJsMTLlQqAgAAAICOiTrhcqqyq1t+7e7pDsxr2lI0IuJ4AHRAVVn4wblvbX5LjZnGIkcDAAAAAKUr6oTL8KBd3sF5DUFbFmEsADpoUHw/lVl5q/v16Xot39LRf9YAAAAA0HtFnXDZE7StS53kVxW0WyKMBUAHmcXYVgQAAAAAEYg64bI2aDt6FsupQbsiwlgAdEJljoNzX1j3QpEjAQAAAIDSFXXCZbay1YY+YWbteraZjZB0qbJnvzwTcTwAOmhE2eGh9+etncc5LgAAAADQTlEnXH4dtIdI+n5bg82sn6TfSeonKS3plxHHA6CD9i87Wn3ifVrd39G4Qws2LOiCiAAAAACg9ESacHH35yXdp+wql2vM7D4zO1ktznQxs1Fm9nlJCyRNV3Z1yy/cnS1FQBdLxProxP1ODO2bs3pOkaMBAAAAgNIU9QoXSfqCpBeUTbpcKmmepD8qm1SRmaUkrZJ0r6RDg3F/k3RVAWIB0AlTR08NvT9nDQkXAAAAAGiPyBMu7r5L0jRJP5HUqGxCpelq+sym942SbpN0nrunoo4FQOfkSri8s+0dvbf9vSJHAwAAAAClpxArXOTuDe7+DUljJP2zpPslVUt6W9Krkh6VdI2kce5+NckWoHsZNWCUxg0Jr1bEKhcAAAAAaFuikA939/WSfhpcbTKz/d19XSFjAtA+U0ZP0fKty1vdn7N6jj59xKe7ICIAAAAAKB2RrnAxsx/tw9yRkmZFFw2AfTF1VPi2opfWv6RdjbuKHA0AAAAAlJaotxR908yu7ugkM9tf2WRL+B4GAEV37PBjNbBsYKv7jZlGPb/u+S6ICAAAAABKRyHOcPl3M/tsewcHK1ueEckWoFtJxBI6feTpoX2UhwYAAACA/KJOuFQrW33oHjM7v63BwcqWpyWNV7Zs9G0RxwNgH+SqVvTs6mfl7kWOBgAAAABKR9QJl3MlLVP2MN4/mln4j8f1frLlGe1NtvzY3a+JOB4A+2DyqMmy9yu671Wzu0ZvbX6rCyICAAAAgNIQacLF3TdKOlvSWkn9JD1sZke3HBeSbLnd3Tt89guAwhrad6gmVE0I7WNbEQAAAADkFvkZLu6+UtmVLlslDZH0uJkd1NQfso3o/7n7t6KOA0A0cm0rmrOGhAsAAAAA5FKIQ3Pl7oskXShpt6T9JT1pZpXNki2HaW+y5apCxAAgGrkSLotqF2nzns1FjgYAAAAASkNBEi6S5O5zJf29pIyyFYie1AeTLT8h2QJ0f4cNPUzDy4e3uu9yzV0ztwsiAgAAAIDur2AJF0ly9z9L+oqylYsmKptskaSfufs3C/nZAKJhZrm3FXGOCwAAAACEKmjCRZLc/VeSvqNs0sUl/dTd/7nQnwsgOlNHhSdc5q2Zp8ZMY5GjAQAAAIDuL9GZSWb2q05M2yYpLmlQnvnu7l/sTEwACufk/U9WWaxMDZmGD9yva6zTqzWv6sT9TuyiyAAAAACge+pUwkXS55RdrdIZn22jn4QL0M2UJ8t14n4n6rm1z7Xqe3b1syRcAAAAAKCFfdlSZAW4AHRTnOMCAAAAAO3X2RUuB0caBYBub+roqbrlxVta3X9729taXbdaoweO7oKoAAAAAKB76lTCxd3fjToQAN3b6IGjNXbwWK3YtqJV35zVc/SpIz7VBVEBAAAAQPdU8CpFAHqOnNuK1rCtCAAAAACaI+ECoN1yJVxeWveSdjXuKnI0AAAAANB9kXAB0G7HDj9WA5MDW91vyDToxfUvdkFEAAAAANA9deoMFzN7/8fc7j4n7H5nNX8egO4lGUvqtFGn6YmVT7Tqm716tqYfML34QQEAAABAN9TZKkWzJHlwJULud1bL5wHoZqaOnhqacHl29bNyd5lR4R0AAAAA9mVLkQVXrvudvQB0Y5NHTZaF/FPdsGuDlm5Z2gURAQAAAED309nVJDd18D6AHqKib4WOqTxGr218rVXfnNVzdFjFYV0QFQAAAAB0L51KuLh7aGIl130APcuU0VNyJly+POHLXRARAAAAAHQvVCkC0GHTRk8Lvb+wdqG27NlS5GgAAAAAoPsh4QKgww6vOFzD+w1vdd/lmrtmbhdEBAAAAADdCwkXAB1mZpoyekpo37Orny1yNAAAAADQ/RQ04WJmM8zsDjN7yczWmNm2oH0puP+hQn4+gMLJlXCZu3auUplUkaMBAAAAgO6lIAkXM5tkZq9KelzSVyRNkrS/pIFBOym4/4SZvWJmxxUiDgCFc+r+pyoZS7a6X9dQp4W1C7sgIgAAAADoPiJPuJjZuZLmSjpGkjW7tkpaE7TN7x8r6TkzOyfqWAAUTnmyXCfud2Jo35zVc4ocDQAAAAB0L5EmXMxstKQ/SOqrbDLleUkfl1Tp7hXufoC7V0iqDO7PC6b2lfQHMxsVZTwACmvq6Kmh90m4AAAAAOjtol7h8i1ltw25pFvd/TR3/5O7b24+yN03B/cnS/r34PbAYD6AEjF1VHjCZfnW5Vq7Y22RowEAAACA7iPqhMu5yiZbXnD377RngrtfK2m+sitiPhJxPAAK6IBBB2jMoDGhfaxyAQAAANCbRZ1wOSBof9/BeU3jR0cYC4AiYFsRAAAAALQWdcJlR9Cu7+C8DS3mAygR00ZPC73/4voXtTu1u8jRAAAAAED3EHXCZUnQHtTBeQe2mA+gRBw34jgNSA5odb8+Xa8X173YBREBAAAAQNeLOuHyO2XPYvlHM4u3Z0Iw7rPKnv3y24jjAVBgyVhSp448NbSPbUUAAAAAequoEy53K1vq+WhJ/2lmZfkGm1lS0q+C8fMk3RNxPACKIOc5LmvmyN2LHA0AAAAAdL1IEy7unpZ0vqQHJX1a0ptm9g0zm2hm/S2rf/D+G5LelPQZSTMlfSSYD6DETB41OfT++p3rtWzrsiJHAwAAAABdLxHlw8ysecLEJI2V9KN8U4L2o5I+ama5xrm7RxorgOhU9qvUMZXHaNHGRa365qyeo/FDx3dBVAAAAADQdaLeUmTNrrB7La/2jGk5FkA3NGX0lND7nOMCAAAAoDeKetXIHGUPvwXQy0wdPVV3vHpHq/sLaxdq656tGtJ3SBdEBQAAAABdI9KEi7tPj/J5ALrG7U8t7fAc97j6xYZod2brB+5nPKPn1j6nj4z9SFThAQAAAEC3F/WWIgC9lFlMo/tOCu1jWxEAAACA3oaEC4DIHNDn+ND7z619TqlMqsjRAAAAAEDX6bKEi5n1MbP+XfX5AKI3qs9ExUJ2Km6r36bXal/rgogAAAAAoGtEmnAxs4SZTQiuoTnGTDWzFyXtkrTdzJaZ2eeijANA10jG+mm/siND+9hWBAAAAKA3iXqFy0clvSppgaQRLTvN7ERJT0k6XnvLPR8i6Zdm9q2IYwHQBQ7oG76taM4aEi4AAAAAeo+oEy7nBO2r7v5WSP/tkpLKJlrWS3pZUjp4/69mNjbieAAUWa6Dc5dtWaZ1O9YVORoAAAAA6BpRJ1wmSHJJz7TsMLPDJZ0W9P9W0gHufpKkKZIalE3EfCnieAAU2eDESA2K7x/a9+yaZ4scDQAAAAB0jagTLlVBuzik79ygzUi6xt3TkuTuz0t6UNlVLmdEHA+ALpBzWxHnuAAAAADoJaJOuFQG7ZaQvilB+5K7t9xX0PRj70OjCsTMys3sXDP7rpk9YGbvmpkH143tfMYIM7vNzJaY2W4z22xmz5rZl8zM2jH/EDO7y8zeMbM9ZlZrZk+Y2aXt/PxJZvYbM1ttZvVmts7MZprZme2cf0Ywfl0wf3XwvPA9H0BEciVcXlj3gvak9hQ5GgAAAAAovqgTLskWbXNN24lmh/TVBO3ACGM5SdJjkr4n6WJJB3ZkspkdL+kNSd+UNF5SKohvsqR7JP3FzMryzD9P0muSLpM0RlK9pApJH5b0JzP7Vb6kjZl9SdILkj4taZSk3coeRPxRSX9rK2kU9D8djB8RzB8VPO+F4PlAQYwoO0JJ69fq/p70Hr24/sUuiAgAAAAAiivqhMvmoP3A4bdmdoyk4cHb+SHz+gRtY8TxbJH0N0k/lPT3yh7U2yYzGyzpEUnDJL0l6UR3Hyipv6SvBnGeLen/5Zh/sKT7JJVLek7SYe4+WNJgSTcHwz4v6eoc80+VdKekhLLbrQ5w9yHKbtm6Kxh2g5l9PMf8j0u6IXh7l6SqYP4BwfMSku4MPgeIXNySGtlnQmgf24oAAAAA9AZRJ1xeV/Yslo+1WL3x2aDNaO/2oeYOCNoNEcbyrLtXuPuH3P0ad/+DsqtM2uNbkvZTdlXIee7+siS5e4O7/4f2JjMuM7PxIfNvVjY5s17S+e6+NJi/w91vkHR3MO46MxsaMv9WSXFJiyR93N1XB/M3ufvlkp4Ixv3AzOLNJwbvbw3ePu7ul7v7pmD+akmfUPbPqfm4yLh71I9Eicq1rejZ1c/y9wQAAABAjxd1wuXBoD1W0kwzu8jMrpX0NQXVi9w97HyXE4N2SVSBNB3K20n/GLR/cPd3Qvp/JmmHskmLTzfvMLP+kprOaPmFu28NmX9L0A5SdstP8/ljld22JEk/cvewVT9N88dImtqib5qkg1qMe5+7N0j6UfB2crAaJzJbN+zSzq3tzWuhJxvdJ/yooLU71+rtrW8XORoAAAAAKK6oEy6/lPS2sqtcLpD0gLJnqCSUTbh8r+UEM+sraUbQ3+WHO5jZYdp73stfwsa4+w7tXanz4RbdkyU1HV6Ra/5K7a3k1HL+jGavH88R5lxJdW3Mr1N2O1OY5nG1nL9PUg0Z/ekHL2vT2h1RPhYlqDw+VJXJQ0L7Zq8OO8oJAAAAAHqOSBMu7l6v7NkmryqbdGm6dku60t3DthN9UtntN1L2vJWudnSz16/nGdfUd+Q+zj8qx/wad69RiGD1zlttzF+ca5VP8NzaHPNDmVl1W5ekwyVpx5Z6PfDDV7R6SdhiJvQmo/tQHhoAAABA7xT1Che5+wp3n6TsNqG/l3SRpNHufneOKQ2SbgquXCsyimlks9dr8oxr6htkZgNC5m9x993tmD+yxf2RLfqLPT8SDbtTevinr2rpi+06pxg9VK5zXBbULNC6HS2rwwMAAABAz5Eo1IPdvVpSdTvG/a5QMXRS89LUu/KMa943UNkzXZrPzze3eX/LUthdPT+Uu4d/c24mWOXy/sEdmbTrqV+9qbrNezTp7IOUpwo2eqjK5FgN6ztMm/Zs+sB9l2vm8pm68tgruygyAAAAACisyFe4AC09/+AKzf7dEmXSma4OBUVmFtN5Y88L7Zu5fKbSmX052xoAAAAAui8SLq3VNXtdnmdc8766kNf55jbvr2txv6vnF8Qbz67VY79YpIY9qWJ8HLqRS8ZdEnp//c71mr9ufpGjAQAAAIDiIOHS2tpmr0flGdfUtz2oWtRy/lAz66fcmuavbXF/bYv+Ys/fJxbLvW3o3dc36cEfL9DObZSN7k3GDR2niVUTQ/seWPZAkaMBAAAAgOIg4dJa88pCR+cctbfvzX2c/0aO+cPNrCpsopnFFVQEyjP/iGBc2Pzhkpqe3XL+Phkyolz9h/TJ2V+7qk7331qtLet3Rvmx6OYuPfTS0PvPrHpGm3ZvCu0DAAAAgFJGwqW1pZJWBa/PCRtgZv0lTQnePtmie66yZbDzzT9I0hE55j/V7HXofEmna+9ht7nmD5R0Wo75zZ/bcv4+SSRj+ti3j1fFyP45x9Rt2qP7b63W2mVbo/xodGNnjzlb/ZOt/06kPKU/v/3nLogIAAAAAAqLhEsL7u6Sfh28/aSZjQkZ9k+SBkhKS/pti/k7Jd0fvL3CzAaHzP920NZJerDF/BXKJm0k6SozS4bM/07QvitpTou+2cH95uPeFzzvquDtXHd/J+T5+2TA0L665OrjNfrwoTnH1O9K6aGfLNCylzdE/fHohsqT5Tr34HND+x5Y9oCy/+wAAAAAoOfo0QkXMxtqZpVNl/b+esub3zezAS2m/kjSemUPln3UzI4PnldmZldI+l4w7m53Xxry0ddL2ilpf0kPm9mhwfz+Zna9pMuDcf/q7ltC5n9b2WTOREl/MLNRwfwKM7tDUtM312vc/QNlXoL31wRvzzOzO8ysIpg/StIfJE0Inn+NCqRPv4TO/+pEHXbKfjnHZFKuJ+99QwueXMUX7l4g17aildtX6pWaV4ocDQAAAAAUVo9OuEhaIKm22XVAcP/qFvd/3nySu2+TdL6kTZKOlPSymW2XtEPSHZLKlN2K842wDw1WjXxc0i5ltx4tNbOtkrZJukmSSfpPST/MMX+eskmZlKRLJK02sy2SNkq6Ihh2k7vfl2P+fcHnKBi/MZi/OnheStLl7l7QEjHxRExnffYInXDemLzj5j2wXM/+cZkyGZIuPdlRw47SYUMPC+3j8FwAAAAAPU1PT7h0mrtXSzpK0u2SlklKKrtqZa6kL0s6191zlttx98eUXUlyj6SVkvpK2qLsGSsfc/cveJ5lHe5+r6STJf1O0hplV9vUKLsF6Sx3v7GN+G+UdFYwviaYvyZ43inB8wvOzHTyhWN1xmcOz1vBaNGs1Xr8rkVqbEjnHIPSZma65NDwEtFPrnxS2xu2FzkiAAAAACgc68xWjmC1REbSZ9z9L83uTw1evu7um6MJEaXCzKonTZo0qbq6OrT/3dc36fF7XleqPndSZfiYQfrIlRNUPqhMtz8VtlsLpeYbM8a//3pb/Taded+Zasg0tBp33cnX6ZOHf7KYoQEAAABAe+RePZBHZ1e4DJY0RNlVH83NkvSMpMmdfC56sIOOHqZLrpqk8kFlOcfUrNyu+299WVs37CpiZCiWwX0Ga8aYGaF9bCsCAAAA0JN0NuHStCymU1ke9F5VBw7Upd8+XkP3K885ZvvGbNlo25RzxxZKWK7DcxdvXqw3N71Z5GgAAAAAoDA6m3DZGbQjogoEvcegYf10ydXHa+ShQ3KO2bOzUYk5tbI1u4sYGYrhhBEn6MCBB4b2scoFAAAAQE/R2YTL8qD9jJn1jSoY9B59+yd14deO1aEn5s7ZWUZKPL9JsWV1RYwMhZbv8NxHVzyqXY1sJwMAAABQ+hKdnPcXScdKOl3ZksVLJDXf//GvZvbPnXiuu/tZnYwJJSaejGnG54/UwIo+euWJVaFjTFLitW1K70orPWGwZOxi6wkuGneRfrbgZ0r7Bw9Q3tG4Q0+9+5QuGndRF0UGAAAAANHobMLlR5I+JekgSRWSTmnWZ8qWU+4o096zYdBLWMx06sXjNLCir+b8YalyFc2KL98h251W6sQKKU7SpdRV9qvUtNHT9PR7T7fqe2DZAyRcAAAAAJS8Tm0pcvctkk6W9HNJb0tq1AcTJtaJC73Y0dNG67wrJihRlvuvZGzNbiWerZXylJVG6bh0fPjhua/UvKIV21YUORoAAAAAiFZnz3CRu9e4+9fc/VB37+vuMe1NunzU3WOduOKR/cpQcsZMqNRHvzlJ/Qa2rDa+V2xTg5KzaqUdqSJGhkI4feTpGl4+PLTvgaUcngsAAACgtHU64QIUwogxg3TpNSdoyIjcZaNtR0rJWTWyzQ1FjAxRi8fiunjcxaF9f377z2pMNxY5IgAAAACITtQJl5sk3SzprYifi15kcFU/XXr18coMK8s5xuoz2bLRaykbXcouPvRiWciOwi31W/TMe890QUQAAAAAEI1IEy7uflNwLY3yueh9+g5IKjWlSulR/XKOsbQrMX+TYm/vKGJkiNKoAaN06shTQ/seWMa2IgAAAAClq2hbiswsYWZDzayzlZHQ28RN6ZMrlD50QM4hJinx6lbFF21VzhJH6NYuOfSS0Pvz1s7T2h1rixwNAAAAAESjYAkXMyszsy+Y2SNmViupXtJGSfVmVhPc/5yZ5d43ApgpPWGIUhMH560ZHl+6Q/EXN0tpki6l5owDztDQPkNb3Xe5Zi6f2QURAQAAAMC+K0jCxcymSloq6R5J50oapg+WgK4M7v9S0hIzm1KIONBzZMYNVOqUYfI8f2Pjq3crMbdWasgULzDss7J4mS445ILQvpnLZiqdoQw4AAAAgNITecLFzGZIelLSAdqbYNkhaaGk54J2R7O+gyQ9ZWYfijoW9Cw+qp9SU6vkZbn/2sY2Nig5q0baSdnoUnLpoZeG3t+wa4PmrZ1X5GgAAAAAYN9FmnAxs0GSfiepTNlkyqOSpkga7O7HufuUoB0U3H8kmFom6ffBfCAnH9ZHjWcMl/eP5xxjdUHZ6C2UjS4VY4eM1XHDjwvt4/BcAAAAAKUo6hUuVyq7fcgl/V93v8Ddn3NvfZppcP9CSd8NblVIuiLieNATDUio8YzhylTkKRu9J6PE7FrZOspGl4pch+fOem+WNu7eWORoAAAAAGDfRJ1w+UjQPufu32/PBHf/N0lzlV0RE36QA9BSn7hSUyqVGdk355D3y0avoGx0KfjwQR9W/2T/VvdTntKf3/5zF0QEAAAAAJ0XdcJlvLKrW+7r4Lym8eOjDQc9WiKm1CnDlD4kT9lolxILtir++jbKRndz5clynXfweaF9Dyx7QCEL5QAAAACg24o64TI4aNd3cN6GoOUMF3SMmdITByt1zOC8w+JL6hR/eYuU4Ut7d3bp+PDDc9/d/q6qN1QXORoAAAAA6LyoEy5bgvbADs4bHbRbI4wFvYWZMuMHqvHkivxlo1ftUmLuRspGd2NHVhypwysOD+3j8FwAAAAApSTqhMtiZc9i+VR7J5iZSfq0sluR3ow4HvQiPrpcqSltlI2urVdido20i7LR3ZGZ5Tw898l3n9S2+m1FjggAAAAAOifqhMvDQXucmd3Wzjk/kDQpeP1QxPGgl/HKPmqcXiUvz102OrY9peQzNbKtlI3ujs47+Dz1ifdpdb8+Xa/H3nmsCyICAAAAgI6LOuFyp6R1wet/NrO5ZnaRmX2g9IiZlZvZhWY2R9JVwe11ku6OOB70RgOT2bLRQ5M5h7xfNnr9niIGhvYY3GewPnzQh0P77l96P4fnAgAAACgJkSZc3H23pEslNX2LPVXSA5K2mdlqM1tiZqslbZc0U9Lpym5B2i3p0mA+sO/6xpWaWqXMfnnKRqdciXkbFVu5s4iBoT1ybStasmWJ3tzMzkMAAAAA3V/UK1zk7s9Lmqy957lY8DkjJY0L2lizvjcknebuL0QdC3q5REypU4cpfXD/nEPMpUT1FsXfpGx0d3L8iON10KCDQvseWMrhuQAAAAC6v8gTLpLk7gskHSPpIkn/rWzyZaukTNAuDu5fKGmCuy8sRByAYqb0cUOUOjp/xfH44jrFqykb3V3kOzz30Xce1a7GXUWOCAAAAAA6piAJF0nyrIfd/fPufpS7V7h7MmiPCu4/4hzIgEIzU+awQUqdWCG33MPi7+5S4rmNUiNlo7uDCw+5UAlLtLq/s3Gnnnz3yS6ICAAAAADar2AJF6C7yRxYrtSUSnkyd9YlVlOvxOxaaXe6iJEhTGW/Sk0/YHpo3wPL2FYEAAAAoHsj4YJexav6KjV9eP6y0dsas2WjtzUWMTKEybWtaEHNAq3YuqLI0QAAAABA+5FwQa/jg5JqnD5cmSF5ykbvTisxq0ZWQ9nornTayNM0onxEaN/9y+4vcjQAAAAA0H4kXNA79QvKRo/ok3OIpVyJuRsVe5ey0V0lHovr4kMvDu17+O2H1ZBuKHJEAAAAANA+JFzQeyVjSp1WqfSY8pxDzKXEy1sUe2s7ZaO7yMXjLpap9bk7W+q36Jn3numCiAAAAACgbSRc0LvFTOlJQ5U6Mn/Z6MQb2xV/ZStlo7vAyAEjddrI00L7ODwXAAAAQHdFwgUwU+aIQUqdMDR/2eiVO5WYR9norpDr8Nz5a+drzY41RY4GAAAAANpGwgUIZA7qr9TkSnkiT9noDfVKzKFsdLGdccAZquhb0eq+yzVz2cwuiAgAAAAA8iPhAjTjw4Oy0f3ylI3e2qjkrBppO2WjiyUZT+rCQy4M7Zu5fKbSGRJgAAAAALoXEi5ACz44qcbpVcoMzlM2eldayVk1str6IkbWu+WqVlTFGvCrAAAgAElEQVSzq0azVs8qbjAAAAAA0IZIEy5m9nRw3Rjlc4GiK08oNa1KmeF5ykY3uhJzaxV7b1cRA+u9xg4eq0nDJ4X23bXwLjlVpAAAAAB0I1GvcJkWXBsifi5QfMmYUqdXKn1QnrLRGSnx4mbFllA2uhguHX9p6P3Fmxfr6feeLnI0AAAAAJBb1AmX2hYtUNpipvTxQ5U+YmDeYYnXtyv+KmWjC+2cMedov/77hfb94tVfKONUkAIAAADQPUSdcFkWtCMjfi7QdcyUPnKwUse3UTZ6xU4l5m+SUnzpL5SyeJm+fMyXQ/uWbFmip1exygUAAABA9xB1wuV/JZmkSyJ+LtDlMmP6K3VaG2Wj1+/Jlo3eQ9WcQrl43MUa2T88p/uLhaxyAQAAANA9RJ1wuUvSm5KmmNnXIn420OV8v75KTauS9839Tye2pVHJZ2qkOspGF0IyntSXJ4Svclm6Zan+tupvRY4IAAAAAFqLNOHi7vWSzpe0UNLtZva/ZjbNzMqi/BygK/mQMjWeMVyZQYmcY7Jlo2tlGykbXQgXjbtIowaMCu2749U7WOUCAAAAoMtFXRZ6haSnJY3Q3q1FT0vaYWbrzGxFG9fbUcYDFEx5Qqlpw5WpylM2uiGjxLO1stWUjY5aMpbUZRMuC+1bvnW5nnr3qSJHBAAAAAAfFPWWojGSDpK0n6Smci0mKaFsEmZMOy6gNJQFZaMPaKNs9AubFVtaR9noiF1wyAU5V7ncufBOVrkAAAAA6FJRJ1xWhVzvduBaFXE8QGHFTekThyp9WO6y0SYpsWib4gu3kXSJUDKW1FcmfCW0b/nW5Xpy5ZNFjggAAAAA9sp9CEUnuPuYKJ8HlAQzpY8eLC+PK75gq3LVMIq/vUO2O6XUiRVSIupcZ+90/iHn6+7X7tbqHatb9f1i4S8046AZisfiXRAZAAAAgN6Ob31ARDJjByh12jB5PE/Z6LV7lHh2o1RP2egoJGNJfWVi+CqXFdtW6ImVTxQ5IgAAAADIIuECRMj375ctG90nT9nozQ1KPlMr7UgVMbKe6/yx5+vAgQeG9t352p1KZ0huAQAAACg+Ei5AxHxotmy0D8xTNnpnSslnamSbKBu9rxKxRM5VLu9se0ePr3y8yBEBAAAAgGRewEM8zewUSR+WdISkoZKS7n5WizGVksok7XH3zQULBgVnZtWTJk2aVF1dHcnzbn9qaSTP6TINGSXmb1RsY0POIR6TUicNk4/qV8TAStc3ZowPvZ/KpPTRhz6qd7e/26pvzKAxevCiBznLBQAAAEBn5T43Io+CrHAxs8PNbJ6k5yTdIOnjyiZepocM/7ak9yQtNrNID/EFulRZTKnJVUqPzp1MsYyUeH6TYst3FDGwnicRS+SsWLRy+0o99s5jRY4IAAAAQG8XecIlWNXykqSTlc0CNV25/Dzor1Q2KQP0HHFT+qQKpccPyDnEJCUWblX8ta2Ujd4H5x18nsYMGhPad9drdymV4cwcAAAAAMUTacLFzPpLmimpv6SUpO9JOkzZFS6h3P1dSS8Hb0m4oOcxU/qYIUodO0T50inxZTsUf2GzlCbp0hnxWFyXT7w8tO/d7e+yygUAAABAUUW9wuVKSSMkZSRd4u43uPsySY1tzJur7A/6T4g4HqDbyBwyQKlT85eNjq/ZrcSztZSN7qRzxpyjgwcfHNp310JWuQAAAAAonqgTLhdIckl/dvdHOzDvraAdF3E8QLfiI/spNbUyf9noTQ1KzqJsdGfEY3FdPiF8lcuqulV6ZMUjRY4IAAAAQG8VdcLl8KDtaB3WpupEgyOMBeiWvKKPGqcPlw/IUzZ6R0rJWTWyzbkrHCHc2WPO1tjBY0P77lp4lxozbS24AwAAAIB9F3XCpSlhsrGD85JByz4K9A4DEmqcXqVMRVnOIVafUWJOrWzd7iIGVvrisbiumHhFaN/qHav1yNuscgEAAABQeFEnXJpWqgzr4LymQxc6mqgBSlefuFJTq5QZmadsdNqVmLdJsRWUje6ID4/5sMYNCd+heNdrrHIBAAAAUHhRJ1yWBe1pHZx3rrJnvyyINhygm4ubUqdUKD2ujbLRC7YqvmgbZaPbKWaxnBWL1uxYo4fffrjIEQEAAADobaJOuDyu7PfDj5nZqPZMMLOzJZ0evKVuK3ofM6UnDlFqwuD8ZaOX1in+EmWj22vGQTN06NBDQ/vufu1uNaZZ5QIAAACgcKJOuNwlqU5SuaSHzGy/fIPN7EOSfhu83SDp1xHHA5SMzKEDlTqlQp7nX2X8vd1KzK2VGjLFC6xExSyW8yyXNTvW6KG3HypyRAAAAAB6k0gTLu6+SdLXlV3lcpykt8zsF5JmNI0xs8+a2XVmNlvSE5IqJGUkfdnd66OMByg1PqpcqalV8rI8ZaM3Nigxq0baSdnotpx14FkaP3R8aB+rXAAAAAAUUtQrXOTu/yXpG8pWHBok6TJJV0jv75b4laSbJU1WNjHTKOkyd3806liAUuTD+qhxepW8fzznmFhdUDZ6C2Wj84lZTFdOvDK0b93OdZq5fGaRIwIAAADQW0SecJEkd/+JsgfnPqJsosVCLkn6i6RT3P1XhYgDKFkDk2qcPlyZocmcQ2xPRonZtbL1lI3O58wDz9ThFYeH9t2z6B41pElaAQAAAIheQRIukuTuL7v7hZIqJV0g6f9I+q6kf5b0d5L2c/ePuDuViYAwfYOy0fv3zTnk/bLR7+wsYmClxcxyVixav3O9Zi5jlQsAAACA6CUK/QHuvlUS24WAzkjElDp1mOKvblV8RXhSxVxKvLJF6V0ppY8cJJmFjuvNzjzgTB1RcYQWb17cqu+eRffo4kMvVlm8rAsiAwAAANBTFWyFC4CImCl97BCljhmcd1j8rTrFX94iZSgb3ZKZ5axYtGHXBj2w7IEiRwQAAACgpytKwsXMBprZoWZ2XNAOLMbnAj2GmTLjByp1Uhtlo1ftUmLuRqmRstEtTT9guo4cdmRo3z2L7lF9miJpAAAAAKJTsISLmY02s++b2ZuStkh6S9LLQbvFzN40s++Z2ahCxQD0NJkDypWaXCVP5t42FKutz5aN3kXZ6ObMLGfFoppdNbp/6f1FjggAAABAT1aQhIuZXSlpsaTvSDos+JzmFYpiwf1rJb1lZuFr/QG04lV91Dh9uLw8T9no7SklZ9XKtlGBp7mpo6fq6GFHh/b9ctEvWeUCAAAAIDKRJ1zM7HpJP5NUrmxyJSPpdUkPSvpt0L4e3DdJ/SX93Mz+b9SxAD3WoKQazxiuzJA8ZaN3p5WYVSvbsKeIgXVvZqYrjg3P79bsrtGflv6pyBEBAAAA6KkiTbiY2SmSrlc2kZKW9ANJo919grtf4u7/ELQTJI2W9O+SGoPxN5jZyVHGA/RofeNKTatSZr88ZaNTrsRzGxVbSdnoJlNGTdGEygmhffcuuld7UiSoAAAAAOy7qFe4fC14ZkbS37n7v7j7hrCB7r7B3a+V9DFJrmzS5WsRxwP0bEHZ6PTB/XMOMZcS1VsUW7xdcioY5VvlsnH3Rt235L4iRwQAAACgJ4o64TJF2eTJ/e7+UHsmuPvDkv5X2YTL1IjjAXq+mCl93BCljhqUd1jize2Kv0LZaEk6feTpmlAVvsrlzoV3qnZXbZEjAgAAANDTRJ1wqQraxzs474mgrYwwFqD3MFPm8EFKnThUnruAkeIrdykxj7LRZqZ/mvhPoX11jXX6wUs/KHJEAAAAAHqaqBMuTT8W3tXBeU3jN0YYC9DrZA7sr9TkyvxlozfUKzG7VtqdLmJk3c+pI0/VccOPC+17YuUTmrN6TpEjAgAAANCTRJ1weSVoj+ngvKbx1RHGAvRKPryvUtOGy/vlKRu9rVHJZ2pk2xuLGFn3Yma69uRrFbfw36fvP/997WrsaO4YAAAAALKiTrjcpexZLF82s2HtmWBmlZK+rOzZL3dGHA/QK/ngoGz04LbKRtfIanpvVZ7DKw7XPxz5D6F9a3eu1R2v3lHkiAAAAAD0FJEmXNz9MUm/UPYsl6fN7PB8483sMEl/Dcb/h7t39OyXgjAz78D1TMj8G9s5d1wbcUwys9+Y2WozqzezdWY208zObOev44xg/Lpg/urgeZM6+3uDEtIvKBs9vE/OIdboSszdqNiq3ruS44qJV2hk/5Ghfb9Z/Bst3rS4yBEBAAAA6AkSnZlkZvmqCf1R0v6SPippoZk9IelvkpYre1ZLuaRxks6UdE4Qw0xJfzKzqe7eHQ5OCC1l3UxSUkXw+qU84xolbc7Tn8rVYWZfUjZ51fRntE3SCGV/Xz9qZje5+4155t8o6YbgrUvaLmmUpE9L+oSZXeHu9+aJDT1BMqbU6ZWKv7JF8XfDkyrmUuKlzUrtSilz2EDJ8py62wOVJ8v13VO+qyv/dmWrvrSnddP8m/Tb836reCz3Fi0AAAAAaKlTCRdJs5T9Ep+PK5uY+EhwhbFg3EeDy/chpsi4+375+s3sKkk/Ct7+Ms/Qee4+vaOfb2anKru9Ki7pQUn/x91XB9u0vi/pK5JuMLM33f2+kPkf195ky12SrnP3TWY2WtLPlP29vtPM3nD3+R2NDyUmZkofP1TeP6HEm9tzDku8sV3pXWmljx0ixXpX0mXK6Ck6Z8w5enxl60V2b2x6Q79/6/f6zJGf6YLIAAAAAJSqfdlSZO242hoX1l8Kvhi0c919SQGef6uyyZZFkj7u7qslyd03ufvl2ltG+wdmHzzxM3h/a/D2cXe/3N03BfNXS/qEpNeD598q9A5myhwxSKnj2ygb/c5OJeZvklK9r2z0t0/6tgaWDQzt++mCn2rdjnVFjggAAABAKevsapKbIo2ihJjZaZKOCN5GviXHzMZKmhy8/ZG7h5WRuUXS2ZLGSJoqqfk5MtMkHdRs3Ae4e4OZ/UjSf0mabGYHu/s70USP7i4zpr+8X1yJ5zfJUuGL1GLr9ygxu1ap0yulvr1nG01lv0p94/hv6Ob5N7fq253arX974d/00zN/KutlW64AAAAAdE6nEi7u3msTLtq7umWbpP8twPNnNHud6xDhuZLqJA2U9GF9MOHSNL9O0nM55v+l2esPK7vtCL2Ej+ir1LQqJZ7bKNsTvpIltjVbNrrx9EppUO5KRz3NpYdeqoffflgLaha06pu1epb+uuqvmnHQjJCZAAAAAPBBUZeF7tHMbICkjwdvf+/ubZV2OcrMXjezXWa2w8yWmNk9ZnZcnjlHB22Nu9eEDXD3tKS3mj4jx/zFwbiw+TWSanPMD2Vm1W1dkvJWpUL34UPKsmWjB+XOudqutJKzamQb64sYWdeKWUw3nHqDErHw35dbXrhFdQ11RY4KAAAAQCki4dIxn5Q0IHjdnu1ElcpuP9otqY+k8ZK+JKnazP41x5ym+rRr2nh2U3/Lerb7Oh+9RXlCqenDlalqo2z0s7WKvdd7ykYfMuQQfeHoL4T21e6u1U9e+UmRIwIAAABQiki4dMyXgnahu1fnGbdM0jWSDpPU192HSeqv7Lkr1coeDnxdUO2opaZTO9v6htvU3/KUz32dH8rdj2/r0t5VNygVyZhSkyuVPrA85xDLSIkXNyu2tE7ytoqT9QyXTbhMBw06KLTvviX36dWaV4scEQAAAIBSU9ASzGYWk3SIpKGS+rZnjrvPKWRMnWVmR0k6OXibd3WLu/825F6DpCfNbI6kOZJOlHSjmd3r7tuijhdot5gpfcJQqTyu+Fu5t8skFm1TemcqWza6hx8c2yfeR9efcr2++OQXW/W5XDfNv0n3XXCfkrHec74NAAAAgI4pSMLFzM6U9E1JZyq7laa9vFAxRaBpdcseSb/p7EPcfY+ZXSvpKWW3J50l6YFmQ5q+8eZecvDB/pbfkPd1PnojM6WPGiwvjyu+YKssx0KW+Iqdst1ppU6qkBI9e4HcSfufpIsOuUgPvf1Qq77lW5frv9/4b33pmC+FzAQAAACAAmwpMrNblU0mnKvsqhbr4NXtmFmZpM8Eb+939637+Mj5zV6PbdG3NmhHtfGMpv61Le7v63z0YpmDByh12jB5PPc/xdi6PUrMqZX2hJ7J3KN864RvaWifoaF9dy68U+9tf6/IEQEAAAAoFZGuJjGzv5P0rWa3lilbwniDpFIudXKRsgfgSu07LHdfvB60w82syt1rWw4ws7j2VgR6I2T++ZKOMLN4WKUiMxsuqSrHfPRyvl+/bNnoeXnKRm9pVHJWUDZ6YM/dVjOk7xBdfeLVunbuta366tP1uvn5m3X3jLtlPXyLFQAAAICOi3r7zleDtlHSF92901tvupmmfQPLJc2O4HmnNHv9Tou+p5q9PkfS/4TMP117D7t9MmT+d4L+0yQ9GzL/nGavW84H5EPL1Dh9uJLPbZTVpULH2M60krNqsytihnVk52BpOX/s+Xro7Yf0wroXWvU9v+55PbLiEV1wyAVdEBkAAACA7izqLUUTlT2H5Z6ekmwxswMlfSh4+yv3/GVarI0fdZtZH0nfD97ulPS35v3uvkLZVUGSdJWZhS0f+E7QvqvsAbzNzQ7uNx/X/POTkpqqI81195YJHyCrf0KN04crU1mWc4g1ZJSYUytb03PLRpuZrj/levWJhyeVfvjSD7V1z77uMgQAAADQ00SdcGlKNoStqihVX1D29ykl6b/aMX6qmf3VzP7BzEY33TSzpJmdpezvTVO1o5tznAfzbUlpZRNYfzCzUcEzKszsDmXPx5Gka1puGQreXxO8Pc/M7jCzimD+KEl/kDQheP41AvIpiyk1uUrp0f1yDrGMlHh+s2LLeu75ywcOOlBfmfCV0L4t9Vt0W/VtRY4IAAAAQHcXdcJlZdDm/pF4CQnKWn8+ePuYu69rzzRlKw/9WtJ7ZrbLzGqVXc3yV2XLQWck/Zu73xr2AHefJ+lyZZM8l0habWZbJG2UdEUw7CZ3vy/H/Psk3RS8vULSxmD+6uB5KUmXu/v8sPnAB8RN6ZMqlB4/MOcQk5R4bZviC7dK+ReBlazPHfU5jRsyLrTvweUP6qX1LxU5IgAAAADdWdQJlz8r+93r9Iif21U+JOnA4HV7D8tdpOzBwfdLWippt6QhQbtQ0s8lHevu1+V7iLvfq+xKmN9JWqNsGecaSQ9KOsvdb2xj/o3KJn4eDOaVB8/5naRTgucD7WOm9DGDlTp2iPKlU+LLdyjxwmYp3fOSLsl4UjecekPO/pvn36z6dCmfDQ4AAAAgStbGkSQde5jZCGUTDgMknejuVMDpRcysetKkSZOqq6sjed7tTy2N5DmIlq3drcSLm2V5kiqZYWVKnTpM6hOP9LO/MWN8pM/rjO/N/57uWxq6uEyXT7xc/3TsPxU5IgAAAAAF1qmypJGucHH3DcqWUE5J+puZXRrl8wF0PR/ZT6mpVfI+uf/7iG1qUHJWrbQjvMJRKfv68V9XZb/K0L57F92rFVtXFDkiAAAAAN1R1GWh5e7zzewYZbey3GdmGyRVS9qk7NklbUz3L0YdE4BoeUWzstE5kiq2I6XkrJps2eiKnlM2elDZIP3LSf+iq2Zf1aovlUnppvk36T/P+U/FLOodmwAAAABKSeQJFzMbLOlGSUcpu+xmP0nndeARJFyAUjAgocbpVUrM36TYpobQIVafUWLORqVOqpCPzF3pqNTMOGiGpo2eptmrZ7fqe6XmFT2w7AF9bPzHuiAyAAAAAN1FpD+CNbMBkp6W9I+Smh/eYO28AJSSPnGlplQpPSpP2ei0Z5Myb+8oYmCFZWa67uTr1C8R/uv+cfWPtXH3xiJHBQAAAKA7iXrN+9clHads8mSdpGslTZN0uKSD23GNjTgeAIUWN6VPrlD60AE5h5ikxKtbFV/Uc8pG7z9gf3312K+G9tU11OnWF0OrvgMAAADoJaLeUvTJoF0p6SR350e8QG9gpvSEIfLyhOILt+ZcrhZfukPalVb6hAopXvqL2j51xKf0yIpHtHjz4lZ9f1n5F1047kJNHjW5CyIDAAAA0NWiXuFysCSX9B8kW4DeJzNugFKnDJPn+Z8lvnq3EnNrpYa2ztDu/hKxhG487cacB+R+b/73VNdQV+SoAAAAAHQHUSdcdgbtuxE/F0CJ8FFB2eiyPGWjNzYo+UyNtLP0y0YfOexIffqIT4f2rd25Vt+d+115D9lGBQAAAKD9ok64vBm0+0X8XAAlxIf1UeMZw+X9c+9atB0pJZ+pkW0Jr3BUSr567Fe1f//9Q/uefu9p/frNXxc5IgAAAABdLeqEy/8oez7m30X8XAClZkBCjWdUKVNRlnOI1WeUmF0rW7e7iIFFrzxZru+e8t2c/bdX367qDdVFjAgAAABAV4s64fKfypaFnmxm34742QBKTZ+4UlOrlBnZN+cQS7sS8zYptqK0y0ZPHT1VnzjsE6F9aU/r6tlXUyoaAAAA6EUiTbh49qCCiyTdL+nfzOxRMzvPzIZF+TkASkjclDplmNKHtFE2esFWxV/fVtJlo6858RodPezo0L7a3bW6Zs41SmVK/9waAAAAAG2LNOFiZmlJ2yVdqux3qHMkPSypxszS7bj4JgL0RGZKTxys1DGD8w6LL6lT/KXNUro0ky5l8TLdNv02De4T/ut8af1L+vmCnxc5KgAAAABdIeotRdbsavm+vReAnshMmfED1XhyRf6y0e/tVuK5jSVbNnrkgJG6ZfItshz/nf3y9V/qmVXPFDkqAAAAAMWWu4RI58yRVJo/mgZQFD66XKm+cSXmb5LlSKrEauuVmF2j1OmVUnnU/00V3pTRU3TZhMt012t3hfZfN/c6/fGCP+qAgQcUOTIAAAAAxRLpNxl3nx7l8wD0TF7ZR43Tq5Scu1G2Kx06JrY9WzY6dXqlfEjuSkfd1RUTr9DC2oV6ft3zrfrqGut01ayr9D/n/Y/6xPt0QXQAAAAACi3qLUUA0D4Dk2o8Y7gyQ5M5h9ieoGz0+j1FDCwa8VhcP5j6Aw0vHx7av3jzYt3ywi1FjgoAAABAsZBwAdB1+gZlo/fLUzY65UrM26jYOzuLGFg0KvpW6LZptylh4YsJ7192vx5a/lCRowIAAABQDCRcAHStREypU4cpPbZ/ziHmUuKVLXrh4RXyEisbfezwY3XVCVfl7P/e89/Tks1LihgRAAAAgGIg4QKg68VM6WOHKHV0/rLRLz+6Uk//92KlU6VVwejTR3xaZ485O7SvPl2vb876puoa6oocFQAAAIBCivTQXDN7eh8f4e5+ViTBACgtZsocNlCp8rjiL2+W5cipvPX8eu3YWq9zv3KMyvqVRgUjM9NNp92kJZuXaOX2la36V9Wt0vXPXa8fT/+xzMLLSQMAAAAoLRbl8nwzy6jzZaFN2YRLPLKAUFRmVj1p0qRJ1dXVkTzv9qeWRvIclB6rrVdi/kZZY+7/ToaNGqDzvzpBA4bmPv+lu1m+Zbk+9dintDu1O7T/Wyd8S5896rNFjgoAAABAGzr1U9FCbCmyDl5SJ4MH0DN5VR81Th8uL8+df920Zof+9INqbVy9o4iR7ZtxQ8fp+lOvz9l/e/Xtqt4QTcISAAAAQNeKNOHi7rG2LklxSSMkXSjpb8omW34vqR+rWwC8b1BSjdOHKzMkd9nonVvrNfNH1Xrvrc1FDGzfnD/2fH3isE+E9qU9ratnX62NuzcWOSoAAAAAUSv6obmeVevuj7j7DEn/KumTkv5Y7FgAdHP94kpNq1JmRO5tQw170nrkpwv11vPrihjYvrnmxGt01LCjQvtqd9fq23O+rVQmVeSoAAAAAESpy6sUufv1kl6RdIGZ/X1XxwOgm0nElDptmNJjcpeNzmRcf/uvxXr5sXdKomx0WbxMt02/TYPKBoX2v7j+Rf3Hq/9R5KgAAAAARKnLEy6B3yu7teiLXR0IgG4oZkpPGqKTLxybd9gLf35Hs37zltLp7l82etSAUbplyi05++9ddK9mvTereAEBAAAAiFR3SbisCtqjuzQKAN2XmU44b4w+9LkjFIvlPmf7zefW6bE7XlPDnu6/JWfq6Km6bMJlOfuvnXut3qt7r4gRAQAAAIhKd0m4VAbt4C6NAkC3d9gp++v8r01UWd/cZ2yvemOzZt72inZuqy9iZJ1z5cQrdcr+p4T21TXU6apZV6k+3f1/HQAAAAA+yLrDeQdm9qyk0yW96+4Hd3U86Bwzq540adKk6upoytre/tT/Z+++46su7/6Pv66TPUkCCWGHvQMk4kAUUREUEASt9mcdVetA7XDeHfdd297to2qr3re7Q9vau1oqVAQFRAUFVJAwwoYAYYeE7L3O9fsjB8SY7yHAyTkZ7+fjkUc45/u5vt8PDkLeucYun9xH2idTXEvw6uOYynrHGhsZRO3FXSD2mycd/WjSoJZs74wUVBVww8IbyK3IbfL67IGzeWLcE/5tSkRERERETnCeYu9FQGe4GGNSjDH/pCFssTQcEy0iclq2Uwi1lyXi7uR8bLSpqCdkRS4mr8qPnZ25hPAEfj/h9wSb4Cavz9s9jwVZC/zclYiIiIiInIum/3Z/lowxHzezNBToDvQ55b1q4Elf9iMi7VxkMHUTEgn+Ih9XbtPLbkytJXjVcerTE3D3jvRzg803Omk0D5/3ME9+2fQfg//9xX8zKH4QQzsP9XNnIiIiIiJyNnwauACX0TBTpTlOnZJTANxird3t435EpL0LcVF3cReC1hcStL+iyRLjhuAvC6irrMM9KAbMWc0IbHE3D72ZjXkbWZq99BvXquqruPfDe/nb1X+jT2yfJkaLiIiIiEhr0hJLikwzPmqBXGAF8B/AEGvt4hboRUQ6ApehPj2e+qExXsuCt5QQtKEI3IHfu6opxhh+Me4XpMSmNHm9oKqAe5bdw7HyY/5tTEREREREzphPAxdrrauZH+HW2mRr7eXW2qestcd92YeIdEDGUD+sE3Xp8VgvE1iC9pUT/Hk+tdXOm+0GUlRIFM9c9gwRwRFNXrpXHt4AACAASURBVD9cdph7P7yX4upiP3cmIiIiIiJnorUcCy0i4hPulCjqxnXBBjunLq6cKt55Zj0VJTV+7Kz5BsYP5Jfjful4PasoizkfzaGituklVCIiIiIiEngKXESk3bHJ4dRNSMSGO/8Rl7u/lLefXEdhTrkfO2u+KX2n8B/n/4fj9cy8TH604kfU1tf6sSsREREREWkuBS4i0i7ZuFBqJybhjnXeG7w0v4p5T2VwJKvIj501381Db+a+Ufc5Xv/syGf8ZNVPqHe3zuVRIiIiIiIdmQIXEWm/IoOpm5CEOzHMsaS6oo53n9tIVkauHxtrvvtG3cdNg29yvL4kewm/WfMbrG2dGwGLiIiIiHRUZ30stDHmv3zZyAnWWueNC0REzlSo59jojEKCDja950l9nZulf9xCacEARl/ZC9OKjo02xvDjC35McU0xi/c1fZjb3F1ziQ+P54ExD/i5OxERERERcXLWgQvwBNASP1JV4CIivhVkqB8bD5FBBO0sdSz7bF4WpQVVjL9hIC5X6wldXMbFry/+NaU1paw6vKrJmlczXyUuLI7vDPuOn7sTEREREZGmnOuSIuPjDxGRlmEM9SM6UTcmzuux0ZuXH2LJq5uprWld+6KEBIXwzGXPMDpxtGPNk18+ycI9C/3YlYiIiIiIODmXGS7f9sHzRwEPApEocBERP3D3i8ZGBBGxrpC6GneTNfs2HWfBsxuYOieViJhQP3foLCI4gheueIHbl9xOVlFWkzX/ufo/iQmN4bJel/m3ORERERER+RoTiI0WjTH9aFg6dBNfn92y2Fo71e8NiU8YYzLS0tLSMjIyfHK/Z5ft8sl9RJpy86BkFr2YSWVJjWNNbGIE0x8YRVzXSD92dnp5FXncsvgWDpcdbvJ6WFAYr1z5Cucln+fnzkRERERE2qWzmiDi11OKjDHJxpiXgO00zJBx0dD4Z8AEhS0i4i9JfWK5/rF04pOdw5SSvErmPZ1Bzt5iP3Z2eomRifxx0h/pHN65yevV9dU8+PGD7CjY4efORERERETkBL8ELsaYOGPMb4Es4B4ghIagJROYbq0db61d6Y9eREROiO0SwaxH0+k2oJNjTVVZLe88u4G9G/L82Nnp9YrtxauTXiUmJKbJ62W1Zdyz7B72l+z3c2ciIiIiIgItHLgYYyKNMT8B9gKP8tVeLXuAm621o62177VkDyIi3oRHhXDtD0YzID3Jsaa+1s3iP2wmc/lBP3Z2eoMTBvPCFS8QFhTW5PWCqgLuWXYPuRW5fu5MRERERERaJHAxxgQbYx6gIVj5FRBHQ9ByBLgPGGqtfbMlni0icqaCQ4K46s7hjJnU27nIwsp/7mbV27uxbv/vfeUkrWsaz1z2DMGm6T3QD5cd5p5l91Bc3bqWRYmIiIiItHc+DVxMg1uBXcD/AEk0BC0FwOPAAGvtq9baOl8+V0TkXBmXYdzsAVx60yCMly2xNn14kKV/2kJdbes5NvrSnpfyq/G/cryeVZTFnI/mUFFb4ceuREREREQ6Np8FLsaYmcBm4HWgDw1BSwXwa6CftfZpa22Vr54nItISRl7Wkyn3jCQ4xPmPxz3r83j3uY1UldX6sTPvpvWbxn+c/x+O1zPzMnloxUPU1reenkVERERE2rNzDlyMMZcbY74A5gFDaQhaaoHngf7W2v+01pac63NERPyl3+hEZjw0hoiYEMeao3uKmfd0BsV5lX7szLubh97MvaPudby++shqfrLqJ9S7W8/sHBERERGR9uqsAxdjzFhjzDJgGTCWhqDFAn8FBltrf2Ct1U6NItImJfftxOzH0umUFOFYU3SsgnlPreNYduvJlOeMmsNNg29yvL4kewm/WfMbrG09+9CIiIiIiLRH5zLDZQ1wOQ1BC8B8YIS19rvWWp1DKiJtXqfESGY/lk5yv1jHmsrSWt55Zj37Mo/7sTNnxhh+fMGPubrv1Y41c3fN5bn1zyl0ERERERFpQU0fa3FmLA17tQwD5htvu002417W2uE+6ElExCciokOZ8cMxLHt9G3s35DVZU1fjZvHLmVx60yBGTOjp5w6/yWVc/PriX1NSU8Lqw6ubrHlty2uU1pTy0wt+SpAryM8dioiIiIi0f74IXAAigcHneI8TS5JERFqV4NAgJn9vBJ+9ncWmjw82WWMtfPLmLkoLqrhwRn+M65zC53MWEhTCMxOe4Z5l97Axb2OTNf/a9S+Kqov47SW/JTQo1M8dioiIiIi0b+e6aa7x4YeISKvlchnGf2sg428Y6PVPrPVLD7Ds9W3U17r915yDyJBIXrjiBQbEDXCsWbZ/GXM+nEN5bbkfOxMRERERaf/OOnCx1rpa4EPz2kWkVRt1RS+mfG8EQV6Ojd795THe/d+NVJUH/gjmTmGd+MOkP9ArppdjzZqcNdyx9A4Kqgr82JmIiIiISPt2zsdCi4h0NP3TkpjxwzGERzkfG31kdxHzn86gJD/wx0YnRiby1yl/ZVD8IMeabfnbuG3xbRwpO+LHzkRERERE2i8FLiIiZ6Fb/4Zjo2O7hDvWFOZUMO/JDPIOlPqxs6YlRiby+pTXSUtKc6zJLsnmlvdvIaswy4+diYiIiIi0TwpcRETOUlzXSGY/dh5JKc7HRleU1DD/9+vZvyXfj501LTY0llcmvcKEnhMca3Irc7ltyW1szG16o10REREREWkeBS4iIucgMjaUmQ+NISW1i2NNXXU9772UybZVgV+uExEcwbMTn+Xa/tc61pTUlHD3srtZeWilHzsTEREREWlfFLiIiJyjkNAgrr53JCMn9HCssW7L8r/vYM27e7HW+rG7bwpxhfCri3/FbcNuc6yprKvk+x9/n0V7F/mxMxERERGR9kOBi4iID7hchktuGsS4Wc5HMAOsez+bj/6ynfq6wB4b7TIuHhn7CD9K/5FjTZ2t48crf8z/bf8/P3YmIiIiItI+KHAREfERYwxjrurNVXcNxxVsHOt2rslh4fObqK6s82N3TbtjxB38ctwvcRnnLwe/Xftbnt/wfMBn5oiIiIiItCUKXEREfGzgeV2Z8YMxhEUGO9Yc3lnI/KczKC2o8mNnTbtu4HU8c9kzhLpCHWv+kPkHfvXFr6h31/uxMxERERGRtkuBi4hIC+g+MI5Zj6YTk+B8bHTBkXLmPZXB8UOBPzb6it5X8MqkV4gOiXas+deuf/Hop49SU1/jx85ERERERNomBS4iIi0koVsUsx9PJ7F3jGNNeVE183+3noPbCvzYWdPGJo/ltcmvkRCe4FizbP8y5nw4h/Lacj92JiIiIiLS9ihwERFpQVGdwpj50Bj6jOjsWFNbVc+iFzax/bOjfuysaUM7D+WNq9+gR7TziUtrctZwx9I7KKgKfEgkIiIiItJaKXAREWlhoeHBXHPfSIZd0t2xxu22fPy37axdtC/gm9P2ju3NG1e/wcD4gY412/K3cdvi2zhSdsSPnYmIiIiItB0KXERE/MAV5OKy/zeYC2f281r35aJ9fPzGDurrA3tsdGJkIn+Z8hfSktIca7JLsrnl/VvIKszyY2ciIiIiIm2DAhcRET8xxpA+JYUrvzsMV5DzsdE7PjvKey9mUhPgY6NjQ2N5ZdIrTOg5wbEmtzKXW5fcyspDK/3YmYiIiIhI66fARUTEzwZfkMz0748mNML52OiD2wqY//v1lBdV+7Gzb4oIjuDZic9ybf9rHWtKa0q5/6P7eWXTK7htYGfmiIiIiIi0FgpcREQCoOfgeGY9mkZ0fJhjTf6hMt5+ch35h8v82Nk3hbhC+NXFv+K2Ybc51lgsL258kR98/ANKakr82J2IiIiISOukwEVEJEA6d4/m+sfPo0uvaMeassKGY6MP7QjsiUAu4+Lh8x7mh2k/9Fq34tAKvr3o2+wq3OWnzkREREREWicFLiIiARQVF8Z1D6fRe1iCY01NZR0Ln9/EzjU5fuzsm4wx3DnyTn4x7hcEG+flUAdKD/Cd97/D+3vf92N3IiIiIiKtiwIXEZEACw0P5pr7Uxk6rptjjbve8uHr21i3ODvgx0bPGjiLP03+E53DOzvWVNZV8vjKx3ly7ZPUumv92J2IiIiISOugwEVEpBUICnIx8ZYhnD+9r9e6NQv2suIfO3EH+Njo9K7pzJ0+l9GJo73W/X373/neB9/jeOVxP3UmIiIiItI6KHAREWkljDGMndqXK24bisvlfGz0tpVHeP/lzdRUBfbY6KTIJF6b/BrfHvJtr3UZxzK4ceGNbMzd6KfOREREREQCT4GLiEgrM+Sibkx7cBQh4UGONfu35PPOMxsoLw7ssdEhQSH85IKf8JvxvyEsyPnEpdzKXL679Lu8uePNgC+JEhERERHxBwUuIiKtUK+hCcx6JJ2oOOcQI+9AKfOezKDgaLkfO2va9P7T+fs1f6dHdA/Hmjp3Hb9Z8xt+tvpnVNVV+bE7ERERERH/U+DiwBhzuzHGNuPjSi/36G+MedUYs88YU2WMyTPGLDXGzG5mD2nGmL8bYw4ZY6qNMUeNMf82xlzezPETPfVHPeMPee6X1tx/DiISOF16RnP94+l07hHlWFNaUMX8pzM4srvQj501bUjCEP457Z+M7zHea927e97llsW3cKj0kJ86ExERERHxPwUup+cGjnn5aHI+vzHmGiATuBtI8dQlAFcBbxtjXjPGOG7SYIy5C1gD3Az0ACqBrsBM4CNjzBPemvZc/9hT39Uzvofnfms89xeRVi46PpzrHkmn55B4x5rqijoW/M9Gdn95zI+dNa1TWCdevOJF7h11r9e6HQU7uHHRjaw6vMpPnYmIiIiI+JcCl9M7aK1N9vKxsvEAY0xfYC4QCawGBltrOwGdgF96yr4LPNrUA40xFwGvAMHAO0Ava20ckAi86in7uTHmWw7jvwX83PPyVSDRM76X537BwCue54hIKxcWEcy0B0Yx+MJkxxp3neWDP29l/Qf7A75Hisu4uH/0/bxw+QvEhMQ41pXUlDDnwzm8sukV3Dawpy6JiIiIiPiaApeW8UsgCsgBpllrdwFYa8ustT8H/uCp+6kxpqkfWz8FBAGbgW9Zaw95xudba+8FlnrqnjTGfG1XTc/rpzwvl1hr77XW5nvGHwJuBLZ47v8UItImBAW7uOK2oZx3TYrXus/n7+HTt3bhdgd+Y9oJvSbw1rS3GBA3wLHGYnlx44v84OMfUFJT4sfuRERERERalgn0T0JbK2PM7cDrwH5rbcoZjIsC8oAI4OfW2l82UZMC7PO8vMNa+/op1/oBezwvb7PW/q2J8ROAFZ6Xl1trl59y7XLgI8/LCdbaT5sYfxvwF8/LftbafY1rzoYxJiMtLS0tIyPDF7fj2WW7fHIfEX/40aRBfnvWtlVHWPGPnVgvoUpKaheuums4IaHOJx35S0VtBU98/gSL9y32Wtc7pjfPTXyOgfED/dSZiIiIiEizOG4H4o1muPjeeBrCFoAmv7uw1mYD2z0vr2p0edIpv17i8IxVQOlpxpfSsJypKaf21Xi8iLRyw8Z3Z+r9qYSEOYcp2ZnHeeeZDVSU1Pixs6ZFhkTy5CVP8vjYxwk2wY51B0oPcPP7NzNv17yAL4sSERERETlXClxOL9EYk2GMKTPGVBpj9npO+rnMoX7EKb/e4uW+J64Ndxifa63NbWqgtbYe2HGa8ds9dU2Nz6VhFk5T40WkDegzvDPXPZxGZGyoY01udgnznlpH0bEKP3bWNGMM3xn2Hf40+U90Du/sWFdZV8kTnz/B/R/dT25Fk38EioiIiIi0CQpcTi8SSANqaPjn1ZeGk36We04aavzj2u6ez4XW2kov9z3cqL7x+MN411Ljm+QJnbx+AEOacy8R8Y3E3jHMfjyd+ORIx5qS41W8/dQ6jmYV+bEzZ+ld05k7fS6jE0d7rVt5eCXXLbiOxfsWa7aLiIiIiLRJClycHQF+AYwCwq21CTSELxcDH3pqvgs822jciSM5Tvcj5RPXGx/hEejxItKGxHaOYNaj6XQfGOdYU11ex4LnNrJnfeuYMZIUmcRrk1/jpsE3ea0rqSnhsU8f45FPHqGwqtBP3YmIiIiI+IYCFwfW2g+stU9YazOttdWe9+qttZ8Bk4EFntI5xph2v8OjtTb9dB98tcxJRPwoPCqEa78/moFjuzrW1Ne5WfLHLWz88IAfO3MWEhTCTy/8Kb8Z/xvCgsK81n6w/wOuW3AdKw6u8E9zIiIiIiI+oMDlLFhr3cAjnpcuYPopl09sZus8x//r10sbvR/o8SLSBgWFuJj03WGkTe7jXGRh9dtZrJzbOo6NBpjefzr/mPoPhiR4X5GYX5XPgx8/yM9W/YzSGv2xJSIiIiKtnwKXs2StzQKOe172O+XSEc/neGNMBM56NKpvPL4H3rXUeBFpo4zLcNF1/Znw/wZjvBxcl/nxIZb+cQt1NU3uq+13g+IH8Y9r/sE9qfcQZLwfY71gzwJmvTuLL45+4afuRERERETOjgIX3zv1ZKIRjlVfXdvqMD7JGJPY1EBjTBBfbVDrNH6op66p8UnAiXs3Hi8ibdyIS3twzX2pBIc6/xG/d0MeC57bQGVZ4I+NhoYlRg+MeYA3rn6Dvp36eq3NKc/hex98j19/8WsqagN/ApOIiIiISFMUuJwlY0x/oIvn5b5TLq0CTpxONMVhbB9gqOflB40uLzvl102Op2Hj3hOb3TqNjwHGOYw/9b6Nx4tIO5CS2oWZD6URERPiWJOzt4R5T2VQnNd6QouRiSOZO20utwy7BYOXaTrAWzvf4oaFN7Axd6OfuhMRERERaT4FLk0wxttk/JPXn/a8dAOLTlyz1pYD8zwv7zPGdGriFo97PpcC75x6wVq7l4bQBuBhY0xT3y39h+fzfuDTRtc+8bx/at2pvYcAD3terrLW7mtcIyLtQ9eUWK5//Dziujpv6VScW8m8pzLI2Vfsx868Cw8O57Gxj/HnyX+mR7T31ZEHSg9w25LbeCbjGarrq/3UoYiIiIjI6SlwaVofY8xaY8w9xph+JwIYY4zLGHMhsBi4zlP7qrV2Z6Px/wWUA92AhSdOMTLGRBlj/gu411P339baps46fRyop+FI6reMMT084xOMMS8BV3vqHrPWfm0TBs/rxzwvrzHGvGSMSfCM7wG8BaR67v8YItKuxXaJYPaj6XQb0FT226CytJYFz2xg78Y8P3Z2emOTxzLv2nlcP+h6r3Vu6+b1La9z06Kb2Ja/zU/diYiIiIh4Z6xtHSdVtCbGmBS+vkyomobZKDHAqeeXvg7cba2ta+Ie1wD/4qvTgIqBaCDolLF3Wod/AcaYu4CXgWDPW0VAJzg5x/4X1tonvPwengB+7nlpPc+P87yuA+6z1v7JafzZMMZkpKWlpWVkZPjkfs8u2+WT+4j4w48mDQp0C17V1dbz4evb2bM+17nIwCXfGkTqxJ7+a6yZVh1exc9X/5zcSi/9A8EmmLtH3c1dI+8ixOW8nEpERERE5Ax4X+vuQDNcmnYMeBD4B7ANKKEhrKgFdgCvAeOttXc0FbYAWGvfp2EmyR+BbCAcKKRhj5XrPWMd0y5PGHKBp4fDNAQ3uTQsQbrCW9jiGf8EcIWnPtcz/rDnfhf6OmwRkdYtOCSIyXcNZ/SVvZyLLKz85y5Wz8vCtpJjo08Y32M882fMZ2q/qV7r6mwdL218iVvev4U9RXv81J2IiIiIyDdphov4jGa4SEfW2me4nCpz+UFWzt3dMPfNwYD0JK64fSjBId6PaQ6EZfuX8avPf0VhdVMrMr8S6gplzug53DrsVkKCNNtFRERERM6aZriIiMjppU7sxdX3jCQoxPlLQFZGLu/+z0aqymv92FnzTOozifkz5jOx10SvdTXuGp5b/xyzF87m8yOf+6k7EREREZEGClxERDqgfqMTmfmjMYRHO8/8OJpVzLynMig5XulYEyhdIrrwPxP/h1+P/zUxITFea/cV7+PuZXfz0IqHOFp21E8dioiIiEhHp8BFRKSDSu7XidmPpdMpMcKxpuhYBW8/lUHu/hI/dtY8xhiu7X8t82fM56JuF522ftn+ZVz7zrX8IfMP1NTX+KFDEREREenIFLiIiHRgcUmRzH4sna59Yx1rKktq+Pfv15O9+bgfO2u+5KhkXp30Kj+74GdEBDuHRwBV9VU8v+F5rltwHZ8e+tRPHYqIiIhIR6TARUSkg4uICWXGj8bQb3SiY01djZv3X8pk68rDfuys+Ywx3DjkRuZNn8f5yeeftv5A6QHu/+h+Hvz4QQ6WHvRDhyIiIiLS0ShwERERQkKDmHz3CFIn9nSssRZW/N9OPn9nT6s7NvqEXrG9+NNVf+LpCU+TFJl02voVB1cw852ZvLTxJarqqvzQoYiIiIh0FApcREQEAJfLcMmNg7j4+gFe69Yv2c+y17dRX+v2U2dnxhjDlJQpLJy5kDtH3EmwK9hrfY27hpc3vczMBTP5+MDHWNs6wyQRERERaVsUuIiIyNeMvrI3k783gqBg5y8Ru788xsLnN1Jd0fqOjT4hMiSSH6b/kPnXzmdc93GnrT9cdpgfLP8Bcz6aw/6S/X7oUERERETaMwUuIiLyDQPSk7j2h6MJi3KeHXJ4VxHzf7ee0oLWvRSnb6e+vHLlKzx32XN0i+p22vpVh1dx3YLr+N/1/0tFbYUfOhQRERGR9kiBi4iINKn7gDhmP5pObJdwx5qCI+W8/eQ68g6W+rGzM2eM4Yo+V7Bg5gLuSb2HUFeo1/pady1/3PxHZiyYwQfZH2iZkYiIiIicMQUuIiLiKD45itmPnUdSnxjHmoriGv79u/Uc2Jrvx87OTkRwBA+MeYB3ZrzDhJ4TTlufU57Dw588zN3L7mZv0V4/dCgiIiIi7YUCFxER8SoyNpSZD6WRMrKzY01tdT2LXsxk2+ojfuzs7PWK7cULV7zAC5e/QM9o55OZTvji6BfMencWv/j8F+SU5/ihQxERERFp6xS4iIjIaYWEBXH1vSMZcWkPxxrrtix/YwdrFu5tM0twJvSawDsz3+H+0fcTFhTmtbbe1vP2rreZOn8qv/vydxRWFfqpSxERERFpixS4iIhIs7iCXFz67UFcdF1/r3Xr3svm479up76udR4b3VhYUBj3jrqXBTMXcEXvK05bX+Ou4a/b/srV86/m5U0vU15b7ocuRURERKStUeAiIiLNZowhbXIfJt05DFewcazb8UUOi17YRE1lnR+7Ozc9onvw3MTneOXKV+gT2+e09eW15by08SWunnc1f9v6N6rrq/3QpYiIiIi0FQpcRETkjA0am8y13x9NWKTzsdGHdhQy/3frKSts3cdGN3Zxj4uZf+18fpj2QyKCI05bX1hdyNPrnmbq/KnM2zWPOnfbCZlEREREpOUocBERkbPSY1A8sx5JJzrBee+T/MNlvP1kBvmHy/zY2bkLDQrlzpF38u7Md5k9cDZBJui0Y45VHOOJz59g5oKZLNm3BLdtG0uqRERERKRlKHAREZGzltA9iusfP48uvaIda8qLqpn/dAYHdxT4sTPfSI5K5olxT/DvGf9mcsrkZo3ZX7KfRz99lJsW3cTKQyvbzAbCIiIiIuJbClxEROScRHUK47qH0+g93PnY6Jqqehb97yZ2fHHUj535Tt9OffndhN8xd9pcxvcY36wx2wu2M+ejOdy+5HbWH1vfwh2KiIiISGujwEVERM5ZaHgwU+eMZNjF3Rxr3G7LR3/Zzrr397XZWR9DOw/l5Stf5i9T/sKYpDHNGrM+dz23LbmN+z68j+3521u4QxERERFpLRS4iIiIT7iCXFz2nSFccG0/r3Vr3t3Hir/voL6+7e5xkt41nb9O+SsvXvEig+MHN2vMqsOr+Naib/HoJ4+SXZzdsg2KiIiISMApcBEREZ8xxnDeNSlceftQXC7nY6O3rT7K+y9lUlPVdk/0McZwac9LmTt9Lk9f+nSzjpIGWJK9hJkLZvKTlT9hd+HuFu5SRERERAJFgYuIiPjc4Au7Me37owgNdz7d58DWAv79+/WUF1f7sTPfcxkXU/pO4d8z/s0TFz1B18iupx1Tb+tZuHchs96dxQMfPcCG3A1+6FRERERE/EmBi4iItIheQxKY9Wg60fHOx0YfP1jG20+uo+BIuR87axkhrhBmD5rNe7Pe49HzHiU+LL5Z4z459Am3Lr6VWxffyicHP9Fx0iIiIiLthAIXERFpMZ17RDP7sfPo3MP52OiygmrmPZ3B4Z2Ffuys5YQFhXHr8Ft5f9b7zBk9h6iQqGaN25C7gQc+foDZ785m4Z6F1LprW7hTEREREWlJClxERKRFRceHMeuRNHoNdZ7xUVNZx7vPb2TXlzl+7KxlRYdGc9+o+1g8azG3DbuNUFdos8ZlFWXxk1U/Yer8qfzf9v+joraihTsVERERkZagwEVERFpcaEQwUx8YxZCLkh1r3HWWZX/eRsaS7DZ7bHRT4sPjeWTsI7w36z1uHHxjs4OXo+VH+e3a3zJ53mRe3vQyRVVFLdypiIiIiPiSAhcREfGLoCAXl986lLFTU7zWffHOXj59cxfuNnxsdFOSo5L52YU/Y+n1S7lr5F1EhzgvszpVUXURL218iavmXcWTa58kp7z9zAISERERac8UuIiIiN8YYzh/ej8m3jIE4+XY6C2fHmbxK5upra73Y3f+0SWiCz9I+wHLrl/GQ+kP0SWiS7PGVdZV8vftf+fqeVfz01U/ZU/RnhbuVERERETOhQIXERHxu2EXd2fa/amEhDkfG529OZ93nllPRUmNHzvzn+jQaL474rssmb2En1/0c/rE9mnWuDpbx7t73mXmgpk8+PGDbMzd2MKdioiIiMjZUOAiIiIB0Xt4Z657JI3ITs57muTuL+XtJ9dRmNP2j412EhYUxvWDrmfBjAX8fsLvGdZ5WLPHrji4glsW38Kti29l8b7F1NbrZCMRERGR1sK0p40JJbCMMRlpaWlpGRkZe9HkHgAAIABJREFUPrnfs8t2+eQ+Iv7wo0mDAt1Cm1VaUMWiFzZRcMQ5VAmLDOaaOal0HxDnx84Cw1rLmpw1/Hnzn/ni6BdnNLZzeGeuH3Q9Nwy6ga5RXVuoQxEREZEOx3ktvBea4SIiIgEVkxDOrEfS6DHYOUyprqjj3ec2kpWR68fOAsMYw4XdLuSPV/2Rt6a9xVV9rsI082t8flU+r2a+yuR5k3loxUOsPbq2XZ34JCIiItKWKHAREZGAC4sMYfqDoxl0vvOsjPo6N0v/uIUNyw50mBBheOfh/P6y37PwuoVcP+h6QlwhzRpXb+tZtn8Zd35wJ9ctuI43d7xJeW37XZYlIiIi0hppSZH4jJYUSUemJUW+Ya1lzYK9ZCzZ77Vu5MSejL9hIC4vJx21R3kVebyx/Q3m7px7xgFKZHAk0/tP59tDvk3/uP4t1KGIiIhIu3RWf+lU4CI+o8BFOjIFLr61deVhPnlzF9bt/DWq76guTLpzOCGhzicdtVclNSXM3TmXN3e8SW7FmS+zOj/5fG4achMTe00k2BXcAh2KiIiItCsKXCSwFLhIR6bAxfeyNx9n6Z+2Uldd71jTtW8sU+ekEhHjfNJRe1brrmX5geW8tfMtvsz58ozHJ0UmccOgG7h+0PV0iejSAh2KiIiItAsKXCSwFLhIR6bApWXk7i9h0YuZVJbUONbEJkYw/YFRxHWN9GNnrU9WYRZv7XyLhXsWUlFXcUZjg13BTOo9iZuG3MSYpDEY07GWaomIiIichgIXCSwFLtKRKXBpOSXHK1n0wiYKc5xDhPDoEKbOSSW5Xyc/dtY6ldWUsXDvQt7a8RZ7i/ee8fhB8YOYNXAW1/S9hvjw+BboUERERKTNUeAigaXARToyBS4tq6q8lsWvbObI7iLHmqAQF1fdMZx+YxL92FnrZa3ly5wveWvnW3x84GPqrfPSrKYEu4K5rOdlzBgwg4t7XNzsE5JERERE2iEFLhJYClykI1Pg0vLqauv56K/byVrnZZNYA+NvGMioy3v5r7E2IKc8h7d3vc3bu94mvyr/jMd3Du/MtH7TmDFgBgPjB7ZAhyIiIiKtmgIXCSwFLtKRKXDxD+u2fP7OHjZ8cMBr3agrenHx7AGYDnZs9OnU1teybP8y3tr5FhtyN5zVPYZ3Hs6MATO4pu81dArTEi4RERHpEBS4SGApcJGOTIGLf21ecYiV/9yFty9h/cckcuV3hxHcAY+Nbo6dBTt5c8ebvL/vfSrrKs94fIgrhIm9JjJjwAzGdR+n46VFRESkPVPgIoGlwEU6MgUu/rdvUx4f/GkrdbVux5rkfp2YOieV8GjtP+KkpKaEBVkLmLtzLtkl2Wd1j8SIRKb1n8bM/jPpF9fPtw2KiIiIBJ4CFwksBS7SkSlwCYxj+0p476VNVJbWOtbEdY1k2gOj6JQY4cfO2h5rLRvzNvJO1jsszV5KeW35Wd1nZJeRzBwwk8kpk7XkSERERNoLBS4SWApcpCNT4BI4xXkVLHx+E8W5zstiImJCmDpnFF37xvqxs7aroraCjw58xIKsBazJWXNW9wh1hXJ578uZ3n86F3W7iJAgzTISERGRNkuBiwSWAhcR31B4c+Yqy2p4/6XN5OwtdqwJDnFx1V3D6TtKx0afiSNlR3h3z7ssyFrAobJDZ3WP2NBYruh9BVP6TuH85PO134uIiIi0NQpcJLAUuIj4hgKXs1NXU8+Hr29jz4Y8xxpj4JIbBzHysp5+7Kx9sNaScSyDBXsWsDR76VlttAuQEJ7Alb2vZErfKaQlpRHk0qbGIiIi0uopcJHAUuAi4hsKXM6edVtWz8ti00cHvdaNuao3F83sr2Ojz1JFbQXL9i9jwZ4FfJnz5VnfJzEikatSrmJKyhRSE1NxGZcPuxQRERHxGQUuElgKXER8Q4HLudv00UFWvb0bvHyJG3heElfcNoygEH2Tfy4Olh5k4Z6FvLvnXQ6XHT7r+yRHJTO5z2Sm9J3C8M7DMUZhmIiIiLQaClwksBS4iPiGAhff2LMhl2WvbaPey7HR3QfGcfW9IwmP0oau58pt3WQcy+CdrHdYtn/ZWS85AugZ3ZMpfacwJWUKg+IHKXwRERGRQFPgIoGlwEXENxS4+M7RPcW8/1ImVeXOx0bHJzccGx3bRcdG+0p5bTkfHfiIJfuW8PmRz6mzdWd9r5TYlJPhS/+4/j7sUkRERKTZFLhIYClwEfENBS6+VXSsgoUvbKIkz3nGRWRsKNMeGEVi7xg/dtYxFFcX89GBj1i8bzFrc9bits4zjk5nQNwALu99OZf3upxhnYdp5ouIiIj4iwIXCSwFLiK+ocDF9ypKanjvpUxys0sca4LDgpjyvRH0GdHZj511LPmV+Xy4/0OWZC8h41gG1tsmO6eRFJnExF4TubzX5YxNHktIkJaFiYiISItR4CKBpcBFxDcUuLSM2pp6lv15K/s2HXesMS7DhG8PYvglPfzYWceUW5HLB9kfsCR7CZvyNp3TvaJDohnfYzwTe03kkp6XEBOqmUoiIiLiUwpcJLAUuIj4hgKXluN2W1b9cxebP/F+mk761X244Np+WrLiJ0fKjvBB9gcszl7Mtvxt53SvYBPM2OSxTOw9kYm9JpIcleyjLkVERKQDU+AigaXARcQ3FLi0LGstGz88yGfzsrzWDbqgK5ffMpSgYB0b7U8HSg6wNHspS7KXsKvw3L8ODE0YysTeDUuPdOKRiIiInCUFLhJYClxEfEOBi3/sXneMD/+yDXed89fBHoPjufrekYRFBPuxMzlhb9FelmQvYUn2EvYV7zvn+/WI7sHEXg0zX9K6phHs0r9XERERaRYFLhJYClxEfEOBi/8c2V3E+y9nUl3hfGxxQvcopj0wipiEcD92Jo3tK97H8oPLWX5gOZvyNp3ThrsAncI6Ma77OMb3GM+47uPoEtHFR52KiIhIO6TARQJLgYuIbyhw8a+Co+UsemETpflVjjVRnUKZ9uAouvTUZqytwfHK43xy8BOWH1zO50c+p8Zdc873HJowlPE9xjO+x3hSE1M1+0VEREROpcBFAkuBi4hvKHDxv/Liat57MZO8A6WONSHhQVx990h6DUvwY2dyOhW1FXx25DOWH1zOJ4c+obi6+JzvGRMSw4XdLzw5+0Ub74qIiHR4ClwksBS4iPiGApfAqKmq44M/b2X/5nzHGpfLcNl3hjB0XDc/dibNVeeuY0PuBpYfXM7HBz7mcJn306iaa0DcAC7pcQkX97iYtKQ0QoJCfHJfERERaTMUuEhgKXAR8Q0FLoHjrnfz6Vu72LryiNe6sdP6MnZqik68acWstewu2s3yA8tZfnA5W/O3+uS+EcERXNDtAsZ3H8/4nuPpEd3DJ/cVERGRVk2BiwSWAhcR31DgEljWWtYv3c8X7+z1WjdkXDcuu3kwQUE6NrotyCnPYcXBFSw/uJy1OWupcztvlHwmUmJTTi49Su+aTmRIpE/uKyIiIq2KAhcJLAUuIr6hwKV12LU2h4/+uh13vfPXyV7DEpjyvRGE6tjoNqW8tpy1R9ey+shqVh1e5bOlR8EmmJGJIzk/+Xwu6HYBoxJHERoU6pN7i4iISEApcJHAUuAi4hsKXFqPQzsLWfzKZmoqnWdDdO4ZzfQHRhEVF+bHzsRXrLVkl2Sz6vAqVh9ezZc5X/rk1COAsKAwxiSN4YJuF3BB8gUM7TxUpx+JiIi0TQpcJLAUuIj4hgKX1iX/SBmLnt9EWWG1Y010fBjTHhhF5x7RfuxMWkJlXSXrctadnP2yv2S/z+4dHRLNecnncUHyBZzf7XwGxg3UPkAiIiJtgwIXCSwFLiK+ocCl9SkvqmbRi5s4frDMsSY0Ipir7xlBzyE6Nro9OVhy8GT4sjZnLZV1lT67d0J4Aucnn8/53c7nwuQL6RnTUwGMiIhI66TARQJLgYuIbyhwaZ1qqupY+octHNhW4FjjCjJcfutQBl+Q7MfOxF9q6mvIOJbB6sOrWX1kNVlFWT69f7eobif3f0nvmk736O4+vb+IiIicNQUuElgKXER8Q4FL61Vf7+aTf+xk++qjXusumNGP9Cl9NFuhnTtadpTVR1bzxdEvWHt0LYXVhT69f3JUMmlJaaR3TSe9azr9OvXTf1MiIiKBocBFAkuBi4hvKHBp3ay1ZCzOZs27+7zWDbukOxNuGoRLx0Z3CG7rJqsoizVH17D26FrWHVtHWa3zErSzERcWx5ikMaR3TSctKY0hnYcQ4grx6TNERESkSQpcJLAUuIj4hgKXtmHHF0dZ/rcduN3OX0f7jOjMVXcNJzRcJ9N0NHXuOrblb2NtzlrWHF3DhtwNVNc7b7x8NiKCI0hNTCU9KZ20rmmkJqYSERzh02eIiIgIoMBFAk2Bi4hvKHBpOw5uL2Dxq5uprap3rEnsHcPU+1OJ6qRjozuy6vpqMvMyG2bA5Kxlc95m6qzzceNnI9gEM6zzMNK6ppGWlEZa1zQ6hXXy6TNEREQ6KAUuElgKXER8Q4FL23L8UBmLXthEeZHz7IWYhHCmPTiKhG5RfuxMWrPy2nLWH1t/cgbMjoIdWHz/d7IBcQMYnTSaUYmjSE1MJSU2BZfRMjcREZEzpMBFAkuBi4hvKHBpe8oKq1j0wibyD5c71oRFBnPNfSPpPjDej51JW1FUVcS6Y+tYm7OW9cfWs6twV4sEMLGhsYxMHMmoLqMYlTiKEYkjiA2N9flzRERE2hkFLhJYClxEfEOBS9tUXVnHklc3c2iH80k1rmDDlbcNY+DYrn7sTNqikpoSNuZuJONYBuuPrWdL/hbq3L5dgnRCv079Ts6ASU1MpX+n/gS5glrkWSIiIm2UAhcJLGNMRtqAbmkZi16DXudDZMI53U+Bi3RUClzarvo6N8v/voOdX+R4rbtoVn/GTOqtI36l2arqqth8fDPrj61nfe56NuZupKKuokWeFRUSxYguI0jtksropNGM7DKS+HDNzBIRkQ5NgYsEljEmI62bKy3j7uiGNxKHQu8LoPdF0PtCiOsDZ/DNhQIX6agUuLRt1lrWLtrHuveyvdaNmNCDS24chMul0EXOXJ27jp2FOxsCGE8IU1BV0GLP6x3Tm1GJoxiZOJIRnUcwKGEQYUHaCFpERDoMBS4SWN8IXBqL6dYQvPS6sOFz1xEQ5HxUqgIX6agUuLQP21YfYcX/7cR6OTY6JbULV905nJAwLd+Qc2OtJbsk+2T4knEsg8Nlh1vsecGuYAbGDWR4l+EM79zwMSB+ACGukBZ7poiISAApcJHAOm3g0lhoNPQc2xC+9L4QepwHYV+NVeAiHZUCl/bjwNZ8lvxhC7XVzsdGJ/WJYer9o4iMDfVjZ9IRHCs/xqa8TWTmZbIpbxPb8rdR465pseeFukIZnDCYYZ2HNYQwXYbTr1M/gl3OP1wRERFpIxS4SGCdceDyjRsEQbfUkzNg/pCdRHloF982KdIGKHBpX/IOlLLoxU1UFDt/oxvbJZzpD44mrmukHzuTjqa2vpadhTvZlLfpZBDTkrNgAMKDwhmSMIQRXUY0BDFdhutoahERaYsUuPiSMaYzcC1wBZAG9AGCgTxgHfBXa+2/HcbeDrzejMdMstZ+6KWH/sBjwFVAN6AUWA/8wVo7rxm/hzTgIeAyIBEoAL4AnrfWftyM/s7IOQcuTSgO686RmJEcjU3laEwqeVEDsEY/KZP2TYFL+1OSX8miFzIpPOrl2OioYKbel0q3AXF+7Ew6uuOVx8nMy2z4OJ7JluNbqKyrbNFnRoVEMTRhKMM7D2do56EMSRhCSmyKTkYSEZHWTIGLLxljamkIWE6oAuqBqFPeWwxcb62taDT2dhoCFzcNAY2TG6y1Kx2efw3wL+DEjztLgGjgxI+EXgfutA7/Ao0xdwEvn/J7KAZi+eo/lF9Ya5/w0tsZM8ZkpPXrkpbx/e5QmO3LW59U6wonJ3qYJ4AZyZGYVKpC9M2JtC8KXNqnqvJalry6mcO7ihxrgoJdTLpjGP3TkvzYmchX6tx1ZBVlnVyGlJmXSXZJdos/NzwonIHxAxmSMOTkx8D4gUQER7T4s0VERJpBgYsvGWMssBb4C7DUWrvX834K8DPgTk/p3621tzQaezsNgch+a23KWTy7L7CZhnBnNXCHtXaXMSYaeBT4L0/p49bap5oYfxGwEggC3gEetNYe8sza+TVwj6f0Rmvt3DPtz0vfGWlpaWkZGRlQchQOfgEHPB85mWDdvnrU1xSG9+JojCeAiR1JfmR/rNFPyaTtUuDSftXXuvnob9vZ/eUx5yIDF88ewOgre/uvMREviqqKyDyeyebjm9l6fCtb87e26IlIJ7iMiz6xfb4WwgxJGEJCeEKLP1tERKQRBS6+ZIyZaK1d7uX6K3wVXPS21h485drtnFvg8gbwHSAHGGqtLWp0/VXgbhpmvaRYawsbXV8JjKchtEm31tY2ur4EmAxkAwOstc67OZ5Z318FLo1Vl8KhdQ3hy8Ev4OCXUOs8tf5c1LgiyYkZ3rAUKSaVozEjqA7p1CLPEmkJClzaN+u2fPHuXtYv2e+1LvXynlx8/UAdGy2tjrWWnPIctuY3hC8nQpiSmhK/PD8pMunrIUz8EHrG9MQY/b8iIiItRoGLPxljxtIwAwZg1qn7uZxL4GKMiaJhGVIE8HNr7S+bqEkB9nle3mGtff2Ua/2APZ6Xt1lr/9bE+AnACs/Ly70FS2fYu3Pg0lh9HRzb/NUMmAOfQ5mXn/ieo/yIFHJiRpATPYKjMSM4HtVfe8FIh6DwpvXa8ulhPn1zJ96+DPcbk8ik7w4jOFSz9qR1s9ZyqOzQyfBla/5WtuVvo7yFfrjSWHRINIPiBzEwfuDJzwPiBhATGuOX54uISLunwMWfjDEjgUzPyxustW+fcu12zj5wmQws8bw831r7pUPdNmAo8Ja19tunvH8P8IrnZVdrbW4TY4OAQiAG+K219sdn0qOX3psfuDRmbcO+LydmwOz/HI7v9EVbTap1hZEbPZSj0cM5FjOco9EjKA1LBv10TNoZBS6tW3bmcZb+aQt1Nc5LLpP7xXLNnFQionVstLQtbutmf8l+thzfwrb8bWzN38r2/O1U1Vf5rYduUd0YGD+QgXEDGz7HD6RvbF9CgkL81oOIiLQLClz8yRjzIPC/npdDrLU7T7l2Ow2BSwWwAxhMw34qR4HPgD9Za1c43Pdh4Heel5HW2iaPCjDGzAVuADZba1NPef954AEg11rb1Uv/a4GxwEJr7bXN+P02J0UZkpaWFnlWgUsTXlq8juTSLXQvyaRb6WaSy7YSVt9yPykrD0kgJ2YER6NHkBMznGPRw6gJ9t2JSyKBoMCl9cvdX8KiFzZRWVrrWNMpMYJpD44iLknHRkvbVueuY1/xPrYc38KOgh3sKNjBzsKdfpsJAxDsCqZvp74nQ5hB8YMYGDeQ5KhkLUsSEREnZ/UFQmsqzoIxJg44MStk5alhSyORNBwpXUjDBrh9PR83G2NeB+621tY1GtPd87nQKWzxONyovvH4w3h3mIbApfH4VqM6OJb98ePYHz8OAGPrSajYR/fSTLqVZtKtZDMJVQd89ryo2gL6F3xK/4JPAbAYCiJSyIkZrqVIItJikvrEcv3j57Hw+U0UHatosqY4r5J5T2Uw9f5UkvtqTyppu4JdwSdnmpzgtm4Olx5me8H2kwHMjvwd5FZ+Y5KuT9S569hduJvdhbu/WqANxITEMCB+wMkgpn9cfwbEDSA+PL5F+hARkfZP3zmeIWOMC3gD6EbDUdEPNFF2BPgFMB/Yaa2t9izjucDz/pXAd4Fy4MFGY08sNm76b91fOXG98eLkcx3fJGtt+ulqPLNg0ppzv7NhTRD5UQPIjxrA5uRZAITXFtGtdEtDAFO6meTSrYS6veVUzWewdK7cR+fKfQzPXQR8tRQpJ3oYOdENs2CKw3toKZKInJPYLhHMfjSd91/J5GhWcZM1VWW1LHhmA5PuHE6/0Yl+7lCk5biMi16xvegV24urUq46+X5+ZT47C3ayo3DHydkw2cXZWFpmdnZpbSkbcjewIXfD195PCE+gX6d+9I/rf/Jz/7j+dA7vrBkxIiLilQKXM/c/wDTPr++31mY2LrDWfgB80Oi9euAzzx4t84EZwBxjzP9aa3e3cM/tVlVIHPsSxrMvYTwAxtbRpXwP3Uoz6V66mW6lm4mrOuSz54W4q+lRspEeJRu/6iE4lmOeEOZY9DCORQ+lLDRJIYyInJHw6BCu/cFoPvrLdrIymv7Jfl2tm8WvbuaSbw0idWJPP3co4l+dIzozrsc4xvUYd/K9itoKsoqyTgYwOwp2sKtwF9X11S3WR0FVAQVVBaw7tu5r78eGxn4jhOnfqT9JkUkKYkREBFDgckaMMb/jqxktP7LWvnam97DWuo0xj9AQuLiA6cAzp5SUej6fbqH+ieuljd4/1/FtmjXB5EUPJi96MJndbgAgoqbg5B4w3Uq30LVsm0/3ggmvK6FP0Rr6FK05+V55SOevhzAxw6gM0ZRkEfEuOCSIq+4cTnRCOBuXOSyZtLDyn7soLahi3HX9MTo2WjqQyJBIUhNTSU08uX0dde46DpQcYFfRrpNLhXYV7uJw2elWV5+bkpqSJmfERIdE0y+uH/079T8ZyPSL60e3qG64jKtFexIRkdZFgUszGWOeAh72vHzEWvvc2d7LWptljDkOdAH6Nbp8xPM53hgT4WUflx6N6huP74F3TuPbncrQBPZ2nsDezhMa3rBuEir3k1y6heSyrSSXbiGxPAsX9T57ZlRtPv0KV9GvcNXJ90rCkjkWPcwTwgwlN3oo1cE6rlJEvs64DBfPHkBMQjgr5+7CafXExmUHKCuo4orbhxIcomOjpeMKdgXTL64h1JiSMuXk++W15WQVZZ0MYXYXNXwuqi5q0X7KasvIzMskM+/rk6DDgsLoE9uHlNgU+nbqS0qnFPrGNnyOColq0Z5ERCQwFLg0gzHmaeARz8vHrLW/b8HHbTnl1yOAJo+F9lwD2OowPskYk2itzWs80LOfzBCH8e2fcVEQ2ZeCyL5s6zodgOD6KpLKdzaEMJ4gplP1UZ8+NrY6h9jqHAbmf3zyvcLw3uRED+VY9DByoweTFzVYJyOJCACpE3sSHR/GB3/eSn1t08dGZ2XkUl5czTX3pRIepWNuRU4VFRLFqMRRjEocdfI9ay3HK4+fnAVzIoTZU7SHGndNi/ZTXV/NrsJd7Crc9Y1rSRFJJ0OYUwMZzYoREWnbdCz0aXiWEZ2Y2fKYtfZpH9yzP5DlefnIqQGOMSYKyAMigP+y1v6qifF9gGzPyzusta+fcq0fsMfz8lZr7RtNjL8U+MTz8nJr7fJz+x2dvG9GWlpamq+OhX522Tf/QuJPkTX5J8OXlliK5KQwvDe50YM5FjWU3OjB5EYNpjpEp5LI2dGx0G1fzt5i3nspk6oy52Oj47pGMv3BUcR2ifBjZyLtR527jgOlB07OhtlTtIc9xXs4UHKAeuu7GbBn6tRZMSmdGoKYvrF96R3bm5hQzZIVEfGjs1rDrcDFi0ZhyyPNmdlijDHWyz9U07CL2jzgOsANDGt8rLQx5g3gO8BRYKi1trjR9ZeA+2jYf6WPtbaw0fWVwHhgEzDWWlvb6Pr7wNXAfqC/Z0Pfc9beApdvOGUpUteybXQt205i+S6CrfM3Qb5SHNad3OghHIsa0hDCRA/VnjDSLApc2oei3AoWPb+J4jznU9giYkOZdn8qSX1i/diZSPtWW1/L/pL97Cnew96ivewp3sOeoj1kl2RT564LaG8J4Qn0julN79je9Int0/A5puGzliiJiPicAhdf8uzZ8qjn5UPW2mebOS4FmAv8GVgG7LPWWs9x0ucDTwCTPeUvW2vnNHGPvsBmIApYCdxprd3tmf3ysOceBnjcWvtUE+PHAZ8CQTSciPR9a+1hY0wC8N80hDUAN1pr5zbn99Uc7T5waYLLXUuXij0NAUzpNrqWb6NL+V6f7gfjpDQ06ZQQZgi5UUMoD9NRsfJ1Clzaj8rSGt57KZNj+0oca4JDXUy+awQpqV382JlIx1PrruVQ6aGTIUxWURZ7i/ayr3hfiy9Nao4uEV3oHfNVEHPi171iehEZcrpzFUREpAkKXHzFGNObhtkf0DAL5Rv7oDTyO2vt7zxjU4B9p1yrpmEmSgwQdsr7rwN3W2ub/PGIMeYa4F98dZpQMRBNQ4hyYvydTrNpjDF3AS/z1T49RUAnvvoP5RfW2idO8/s6Ix0xcGlKcH0VieW76Fq2jeSybSSVbSehcj/GaedLH2o4HWkIeVGDyIsaTG7UIIrDe4DWf3dYClzal9qaej58bRt7Nzp/WTIGLv32YEZcerq900XE1+rd9RwuO3xySdKJQCa7OJuKuopAtwc07Bdz6qyY3jG96RXTi54xPTUzRkTEmQIXX2kiNDmdk+GFMSYCuBO4CBgNJALxQBVwCPgMeM1au7oZffQHHgcmAd1oCG42AK9aa+c1Y3waDTNiJnj6KAQ+B5639v+3d+dhblwFuvDfo6W1tbrVe3tfYidxjGOwA9lgEghJyAYTwvINYQmEYQvMXAaGmbnfd2fywZ2Zh2WGe4ckEAh32CEDCQGcBRLIPpBJHGI7iWM7jrd22+69W3trOfePcySV1CW11C2pJPX7e556VMupqtN9Wl3qt0/Vkb8rte9CMHApri0ZQn94n+oFo4OYznh9BoiatXkx6tuoH8p7OkZ9p2Pcux4pm2v+nanpMXBpPem0xJM/PYDdDw+VLLft8jU4723rOWw0UQOQUmI0OopD04dwePowDs2o18MzhzEcGoaswz9lytHt7sZK/0oVwLSr10wY0+fpg7oznohoSWLgQtZi4FIZd2IKA6G9GAjtRX/4JfSH9tUthEkJOyY867IBzKjvdIz4TufDeVsQA5fW9dxDR/HkXS8XHTYaADa+dgCXvH/SzaYnAAAgAElEQVQT7E72ciNqVLFkDEdmjuSFMJlgplF6xQCA2+7GSv9KrGxfmQtl9OuK9hVos7dZXUUiolpi4ELWYuCyeO7EFPrD+9Af2of+0F70h/ehK3asbuefcQ0aAhjVI2bGtUzdo0BNiYFLa3t55wge+vcXkUqaDxsNACtOD+CKj22By8tho4maiZQSI5ERHJ45PKdXzInwCaRl8fd9vQkIDPgGsuHL8vblWNm+Esvbl2NF+wr0e/s5vDURNTsGLmQtBi61kbkdqT/0ku4J81LdngkDADF7O8Z9GzDq3Ygx3waM+jZi3HsaEnY+dK8ZMHBpfcMvT+G+r+9GPFx8xJSuZT5c86mt8He761gzIqqV2dQshkJDODZzDEdmjuBo8Kh6nTmKE+ETDXOLUobT5sQy37JcGONfmZ1f0b4CPe4e3q5ERI2OgQtZi4FL/ThTEfSFD+heMOp2pJ7IobqMjpQx5V6JUd9GjHk3YtS3AWPejZh2L+cDehsMA5elYfJkGDtu2YWZsVjRMt7ONlx901b0rfbXsWZEVG/xVBxDwaFsAHM0eBRHZ47iSPAIToZPWl09U267Oxu+ZHrHrPCvwHLfcixrX4YuVxcDGSKyGgMXshYDF2vZUzH0RV5GX3g/+sL70R/ah97IATjT8brVYdbmwZgOX0Z9GzDm24gx7wbMOtrrVgfKx8Bl6YjMzOLeW3dh5EiwaBmny47LP/IqrNncU8eaEVGjiCVjOBY8lg1gjs4cxVBwCEOhoYa7TcnI4/Bg0DeIZb5lWOZbhuXty/Ne+739cNgc8x+IiGjhGLiQtRi4NB4hUwhEj6kAJrwv++pNTNa1HtOuZdnwZcx7GsZ9p2HSvQZpfjiqOQYuS0sinsJvvv0CDu8eK1pG2AQuvv4MnHXh8jrWjIgaXSKVwHB4GEPBIRwLHstOQ6EhDAWHEE1Gra5iUXZhR7+3Py+EWda+LNtDZplvGTwOj9XVJKLmxsCFrMXApUlICV9iHH3hfegL7Ue/7hHTFTta12qkhAMTnrUY956WDWHGvKfph/TytqRqYeCy9KTTEo/fuR/PP3q8ZLlzrlyL112zjt30iWheUkqMx8bzwhjj/Hhs3OoqzqvL1YVB3yAGfAMY9A5i0DeY7TUz6BtEn7cPThsfLk5ERTFwIWsxcGluzmRY35K0L3tbUm/4IBxytq71mLV5Me5dr0OY9TqQ2YCIs5ujJS0AA5elSUqJP/7mKH7/84Mly51x3iDe+N4zYXcw5CSihYskIhgKDeF48DiOh+ZO4UTY6irOS0Cgz9OXC2V8g3nBzKBvEL2eXo62RLR0MXAhazFwaT1CJtEVPYbe8AH0Rl5Gn37tiNf/oXsRR0CFL74NuUDGexqfDzMPBi5L2/6nT+K3392LdLL4tX7lmV14y0e3wOXhLX5EVH1SSszMzmAoNITh0DCOB4/n5kPHMRwaRixV/IHfjcQhHOj39qtQxjuAAd8A+r39GPAOZNf3eHrYU4aoNTFwIWsxcFk6XMkZ9IZfzoUwet6Zrv8HpmBbPya86zDuWY9x7zpMeNVr3NFR97o0IgYudHz/JO7/xh7EI8WHje5Z4cPVn9yK9i4OG01E9ZW5XSkTvhwPHcdQUAUyJ8IncCJ8AvFU/QYAWCwBgV5Pb14QM+AbyM3rV6/Ta3VViagyDFzIWgxcljYhU+iMHUdv+GX0RTIhzAEEYqWfI1ErIWevCmK863OTZx3izk5L6mMVBi4EABMnwtjxtV0IThQPRX0BF67+5Fb0rmSvMSJqHFJKTMQmcCJ8Ii+EMc5Px6etrmbF/G1+1UtGBzB93j70e/Srtx99nj70eHo4+hJR42DgQtZi4EJm2pIh9EQOoi/8MnoiB9EbeRm9kYNwJ2csqU/Y2Z0NYCY8uUAm5gxYUp9aY+BCGeHpOO69dTdGj5YYNtptxxUf3YJVm7rrWDMiosUJJ8I4ETqRF8YMh4dxMnwSw6FhjEZHG3bI61JswoYed09eGGMWzHS5u/hsGaLaY+BC1mLgQmXTIyX1RA6iJ5wLYXoir1hyWxIARJxdmPCsxYRnHSa8a9SrZy2CroGmHjWJgQsZzcaS+M0dL+DI88VHFLHZBN74vjNx5vnL6lgzIqLaSaQTGI2M4mT4JE6ET+Bk+KSaIidxKnwKJ8MnMRmftLqaC+YQDvR6e7NBTK+nF30e/WpY7nJ3sccM0cIxcCFrMXChRZNpdMaHdQhzUPeIOYiu6GHYZcqSKiVsbh3ErMGEdx0mPOsw6V2DSfdqpJvgoXgMXKhQOpXGoz/ejxefGC5Z7nXXrMM5V67lsNFEtCTEkjGcipwqGcqEEiGrq7koNmFDl6sLfV51u1Kfpy9761KfR/We6XX3otfbC4/DY3V1iRrNgj4QMeIkosYhbJh2r8S0eyVe6bkou9qWTqAregQ9kVfQq29L6om8gs7YcQjUNjR2pmMYCL+EgfBLeevTsGPKvQKT3rU6kFmrA5m1HDmJGprNbsPF158Bf48bT/3ilaLl/utXhxCciOGi95wBu715e3kREZXD7XBjTccarOlYU7RMaDaUDWFGIiM4FT6FU5FTal6/TsWn6ljryqRlGuOxcYzHivdyzGh3tqPX04teTy96PD3q1d2TXe7x9KDHrSanvfH/AUVkFfZwoaphDxeqN0cqlg1ieqKvoDtyKBvE2GDdvdrqgb1rMelZg0nPaky612DSswYz7mWQwl7XurCHC5Wy76mT+N339iKdKv5ZYPVZ3bj8I69Cm5v/oyEimk8sGVO3L2VCmUwgE1avJyMnMRYda8pnyhTT6epErzs/iDELanhLEzU53lJE1mLgQo3CnoqhK3ZUBTE6hOmOvIJAbMjSICYpnJh2r8SEZ40OY9Q04VlTs9GTGLjQfIZemsD939iD2Vjx2/Z6V7Xj6pu2whdw1bFmREStKZVOYTw2nu0hMxodxWhkFCOREYxG1etIZAQzs9YMMFArAgIBVwDd7m50e7rR4+5R8+5u9Hjy53vcPfA4PLytlRoJAxeyFgMXanT2dBxd0aPZAKYnqsKYQHQINljzjJiMiCMwJ4SZ8qzGlHtlwzwrhuFN6xo/HsKOW3YhNBkvWqa9Ww0b3bOct8wREdVDLBnLhTHREYxG8uczAU04Eba6qjXhtrtNw5jMvHEKuANwNsjnJWpZDFzIWgxcqFnZ07MIxI6hO3IYXdHD6I4cQnf0CLqjhy0bNSkjDTum3csx5VmFSfdqw+tqBF0Ddb1FiYFLawtNxrHj1l0YHyr+UMg2jwNXfGwLVp7RVceaERFRKeFEWIUxunfMWHQMY9ExjEZHMRbRr9GxlusxU8jf5s8GMF2uLnS5u3LLbrXc4+5R864uPnuGKsXAhazFwIVajkzDHz+F7uhhdEcPoTtyBN3RQ+iKHoEvMWF17bK3KM0NY1Yh1NYPVLkbLgOX1jcbTeKBb+7Bsb3Fh0e12QUu+cAmnP66wTrWjIiIFiueiqsgJjKK8ei46j2jw5jM+rHoGMZj4y31jJliMgGNMZwJuALZcCbgCmS3dbm74HV4eYvT0sbAhazFwIWWEndiCt3RIwU9Yg6hMzZc85GTypGwuTHlXqVCGM9qTLpX6VuUViHi7F5QGMPAZWlIpdJ45If78NJ/nihZ7rw/XY9tl6/hh08iohaTSqcwGZ9U4Ut0PBvCZJbHo+PZ5UYelananDZnNoAJuFUYk3kmTXbZsD7gDsBl57PPWgiHhSYiqpeYM4BhZwDDHVvz1ttTMQRiQzqMyZ/cqeK3alSbMx1DX+QA+iIH5myL232Y0sNvT+keMpnlUFsfIDgE8FJmt9vwpvedCX+3G0/vOFS03B/ueQXBiTj+5N0bYeOw0URELcNus2eHhJ5PIp3ARHQiP5CJjWeDmbFYLrRp9luaEukERqIjGImOlL2Px+FR4YtxcgdKruPDglsLAxcioipK2d0Y923AuG9D/gYp4U1M5AUw3dEjCESPIhA7XteH9rpSYQyE92EgvG/OtqTNhSn3ilwYo3vJTLtXAKn1gJ2XjaVACIHXXb0O/m43HvnBS0inzXttvfDYcYQmY7jsxs0cNpqIaAly2pwY8A1gwDcwb9lEKoGJ2AQmYiqgmYhNZMOa7DrDcjKdrMNXUFvRZBTRZBQnwqV7jRq12dryQphOV2fea0dbR/6yqwOdrk4+NLhB8ZYiqhreUkS0MLZ0Ep2xIR3EHFVhTEyFMt5E8Wdp1J3NAQTWAN3rge516rVrnZoPrAacHqtrSDVw9MVxPPDN55EoMWx032o/rrrpbPg62XWaiIgWT0qJmdmZXEATHc+bH4+NYzI2iYnYBCbjk5iOT1tdZcv5nL45gUxmKgxsOl2d6GjrQIerg0FN+fgMF7IWAxei6nMlZxCIHkNX9CgCsczrUXRFj8KVarBhIP3LgK61elpnmF8LtFf/Ib5UP6PHgrj3ll0IT88WLePvceOaT21F16CvjjUjIiJSt/tMx6dVABObxGRsMhvKTMYmMRmfxHh0HJNxtTwdn4ZsgGfuNQKf04fOtk7VU0a/ZkKZTDDT6erMK9Pp6lyKtz4xcCFrMXAhqiMp4UlMoit2DIHoUXTFjiIQPabDmGOWD2c9h9ObH8AYp8AawOm2snZUhuBEDDtu2YWJ4eJBn8vrwJUfPxvLNwbqWDMiIqLKJNNJTMWnsoHMRHwCU7GpbCBjnM+8JtIJq6vdUBzCkQ1nOto64Hf5s/N5vWh0T5psuTY/fE5fM4Y1DFzIWgxciBqElPDNjqIrdgxd0SM6iFG9Yzpjx+GQxXspWMa/XAcwa1QAE1idm+9YDtjsVteQAMQjCdx/+/M4vq/4rW52hw2X3LAJG8+Z/35+IiKiZiClRDQZxURsIhvUTMWn8paN66bj05ienV4Sw2svhF3Y4W/zFw1kMlOHqwMdzo68Zb/TD6fdktugGLiQtRi4EDUBmUb77AgC0SEEYscQiA0hEBtCZ+wYAtEhtKWjVtdwLpsT6FyZH8JkesYEVvN2pTpLJdN4+PsvYd9TJ0uWu+DtG/DqS1c143+wiIiIFi0t0wjOBjEVn1JTbCo3r6fp+HQ2qJmOT2MyPtkSDwuuNY/DA79TBzDGgEYHNsbgpt3Zjo62DrS3tat1Cw9sGLiQtRi4EDU5PZKSCmGOoTN6DIHY8Www40426HCODk9+GFM47+liIFNlUko89ctXsPP+IyXLbbl4JV7/ro2w2fj9JyIimo+UEpFkJC+gyTwUeCY+o4KZ2WlMxacwE5/BdFzNB2eDfCZNBdx2twpjDCFMseVMePOa/tcwcCFrMXAham2fvrAXmDwETBwCJl5R0+QRtS5Y/nCHdef0qeAlsAroXJWbD6xRy+whs2AvPH4cj/54P2SRYaMBYN3WXlx642Y423hbGBERUS2k0ikEZ4PZMGY6Pp2djMtT8SnMzKqgZmZ2hkFNBfZ8YM+CPiw6ql0RIiJqUd5uNa3YPndbIgpMHQUmD6tp4lBufvIwkLTwVqVEGBjdqyYzdpchjNGBTOfqXDDjX8ZnyBSx+Q0r4Au48Os7XkAybj5s9KFdY/jFV/+Iqz5xNjz+tjrXkIiIqPXZbXYE3AEE3AGswZqy90ulUwglQqq3zOx0NojJBDTZ+VnVw8a4bTbdgM8EbEAMXIiIaPGcHqDvDDUVkhIIjejwpSCImTxsfe+YVBwYf1lNZmwO9eDeztXqWTKZKRPSdKwAXO31rXMDWbulF2//zDbsuGUXIjPmH75OHZrBz760E9d8cisCA94615CIiIjM2G327PDPq7Cqon1jyRhmZmeyQUx2is8/H0/Fa/QVNR4GLkREVFtCAP4BNa0+d+722QgwdUT3kDmi5icP59bFpute5TzppKrH1NHiZTxdOohZZQhlVuWW2wcAm61+da6zvtV+XPe57dhxyy5MnoyYlpkZjeKuL+3EVTedjcH1nXWuIREREVWT2+GG2+FGv7e/4n3jqXheABOcDWI6Po3gbDC7bJyM5ZrtNigGLkREZK02L9C/SU1molM6hDliEswcsfZ2pWwdJ9V0co/5dptT95LJBDIrVM+YzpX6dQXgDjT1s2Q6ej14+19vx/3f2IPhA1OmZWLhBO756h9x6YfOwmmvqfwDGhERETU/l92FPm8f+rx9Fe+blmmEE+G8MKYwqDHOhxKhvPAmlAjVdbhuBi5ERNTYPAE1Lds6d5uUQHg09/yYvGDmGDA9pG4Zslo6oetUYlQfp0+HMiuAjkwos9wwvwJwd9Svzgvg9jnx1r94NX773Rdx4JkR0zKpRBoPfPN5vP4dG7H1ksq6LxMREdHSZhO27JDPC5EZCaowhMmENKFZHdAkgnnLC8XAhYiImpcQapSh9n5g5Tlzt6fTQHhEhy/6tqCpY+p1Wr8mzG+BqbtEGBg/oKZiXB06hFmRC2Y6lufWdSy3PJSxO2249EOb4e9x49lfF7kNSwJP/PQAghMxXHjdBggOG01ERER1IISAz+mDz+nDoG+w5udj4EJERK3LZgP8g2pa9dq526UEIhNFwhg9H7f4GTJG8RlgdAYYfal4mbZ2Fbz4l+VCmA49n1nn7anpM2WETeD8azegvcuNx+/cD1nkVutdvz2G0EQMb/7gWXBw2GgiIiJqMQxciIho6RIC8PWoaflrzMtEp4CZ47qXjL5NyTgFh4E63gs8r9kQMLZfTcXY21QIlQ1hMj1klgF+HdC0DwKOxQ3jvOXilWjvcuE3d7yAZML8e3Twj6MITz+HKz+xBZ52DhtNRERErUPIYv92IqqQEGLntm3btu3cubMqx/vqgyX+WCCipvbpS0+3ugrVk0qqoa2zIUxBMDN1DFjEvb+W8vaoAMY/qMMYw5RZ9vbO21vm1KEZ3HvbLkSDiaJlOvs9uOZTr0Znn6faXwURERHRYi3o/mf2cCEiIloMuwMIrFJTMbHpgkDmuOo1k3mdGW6Mh/sWioyr6VSR0ZcAwOZQvWE6lunbtzIBjX5tH8TA4CCu++vt2HHrbkydMn9mzvRIFHd96Rlc9YmtGFjX2A8HJiIiIioHAxciIqJac3eqaWCz+XYpgfAYMDOkQ5hhw7wOZoLDQDpZ33qXI51UdZ0ZKlms0+HGdR3rcG/4EzgZWmlaJhpM4J5/fRaXfXgz1m2tfKhIIiIiokbCwIWIiMhqQgDtfWoq9iyZzIhL08fzw5iZYTUFh4GZE2oI6kaUjMEd3Iu3+T6DhxJ/iYPxC8yLJdK4/+u78IbVv8GW9cf1LUwDqheNf1CPSjUI+HoBGx+0S0RERI2LgQsREVEzMI64hO3mZdJpIDKWC2Fmjqvny2SX9ZQI17XqRg4xi8sDX8GTwRuwK/JW0zISNjx29C0Ijt+N89vvgBAmz5sTNvX8GP8A0J6ZdBjT3p9b5x9QIzcJDj1NRERE9cXAhYiIqFXYbDps6AeWv9q8jJRqeOlMIDNzwtBDZlgHNCdUcFMjQki8vuPf4beP4ongBwGYP3T3j+G3I5TqwyWd/wa7KLidSuoeP+ERACWeMQMATm9+CJOd+gBff+575usHnO6qfI1EREREDFyIiIiWEiFyz5Tp31S8XHIWCJ0EgidzIUzQMM2cUNsWMQLTVt8OtNvH8ODUf0MKLtMyB2JvQDjVjSu6/hlu2wJ75iQiwORhNc3H1QH4+ooHMu39ens/4OSISkRERFQcAxciIiKay9EGBFarqZR40DyUmRkGQqf0tpNFR2E6zf0H+Lr/AfdO/nfEpPnoRMOJzbh7/J9xddcX0OEYXexXVlp8Rk0TB+cvmw1ndAiTne/Vy5n1vSrg4m1NRERESwoDFyIiIlo4l19NvRuLl5ESiE0BwVMqjDEGMaGTGAyewnXjt+BXRz6EmeSg6SEmU6vws4kv4uqu/4l+5ys1+mIqVEk4Y2/LhS/ZMKbXJKTRk91Z+/oTERFRTTFwISIiotoSAvB0qan/TNMiAQDXTcdx323P4dQR81uHouku/Hzyn3B5761Ya3u8hhWugdSsfmbO8fLKuzvVQ4EzQYy3xzDfC/h6cvPeHtUjiYiIiBoKAxciIiJqCN5OF972mXPw4LdfwKFd5g/tTaZduG/sM7joXbdi86uF6jUTykwj6rkzoRHD8ikVdjSb2LSayuk9A8wT0PTkJp8OaPj8GSIioppj4EJEREQNw9lmx1s+ugVP/McB7HlkyLSMTEs88pODCE6vwblvPQei1LNRpASikwUhTCaU0aMchUbVtsiYGv2oGVUa0Dh9OoDJhDE6iPF250KZzDpfL+AOqFGwiIiIqGwMXIiIiKih2GwCb3j3Rvh73PjPu14uWm7n/UcQnIjhTe/bBLujSBgghAoRvN1Fb2fKSqeAyIQOYU6pICY8MjecCY8A4dHmDWcAIBEGpsPA9NHyygsb4OnOhTLeHnWLWLb3TGadoQxDGiIiWuIYuBAREVHDEULgNZeuRnuXCw9950Wkk9K03P6nTiE8FccVH90Cl3eRD5q12dVQ0O19wMDm0mXzwpkRIDymQphMGBMeM6wfAZKxxdXNajKtegBFzG/1MiVs+tk93YZgpis/mPF0qXDGo0MxTxcfGExERC2DgQsRERE1rI3nDMDX6cJ9X9+NeCRpWub4vinc/ZVncfUnt8Lf7a5PxSoJZ6QEZsM6jNHBTF5IY5hCI+oWKJgHTE1FpoHIuJrGD5S/X5tfBTPGECY7310Q0uiHMbs62ZuGiIgaDgMXIiIiamjLNwZw3ee241df24XguHlPkYnhMO764jO4+lNb0bvSX+cazkMIwNWupu7185dPJVXoEh5VPUrCesrOj6oQI9OTplUCmozZoJqmyrzdCTD0pqlwcneq8IyIiKgGGLgQERFRw+sa9OG6z23HvbfuxujRoGmZ8PQs7v7Ks3jLR16F1Wf11LmGVWR35HrPlCOVBKIThlBmFAiP5+Yj4/r2p7FcjxOZqu3XUG/G3jSVcneaBDEBPR/Q84G569p8KkwjIiIqQkjZQv8RIUsJIXZu27Zt286dO6tyvK8+uL8qxyGi1vbpS0+3ugpUR7OxJH7z7RdwZE/xP6xtNoGL33sGNl2wvI41ayLpNBCfLghh9Gt4TK3PWzeuepxQPpvTJJAJGAIbk23uToY1RETNaUG/tNnDhYiIiJpGm9uBKz+2BY/9ZD9eeHzYtEw6LfG7772E4HgMr716Xelho5cim+H2m57TytsnGc/1lMn0JIlO6OXCdbrcbKi2X4fV0oncs3cqZXPo8EUHMO7O/EBmzrIxsOnkg4WJiJoEAxciIiJqKja7DRe95wz4e9z4wz2vFC339L2HEZyM4+Lrz4DdzgeqLorDBXQsV1O5knEVvEQNgUwmoDEGM9HJXHgTm0ZLPY+mmHRy4bdAAYDTp8OXDkNwY5hchesD+eUdrup+PUREZIqBCxERETUdIQS2v2Ut/N1u/Pa7e5FOmf+R/tJ/nkB4Moa3fGQL2jz82FNXDhfQsUxN5UqnVOiSDWUKApmoXs7OT6n5RLh2X0cjSoTVFDTv5TUvh7sgnOkoeA2YrOvIlXd1qGcNERFRSfxNSURERE3r9NcNqmGjv7EHs1HzYaOP7Z3E3f/yLK6+aSvau/if/YZms6shn73dle2XiAGxKR3OmE1m26bUs2yWomQMCMWA0KmFH8PpKxLG+HPr85b9uXWZZYebz7IhopbGwIWIiIia2oozuvD2v96GHV/bhdBk3LTM+FAId33pGVz9ya3oWdFe5xpSzTndgHMQ8A9Wtl8qqXrUmIU02QBnSs9PGdZPASnzn7UlI9vL5sTCj2FzFgQynQXLfkNQ45+7rq1dzTs9DG6IqCExcCEiIqKm17O8He/4m3Ow49ZdGDtm/rDW0GQcd395J6742BasPLPCHhTUmuwOwNejpkpICSSiufBlvnAmNq3mY9MMa4zSCX1r2MTijiPsRYKZ9vz1be25dW2G7W2GV4eL4Q0RVQ2Hhaaq4bDQRNTsOMR085uNJfHrbz6Poy8W/wPOZhd40/s34YxzK+wNQVQtmVugMgFMYSATmyq+PTaDJfFgYavYnCqIaTOENplAJru+PRfeGJez6wyvNrvVXxERVQeHhSYiIqKlrc3twJU3nY1Hf7QPe580v9UhnZJ46N9fRHA8hu1XrOGw0VR/C70FCgDSaWA2qMMXHcBk5/UUnzEENNNzy8pU9b+mVpFO5G4rqwaHZ25A0+bLD3La2tW6Nl9uPhviFKznc2+ImgoDFyIiImopdrsNb3zvmfB3u/FfvzpUtNxTv3wFwYkYLvqz02HjsNHULGy23AhDCyElMBsuCGdmDCHNTMG6zOt0bj4+U92vqZUlo2oKj1bneMJeEMT4DGGOYdnpzQ9q2ry5ead37jHYE4eoJhi4EBERUcsRQuC1V62Dv9uNh7//EtJp81swXnxiGKHJOC7/881oc/NjES0BQuhnl7QDnSsWdoxsL5vCMCaoRn6KBw3LM4blmfzldKK6X9tSIFP6e1zlEbYcbh3G+ArCnExA4zUEOV5Ducy817C/YTufiUNLHD9ZEBERUcs68/xl8AVcuP/2PUjEzG+jOPrCOO751z/iqpvOhq+Tw0YTzWuxvWwA1dMmGTcEMNNzA5rZoF5XOM0Y5kN8CHE1JGNqwnh1jytsBYGMNz+0cXryQxunJz+0mbO9YH87/5ylxsaH5lLVCCF2rtywedtf3Xa31VUhIloQPjS3dY0NhbDjll0ITxX/w8zf7cbVn9qK7mW+OtaMiBYtGVfBS14QYwxnZtT22VCuXGZ+NpQrOxsC0kmrvxqqhM2pQxiPIZDx5IIbp8cQ0HgM2w1l23z52xzu/HJ2J3vpEMCH5hIRERGZ613Zjnf8zXbsuGUXxo+HTcsEJ2K4+8s7ceXHt2D5xq4615CIFszhUlOlw3sXklL18oiHDL1rTEIZ47rZkHomTnafUG7drPkQ9VRF6URtbrEyEvaCIMdTEN4YwxrjsrtgnTHM0S6tD3wAAB6USURBVK/GZYdH9R6jlsLAhYiIiJaE9i43rv3sdjxw+x4MvWQ+Akk8ksQv/vdzePMHzsLG1w7UuYZEZCkhcn8Yo2/xx0ungUTYEMKE8nvazBrCmXhQhzSZqXBZ78Pn3tSfTOn2CNb+XHaXeTjj8OhXt2Gb4TUb7LgreHXzYcl1wMCFiIiIlgyXx4GrP7kVD//gJez7w0nTMumkxG++/QKCEzG85rLVHDaaiBbGZlPDPrv81Ttmcja/B03eqw5uEhHD+kh+GbNtCfNef2SBVFxNsan6nM/m1GGNyxDEuPJDmWy448oPbRyu/PUOly5vXO8umPS2JRT0MHAhIiKiJcXusOGSD2yCv8eNZ+49XLTc739+EMHxGN7w7o0cNpqIGoOjDXB0A97u6h0znVZDV+eFNxHdqyOSC2kSEb0+lJtPhPODG2P52TB75DS6dAKIJ4B6P3fa5sgFMIVhzYJezda15Zbtxm0udf46/TOFgQsREZH21Qf3V+1YfABvYxNC4Nxr1sPf7cYjP9wHWWTY6OcfO47QVByX3bgZTtfS+Y8cES0hNltuCGj0V/fYqUR+WGMMZYzrEtHytxvnZbq69aX6SCdzt9RZQdhUAGNvmz+cyQQ4135jQadi4EJERERL1lkXLkd7wIUHvvk8EnHzYaMP7x7DPf/6LK66aSu8HW11riERUROzOwFPQE3VJiWQmtXhTNQQ1ERzwUxC99xJRHMhTmZ+tmA5U75wXppfG6iJyXTu56FcDFyIiIiIKrd6cw+u/cw27Lh1FyLTs6ZlRo4EcdeXnsHVn9yKrkEOG01EZDkhcj0QPDUcWS6VKBHMxMy3JaOGcmbLsbnbkrHafQ1kGQYuREREtOT1rfbjus9tx45bdmPyhPkDJGfGYrjryztx1cfPxrINNfhvLRERNR67E7B3Au7O2p4nnVahSzKWH+ZkwplKX4ttS8bUsZPR2n49BAAQUprfs0xUKSHEzpUbNm/7q9vutroqREQthc+DqZ9YOIEHbt+D4/uLjxBhd9jw5g+ehQ3bq/ysAyIionrJ3pJlEsQkYoZ1USAZL7I+prfp7cm44Tix3HLSsJyIAmjCDOLm6QU9ZZc9XIiIiIg0t8+Jaz71avz2e3tx4OlTpmVSyTR+fcfzCE1uwNZLVnHYaCIiaj7GW7LqSUp1m1ZhIJOIqgAoWRjWFHudNQl1jGWiuTKpgrJ1fNgyAxciIiIiA7vThks/eBb8PW48+8AR80ISePJnLyM4HsOF79wIm42hCxER0byE0KMCWfgQ+lSyIIgpCHBS8YLwZuHjZjNwISIiIiogbALn/+lp8He78diP96HYHdi7Hx5CaDKOSz90FhxtHDaaiIio4dkdgL29LqfiM1yoavgMFyKixsfnwVTu8J4x/PpbzyM5W7wL8sC6Dlz1ibPh8XPYaCIioha0oK6stmrXghqLEMIvhLhZCLFHCBESQkwLIZ4WQnxGCMFPhURERPNYu6UX135mGzx+Z9Eypw7N4K4v7cTUSKSONSMiIqJGxsClhQkh1gDYDeAfALwKKpVzATgHwFcA/EEIUcNB64mIiFpD/5oOvONvzkFgwFu0zPRoFHd9aSdOvjJdx5oRERFRo+ItRS1KCOEA8CyALQBOAHi/lPIhIYQNwDsBfAuAH8B9UsqrqnRO3lJEREQL0iy3OsXCCdz39d048XLxUMXhtOHSGzdj/av76lgzIiIiqiHeUkR5PgAVtgDAdVLKhwBASpmWUt4J4KN625VCiEusqCAREVGzcfuceOtfvhobtvcXLZNMpHH/7Xuw++FjdawZERERNRqOUtS6PqBfH5ZS/t5k+08A/COAdQDeD+C39aoYERFRoa8+uL9qx6p1bxmH047LbtyM9m43nnvwqHkhCTx+5wEEx2O44O0bIDhsNBER0ZLDwKUFCSG8AC7Ui/eblZFSSiHEAwA+DuCyetWNiIio1qoZ3gDmAY6wCVx43QZ09Ljx2J37gSJ3aD/30DGEJuO45IZNcDg5bDQREdFSwsClNW1C7nax50uUy2wbFEJ0SyknalstIiKi5jNfgCPO64HjvyYgUuapy8s7R7D/8BSSF/QCbY15N3ezPEOHiIiomfChuS1ICHENgF/qxa1Syt1Fyr0NwD16cYuUsmg4I4TYWcaptzpdbvvAqtMqqi8REVHTS6UhQsmiPV0AADYB2e4AeHsR1Uh/h6tqxxqZiVftWNVUza+RiKhczz777I+klNdXuh97uLQmv2E+UqKccZu/aKny2RLxWGro5Rd2VeFYZI0z9etLltaCFovt2PzYhq1hbjuOWFMRWrCmei8OWV2BOljA19hUbUhFsR2b35JsQwYuVBYp5fb5ymR6wZRTlhoT27A1sB2bH9uwNbAdmx/bsPmxDVsD27H5LdU2bMwbiWmxgoZ5b4lyxm3BoqWIiIiIiIiIqCIMXFrTsGF+RYlyxm3DRUsRERERERERUUUYuLSmvQDSev5VJcpltp3kCEVERERERERE1cPApQVJKSMAntSLbzErI4QQAC7Xi7+pR72IiIiIiIiIlgoGLq3ru/r1jUKIc022vxPAej3/vfpUiYiIiIiIiGhpYODSur4LYA8AAeAuIcQlACCEsAkh3gngW7rc/VLK31pURyIiIiIiIqKWxGGhW5SUMimEeCuAhwGsBfCQECICFbK5dbE/ArjemhoSERERERERtS72cGlhUsrDAM4G8HkAzwOQABIAdgL4LIDzpJSTllWQiIiIiIiIqEUJKaXVdSAiIiIiIiIiains4UJEREREREREVGUMXIiIiIiIiIiIqoyBCxERERERERFRlTFwISIiIiIiIiKqMgYuRERERERERERVxsCFiIiIiIiIiKjKGLgQEREREREREVUZAxciIiIiIiIioipj4NKChBB+IcTNQog9QoiQEGJaCPG0EOIzQoi2RR57QAjxL0KIfUKIqBBiQgjxuBDiw0IIUcb+pwkhbhdCHBJCxIQQo0KIXwshrivz/NuEED8QQgwJIeJCiBNCiJ8LId60mK+r0TRiGwohNujz/0oIcUR//8NCiP1CiG8LIbbPc97vCCFkGZNjMV9fI2nQdqxKOwgh3qjfeyf0z8KQfm9uW8zX1WgarQ2FEBeX2X6Z6R9MjvFIGfsNLeZrayS1aEMhREAI8TYhxOeFEDv0+yDzvbuhguPwmlimRmxHwetiRRq0DXlNrFCjtaPgdbFiNWrDFUKITwghfiqEeFmozzVRoa5vPy73uiQs/luzJqSUnFpoArAGwCEAUk9hADHD8rMAuhZ47O0AxgzHCgJIGJYfANBWYv8rdX0y5acBpAzL/weAKLH/hwvONwUgbVi+2ervf6u2IYALDWUy0wyAuGE5BeDzJc79HV0uCuBkicludRu0ajtWqx0A3Gw4V1q/FzPLCQAftvr736ptCOCCedrtpD5W5jhXmhzjEb0tVOIYz1r9/W/kNgRwg+EYhdMNZR6D18Qmbkfwutj0bVitNsASuSY2ajuC10XL2xDAKuRffzLHjRSs+/Y87yVL/9as2ffc6kbnVMXGBBwAdusfqGEAb9brbQDeDfVBQAK4dwHH7gRwQu+/F8A5en0bgJsAzOpttxXZf53+JSYBPAHgdL2+HcD/b3gjfK7I/ucDSOoyPwewUq/vAfANw/7vsrodWrENAVysv/8/B/AOAD16vR3AawE8bmiDG4uc/zt6+3es/j4v1XasRjsAeJehrb9h+FlYqX8+pP5ZOd/qdmjVNizj+L/S+x+DyQcb5D5Y3mz197mJ2/AG3Yb3AfifAK41vC9uKGN/XhObvB3B62LTt2E12gBL5JrY6O1YxvF5XaxhGwJYq/d7CMD7ASw3HPcsAPcY2vMLRY5h6d+aNf2+W93wnKrYmMCNhh+mOb/YAfyZYfslFR77C3q/CIB1Jtv/znBROd1k+/f19hMAAibbb0cuiZyTqiL3wWU3AKfJ9gf09kNmv0ibZWrUNoT64LCxxLHbAOzS+79cpMx3sAQ+WDZyOy62HaD+kDis97+/yM/BHr39cavboVXbcJ5jL0fuD/FiH2oewdL4YFnLNjT7wF7JH3m8JjZ5O4LXxaZvw8W2wVK6JjZ6O85zbF4Xa9yGUGHJthLbBYD79XGDANwmZSz9W7OWE5/h0lo+oF8fllL+3mT7T6A+fAEqfaxEpvxPpJSHTLZ/DSpVtAO43rhBCOEDkLlv7utSyimT/f9Zv3YA+NOC/dcDeL1e/IqUMlFi/7UA/qT4l9HwGrINpZRDUsoDxQ4spZwF8AO9eJoQoqvCurWahmzHKrgIqisqkHvPZemfg6/oxdcLIdZV+fz11KxteIPeT0J13V3KataGUsrUQivFa2LFGrIdeV2sSEO2YRUspWsi0LzteAN4XcyoSRtKKaellM+W2C6hbucBVI+TTSbFLPtbs9YYuLQIIYQX6n5iQCWIc+gf9gf04mUVHPsMAKvnOXYI6j9uZsd+PQDPPPsfhuo+Zrb/pYb5B2DuCajE1Gz/ptDgbViOmGHevoD9W0ILtGMpmfdiEMCTRcoY68X34txj16wN9cPkPqQXf6t/ry5JtWzDKuA1sUwN3o7lWPLXxRZow1KWxDURaN525HUxpwHasOjvwwb4W7OmGLi0jk3ItefzJcpltg0KIbrLPParTPYvdeyzFrn/5iL7j0gpR8x21Mn4S0X2bxaN3IbluFi/ngAwXqLcJUKN4BATQszoJ6T/LyHExgWcsxE1SzsupB0y599b7L9R+j06qhf5Xpyrlu/FiwGcpufvKKP89UKIw3pEjSkhxDNCiH8UQiyv4JyNqpZtuFi8JpavkduxHBfr16V8XWyWNuQ1sbRmacdCF4PXxQyr2/Bi/ToLYH/BNqv/1qwpBi6tw/iL4HiJcsZt5f7yqPTYHUKIdpP9J6WU0TL2L6zX8oLtle7fLBq5DUsSQpyPXPe8O3RCXsxKAOuh7tH0Qv2S/EsAzwshPl7uORtYs7TjQtqB78V8VrdhoRv16zjUwxrns0HXJwzVxXY7gP8OYK8Q4toyz9moatmGi8VrYvkauR1L4nUxq1nakNfE0pqlHQvxuphjWRvq2+k+phfvlFLOLLJu1f5bs6YYuLQOv2E+UqKccZu/aKnqHttvsr3U/oX1Wuz+zaKR27AoIUQfgB9D/T45AOBLRYo+C+CTUM8UcEkpu6EuZtcBOAj1cLnbhBDXFdm/WTR6Oy6mHfhezNcw70UhRAC5+5d/oJ8dUMwjAD4IYAVyPwNdet0I1M/DnUKI8+Y7bwOrZRsuFq+J5WvkdiyK18U8jd6GvCaWp9HbcQ5eF+ewpA2FEB4AP4UKMscA/G0N6tbQ70VHPU9GRK1Fp8u/hHpoXBDAO/U9lnNIKf/NZF0EwN1CiEcBPA01pNu/CCHunue/gbRAbIeWdT0At54v2W1aSnmzybppAN8RQjwO4BkAAag/Epv9gatEdcXrYnNhG7Q0XhctJoRwAPgRVE+hBIDrpZTD1taq/tjDpXUEDfPeEuWM24JFS1X32EGT7aX2L6zXYvdvFo3chnPoJ4LfC+A8qKeGXyml3FVmffJIKccB/JNeXAPgNQs5ToNoqnY0KqMd+F7M10htmOk2/ZSUstT9yyVJKQ8CuFUvvl4I0bPQY1mspu+VReI1sXyN3I5z8Lpoqqna0IjXxDzN2I68LuaraxsKIewAfgh1a2USwHuklL+pUd0a+r3IwKV1GNPCFSXKGbeVmzBWeuyZgv/mZPbv0t3K5tu/sF7DBdsr3b9ZNHIb5jF8qPwTqPtcr5JSPlFmXYoxDk+3fpHHslLTtGMRpdqB78V8DdGGQohtyP0hUM5DAeeT+RkQUP/ZbUa1bMPF4jWxfI3cjnl4XSyqadqwCF4TlaZqR14XTdWtDXXY8gMA7wKQAvBeKeXPqli3av+tWVMMXFrHXgBpPf+qEuUy205KKSfKPLYxFS7n2C8ucv8Xiuzfr++LnkO/sc8ssn+zaOQ2zDJ8qLwI6l7Iq6SUj5VZj6WgKdpxgTLn36Tfc3MIIfoBZN6nfC/OVYs2zPwXLwTgJ2XWo9XVsg0Xi9fE8jVyO2bxulhSU7ThAi2VayLQfO3I6+JcdWlDQ8+W/we5sOXOeXaz+m/NmmLg0iL0/aZP6sW3mJXRY9FfrheLdekysx/A0XmO7QPwhiLHfgJA5onRxfZfAzVcmdn+DxrmTfeHGlc+8wCkSr62htHgbWgscx/Uh8owVHfpRyuoRynGB5EdqtIx664Z2nEepdoh8170A7igyP7GevG9OFdV21D/J+c9evE/FtCjyUzmZ0ACOFyF49VdjdtwsXhNLFODt2Pm/LwultAMbTiPJX9NBJqrHXldNFePNtRhy48AvBu5sKWcwMvqvzVrS0rJqUUmqDRXQqWX55psf5feLgFcUuGxv6D3CwNYa7L9c3p7EsDpJtu/r7cPA+g02X6b3j4DoMtk++N6+3MAnCbb70Pul6Dd6rZo0Tb0AXhUlwkB+JMKzi3m2d4NNRqAhPqFa7O6LVqxHRfbDgDs+j0mAdxrsr8TwC69/XGr26EV29Ck7HsN9Ti/jHPP9zOwDsCEPt4TVrdDo7ZhkfNljnVDGWV5TWyNduR1sYnbkNfE1mhHk/14XbSgDfX74Sd63wSAd1e4v6V/a9b0+251w3OqYmOqUad26x+mocwbBaon0zsBTOtt95nse7PhDbbWZHsngBN6+wsAtuv1bQA+DiCut91WpG7roD6MSACPAdio1/sA/L1+40sAnyuy/wX6DSYB3AVghV7fbXgDSQDvsrodWrENoR4y9bDeHgTwhgq/rvcBuBtqeL5+w3oP1MO09hnqXtEv6EacGrgdF90OyL8Y3wagW69fod+bmYvhvB9yGnlq1DY0OdYjuuzzZX5dfwfguwCuABAwrO8A8H5DvWYBXGh1OzRqG+oyvQVTpvwnC9Z7TfblNbHJ2xG8LrZCG/Ka2ALtaHKcR8DrYl3bECps+TFyYcs7F1A3S//WrOn33eqG51TlBgXWQnV5zLwhwlBdrDLLz8L8v2Xl/CLcDjV+eqbcjP7lk1n+NdTY9cXqdqWuT6b8FHIfGCWA/4MSKTOAD+s3cab8pOHNIwHcbPX3v1XbEOqCkykTBXBynumCgv1vMOwv9S/EsYL2jwH4hNXf/xZvx6q0Q0Ed0/q9mFlOAPiw1d//Vm3DgmNsQO534KfL/JqMdcucdxyq66/xd/Pbrf7+N0EbyjKnm4vsz2tiE7cjeF1shTasShtgiVwTG7UdC47B66IFbQj1sPDMtlnM//uwWIBp6d+atZr4DJcWI6U8DOBsAJ+HeoBQ5pf9TgCfBXCelHJygcfeCWAzgK8COADVVTIMdd/cnwO4QkoZL7H/fbpu34LqgumGuig9COAdUsoPSf1uKbL/HQDOhbo38DjUf5dGANwDldDevJCvq9E0aBsaf1e4AQzMM7UV7P8wgP8XwA6o7rkJqCR7BsDTAL4IYJOU8raFfF2NqEHbsSrtoN9rl0C990ag3ovHod6b5+n3atNr0DY0+hDUiAmzUF1py/FTqK/nQeQ+cHVA/S5+Auq/QGdIKe+u5OtpVLVswyrUjdfEMjVoO/K6WIEGbUNeEyvUoO1oxOviPGrUhsbfh07M//vQdCQhq//WrBVhwTmJiIiIiIiIiFoae7gQEREREREREVUZAxciIiIiIiIioipj4EJEREREREREVGUMXIiIiIiIiIiIqoyBCxERERERERFRlTFwISIiIiIiIiKqMgYuRERERERERERVxsCFiIiIiIiIiKjKGLgQEREREREREVUZAxciIiIiIiIioipj4EJEREREREREVGUMXIiIiIiIiIiIqoyBCxEREVGLEkLYhBA7hRBSCPG1Ghz//9PHfkUI4a728YmIiJqZkFJaXQciIiKihiOEyH5IklKKecqeB+C9AM4HsBZAB4AEgHEABwHsAvAHAA9JKUcXe75yCSE+BuDrAGIATpNSDlfjuIbjdwA4DKALwN9LKb9QzeMTERE1MwYuRERERCbKCUCEEJ0Avg3gujIPKwH4pZThhZyvEkIIL1TYMwjg36SUf7nYYxY5z/8A8HkAQQDrpZRjtTgPERFRs2HgQkRERGRivgBECOEE8DiAc/WqBIBfAngCwAkAAirseA2ANwNYrsv5pZShSs+3gPp/FsCXAaQArJFSHl/sMYucpwPAMAAfgC9KKf+2FuchIiJqNg6rK0BERETUpG5CLmw5DOAKKeVLZgWFEALABQA+BiBd64oJIRwA/kIv/rZWYQsASClnhBC/APAeAB8RQnzBrAcPERHRUsOH5hIREREtzPWG+Y8XC1sAQCpPSinfJ6WM1KFuVwNYped/UIfz/VC/dgH4szqcj4iIqOHxliIiIiIiE2XcUhQE0K4XvVLKaC3PV+Gx7gLwdgBRAP1mtzAVlL8YwAcBnAdgBYA2ABMAxgC8AuAxAD8u1lNG96gZBtAH4DEp5UWLqT8REVErYOBCREREZKKMwCUCwKMX10gpj9byfBUcxwUVlngxT/ghhLABuB3Ah8s49P+WUv63Ese6G8C1ULdM9UspxyuqOBERUYvhLUVEREREC3PQMP8py2ox14VQYQsA/Nc8ZT+FXNgyBeAWADcCeAeA9wP4ewD3AijnNqg/6Fcb1EOCiYiIljQ+NJeIiIhoYX4M4B/1/GeFEBsB3AHgUSll0LpqZR/kCwBPzVP2z/XrNIBzpZT7zQrpkYjWz3Ms47nOBXDnPOWJiIhaGnu4EBERES3MV5EfMrwNwK8ATAkhXhRCfE8I8QkhxFl1rterDPP75im7Qb8+WixsAdRIRFLK5+Y51l7D/NnzlCUiImp5DFyIiIiIFkA/JPdNUMFLzLDJBmATgPcBuBXAC0KIXUKId9apamsM8xPzlM3cKrRRCOFc5Hkni9SBiIhoSWLgQkRERLRAUsqIlPKvAKwE8DEAPwNgNpLP2QD+QwjxXf2g2lrqNszPF7g8qF83AXhICHGNEMJTaodipJQJAJlbqboWcgwiIqJWwlGKiIiIiEwsZtQgIcQg1BDLlwG4HkCHYfPfSym/UM3zFRznINTzVlJSypLP6xNCrAXwJIDlhtVxAM/o9b8D8DsdppRz7iGoYaUjUkpfxZUnIiJqIQxciIiIiExUMQDpAXAPgNfrVSGoYZOjNTrfi1A9VgDAJ6UsOcKQEKIfwP8A8F4AAZMiIwD+CcC/yXk+OAohggDaAYxLKXsrrTsREVEr4S1FRERERDUkpRwH8GcAknpVO4DX1fCUxtuIuouW0qSUI1LKTwHoB3ABgM9CBUQzukg/gP8F4PZSx9HPgGk3qQMREdGSxMCFiIiIqMaklEMAjKMALS9WtgoOG+bnDVwypJQJKeXvpZT/IqW8FkAfgA9B3WIEAH8uhNhS4hDGcx0p97xEREStioELERERUX3MGuZDNTzP84b5MxZ6ECnlrJTy3wF8zbD6whK7bDLM717oeYmIiFoFAxciIiKiBRBCDFRQdi0AY++QF6tdH4OnDPPnVuF4hw3zpR7CazzXU0VLERERLREMXIiIiIgW5mkhxB1CiHNKFRJCrIQaLtquV/1eSnmwhvX6TwBhPV/0WTFCiGVCiK8IIdaVKOMF8AHDql0lzpsJXNIAHiqzrkRERC2LoxQRERERmZhv1CAhxEkAmV4uLwN4DMBzAEahQocBAOcD+FMAHl0uBOANUsrnKj1fhXX/GYDrAEShRkSacwuT7nVzSC8+DeBxAHsBTAHohLod6T1QwzxDb7/IbKQiIYQDwDDUc18ekVK+cTH1JyIiagWluoUSERERUXG7AbwZgACwQU+lvADgBrOwpQa+DxW4eABcq5cLGYOT1+qpmIcBvLPEsNCXQoUtAPCDyqpKRETUmtjDhYiIiMhEOT1O9O1ClwF4PYBXAVgL1TtEAAhCjdbzLIBfALhfSpk0O06556ug7nYArwBYDeBBKeVlRcqdBuByqIfhbtHl26FGJjoO4BkAP5JS7pjnfD+E6g0zCWCVlDJcqjwREdFSwMCFiIiIqAUJIT4N4F8BpACs1UNT1+I8HVC3E/kAfFFK+be1OA8REVGz4UNziYiIiFrTNwCchHpY7+dqeJ6/gApbggC+UsPzEBERNRUGLkREREQtSEoZBXCzXvyIEGJ5tc+he7d8Wi9+WUo5Vu1zEBERNSsGLkRERESt61tQz5BxAfi7Ghz/LwB0Q4129OUaHJ+IiKhp8RkuRERERERERERVxh4uRERERERERERVxsCFiIiIiIiIiKjKGLgQEREREREREVUZAxciIiIiIiIioipj4EJEREREREREVGUMXIiIiIiIiIiIqoyBCxERERERERFRlTFwISIiIiIiIiKqMgYuRERERERERERVxsCFiIiIiIiIiKjKGLgQEREREREREVUZAxciIiIiIiIioipj4EJEREREREREVGUMXIiIiIiIiIiIquz/AiK+IObhrwvaAAAAAElFTkSuQmCC\n",
        "metadata": {
         "image/png": {
          "height": 413,
          "width": 558
         },
         "needs_background": "light",
         "tags": []
        },
        "output_type": "display_data",
        "text/plain": "<Figure size 576x432 with 1 Axes>"
       }
      ]
     }
    },
    "92ba8f075e194605b36da11dd3eaf333": {
     "model_module": "@jupyter-widgets/controls",
     "model_name": "SliderStyleModel",
     "state": {
      "_model_module": "@jupyter-widgets/controls",
      "_model_module_version": "1.5.0",
      "_model_name": "SliderStyleModel",
      "_view_count": null,
      "_view_module": "@jupyter-widgets/base",
      "_view_module_version": "1.2.0",
      "_view_name": "StyleView",
      "description_width": "",
      "handle_color": null
     }
    },
    "96665b69c8e5411a9d1210a66e3f88ca": {
     "model_module": "@jupyter-widgets/base",
     "model_name": "LayoutModel",
     "state": {
      "_model_module": "@jupyter-widgets/base",
      "_model_module_version": "1.2.0",
      "_model_name": "LayoutModel",
      "_view_count": null,
      "_view_module": "@jupyter-widgets/base",
      "_view_module_version": "1.2.0",
      "_view_name": "LayoutView",
      "align_content": null,
      "align_items": null,
      "align_self": null,
      "border": null,
      "bottom": null,
      "display": null,
      "flex": null,
      "flex_flow": null,
      "grid_area": null,
      "grid_auto_columns": null,
      "grid_auto_flow": null,
      "grid_auto_rows": null,
      "grid_column": null,
      "grid_gap": null,
      "grid_row": null,
      "grid_template_areas": null,
      "grid_template_columns": null,
      "grid_template_rows": null,
      "height": null,
      "justify_content": null,
      "justify_items": null,
      "left": null,
      "margin": null,
      "max_height": null,
      "max_width": null,
      "min_height": null,
      "min_width": null,
      "object_fit": null,
      "object_position": null,
      "order": null,
      "overflow": null,
      "overflow_x": null,
      "overflow_y": null,
      "padding": null,
      "right": null,
      "top": null,
      "visibility": null,
      "width": null
     }
    },
    "a84730c9e0c24e82bee4322a5e9ae0de": {
     "model_module": "@jupyter-widgets/controls",
     "model_name": "FloatSliderModel",
     "state": {
      "_dom_classes": [],
      "_model_module": "@jupyter-widgets/controls",
      "_model_module_version": "1.5.0",
      "_model_name": "FloatSliderModel",
      "_view_count": null,
      "_view_module": "@jupyter-widgets/controls",
      "_view_module_version": "1.5.0",
      "_view_name": "FloatSliderView",
      "continuous_update": true,
      "description": "lin_y0",
      "description_tooltip": null,
      "disabled": false,
      "layout": "IPY_MODEL_5eee97e92c174a4fba77f8403caf4e62",
      "max": 40000,
      "min": 0,
      "orientation": "horizontal",
      "readout": true,
      "readout_format": ".2f",
      "step": 1000,
      "style": "IPY_MODEL_2a2e9b2859c943d7802cd7d5c5b385fb",
      "value": 10000
     }
    },
    "b7edddfe469c44a0bd55d02a77835466": {
     "model_module": "@jupyter-widgets/controls",
     "model_name": "SliderStyleModel",
     "state": {
      "_model_module": "@jupyter-widgets/controls",
      "_model_module_version": "1.5.0",
      "_model_name": "SliderStyleModel",
      "_view_count": null,
      "_view_module": "@jupyter-widgets/base",
      "_view_module_version": "1.2.0",
      "_view_name": "StyleView",
      "description_width": "",
      "handle_color": null
     }
    },
    "d12c6f6d4b544784afdbb383c401e913": {
     "model_module": "@jupyter-widgets/base",
     "model_name": "LayoutModel",
     "state": {
      "_model_module": "@jupyter-widgets/base",
      "_model_module_version": "1.2.0",
      "_model_name": "LayoutModel",
      "_view_count": null,
      "_view_module": "@jupyter-widgets/base",
      "_view_module_version": "1.2.0",
      "_view_name": "LayoutView",
      "align_content": null,
      "align_items": null,
      "align_self": null,
      "border": null,
      "bottom": null,
      "display": null,
      "flex": null,
      "flex_flow": null,
      "grid_area": null,
      "grid_auto_columns": null,
      "grid_auto_flow": null,
      "grid_auto_rows": null,
      "grid_column": null,
      "grid_gap": null,
      "grid_row": null,
      "grid_template_areas": null,
      "grid_template_columns": null,
      "grid_template_rows": null,
      "height": null,
      "justify_content": null,
      "justify_items": null,
      "left": null,
      "margin": null,
      "max_height": null,
      "max_width": null,
      "min_height": null,
      "min_width": null,
      "object_fit": null,
      "object_position": null,
      "order": null,
      "overflow": null,
      "overflow_x": null,
      "overflow_y": null,
      "padding": null,
      "right": null,
      "top": null,
      "visibility": null,
      "width": null
     }
    },
    "e1f45c871923480383653c39918ac53a": {
     "model_module": "@jupyter-widgets/controls",
     "model_name": "SliderStyleModel",
     "state": {
      "_model_module": "@jupyter-widgets/controls",
      "_model_module_version": "1.5.0",
      "_model_name": "SliderStyleModel",
      "_view_count": null,
      "_view_module": "@jupyter-widgets/base",
      "_view_module_version": "1.2.0",
      "_view_name": "StyleView",
      "description_width": "",
      "handle_color": null
     }
    },
    "e6d1f7cda68b4a33ada857021f7cee15": {
     "model_module": "@jupyter-widgets/controls",
     "model_name": "SliderStyleModel",
     "state": {
      "_model_module": "@jupyter-widgets/controls",
      "_model_module_version": "1.5.0",
      "_model_name": "SliderStyleModel",
      "_view_count": null,
      "_view_module": "@jupyter-widgets/base",
      "_view_module_version": "1.2.0",
      "_view_name": "StyleView",
      "description_width": "",
      "handle_color": null
     }
    },
    "e8c07b2075d1443fb9544a3af53435cc": {
     "model_module": "@jupyter-widgets/base",
     "model_name": "LayoutModel",
     "state": {
      "_model_module": "@jupyter-widgets/base",
      "_model_module_version": "1.2.0",
      "_model_name": "LayoutModel",
      "_view_count": null,
      "_view_module": "@jupyter-widgets/base",
      "_view_module_version": "1.2.0",
      "_view_name": "LayoutView",
      "align_content": null,
      "align_items": null,
      "align_self": null,
      "border": null,
      "bottom": null,
      "display": null,
      "flex": null,
      "flex_flow": null,
      "grid_area": null,
      "grid_auto_columns": null,
      "grid_auto_flow": null,
      "grid_auto_rows": null,
      "grid_column": null,
      "grid_gap": null,
      "grid_row": null,
      "grid_template_areas": null,
      "grid_template_columns": null,
      "grid_template_rows": null,
      "height": null,
      "justify_content": null,
      "justify_items": null,
      "left": null,
      "margin": null,
      "max_height": null,
      "max_width": null,
      "min_height": null,
      "min_width": null,
      "object_fit": null,
      "object_position": null,
      "order": null,
      "overflow": null,
      "overflow_x": null,
      "overflow_y": null,
      "padding": null,
      "right": null,
      "top": null,
      "visibility": null,
      "width": null
     }
    },
    "f6d7ae314c574863bbc22107e685c025": {
     "model_module": "@jupyter-widgets/controls",
     "model_name": "FloatSliderModel",
     "state": {
      "_dom_classes": [],
      "_model_module": "@jupyter-widgets/controls",
      "_model_module_version": "1.5.0",
      "_model_name": "FloatSliderModel",
      "_view_count": null,
      "_view_module": "@jupyter-widgets/controls",
      "_view_module_version": "1.5.0",
      "_view_name": "FloatSliderView",
      "continuous_update": true,
      "description": "exp_scale",
      "description_tooltip": null,
      "disabled": false,
      "layout": "IPY_MODEL_4b5128f28ea74899beb0b4fd1edb4ee0",
      "max": 20000,
      "min": 0,
      "orientation": "horizontal",
      "readout": true,
      "readout_format": ".2f",
      "step": 250,
      "style": "IPY_MODEL_92ba8f075e194605b36da11dd3eaf333",
      "value": 1000
     }
    },
    "f8b812486cae4bc5966b61f974bef3d9": {
     "model_module": "@jupyter-widgets/controls",
     "model_name": "SliderStyleModel",
     "state": {
      "_model_module": "@jupyter-widgets/controls",
      "_model_module_version": "1.5.0",
      "_model_name": "SliderStyleModel",
      "_view_count": null,
      "_view_module": "@jupyter-widgets/base",
      "_view_module_version": "1.2.0",
      "_view_name": "StyleView",
      "description_width": "",
      "handle_color": null
     }
    }
   }
  }
 },
 "nbformat": 4,
 "nbformat_minor": 4
}
