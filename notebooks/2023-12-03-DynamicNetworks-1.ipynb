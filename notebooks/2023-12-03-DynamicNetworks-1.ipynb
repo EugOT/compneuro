{
  "cells": [
    {
      "cell_type": "markdown",
      "metadata": {
        "id": "view-in-github",
        "colab_type": "text"
      },
      "source": [
        "<a href=\"https://colab.research.google.com/github/EugOT/compneuro/blob/jonathankremla/notebooks/2023-12-03-DynamicNetworks-1.ipynb\" target=\"_parent\"><img src=\"https://colab.research.google.com/assets/colab-badge.svg\" alt=\"Open In Colab\"/></a>"
      ]
    },
    {
      "cell_type": "markdown",
      "metadata": {
        "execution": {},
        "id": "3QU6bQ9ylV4f"
      },
      "source": [
        "# Tutorial 1: Neural Rate Models"
      ]
    },
    {
      "cell_type": "markdown",
      "metadata": {
        "execution": {},
        "id": "Owt9JCmHlV4g"
      },
      "source": [
        "---\n",
        "# Tutorial Objectives\n",
        "\n",
        "The brain is a complex system, not because it is composed of a large number of diverse types of neurons, but mainly because of how neurons are connected to each other. The brain is indeed a network of highly specialized neuronal networks.\n",
        "\n",
        "The activity of a neural network constantly evolves in time. For this reason, neurons can be modeled as dynamical systems. The dynamical system approach is only one of the many modeling approaches that computational neuroscientists have developed (other points of view include information processing,  statistical models, etc.).\n",
        "\n",
        "How the dynamics of neuronal networks affect the representation and processing of information in the brain is an open question. However, signatures of altered brain dynamics present in many brain diseases (e.g., in epilepsy or Parkinson's disease) tell us that it is crucial to study network activity dynamics if we want to understand the brain.\n",
        "\n",
        "In this tutorial, we will simulate and study one of the simplest models of biological neuronal networks. Instead of modeling and simulating individual excitatory neurons (e.g., LIF models that you implemented yesterday), we will treat them as a single homogeneous population and approximate their dynamics using a single one-dimensional equation describing the evolution of their average spiking rate in time.\n",
        "\n",
        "In this tutorial, we will learn how to build a firing rate model of a single population of excitatory neurons.\n",
        "\n",
        "<br>\n",
        "\n",
        "**Steps:**\n",
        "- Write the equation for the firing rate dynamics of a 1D excitatory population.\n",
        "- Visualize the response of the population as a function of parameters such as threshold level and gain, using the frequency-current (F-I) curve.\n",
        "- Numerically simulate the dynamics of the excitatory population and find the fixed points of the system."
      ]
    },
    {
      "cell_type": "markdown",
      "metadata": {
        "execution": {},
        "id": "INdxjlYUlV4h"
      },
      "source": [
        "---\n",
        "# Setup"
      ]
    },
    {
      "cell_type": "code",
      "execution_count": 1,
      "metadata": {
        "cellView": "both",
        "execution": {},
        "id": "HKzU_g8elV4h"
      },
      "outputs": [],
      "source": [
        "# Imports\n",
        "import matplotlib.pyplot as plt\n",
        "import numpy as np\n",
        "import scipy.optimize as opt  # root-finding algorithm"
      ]
    },
    {
      "cell_type": "code",
      "execution_count": 2,
      "metadata": {
        "cellView": "form",
        "execution": {},
        "id": "SQO7mBfelV4h"
      },
      "outputs": [],
      "source": [
        "# @title Figure Settings\n",
        "import logging\n",
        "logging.getLogger('matplotlib.font_manager').disabled = True\n",
        "\n",
        "import ipywidgets as widgets  # interactive display\n",
        "%config InlineBackend.figure_format = 'retina'\n",
        "plt.style.use(\"https://raw.githubusercontent.com/NeuromatchAcademy/course-content/main/nma.mplstyle\")"
      ]
    },
    {
      "cell_type": "code",
      "execution_count": 3,
      "metadata": {
        "cellView": "form",
        "execution": {},
        "id": "NqNEZiaelV4i"
      },
      "outputs": [],
      "source": [
        "# @title Plotting Functions\n",
        "\n",
        "def plot_fI(x, f):\n",
        "  plt.figure(figsize=(6, 4))  # plot the figure\n",
        "  plt.plot(x, f, 'k')\n",
        "  plt.xlabel('x (a.u.)', fontsize=14)\n",
        "  plt.ylabel('F(x)', fontsize=14)\n",
        "  plt.show()\n",
        "\n",
        "\n",
        "def plot_dr_r(r, drdt, x_fps=None):\n",
        "  plt.figure()\n",
        "  plt.plot(r, drdt, 'k')\n",
        "  plt.plot(r, 0. * r, 'k--')\n",
        "  if x_fps is not None:\n",
        "    plt.plot(x_fps, np.zeros_like(x_fps), \"ko\", ms=12)\n",
        "  plt.xlabel(r'$r$')\n",
        "  plt.ylabel(r'$\\frac{dr}{dt}$', fontsize=20)\n",
        "  plt.ylim(-0.1, 0.1)\n",
        "  plt.show()\n",
        "\n",
        "\n",
        "def plot_dFdt(x, dFdt):\n",
        "  plt.figure()\n",
        "  plt.plot(x, dFdt, 'r')\n",
        "  plt.xlabel('x (a.u.)', fontsize=14)\n",
        "  plt.ylabel('dF(x)', fontsize=14)\n",
        "  plt.show()"
      ]
    },
    {
      "cell_type": "markdown",
      "metadata": {
        "execution": {},
        "id": "mKdQuiI3lV4i"
      },
      "source": [
        "---\n",
        "# Section 1: Neuronal network dynamics"
      ]
    },
    {
      "cell_type": "markdown",
      "metadata": {
        "execution": {},
        "id": "ACgrYXENlV4i"
      },
      "source": [
        "## Section 1.1: Dynamics of a single excitatory population\n",
        "\n",
        "\n",
        "<details>\n",
        "<summary> <font color='blue'>Click here for text recap of relevant theory </font></summary>\n",
        "\n",
        "Individual neurons respond by spiking. When we average the spikes of neurons in a population, we can define the average firing activity of the population. In this model, we are interested in how the population-averaged firing varies as a function of time and network parameters. Mathematically, we can describe the firing rate dynamic of a feed-forward network as:\n",
        "\n",
        "\\begin{equation}\n",
        "\\tau \\frac{dr}{dt} = -r + F(I_{\\text{ext}})  \\quad\\qquad (1)\n",
        "\\end{equation}\n",
        "\n",
        "$r(t)$ represents the average firing rate of the excitatory population at time $t$, $\\tau$ controls the timescale of the evolution of the average firing rate, $I_{\\text{ext}}$ represents the external input, and the transfer function $F(\\cdot)$ (which can be related to f-I curve of individual neurons described in the next sections) represents the population activation function in response to all received inputs.\n",
        "\n",
        "</details>\n",
        "\n",
        "To start building the model, please execute the cell below to initialize the simulation parameters."
      ]
    },
    {
      "cell_type": "code",
      "execution_count": 4,
      "metadata": {
        "cellView": "form",
        "execution": {},
        "colab": {
          "base_uri": "https://localhost:8080/"
        },
        "id": "Y8bo260ClV4j",
        "outputId": "d8d376f2-edcc-49ff-9cb1-30ceaf008203"
      },
      "outputs": [
        {
          "output_type": "stream",
          "name": "stdout",
          "text": [
            "{'tau': 1.0, 'a': 1.2, 'theta': 2.8, 'w': 0.0, 'I_ext': 0.0, 'T': 20.0, 'dt': 0.1, 'r_init': 0.2, 'range_t': array([ 0. ,  0.1,  0.2,  0.3,  0.4,  0.5,  0.6,  0.7,  0.8,  0.9,  1. ,\n",
            "        1.1,  1.2,  1.3,  1.4,  1.5,  1.6,  1.7,  1.8,  1.9,  2. ,  2.1,\n",
            "        2.2,  2.3,  2.4,  2.5,  2.6,  2.7,  2.8,  2.9,  3. ,  3.1,  3.2,\n",
            "        3.3,  3.4,  3.5,  3.6,  3.7,  3.8,  3.9,  4. ,  4.1,  4.2,  4.3,\n",
            "        4.4,  4.5,  4.6,  4.7,  4.8,  4.9,  5. ,  5.1,  5.2,  5.3,  5.4,\n",
            "        5.5,  5.6,  5.7,  5.8,  5.9,  6. ,  6.1,  6.2,  6.3,  6.4,  6.5,\n",
            "        6.6,  6.7,  6.8,  6.9,  7. ,  7.1,  7.2,  7.3,  7.4,  7.5,  7.6,\n",
            "        7.7,  7.8,  7.9,  8. ,  8.1,  8.2,  8.3,  8.4,  8.5,  8.6,  8.7,\n",
            "        8.8,  8.9,  9. ,  9.1,  9.2,  9.3,  9.4,  9.5,  9.6,  9.7,  9.8,\n",
            "        9.9, 10. , 10.1, 10.2, 10.3, 10.4, 10.5, 10.6, 10.7, 10.8, 10.9,\n",
            "       11. , 11.1, 11.2, 11.3, 11.4, 11.5, 11.6, 11.7, 11.8, 11.9, 12. ,\n",
            "       12.1, 12.2, 12.3, 12.4, 12.5, 12.6, 12.7, 12.8, 12.9, 13. , 13.1,\n",
            "       13.2, 13.3, 13.4, 13.5, 13.6, 13.7, 13.8, 13.9, 14. , 14.1, 14.2,\n",
            "       14.3, 14.4, 14.5, 14.6, 14.7, 14.8, 14.9, 15. , 15.1, 15.2, 15.3,\n",
            "       15.4, 15.5, 15.6, 15.7, 15.8, 15.9, 16. , 16.1, 16.2, 16.3, 16.4,\n",
            "       16.5, 16.6, 16.7, 16.8, 16.9, 17. , 17.1, 17.2, 17.3, 17.4, 17.5,\n",
            "       17.6, 17.7, 17.8, 17.9, 18. , 18.1, 18.2, 18.3, 18.4, 18.5, 18.6,\n",
            "       18.7, 18.8, 18.9, 19. , 19.1, 19.2, 19.3, 19.4, 19.5, 19.6, 19.7,\n",
            "       19.8, 19.9])}\n"
          ]
        }
      ],
      "source": [
        "# @markdown *Execute this cell to set default parameters for a single excitatory population model*\n",
        "\n",
        "\n",
        "def default_pars_single(**kwargs):\n",
        "  pars = {}\n",
        "\n",
        "  # Excitatory parameters\n",
        "  pars['tau'] = 1.     # Timescale of the E population [ms]\n",
        "  pars['a'] = 1.2      # Gain of the E population\n",
        "  pars['theta'] = 2.8  # Threshold of the E population\n",
        "\n",
        "  # Connection strength\n",
        "  pars['w'] = 0.  # E to E, we first set it to 0\n",
        "\n",
        "  # External input\n",
        "  pars['I_ext'] = 0.\n",
        "\n",
        "  # simulation parameters\n",
        "  pars['T'] = 20.       # Total duration of simulation [ms]\n",
        "  pars['dt'] = .1       # Simulation time step [ms]\n",
        "  pars['r_init'] = 0.2  # Initial value of E\n",
        "\n",
        "  # External parameters if any\n",
        "  pars.update(kwargs)\n",
        "\n",
        "  # Vector of discretized time points [ms]\n",
        "  pars['range_t'] = np.arange(0, pars['T'], pars['dt'])\n",
        "\n",
        "  return pars\n",
        "\n",
        "pars = default_pars_single()\n",
        "print(pars)"
      ]
    },
    {
      "cell_type": "markdown",
      "metadata": {
        "execution": {},
        "id": "z93VM81DlV4j"
      },
      "source": [
        "You can now use:\n",
        "- `pars = default_pars_single()` to get all the parameters.\n",
        "- `pars = default_pars_single(T=T_sim, dt=time_step)` to set new simulation time and time step\n",
        "- To update an existing parameter dictionary, use `pars['New_para'] = value`\n",
        "\n",
        "Because `pars` is a dictionary, it can be passed to a function that requires individual parameters as arguments using `my_func(**pars)` syntax."
      ]
    },
    {
      "cell_type": "markdown",
      "metadata": {
        "execution": {},
        "id": "J4A-wDvqlV4j"
      },
      "source": [
        "## Section 1.2: F-I curves\n",
        "\n",
        "\n",
        "<details>\n",
        "<summary> <font color='blue'>Click here for text recap of relevant theory </font></summary>\n",
        "\n",
        "In electrophysiology, a neuron is often characterized by its spike rate output in response to input currents. This is often called the **F-I** curve, denoting the output spike frequency (**F**) in response to different injected currents (**I**). We estimated this for an LIF neuron in yesterday's tutorial.\n",
        "\n",
        "The transfer function $F(\\cdot)$ in Equation $1$ represents the gain of the population as a function of the total input. The gain is often modeled as a sigmoidal function, i.e., more input drive leads to a nonlinear increase in the population firing rate. The output firing rate will eventually saturate for high input values.\n",
        "\n",
        "A sigmoidal $F(\\cdot)$ is parameterized by its gain $a$ and threshold $\\theta$.\n",
        "\n",
        "$$ F(x;a,\\theta) = \\frac{1}{1+\\text{e}^{-a(x-\\theta)}} - \\frac{1}{1+\\text{e}^{a\\theta}}  \\quad(2)$$\n",
        "\n",
        "The argument $x$ represents the input to the population. Note that the second term is chosen so that $F(0;a,\\theta)=0$.\n",
        "\n",
        "Many other transfer functions (generally monotonic) can be also used. Examples are the rectified linear function $ReLU(x)$ or the hyperbolic tangent $tanh(x)$."
      ]
    },
    {
      "cell_type": "markdown",
      "metadata": {
        "execution": {},
        "id": "RtblIbojlV4j"
      },
      "source": [
        "### Coding Exercise 1.2: Implement F-I curve\n",
        "\n",
        "Let's first investigate the activation functions before simulating the dynamics of the entire population.\n",
        "\n",
        "In this exercise, you will implement a sigmoidal **F-I** curve or transfer function $F(x)$, with gain $a$ and threshold level $\\theta$ as parameters:\n",
        "\n",
        "\\begin{equation}\n",
        "F(x;a,\\theta) = \\frac{1}{1+\\text{e}^{-a(x-\\theta)}} - \\frac{1}{1+\\text{e}^{a\\theta}}\n",
        "\\end{equation}"
      ]
    },
    {
      "cell_type": "code",
      "execution_count": 6,
      "metadata": {
        "execution": {},
        "colab": {
          "base_uri": "https://localhost:8080/",
          "height": 392
        },
        "id": "tS0mnhfWlV4j",
        "outputId": "aa6306fd-05e1-4d7f-d766-b077c27aad57"
      },
      "outputs": [
        {
          "output_type": "display_data",
          "data": {
            "text/plain": [
              "<Figure size 600x400 with 1 Axes>"
            ],
            "image/png": "[encoded data removed]"
          },
          "metadata": {
            "image/png": {
              "width": 575,
              "height": 375
            }
          }
        }
      ],
      "source": [
        "def F(x, a, theta):\n",
        "  \"\"\"\n",
        "  Population activation function.\n",
        "\n",
        "  Args:\n",
        "    x (float): the population input\n",
        "    a (float): the gain of the function\n",
        "    theta (float): the threshold of the function\n",
        "\n",
        "  Returns:\n",
        "    float: the population activation response F(x) for input x\n",
        "  \"\"\"\n",
        "  f = (1 + np.exp(-a * (x - theta)))**-1 - (1 + np.exp(a * theta))**-1\n",
        "\n",
        "  return f\n",
        "\n",
        "\n",
        "# Set parameters\n",
        "pars = default_pars_single()  # get default parameters\n",
        "x = np.arange(0, 10, .1)      # set the range of input\n",
        "\n",
        "# Compute transfer function\n",
        "f = F(x, pars['a'], pars['theta'])\n",
        "\n",
        "# Visualize\n",
        "plot_fI(x, f)"
      ]
    },
    {
      "cell_type": "markdown",
      "metadata": {
        "execution": {},
        "id": "5Xog0w7DlV4k"
      },
      "source": [
        "### Interactive Demo 1.2 : Parameter exploration of F-I curve\n",
        "\n",
        "Here's an interactive demo that shows how the F-I curve changes for different values of the gain and threshold parameters.\n",
        "\n",
        "1. How does the gain parameter ($a$) affect the F-I curve?\n",
        "2. How does the threshold parameter ($\\theta$) affect the F-I curve?"
      ]
    },
    {
      "cell_type": "code",
      "execution_count": 7,
      "metadata": {
        "cellView": "form",
        "execution": {},
        "id": "UV5O9raUlV4k",
        "outputId": "a46857db-977a-48a5-b0f5-87a6655b7ac1",
        "colab": {
          "base_uri": "https://localhost:8080/",
          "height": 656,
          "referenced_widgets": [
            "e9afb4b788fa487d8c9b5a4d2937096e",
            "3c255f67a01d4953a667f2695c8ff26f",
            "16d5f286b6724a9fa6869f07479d2103",
            "4bdd88519e0c470e912eba84a92c139b",
            "5441f5034ee44a68903f5d1fe2744b36",
            "f73844d387d549f9af3c8e3d14d87a51",
            "6887fb6f9a864f7e8b4c4fe1c7e954a0",
            "d641f43ddcff43c689c5d9292aadb121",
            "e81ebe541e6d4ef8a95768e8b3da4b2a",
            "718156a8616541c580f530625161c5ba"
          ]
        }
      },
      "outputs": [
        {
          "output_type": "display_data",
          "data": {
            "text/plain": [
              "interactive(children=(FloatSlider(value=1.5, description='a', max=3.0, min=0.3, step=0.3), FloatSlider(value=3…"
            ],
            "application/vnd.jupyter.widget-view+json": {
              "version_major": 2,
              "version_minor": 0,
              "model_id": "e9afb4b788fa487d8c9b5a4d2937096e"
            }
          },
          "metadata": {}
        }
      ],
      "source": [
        "# @markdown Make sure you execute this cell to enable the widget!\n",
        "\n",
        "@widgets.interact(\n",
        "    a=widgets.FloatSlider(1.5, min=0.3, max=3., step=0.3),\n",
        "    theta=widgets.FloatSlider(3., min=2., max=4., step=0.2)\n",
        ")\n",
        "\n",
        "\n",
        "def interactive_plot_FI(a, theta):\n",
        "  \"\"\"\n",
        "  Population activation function.\n",
        "\n",
        "  Expecxts:\n",
        "    a     : the gain of the function\n",
        "    theta : the threshold of the function\n",
        "\n",
        "  Returns:\n",
        "    plot the F-I curve with give parameters\n",
        "  \"\"\"\n",
        "\n",
        "  # set the range of input\n",
        "  x = np.arange(0, 10, .1)\n",
        "  plt.figure()\n",
        "  plt.plot(x, F(x, a, theta), 'k')\n",
        "  plt.xlabel('x (a.u.)', fontsize=14)\n",
        "  plt.ylabel('F(x)', fontsize=14)\n",
        "  plt.show()"
      ]
    },
    {
      "cell_type": "markdown",
      "metadata": {
        "execution": {},
        "id": "tweFbIiMlV4k"
      },
      "source": [
        "## Section 1.3: Simulation scheme of E dynamics\n",
        "\n",
        "Because $F(\\cdot)$ is a nonlinear function, the exact solution of our differential equation of population activity can not be determined via analytical methods. As we have seen before, we can use numerical methods, specifically the Euler method, to find the solution (that is, simulate the population activity)."
      ]
    },
    {
      "cell_type": "code",
      "execution_count": 8,
      "metadata": {
        "cellView": "form",
        "execution": {},
        "id": "_xTqFRIElV4k",
        "outputId": "91a55930-1839-436e-b649-72418f1898ea",
        "colab": {
          "base_uri": "https://localhost:8080/"
        }
      },
      "outputs": [
        {
          "output_type": "stream",
          "name": "stdout",
          "text": [
            "Help on function simulate_single in module __main__:\n",
            "\n",
            "simulate_single(pars)\n",
            "    Simulate an excitatory population of neurons\n",
            "    \n",
            "    Args:\n",
            "      pars   : Parameter dictionary\n",
            "    \n",
            "    Returns:\n",
            "      rE     : Activity of excitatory population (array)\n",
            "    \n",
            "    Example:\n",
            "      pars = default_pars_single()\n",
            "      r = simulate_single(pars)\n",
            "\n"
          ]
        }
      ],
      "source": [
        "# @markdown Execute this cell to enable the single population rate model simulator: `simulate_single`\n",
        "\n",
        "\n",
        "def simulate_single(pars):\n",
        "  \"\"\"\n",
        "  Simulate an excitatory population of neurons\n",
        "\n",
        "  Args:\n",
        "    pars   : Parameter dictionary\n",
        "\n",
        "  Returns:\n",
        "    rE     : Activity of excitatory population (array)\n",
        "\n",
        "  Example:\n",
        "    pars = default_pars_single()\n",
        "    r = simulate_single(pars)\n",
        "  \"\"\"\n",
        "\n",
        "  # Set parameters\n",
        "  tau, a, theta = pars['tau'], pars['a'], pars['theta']\n",
        "  w = pars['w']\n",
        "  I_ext = pars['I_ext']\n",
        "  r_init = pars['r_init']\n",
        "  dt, range_t = pars['dt'], pars['range_t']\n",
        "  Lt = range_t.size\n",
        "\n",
        "  # Initialize activity\n",
        "  r = np.zeros(Lt)\n",
        "  r[0] = r_init\n",
        "  I_ext = I_ext * np.ones(Lt)\n",
        "\n",
        "  # Update the E activity\n",
        "  for k in range(Lt - 1):\n",
        "      dr = dt / tau * (-r[k] + F(w * r[k] + I_ext[k], a, theta))\n",
        "      r[k+1] = r[k] + dr\n",
        "\n",
        "  return r\n",
        "\n",
        "\n",
        "help(simulate_single)"
      ]
    },
    {
      "cell_type": "markdown",
      "metadata": {
        "execution": {},
        "id": "SVBuawFylV4k"
      },
      "source": [
        "### Interactive Demo 1.3: Parameter Exploration of single population dynamics\n",
        "\n",
        "Explore these dynamics of the population activity in this interactive demo.\n",
        "\n",
        "1.  How does $r_{\\text{sim}}(t)$ change with different $I_{\\text{ext}}$ values?\n",
        "2.  How does it change with different $\\tau$ values?\n",
        "\n",
        "<br>\n",
        "\n",
        "Note that, $r_{\\rm ana}(t)$ denotes the analytical solution - you will learn how this is computed in the next section."
      ]
    },
    {
      "cell_type": "code",
      "execution_count": 9,
      "metadata": {
        "cellView": "form",
        "execution": {},
        "id": "Ibo659HrlV4k",
        "outputId": "e2881f3f-2bfa-44a2-f822-2ef311c29087",
        "colab": {
          "base_uri": "https://localhost:8080/",
          "height": 655,
          "referenced_widgets": [
            "75945a5e0a1e4d4ea63491a307738d65",
            "f819a02624e347b3a964a669fe56a4e6",
            "aec8ee39a8df4a3f909fdb6e6050d99b",
            "bfd993b68825401fb5ba9cb1bdeb809a",
            "3754ea87ff99452c889a13a9d62a9bbd",
            "0dc571766a6b4db3b41f932e5ceee9fa",
            "4f51471566dc467a9d1724a6013e6e1d",
            "aa0efaaed73c43c1aef7b44ec88c41a2",
            "cc1ec2ed02724df2b6dd7528851dd01f",
            "e23d3d4971574c08be7c911137840675"
          ]
        }
      },
      "outputs": [
        {
          "output_type": "display_data",
          "data": {
            "text/plain": [
              "interactive(children=(FloatSlider(value=5.0, description='I_ext', max=10.0, step=1.0), FloatSlider(value=3.0, …"
            ],
            "application/vnd.jupyter.widget-view+json": {
              "version_major": 2,
              "version_minor": 0,
              "model_id": "75945a5e0a1e4d4ea63491a307738d65"
            }
          },
          "metadata": {}
        }
      ],
      "source": [
        "# @title\n",
        "\n",
        "# @markdown Make sure you execute this cell to enable the widget!\n",
        "\n",
        "# get default parameters\n",
        "pars = default_pars_single(T=20.)\n",
        "\n",
        "@widgets.interact(\n",
        "    I_ext=widgets.FloatSlider(5.0, min=0.0, max=10., step=1.),\n",
        "    tau=widgets.FloatSlider(3., min=1., max=5., step=0.2)\n",
        ")\n",
        "\n",
        "\n",
        "def Myplot_E_diffI_difftau(I_ext, tau):\n",
        "  # set external input and time constant\n",
        "  pars['I_ext'] = I_ext\n",
        "  pars['tau'] = tau\n",
        "\n",
        "  # simulation\n",
        "  r = simulate_single(pars)\n",
        "\n",
        "  # Analytical Solution\n",
        "  r_ana = (pars['r_init']\n",
        "           + (F(I_ext, pars['a'], pars['theta'])\n",
        "           - pars['r_init']) * (1. - np.exp(-pars['range_t'] / pars['tau'])))\n",
        "\n",
        "  # plot\n",
        "  plt.figure()\n",
        "  plt.plot(pars['range_t'], r, 'b', label=r'$r_{\\mathrm{sim}}$(t)', alpha=0.5,\n",
        "           zorder=1)\n",
        "  plt.plot(pars['range_t'], r_ana, 'b--', lw=5, dashes=(2, 2),\n",
        "           label=r'$r_{\\mathrm{ana}}$(t)', zorder=2)\n",
        "  plt.plot(pars['range_t'],\n",
        "           F(I_ext, pars['a'], pars['theta']) * np.ones(pars['range_t'].size),\n",
        "           'k--', label=r'$F(I_{\\mathrm{ext}})$')\n",
        "  plt.xlabel('t (ms)', fontsize=16.)\n",
        "  plt.ylabel('Activity r(t)', fontsize=16.)\n",
        "  plt.legend(loc='best', fontsize=14.)\n",
        "  plt.show()"
      ]
    },
    {
      "cell_type": "markdown",
      "metadata": {
        "execution": {},
        "id": "kBGeRBvJlV4k"
      },
      "source": [
        "## Think! 1.3: Finite activities\n",
        "\n",
        "Above, we have numerically solved a system driven by a positive input. Yet, $r_E(t)$ either decays to zero or reaches a fixed non-zero value.\n",
        "\n",
        "1. Why doesn't the solution of the system \"explode\" in a finite time? In other words, what guarantees that $r_E$(t) stays finite?\n",
        "2. Which parameter would you change in order to increase the maximum value of the response?\n",
        "\n"
      ]
    },
    {
      "cell_type": "markdown",
      "metadata": {
        "execution": {},
        "id": "yHww4G8UlV4k"
      },
      "source": [
        "---\n",
        "# Section 2: Fixed points of the single population system\n"
      ]
    },
    {
      "cell_type": "markdown",
      "metadata": {
        "execution": {},
        "id": "BNbe9S7ElV4k"
      },
      "source": [
        "## Section 2.1: Finding fixed points"
      ]
    },
    {
      "cell_type": "markdown",
      "metadata": {
        "execution": {},
        "id": "kxIO_jW_lV4k"
      },
      "source": [
        "This part introduces recurrent networks and how to derive their fixed points. It also introduces vector fields and phase planes in one dimension.\n",
        "\n",
        "<details>\n",
        "<summary> <font color='blue'>Click here for text recap theory </font></summary>\n",
        "\n",
        "We can now extend our feed-forward network to a recurrent network, governed by the equation:\n",
        "\n",
        "\\begin{align}\n",
        "\\tau \\frac{dr}{dt} &= -r + F(w\\cdot r + I_{\\text{ext}})  \\quad\\qquad (3)\n",
        "\\end{align}\n",
        "\n",
        "where as before, $r(t)$ represents the average firing rate of the excitatory population at time $t$, $\\tau$ controls the timescale of the evolution of the average firing rate, $I_{\\text{ext}}$ represents the external input, and the transfer function $F(\\cdot)$ (which can be related to f-I curve of individual neurons described in the next sections) represents the population activation function in response to all received inputs. Now we also have $w$ which denotes the strength (synaptic weight) of the recurrent input to the population.\n",
        "\n",
        "As you varied the two parameters in the last Interactive Demo, you noticed that, while at first the system output quickly changes, with time, it reaches its maximum/minimum value and does not change anymore. The value eventually reached by the system is called the **steady state** of the system, or the **fixed point**. Essentially, in the steady states the derivative with respect to time of the activity ($r$) is zero, i.e. $\\displaystyle \\frac{dr}{dt}=0$.\n",
        "\n",
        "We can find that the steady state of the Equation. (1) by setting $\\displaystyle{\\frac{dr}{dt}=0}$ and solve for $r$:\n",
        "\n",
        "\\begin{equation}\n",
        "-r_{\\text{steady}} + F(w\\cdot r_{\\text{steady}} + I_{\\text{ext}};a,\\theta) = 0 \\qquad (4)\n",
        "\\end{equation}\n",
        "\n",
        "When it exists, the solution of Equation. (4) defines a **fixed point** of the dynamical system in Equation (3). Note that if $F(x)$ is nonlinear, it is not always possible to find an analytical solution, but the solution can be found via numerical simulations, as we will do later.\n",
        "\n",
        "From the Interactive Demo, one could also notice that the value of $\\tau$ influences how quickly the activity will converge to the steady state from its initial value.\n",
        "\n",
        "In the specific case of $w=0$, we can also analytically compute  the solution of Equation (1) (i.e., the thick blue dashed line) and deduce the role of $\\tau$ in determining the convergence to the fixed point:\n",
        "\n",
        "\\begin{equation}\n",
        "\\displaystyle{r(t) = \\big{[}F(I_{\\text{ext}};a,\\theta) -r(t=0)\\big{]} (1-\\text{e}^{-\\frac{t}{\\tau}})} + r(t=0)\n",
        "\\end{equation}\n",
        "\n",
        "<br>\n",
        "\n",
        "We can now numerically calculate the fixed point with a root finding algorithm."
      ]
    },
    {
      "cell_type": "markdown",
      "metadata": {
        "execution": {},
        "id": "pOdpzLjWlV4k"
      },
      "source": [
        "### Coding Exercise 2.1.1: Visualization of the fixed points\n",
        "\n",
        "When it is not possible to find the solution for Equation (3) analytically, a graphical approach can be taken. To that end, it is useful to plot $\\displaystyle{\\frac{dr}{dt}}$ as a function of $r$. The values of $r$ for which the plotted function crosses zero on the y axis correspond to fixed points.\n",
        "\n",
        "Here, let us, for example, set $w=5.0$ and $I^{\\text{ext}}=0.5$. From Equation (3), you can obtain\n",
        "\n",
        "\\begin{equation}\n",
        "\\frac{dr}{dt} = [-r + F(w\\cdot r + I^{\\text{ext}})]\\,/\\,\\tau\n",
        "\\end{equation}\n",
        "\n",
        "Then, plot the $dr/dt$ as a function of $r$, and check for the presence of fixed points."
      ]
    },
    {
      "cell_type": "code",
      "execution_count": null,
      "metadata": {
        "execution": {},
        "id": "wcTbINshlV4k"
      },
      "outputs": [],
      "source": [
        "def compute_drdt(r, I_ext, w, a, theta, tau, **other_pars):\n",
        "  \"\"\"Given parameters, compute dr/dt as a function of r.\n",
        "\n",
        "  Args:\n",
        "    r (1D array) : Average firing rate of the excitatory population\n",
        "    I_ext, w, a, theta, tau (numbers): Simulation parameters to use\n",
        "    other_pars : Other simulation parameters are unused by this function\n",
        "\n",
        "  Returns\n",
        "    drdt function for each value of r\n",
        "  \"\"\"\n",
        "  #########################################################################\n",
        "  # TODO compute drdt and disable the error\n",
        "  raise NotImplementedError(\"Finish the compute_drdt function\")\n",
        "  #########################################################################\n",
        "\n",
        "  # Calculate drdt\n",
        "  drdt = ...\n",
        "\n",
        "  return drdt\n",
        "\n",
        "\n",
        "# Define a vector of r values and the simulation parameters\n",
        "r = np.linspace(0, 1, 1000)\n",
        "pars = default_pars_single(I_ext=0.5, w=5)\n",
        "\n",
        "# Compute dr/dt\n",
        "drdt = compute_drdt(r, **pars)\n",
        "\n",
        "# Visualize\n",
        "plot_dr_r(r, drdt)"
      ]
    },
    {
      "cell_type": "markdown",
      "metadata": {
        "execution": {},
        "id": "l4najG0SlV4k"
      },
      "source": [
        "### Coding Exercise 2.1.2: Numerical calculation of fixed points\n",
        "\n",
        "We will now find the fixed points numerically. To do so, we need to specify initial values ($r_{\\text{guess}}$) for the root-finding algorithm to start from. From the line $\\displaystyle{\\frac{dr}{dt}}$ plotted above in the last exercise, initial values can be chosen as a set of values close to where the line crosses zero on the y axis (real fixed point).\n",
        "\n",
        "The next cell defines three helper functions that we will use:\n",
        "\n",
        "- `my_fp_single(r_guess, **pars)` uses a root-finding algorithm to locate a fixed point near a given initial value\n",
        "- `check_fp_single(x_fp, **pars)` verifies that the values of $r_{\\rm fp}$ for which $\\displaystyle{\\frac{dr}{dt}} = 0$ are the true fixed points\n",
        "- `my_fp_finder(r_guess_vector, **pars)` accepts an array of initial values and finds the same number of fixed points, using the above two functions"
      ]
    },
    {
      "cell_type": "code",
      "execution_count": null,
      "metadata": {
        "cellView": "form",
        "execution": {},
        "id": "hqzq0_lZlV4l"
      },
      "outputs": [],
      "source": [
        "# @markdown Execute this cell to enable the fixed point functions\n",
        "\n",
        "def my_fp_single(r_guess, a, theta, w, I_ext, **other_pars):\n",
        "  \"\"\"\n",
        "  Calculate the fixed point through drE/dt=0\n",
        "\n",
        "  Args:\n",
        "    r_guess  : Initial value used for scipy.optimize function\n",
        "    a, theta, w, I_ext : simulation parameters\n",
        "\n",
        "  Returns:\n",
        "    x_fp    : value of fixed point\n",
        "  \"\"\"\n",
        "  # define the right hand of E dynamics\n",
        "  def my_WCr(x):\n",
        "    r = x\n",
        "    drdt = (-r + F(w * r + I_ext, a, theta))\n",
        "    y = np.array(drdt)\n",
        "\n",
        "    return y\n",
        "\n",
        "  x0 = np.array(r_guess)\n",
        "  x_fp = opt.root(my_WCr, x0).x.item()\n",
        "\n",
        "  return x_fp\n",
        "\n",
        "\n",
        "def check_fp_single(x_fp, a, theta, w, I_ext, mytol=1e-4, **other_pars):\n",
        "  \"\"\"\n",
        "   Verify |dr/dt| < mytol\n",
        "\n",
        "  Args:\n",
        "    fp      : value of fixed point\n",
        "    a, theta, w, I_ext: simulation parameters\n",
        "    mytol   : tolerance, default as 10^{-4}\n",
        "\n",
        "  Returns :\n",
        "    Whether it is a correct fixed point: True/False\n",
        "  \"\"\"\n",
        "  # calculate Equation(3)\n",
        "  y = x_fp - F(w * x_fp + I_ext, a, theta)\n",
        "\n",
        "  # Here we set tolerance as 10^{-4}\n",
        "  return np.abs(y) < mytol\n",
        "\n",
        "\n",
        "def my_fp_finder(pars, r_guess_vector, mytol=1e-4):\n",
        "  \"\"\"\n",
        "  Calculate the fixed point(s) through drE/dt=0\n",
        "\n",
        "  Args:\n",
        "    pars    : Parameter dictionary\n",
        "    r_guess_vector  : Initial values used for scipy.optimize function\n",
        "    mytol   : tolerance for checking fixed point, default as 10^{-4}\n",
        "\n",
        "  Returns:\n",
        "    x_fps   : values of fixed points\n",
        "\n",
        "  \"\"\"\n",
        "  x_fps = []\n",
        "  correct_fps = []\n",
        "  for r_guess in r_guess_vector:\n",
        "    x_fp = my_fp_single(r_guess, **pars)\n",
        "    if check_fp_single(x_fp, **pars, mytol=mytol):\n",
        "      x_fps.append(x_fp)\n",
        "\n",
        "  return x_fps\n",
        "\n",
        "\n",
        "help(my_fp_finder)"
      ]
    },
    {
      "cell_type": "code",
      "execution_count": null,
      "metadata": {
        "execution": {},
        "id": "6s7M5vrFlV4l"
      },
      "outputs": [],
      "source": [
        "# Set parameters\n",
        "r = np.linspace(0, 1, 1000)\n",
        "pars = default_pars_single(I_ext=0.5, w=5)\n",
        "\n",
        "# Compute dr/dt\n",
        "drdt = compute_drdt(r, **pars)\n",
        "\n",
        "#############################################################################\n",
        "# TODO for students:\n",
        "# Define initial values close to the intersections of drdt and y=0\n",
        "# (How many initial values? Hint: How many times do the two lines intersect?)\n",
        "# Calculate the fixed point with these initial values and plot them\n",
        "raise NotImplementedError('student_exercise: find fixed points numerically')\n",
        "#############################################################################\n",
        "\n",
        "# Initial guesses for fixed points\n",
        "r_guess_vector = [...]\n",
        "\n",
        "# Find fixed point numerically\n",
        "x_fps = my_fp_finder(pars, r_guess_vector)\n",
        "\n",
        "# Visualize\n",
        "plot_dr_r(r, drdt, x_fps)"
      ]
    },
    {
      "cell_type": "markdown",
      "metadata": {
        "execution": {},
        "id": "2NrhupwIlV4l"
      },
      "source": [
        "### Interactive Demo 2.1: fixed points as a function of recurrent and external inputs.\n",
        "\n",
        "You can now explore how the previous plot changes when the recurrent coupling $w$ and the external input $I_{\\text{ext}}$ take different values. How does the number of fixed points change?"
      ]
    },
    {
      "cell_type": "code",
      "execution_count": null,
      "metadata": {
        "cellView": "form",
        "execution": {},
        "id": "p-zd9U-MlV4l"
      },
      "outputs": [],
      "source": [
        "# @markdown Make sure you execute this cell to enable the widget!\n",
        "\n",
        "@widgets.interact(\n",
        "    w=widgets.FloatSlider(4., min=1., max=7., step=0.2),\n",
        "    I_ext=widgets.FloatSlider(1.5, min=0., max=3., step=0.1)\n",
        ")\n",
        "\n",
        "\n",
        "def plot_intersection_single(w, I_ext):\n",
        "  # set your parameters\n",
        "  pars = default_pars_single(w=w, I_ext=I_ext)\n",
        "\n",
        "  # find fixed points\n",
        "  r_init_vector = [0, .4, .9]\n",
        "  x_fps = my_fp_finder(pars, r_init_vector)\n",
        "\n",
        "  # plot\n",
        "  r = np.linspace(0, 1., 1000)\n",
        "  drdt = (-r + F(w * r + I_ext, pars['a'], pars['theta'])) / pars['tau']\n",
        "\n",
        "  plot_dr_r(r, drdt, x_fps)"
      ]
    },
    {
      "cell_type": "markdown",
      "metadata": {
        "execution": {},
        "id": "7ckt1wwGlV4l"
      },
      "source": [
        "## Section 2.2: Relationship between trajectories & fixed points\n",
        "\n",
        "Let's examine the relationship between the population activity over time and the fixed points.\n",
        "\n",
        "Here, let us first set $w=5.0$ and $I_{\\text{ext}}=0.5$, and investigate the dynamics of $r(t)$ starting with different initial values $r(0) \\equiv r_{\\text{init}}$."
      ]
    },
    {
      "cell_type": "code",
      "execution_count": null,
      "metadata": {
        "cellView": "form",
        "execution": {},
        "id": "I2-ivVtnlV4l"
      },
      "outputs": [],
      "source": [
        "# @markdown Execute to visualize dr/dt\n",
        "\n",
        "def plot_intersection_single(w, I_ext):\n",
        "  # set your parameters\n",
        "  pars = default_pars_single(w=w, I_ext=I_ext)\n",
        "\n",
        "  # find fixed points\n",
        "  r_init_vector = [0, .4, .9]\n",
        "  x_fps = my_fp_finder(pars, r_init_vector)\n",
        "\n",
        "  # plot\n",
        "  r = np.linspace(0, 1., 1000)\n",
        "  drdt = (-r + F(w * r + I_ext, pars['a'], pars['theta'])) / pars['tau']\n",
        "\n",
        "  plot_dr_r(r, drdt, x_fps)\n",
        "\n",
        "\n",
        "plot_intersection_single(w = 5.0, I_ext = 0.5)"
      ]
    },
    {
      "cell_type": "markdown",
      "metadata": {
        "execution": {},
        "id": "0I-SaIAElV4l"
      },
      "source": [
        "### Interactive Demo 2.2: dynamics as a function of the initial value\n",
        "\n",
        "Let's now set $r_{\\rm init}$ to a value of your choice in this demo. How does the solution change? What do you observe? How does that relate to the previous plot of $\\frac{dr}{dt}$?"
      ]
    },
    {
      "cell_type": "code",
      "execution_count": null,
      "metadata": {
        "cellView": "form",
        "execution": {},
        "id": "d2R9ptPFlV4l"
      },
      "outputs": [],
      "source": [
        "# @markdown Make sure you execute this cell to enable the widget!\n",
        "pars = default_pars_single(w=5.0, I_ext=0.5)\n",
        "\n",
        "@widgets.interact(\n",
        "    r_init=widgets.FloatSlider(0.5, min=0., max=1., step=.02)\n",
        ")\n",
        "\n",
        "def plot_single_diffEinit(r_init):\n",
        "  pars['r_init'] = r_init\n",
        "  r = simulate_single(pars)\n",
        "\n",
        "  plt.figure()\n",
        "  plt.plot(pars['range_t'], r, 'b', zorder=1)\n",
        "  plt.plot(0, r[0], 'bo', alpha=0.7, zorder=2)\n",
        "  plt.xlabel('t (ms)', fontsize=16)\n",
        "  plt.ylabel(r'$r(t)$', fontsize=16)\n",
        "  plt.ylim(0, 1.0)\n",
        "  plt.show()"
      ]
    },
    {
      "cell_type": "markdown",
      "metadata": {
        "execution": {},
        "id": "Eb-UYoCTlV4l"
      },
      "source": [
        "We will plot the trajectories of $r(t)$ with $r_{\\text{init}} = 0.0, 0.1, 0.2,..., 0.9$."
      ]
    },
    {
      "cell_type": "code",
      "execution_count": null,
      "metadata": {
        "cellView": "form",
        "execution": {},
        "id": "RAYbVBFVlV4l"
      },
      "outputs": [],
      "source": [
        "# @markdown Execute this cell to see the trajectories!\n",
        "\n",
        "pars = default_pars_single()\n",
        "pars['w'] = 5.0\n",
        "pars['I_ext'] = 0.5\n",
        "\n",
        "plt.figure(figsize=(8, 5))\n",
        "for ie in range(10):\n",
        "  pars['r_init'] = 0.1 * ie  # set the initial value\n",
        "  r = simulate_single(pars)  # run the simulation\n",
        "\n",
        "  # plot the activity with given initial\n",
        "  plt.plot(pars['range_t'], r, 'b', alpha=0.1 + 0.1 * ie,\n",
        "           label=r'r$_{\\mathrm{init}}$=%.1f' % (0.1 * ie))\n",
        "\n",
        "plt.xlabel('t (ms)')\n",
        "plt.title('Two steady states?')\n",
        "plt.ylabel(r'$r$(t)')\n",
        "plt.legend(loc=[1.01, -0.06], fontsize=14)\n",
        "plt.show()"
      ]
    },
    {
      "cell_type": "markdown",
      "metadata": {
        "execution": {},
        "id": "N_rrkoxnlV4l"
      },
      "source": [
        "We have three fixed points but only two steady states showing up - what's happening?\n",
        "\n",
        "It turns out that the stability of the fixed points matters. If a fixed point is stable, a trajectory starting near that fixed point will stay close to that fixed point and converge to it (the steady state will equal the fixed point). If a fixed point is unstable, any trajectories starting close to it will diverge and go towards stable fixed points. In fact, the only way for a trajectory to reach a stable state at an unstable fixed point is if the initial value **exactly** equals the value of the fixed point."
      ]
    },
    {
      "cell_type": "markdown",
      "metadata": {
        "execution": {},
        "id": "Bpd3GcOilV4m"
      },
      "source": [
        "### Think! 2.2: Stable vs unstable fixed points\n",
        "\n",
        "Which of the fixed points for the model we've been examining in this section are stable vs unstable?"
      ]
    },
    {
      "cell_type": "code",
      "execution_count": null,
      "metadata": {
        "cellView": "form",
        "execution": {},
        "id": "CIhNDYNnlV4p"
      },
      "outputs": [],
      "source": [
        "# @markdown Execute to print fixed point values\n",
        "\n",
        "# Initial guesses for fixed points\n",
        "r_guess_vector = [0, .4, .9]\n",
        "\n",
        "# Find fixed point numerically\n",
        "x_fps = my_fp_finder(pars, r_guess_vector)\n",
        "\n",
        "print(f'Our fixed points are {x_fps}')"
      ]
    },
    {
      "cell_type": "markdown",
      "metadata": {
        "execution": {},
        "id": "ZpxD-76ulV4p"
      },
      "source": [
        "We can simulate the trajectory if we start at the unstable fixed point: you can see that it remains at that fixed point (the red line below)."
      ]
    },
    {
      "cell_type": "code",
      "execution_count": null,
      "metadata": {
        "cellView": "form",
        "execution": {},
        "id": "kcKQfSnZlV4p"
      },
      "outputs": [],
      "source": [
        "# @markdown Execute to visualize trajectory starting at unstable fixed point\n",
        "pars = default_pars_single()\n",
        "pars['w'] = 5.0\n",
        "pars['I_ext'] = 0.5\n",
        "\n",
        "plt.figure(figsize=(8, 5))\n",
        "for ie in range(10):\n",
        "  pars['r_init'] = 0.1 * ie  # set the initial value\n",
        "  r = simulate_single(pars)  # run the simulation\n",
        "\n",
        "  # plot the activity with given initial\n",
        "  plt.plot(pars['range_t'], r, 'b', alpha=0.1 + 0.1 * ie,\n",
        "           label=r'r$_{\\mathrm{init}}$=%.1f' % (0.1 * ie))\n",
        "\n",
        "pars['r_init'] = x_fps[1]  # set the initial value\n",
        "r = simulate_single(pars)  # run the simulation\n",
        "\n",
        "# plot the activity with given initial\n",
        "plt.plot(pars['range_t'], r, 'r', alpha=0.1 + 0.1 * ie,\n",
        "          label=r'r$_{\\mathrm{init}}$=%.4f' % (x_fps[1]))\n",
        "\n",
        "plt.xlabel('t (ms)')\n",
        "plt.title('Two steady states?')\n",
        "plt.ylabel(r'$r$(t)')\n",
        "plt.legend(loc=[1.01, -0.06], fontsize=14)\n",
        "plt.show()"
      ]
    },
    {
      "cell_type": "markdown",
      "metadata": {
        "execution": {},
        "id": "y07z9j-_lV4p"
      },
      "source": [
        "See Bonus Section 1 to cover how to determine the stability of fixed points in a quantitative way."
      ]
    },
    {
      "cell_type": "markdown",
      "metadata": {
        "execution": {},
        "id": "XEDGyVLelV4p"
      },
      "source": [
        "## Think! 2: Inhibitory populations\n",
        "\n",
        "Throughout the tutorial, we have assumed $w> 0 $, i.e., we considered a single population of **excitatory** neurons. What do you think will be the behavior of a population of inhibitory neurons, i.e., where $w> 0$ is replaced by $w< 0$?"
      ]
    },
    {
      "cell_type": "markdown",
      "metadata": {
        "execution": {},
        "id": "FX76yXVQlV4p"
      },
      "source": [
        "---\n",
        "# Summary\n",
        "\n",
        "In this tutorial, we have investigated the dynamics of a rate-based single population of neurons.\n",
        "\n",
        "We learned about:\n",
        "- The effect of the input parameters and the time constant of the network on the dynamics of the population.\n",
        "- How to find the fixed point(s) of the system.\n",
        "\n",
        "We build on these concepts in the bonus material - check it out if you have time. You will learn:\n",
        "\n",
        "- How to determine the stability of a fixed point by linearizing the system.\n",
        "- How to add realistic inputs to our model."
      ]
    },
    {
      "cell_type": "markdown",
      "metadata": {
        "execution": {},
        "id": "5xi4Ty6ZlV4p"
      },
      "source": [
        "---\n",
        "# Bonus"
      ]
    },
    {
      "cell_type": "markdown",
      "metadata": {
        "execution": {},
        "id": "uEJZtsxllV4p"
      },
      "source": [
        "## Bonus Section 1: Stability analysis via linearization of the dynamics"
      ]
    },
    {
      "cell_type": "markdown",
      "metadata": {
        "execution": {},
        "id": "IwQ-3cErlV4p"
      },
      "source": [
        "Here we will dive into the math of how to figure out the stability of a fixed point.\n",
        "\n",
        "\n",
        "Just like in our equation for the feedforward network, a generic linear system\n",
        "$\\frac{dx}{dt} = \\lambda (x - b)$, has a fixed point for $x=b$. The analytical solution of such a system can be found to be:\n",
        "\n",
        "\\begin{equation}\n",
        "x(t) = b + \\big{(} x(0) - b \\big{)} \\text{e}^{\\lambda t}.\n",
        "\\end{equation}\n",
        "\n",
        "Now consider a small perturbation of the activity around the fixed point: $x(0) = b + \\epsilon$, where $|\\epsilon| \\ll 1$. Will the perturbation $\\epsilon(t)$ grow with time or will it decay to the fixed point? The evolution of the perturbation with time can be written, using the analytical solution for $x(t)$, as:\n",
        "\n",
        "\\begin{equation}\n",
        "\\epsilon (t) = x(t) - b = \\epsilon \\text{e}^{\\lambda t}\n",
        "\\end{equation}\n",
        "\n",
        "<br>\n",
        "\n",
        "- if $\\lambda < 0$, $\\epsilon(t)$ decays to zero, $x(t)$ will still converge to $b$ and the fixed point is \"**stable**\".\n",
        "\n",
        "- if $\\lambda > 0$, $\\epsilon(t)$ grows with time, $x(t)$ will leave the fixed point $b$ exponentially, and the fixed point is, therefore, \"**unstable**\" ."
      ]
    },
    {
      "cell_type": "markdown",
      "metadata": {
        "execution": {},
        "id": "TlMgB1nwlV4p"
      },
      "source": [
        "Similar to what we did in the linear system above, in order to determine the stability of a fixed point $r^{*}$ of the excitatory population dynamics, we perturb Equation (1) around $r^{*}$ by $\\epsilon$, i.e. $r = r^{*} + \\epsilon$. We can plug in Equation (1) and obtain the equation determining the time evolution of the perturbation $\\epsilon(t)$:\n",
        "\n",
        "\\begin{equation}\n",
        "\\tau \\frac{d\\epsilon}{dt} \\approx -\\epsilon + w F'(w\\cdot r^{*} + I_{\\text{ext}};a,\\theta) \\epsilon\n",
        "\\end{equation}\n",
        "\n",
        "where $F'(\\cdot)$ is the derivative of the transfer function $F(\\cdot)$. We can rewrite the above equation as:\n",
        "\n",
        "\\begin{equation}\n",
        "\\frac{d\\epsilon}{dt} \\approx \\frac{\\epsilon}{\\tau }[-1 + w F'(w\\cdot r^* + I_{\\text{ext}};a,\\theta)]\n",
        "\\end{equation}\n",
        "\n",
        "That is, as in the linear system above, the value of\n",
        "\n",
        "\\begin{equation}\n",
        "\\lambda = [-1+ wF'(w\\cdot r^* + I_{\\text{ext}};a,\\theta)]/\\tau \\qquad (4)\n",
        "\\end{equation}\n",
        "\n",
        "determines whether the perturbation will grow or decay to zero, i.e., $\\lambda$ defines the stability of the fixed point. This value is called the **eigenvalue** of the dynamical system."
      ]
    },
    {
      "cell_type": "markdown",
      "metadata": {
        "execution": {},
        "id": "gHL6o4L4lV4p"
      },
      "source": [
        "The derivative of the sigmoid transfer function is:\n",
        "\n",
        "\\begin{align}\n",
        "\\frac{dF}{dx} & = \\frac{d}{dx} (1+\\exp\\{-a(x-\\theta)\\})^{-1}  \\\\\n",
        "& = a\\exp\\{-a(x-\\theta)\\} (1+\\exp\\{-a(x-\\theta)\\})^{-2}. \\qquad (5)\n",
        "\\end{align}\n",
        "\n",
        "We provide a helper function `dF` which computes this derivative."
      ]
    },
    {
      "cell_type": "code",
      "execution_count": null,
      "metadata": {
        "cellView": "form",
        "execution": {},
        "id": "PPqhkiLilV4p"
      },
      "outputs": [],
      "source": [
        "# @markdown Execute this cell to enable helper function `dF` and visualize derivative\n",
        "\n",
        "def dF(x, a, theta):\n",
        "  \"\"\"\n",
        "  Population activation function.\n",
        "\n",
        "  Args:\n",
        "    x     : the population input\n",
        "    a     : the gain of the function\n",
        "    theta : the threshold of the function\n",
        "\n",
        "  Returns:\n",
        "    dFdx  : the population activation response F(x) for input x\n",
        "  \"\"\"\n",
        "\n",
        "  # Calculate the population activation\n",
        "  dFdx = a * np.exp(-a * (x - theta)) * (1 + np.exp(-a * (x - theta)))**-2\n",
        "\n",
        "  return dFdx\n",
        "\n",
        "# Set parameters\n",
        "pars = default_pars_single()  # get default parameters\n",
        "x = np.arange(0, 10, .1)      # set the range of input\n",
        "\n",
        "# Compute derivative of transfer function\n",
        "df = dF(x, pars['a'], pars['theta'])\n",
        "\n",
        "# Visualize\n",
        "plot_dFdt(x, df)"
      ]
    },
    {
      "cell_type": "markdown",
      "metadata": {
        "execution": {},
        "id": "uRYMdJHplV4p"
      },
      "source": [
        "### Bonus Coding Exercise 1: Compute eigenvalues\n",
        "\n",
        "As discussed above, for the case with $w=5.0$ and $I_{\\text{ext}}=0.5$, the system displays **three** fixed points. However, when we simulated the dynamics and varied the initial conditions $r_{\\rm init}$, we could only obtain **two** steady states. In this exercise, we will now check the stability of each of the three fixed points by calculating the corresponding eigenvalues with the function `eig_single`. Check the sign of each eigenvalue (i.e., stability of each fixed point). How many of the fixed points are stable?\n",
        "\n",
        "Note that the expression of the eigenvalue at fixed point $r^*$:\n",
        "\n",
        "\\begin{equation}\n",
        "\\lambda = [-1+ wF'(w\\cdot r^* + I_{\\text{ext}};a,\\theta)]/\\tau\n",
        "\\end{equation}"
      ]
    },
    {
      "cell_type": "code",
      "execution_count": null,
      "metadata": {
        "execution": {},
        "id": "vEerrUR5lV4p"
      },
      "outputs": [],
      "source": [
        "def eig_single(fp, tau, a, theta, w, I_ext, **other_pars):\n",
        "  \"\"\"\n",
        "  Args:\n",
        "    fp   : fixed point r_fp\n",
        "    tau, a, theta, w, I_ext : Simulation parameters\n",
        "\n",
        "  Returns:\n",
        "    eig : eigenvalue of the linearized system\n",
        "  \"\"\"\n",
        "  #####################################################################\n",
        "  ## TODO for students: compute eigenvalue and disable the error\n",
        "  raise NotImplementedError(\"Student exercise: compute the eigenvalue\")\n",
        "  ######################################################################\n",
        "  # Compute the eigenvalue\n",
        "  eig = ...\n",
        "\n",
        "  return eig\n",
        "\n",
        "\n",
        "# Find the eigenvalues for all fixed points\n",
        "pars = default_pars_single(w=5, I_ext=.5)\n",
        "r_guess_vector = [0, .4, .9]\n",
        "x_fp = my_fp_finder(pars, r_guess_vector)\n",
        "\n",
        "\n",
        "for fp in x_fp:\n",
        "  eig_fp = eig_single(fp, **pars)\n",
        "  print(f'Fixed point1 at {fp:.3f} with Eigenvalue={eig_fp:.3f}')"
      ]
    },
    {
      "cell_type": "markdown",
      "metadata": {
        "execution": {},
        "id": "h8npq7hGlV4q"
      },
      "source": [
        "**SAMPLE OUTPUT**\n",
        "\n",
        "```\n",
        "Fixed point1 at 0.042 with Eigenvalue=-0.583\n",
        "Fixed point2 at 0.447 with Eigenvalue=0.498\n",
        "Fixed point3 at 0.900 with Eigenvalue=-0.626\n",
        "```"
      ]
    },
    {
      "cell_type": "markdown",
      "metadata": {
        "execution": {},
        "id": "LPp41FZTlV4q"
      },
      "source": [
        "We can see that the first and third fixed points are stable (negative eigenvalues) and the second is unstable (positive eigenvalue) - as we expected!"
      ]
    },
    {
      "cell_type": "markdown",
      "metadata": {
        "execution": {},
        "id": "sGMgVibJlV4q"
      },
      "source": [
        "## Bonus Section 2: Noisy input drives the transition between two stable states"
      ]
    },
    {
      "cell_type": "markdown",
      "metadata": {
        "execution": {},
        "id": "ZFhw3ov7lV4q"
      },
      "source": [
        "As discussed in several previous tutorials, the Ornstein-Uhlenbeck (OU) process is usually used to generate a noisy input into the neuron. The OU input $\\eta(t)$ follows:\n",
        "\n",
        "\\begin{equation}\n",
        "\\tau_\\eta \\frac{d}{dt}\\eta(t) = -\\eta (t) + \\sigma_\\eta\\sqrt{2\\tau_\\eta}\\xi(t)\n",
        "\\end{equation}\n",
        "\n",
        "Execute the following function `my_OU(pars, sig, myseed=False)` to generate an OU process."
      ]
    },
    {
      "cell_type": "code",
      "execution_count": null,
      "metadata": {
        "cellView": "form",
        "execution": {},
        "id": "HdXTrgB2lV4q"
      },
      "outputs": [],
      "source": [
        "# @markdown Execute to get helper function `my_OU` and visualize OU process\n",
        "\n",
        "\n",
        "def my_OU(pars, sig, myseed=False):\n",
        "  \"\"\"\n",
        "  A functions that generates Ornstein-Uhlenback process\n",
        "\n",
        "  Args:\n",
        "    pars       : parameter dictionary\n",
        "    sig        : noise amplitute\n",
        "    myseed     : random seed. int or boolean\n",
        "\n",
        "  Returns:\n",
        "    I          : Ornstein-Uhlenbeck input current\n",
        "  \"\"\"\n",
        "\n",
        "  # Retrieve simulation parameters\n",
        "  dt, range_t = pars['dt'], pars['range_t']\n",
        "  Lt = range_t.size\n",
        "  tau_ou = pars['tau_ou']  # [ms]\n",
        "\n",
        "  # set random seed\n",
        "  if myseed:\n",
        "      np.random.seed(seed=myseed)\n",
        "  else:\n",
        "      np.random.seed()\n",
        "\n",
        "  # Initialize\n",
        "  noise = np.random.randn(Lt)\n",
        "  I_ou = np.zeros(Lt)\n",
        "  I_ou[0] = noise[0] * sig\n",
        "\n",
        "  # generate OU\n",
        "  for it in range(Lt - 1):\n",
        "    I_ou[it + 1] = (I_ou[it]\n",
        "                    + dt / tau_ou * (0. - I_ou[it])\n",
        "                    + np.sqrt(2 * dt / tau_ou) * sig * noise[it + 1])\n",
        "\n",
        "  return I_ou\n",
        "\n",
        "\n",
        "pars = default_pars_single(T=100)\n",
        "pars['tau_ou'] = 1.  # [ms]\n",
        "sig_ou = 0.1\n",
        "I_ou = my_OU(pars, sig=sig_ou, myseed=2020)\n",
        "plt.figure(figsize=(10, 4))\n",
        "plt.plot(pars['range_t'], I_ou, 'r')\n",
        "plt.xlabel('t (ms)')\n",
        "plt.ylabel(r'$I_{\\mathrm{OU}}$')\n",
        "plt.show()"
      ]
    },
    {
      "cell_type": "markdown",
      "metadata": {
        "execution": {},
        "id": "vfIbRr6ZlV4q"
      },
      "source": [
        "In the presence of two or more fixed points, noisy inputs can drive a transition between the fixed points! Here, we stimulate an E population for 1,000 ms applying OU inputs."
      ]
    },
    {
      "cell_type": "code",
      "execution_count": null,
      "metadata": {
        "cellView": "form",
        "execution": {},
        "id": "uinhtExOlV4q"
      },
      "outputs": [],
      "source": [
        "# @markdown Execute this cell to simulate E population with OU inputs\n",
        "\n",
        "pars = default_pars_single(T=1000)\n",
        "pars['w'] = 5.0\n",
        "sig_ou = 0.7\n",
        "pars['tau_ou'] = 1.  # [ms]\n",
        "pars['I_ext'] = 0.56 + my_OU(pars, sig=sig_ou, myseed=2020)\n",
        "\n",
        "r = simulate_single(pars)\n",
        "\n",
        "plt.figure(figsize=(10, 4))\n",
        "plt.plot(pars['range_t'], r, 'b', alpha=0.8)\n",
        "plt.xlabel('t (ms)')\n",
        "plt.ylabel(r'$r(t)$')\n",
        "plt.show()"
      ]
    },
    {
      "cell_type": "markdown",
      "metadata": {
        "execution": {},
        "id": "1j4VDl3ZlV4q"
      },
      "source": [
        "You can see that the population activity is changing between fixed points (it goes up and down)!"
      ]
    }
  ],
  "metadata": {
    "colab": {
      "provenance": [],
      "toc_visible": true,
      "include_colab_link": true
    },
    "kernel": {
      "display_name": "Python 3",
      "language": "python",
      "name": "python3"
    },
    "kernelspec": {
      "display_name": "Python 3",
      "name": "python3"
    },
    "language_info": {
      "codemirror_mode": {
        "name": "ipython",
        "version": 3
      },
      "file_extension": ".py",
      "mimetype": "text/x-python",
      "name": "python",
      "nbconvert_exporter": "python",
      "pygments_lexer": "ipython3",
      "version": "3.9.17"
    },
    "widgets": {
      "application/vnd.jupyter.widget-state+json": {
        "e9afb4b788fa487d8c9b5a4d2937096e": {
          "model_module": "@jupyter-widgets/controls",
          "model_name": "VBoxModel",
          "model_module_version": "1.5.0",
          "state": {
            "_dom_classes": [
              "widget-interact"
            ],
            "_model_module": "@jupyter-widgets/controls",
            "_model_module_version": "1.5.0",
            "_model_name": "VBoxModel",
            "_view_count": null,
            "_view_module": "@jupyter-widgets/controls",
            "_view_module_version": "1.5.0",
            "_view_name": "VBoxView",
            "box_style": "",
            "children": [
              "IPY_MODEL_3c255f67a01d4953a667f2695c8ff26f",
              "IPY_MODEL_16d5f286b6724a9fa6869f07479d2103",
              "IPY_MODEL_4bdd88519e0c470e912eba84a92c139b"
            ],
            "layout": "IPY_MODEL_5441f5034ee44a68903f5d1fe2744b36"
          }
        },
        "3c255f67a01d4953a667f2695c8ff26f": {
          "model_module": "@jupyter-widgets/controls",
          "model_name": "FloatSliderModel",
          "model_module_version": "1.5.0",
          "state": {
            "_dom_classes": [],
            "_model_module": "@jupyter-widgets/controls",
            "_model_module_version": "1.5.0",
            "_model_name": "FloatSliderModel",
            "_view_count": null,
            "_view_module": "@jupyter-widgets/controls",
            "_view_module_version": "1.5.0",
            "_view_name": "FloatSliderView",
            "continuous_update": true,
            "description": "a",
            "description_tooltip": null,
            "disabled": false,
            "layout": "IPY_MODEL_f73844d387d549f9af3c8e3d14d87a51",
            "max": 3,
            "min": 0.3,
            "orientation": "horizontal",
            "readout": true,
            "readout_format": ".2f",
            "step": 0.3,
            "style": "IPY_MODEL_6887fb6f9a864f7e8b4c4fe1c7e954a0",
            "value": 0.9
          }
        },
        "16d5f286b6724a9fa6869f07479d2103": {
          "model_module": "@jupyter-widgets/controls",
          "model_name": "FloatSliderModel",
          "model_module_version": "1.5.0",
          "state": {
            "_dom_classes": [],
            "_model_module": "@jupyter-widgets/controls",
            "_model_module_version": "1.5.0",
            "_model_name": "FloatSliderModel",
            "_view_count": null,
            "_view_module": "@jupyter-widgets/controls",
            "_view_module_version": "1.5.0",
            "_view_name": "FloatSliderView",
            "continuous_update": true,
            "description": "theta",
            "description_tooltip": null,
            "disabled": false,
            "layout": "IPY_MODEL_d641f43ddcff43c689c5d9292aadb121",
            "max": 4,
            "min": 2,
            "orientation": "horizontal",
            "readout": true,
            "readout_format": ".2f",
            "step": 0.2,
            "style": "IPY_MODEL_e81ebe541e6d4ef8a95768e8b3da4b2a",
            "value": 3
          }
        },
        "4bdd88519e0c470e912eba84a92c139b": {
          "model_module": "@jupyter-widgets/output",
          "model_name": "OutputModel",
          "model_module_version": "1.0.0",
          "state": {
            "_dom_classes": [],
            "_model_module": "@jupyter-widgets/output",
            "_model_module_version": "1.0.0",
            "_model_name": "OutputModel",
            "_view_count": null,
            "_view_module": "@jupyter-widgets/output",
            "_view_module_version": "1.0.0",
            "_view_name": "OutputView",
            "layout": "IPY_MODEL_718156a8616541c580f530625161c5ba",
            "msg_id": "",
            "outputs": [
              {
                "output_type": "display_data",
                "data": {
                  "text/plain": "<Figure size 800x600 with 1 Axes>",
                  "image/png": "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\n"
                },
                "metadata": {
                  "image/png": {
                    "width": 775,
                    "height": 575
                  }
                }
              }
            ]
          }
        },
        "5441f5034ee44a68903f5d1fe2744b36": {
          "model_module": "@jupyter-widgets/base",
          "model_name": "LayoutModel",
          "model_module_version": "1.2.0",
          "state": {
            "_model_module": "@jupyter-widgets/base",
            "_model_module_version": "1.2.0",
            "_model_name": "LayoutModel",
            "_view_count": null,
            "_view_module": "@jupyter-widgets/base",
            "_view_module_version": "1.2.0",
            "_view_name": "LayoutView",
            "align_content": null,
            "align_items": null,
            "align_self": null,
            "border": null,
            "bottom": null,
            "display": null,
            "flex": null,
            "flex_flow": null,
            "grid_area": null,
            "grid_auto_columns": null,
            "grid_auto_flow": null,
            "grid_auto_rows": null,
            "grid_column": null,
            "grid_gap": null,
            "grid_row": null,
            "grid_template_areas": null,
            "grid_template_columns": null,
            "grid_template_rows": null,
            "height": null,
            "justify_content": null,
            "justify_items": null,
            "left": null,
            "margin": null,
            "max_height": null,
            "max_width": null,
            "min_height": null,
            "min_width": null,
            "object_fit": null,
            "object_position": null,
            "order": null,
            "overflow": null,
            "overflow_x": null,
            "overflow_y": null,
            "padding": null,
            "right": null,
            "top": null,
            "visibility": null,
            "width": null
          }
        },
        "f73844d387d549f9af3c8e3d14d87a51": {
          "model_module": "@jupyter-widgets/base",
          "model_name": "LayoutModel",
          "model_module_version": "1.2.0",
          "state": {
            "_model_module": "@jupyter-widgets/base",
            "_model_module_version": "1.2.0",
            "_model_name": "LayoutModel",
            "_view_count": null,
            "_view_module": "@jupyter-widgets/base",
            "_view_module_version": "1.2.0",
            "_view_name": "LayoutView",
            "align_content": null,
            "align_items": null,
            "align_self": null,
            "border": null,
            "bottom": null,
            "display": null,
            "flex": null,
            "flex_flow": null,
            "grid_area": null,
            "grid_auto_columns": null,
            "grid_auto_flow": null,
            "grid_auto_rows": null,
            "grid_column": null,
            "grid_gap": null,
            "grid_row": null,
            "grid_template_areas": null,
            "grid_template_columns": null,
            "grid_template_rows": null,
            "height": null,
            "justify_content": null,
            "justify_items": null,
            "left": null,
            "margin": null,
            "max_height": null,
            "max_width": null,
            "min_height": null,
            "min_width": null,
            "object_fit": null,
            "object_position": null,
            "order": null,
            "overflow": null,
            "overflow_x": null,
            "overflow_y": null,
            "padding": null,
            "right": null,
            "top": null,
            "visibility": null,
            "width": null
          }
        },
        "6887fb6f9a864f7e8b4c4fe1c7e954a0": {
          "model_module": "@jupyter-widgets/controls",
          "model_name": "SliderStyleModel",
          "model_module_version": "1.5.0",
          "state": {
            "_model_module": "@jupyter-widgets/controls",
            "_model_module_version": "1.5.0",
            "_model_name": "SliderStyleModel",
            "_view_count": null,
            "_view_module": "@jupyter-widgets/base",
            "_view_module_version": "1.2.0",
            "_view_name": "StyleView",
            "description_width": "",
            "handle_color": null
          }
        },
        "d641f43ddcff43c689c5d9292aadb121": {
          "model_module": "@jupyter-widgets/base",
          "model_name": "LayoutModel",
          "model_module_version": "1.2.0",
          "state": {
            "_model_module": "@jupyter-widgets/base",
            "_model_module_version": "1.2.0",
            "_model_name": "LayoutModel",
            "_view_count": null,
            "_view_module": "@jupyter-widgets/base",
            "_view_module_version": "1.2.0",
            "_view_name": "LayoutView",
            "align_content": null,
            "align_items": null,
            "align_self": null,
            "border": null,
            "bottom": null,
            "display": null,
            "flex": null,
            "flex_flow": null,
            "grid_area": null,
            "grid_auto_columns": null,
            "grid_auto_flow": null,
            "grid_auto_rows": null,
            "grid_column": null,
            "grid_gap": null,
            "grid_row": null,
            "grid_template_areas": null,
            "grid_template_columns": null,
            "grid_template_rows": null,
            "height": null,
            "justify_content": null,
            "justify_items": null,
            "left": null,
            "margin": null,
            "max_height": null,
            "max_width": null,
            "min_height": null,
            "min_width": null,
            "object_fit": null,
            "object_position": null,
            "order": null,
            "overflow": null,
            "overflow_x": null,
            "overflow_y": null,
            "padding": null,
            "right": null,
            "top": null,
            "visibility": null,
            "width": null
          }
        },
        "e81ebe541e6d4ef8a95768e8b3da4b2a": {
          "model_module": "@jupyter-widgets/controls",
          "model_name": "SliderStyleModel",
          "model_module_version": "1.5.0",
          "state": {
            "_model_module": "@jupyter-widgets/controls",
            "_model_module_version": "1.5.0",
            "_model_name": "SliderStyleModel",
            "_view_count": null,
            "_view_module": "@jupyter-widgets/base",
            "_view_module_version": "1.2.0",
            "_view_name": "StyleView",
            "description_width": "",
            "handle_color": null
          }
        },
        "718156a8616541c580f530625161c5ba": {
          "model_module": "@jupyter-widgets/base",
          "model_name": "LayoutModel",
          "model_module_version": "1.2.0",
          "state": {
            "_model_module": "@jupyter-widgets/base",
            "_model_module_version": "1.2.0",
            "_model_name": "LayoutModel",
            "_view_count": null,
            "_view_module": "@jupyter-widgets/base",
            "_view_module_version": "1.2.0",
            "_view_name": "LayoutView",
            "align_content": null,
            "align_items": null,
            "align_self": null,
            "border": null,
            "bottom": null,
            "display": null,
            "flex": null,
            "flex_flow": null,
            "grid_area": null,
            "grid_auto_columns": null,
            "grid_auto_flow": null,
            "grid_auto_rows": null,
            "grid_column": null,
            "grid_gap": null,
            "grid_row": null,
            "grid_template_areas": null,
            "grid_template_columns": null,
            "grid_template_rows": null,
            "height": null,
            "justify_content": null,
            "justify_items": null,
            "left": null,
            "margin": null,
            "max_height": null,
            "max_width": null,
            "min_height": null,
            "min_width": null,
            "object_fit": null,
            "object_position": null,
            "order": null,
            "overflow": null,
            "overflow_x": null,
            "overflow_y": null,
            "padding": null,
            "right": null,
            "top": null,
            "visibility": null,
            "width": null
          }
        },
        "75945a5e0a1e4d4ea63491a307738d65": {
          "model_module": "@jupyter-widgets/controls",
          "model_name": "VBoxModel",
          "model_module_version": "1.5.0",
          "state": {
            "_dom_classes": [
              "widget-interact"
            ],
            "_model_module": "@jupyter-widgets/controls",
            "_model_module_version": "1.5.0",
            "_model_name": "VBoxModel",
            "_view_count": null,
            "_view_module": "@jupyter-widgets/controls",
            "_view_module_version": "1.5.0",
            "_view_name": "VBoxView",
            "box_style": "",
            "children": [
              "IPY_MODEL_f819a02624e347b3a964a669fe56a4e6",
              "IPY_MODEL_aec8ee39a8df4a3f909fdb6e6050d99b",
              "IPY_MODEL_bfd993b68825401fb5ba9cb1bdeb809a"
            ],
            "layout": "IPY_MODEL_3754ea87ff99452c889a13a9d62a9bbd"
          }
        },
        "f819a02624e347b3a964a669fe56a4e6": {
          "model_module": "@jupyter-widgets/controls",
          "model_name": "FloatSliderModel",
          "model_module_version": "1.5.0",
          "state": {
            "_dom_classes": [],
            "_model_module": "@jupyter-widgets/controls",
            "_model_module_version": "1.5.0",
            "_model_name": "FloatSliderModel",
            "_view_count": null,
            "_view_module": "@jupyter-widgets/controls",
            "_view_module_version": "1.5.0",
            "_view_name": "FloatSliderView",
            "continuous_update": true,
            "description": "I_ext",
            "description_tooltip": null,
            "disabled": false,
            "layout": "IPY_MODEL_0dc571766a6b4db3b41f932e5ceee9fa",
            "max": 10,
            "min": 0,
            "orientation": "horizontal",
            "readout": true,
            "readout_format": ".2f",
            "step": 1,
            "style": "IPY_MODEL_4f51471566dc467a9d1724a6013e6e1d",
            "value": 8
          }
        },
        "aec8ee39a8df4a3f909fdb6e6050d99b": {
          "model_module": "@jupyter-widgets/controls",
          "model_name": "FloatSliderModel",
          "model_module_version": "1.5.0",
          "state": {
            "_dom_classes": [],
            "_model_module": "@jupyter-widgets/controls",
            "_model_module_version": "1.5.0",
            "_model_name": "FloatSliderModel",
            "_view_count": null,
            "_view_module": "@jupyter-widgets/controls",
            "_view_module_version": "1.5.0",
            "_view_name": "FloatSliderView",
            "continuous_update": true,
            "description": "tau",
            "description_tooltip": null,
            "disabled": false,
            "layout": "IPY_MODEL_aa0efaaed73c43c1aef7b44ec88c41a2",
            "max": 5,
            "min": 1,
            "orientation": "horizontal",
            "readout": true,
            "readout_format": ".2f",
            "step": 0.2,
            "style": "IPY_MODEL_cc1ec2ed02724df2b6dd7528851dd01f",
            "value": 3
          }
        },
        "bfd993b68825401fb5ba9cb1bdeb809a": {
          "model_module": "@jupyter-widgets/output",
          "model_name": "OutputModel",
          "model_module_version": "1.0.0",
          "state": {
            "_dom_classes": [],
            "_model_module": "@jupyter-widgets/output",
            "_model_module_version": "1.0.0",
            "_model_name": "OutputModel",
            "_view_count": null,
            "_view_module": "@jupyter-widgets/output",
            "_view_module_version": "1.0.0",
            "_view_name": "OutputView",
            "layout": "IPY_MODEL_e23d3d4971574c08be7c911137840675",
            "msg_id": "",
            "outputs": [
              {
                "output_type": "display_data",
                "data": {
                  "text/plain": "<Figure size 800x600 with 1 Axes>",
                  "image/png": "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\n"
                },
                "metadata": {
                  "image/png": {
                    "width": 775,
                    "height": 574
                  }
                }
              }
            ]
          }
        },
        "3754ea87ff99452c889a13a9d62a9bbd": {
          "model_module": "@jupyter-widgets/base",
          "model_name": "LayoutModel",
          "model_module_version": "1.2.0",
          "state": {
            "_model_module": "@jupyter-widgets/base",
            "_model_module_version": "1.2.0",
            "_model_name": "LayoutModel",
            "_view_count": null,
            "_view_module": "@jupyter-widgets/base",
            "_view_module_version": "1.2.0",
            "_view_name": "LayoutView",
            "align_content": null,
            "align_items": null,
            "align_self": null,
            "border": null,
            "bottom": null,
            "display": null,
            "flex": null,
            "flex_flow": null,
            "grid_area": null,
            "grid_auto_columns": null,
            "grid_auto_flow": null,
            "grid_auto_rows": null,
            "grid_column": null,
            "grid_gap": null,
            "grid_row": null,
            "grid_template_areas": null,
            "grid_template_columns": null,
            "grid_template_rows": null,
            "height": null,
            "justify_content": null,
            "justify_items": null,
            "left": null,
            "margin": null,
            "max_height": null,
            "max_width": null,
            "min_height": null,
            "min_width": null,
            "object_fit": null,
            "object_position": null,
            "order": null,
            "overflow": null,
            "overflow_x": null,
            "overflow_y": null,
            "padding": null,
            "right": null,
            "top": null,
            "visibility": null,
            "width": null
          }
        },
        "0dc571766a6b4db3b41f932e5ceee9fa": {
          "model_module": "@jupyter-widgets/base",
          "model_name": "LayoutModel",
          "model_module_version": "1.2.0",
          "state": {
            "_model_module": "@jupyter-widgets/base",
            "_model_module_version": "1.2.0",
            "_model_name": "LayoutModel",
            "_view_count": null,
            "_view_module": "@jupyter-widgets/base",
            "_view_module_version": "1.2.0",
            "_view_name": "LayoutView",
            "align_content": null,
            "align_items": null,
            "align_self": null,
            "border": null,
            "bottom": null,
            "display": null,
            "flex": null,
            "flex_flow": null,
            "grid_area": null,
            "grid_auto_columns": null,
            "grid_auto_flow": null,
            "grid_auto_rows": null,
            "grid_column": null,
            "grid_gap": null,
            "grid_row": null,
            "grid_template_areas": null,
            "grid_template_columns": null,
            "grid_template_rows": null,
            "height": null,
            "justify_content": null,
            "justify_items": null,
            "left": null,
            "margin": null,
            "max_height": null,
            "max_width": null,
            "min_height": null,
            "min_width": null,
            "object_fit": null,
            "object_position": null,
            "order": null,
            "overflow": null,
            "overflow_x": null,
            "overflow_y": null,
            "padding": null,
            "right": null,
            "top": null,
            "visibility": null,
            "width": null
          }
        },
        "4f51471566dc467a9d1724a6013e6e1d": {
          "model_module": "@jupyter-widgets/controls",
          "model_name": "SliderStyleModel",
          "model_module_version": "1.5.0",
          "state": {
            "_model_module": "@jupyter-widgets/controls",
            "_model_module_version": "1.5.0",
            "_model_name": "SliderStyleModel",
            "_view_count": null,
            "_view_module": "@jupyter-widgets/base",
            "_view_module_version": "1.2.0",
            "_view_name": "StyleView",
            "description_width": "",
            "handle_color": null
          }
        },
        "aa0efaaed73c43c1aef7b44ec88c41a2": {
          "model_module": "@jupyter-widgets/base",
          "model_name": "LayoutModel",
          "model_module_version": "1.2.0",
          "state": {
            "_model_module": "@jupyter-widgets/base",
            "_model_module_version": "1.2.0",
            "_model_name": "LayoutModel",
            "_view_count": null,
            "_view_module": "@jupyter-widgets/base",
            "_view_module_version": "1.2.0",
            "_view_name": "LayoutView",
            "align_content": null,
            "align_items": null,
            "align_self": null,
            "border": null,
            "bottom": null,
            "display": null,
            "flex": null,
            "flex_flow": null,
            "grid_area": null,
            "grid_auto_columns": null,
            "grid_auto_flow": null,
            "grid_auto_rows": null,
            "grid_column": null,
            "grid_gap": null,
            "grid_row": null,
            "grid_template_areas": null,
            "grid_template_columns": null,
            "grid_template_rows": null,
            "height": null,
            "justify_content": null,
            "justify_items": null,
            "left": null,
            "margin": null,
            "max_height": null,
            "max_width": null,
            "min_height": null,
            "min_width": null,
            "object_fit": null,
            "object_position": null,
            "order": null,
            "overflow": null,
            "overflow_x": null,
            "overflow_y": null,
            "padding": null,
            "right": null,
            "top": null,
            "visibility": null,
            "width": null
          }
        },
        "cc1ec2ed02724df2b6dd7528851dd01f": {
          "model_module": "@jupyter-widgets/controls",
          "model_name": "SliderStyleModel",
          "model_module_version": "1.5.0",
          "state": {
            "_model_module": "@jupyter-widgets/controls",
            "_model_module_version": "1.5.0",
            "_model_name": "SliderStyleModel",
            "_view_count": null,
            "_view_module": "@jupyter-widgets/base",
            "_view_module_version": "1.2.0",
            "_view_name": "StyleView",
            "description_width": "",
            "handle_color": null
          }
        },
        "e23d3d4971574c08be7c911137840675": {
          "model_module": "@jupyter-widgets/base",
          "model_name": "LayoutModel",
          "model_module_version": "1.2.0",
          "state": {
            "_model_module": "@jupyter-widgets/base",
            "_model_module_version": "1.2.0",
            "_model_name": "LayoutModel",
            "_view_count": null,
            "_view_module": "@jupyter-widgets/base",
            "_view_module_version": "1.2.0",
            "_view_name": "LayoutView",
            "align_content": null,
            "align_items": null,
            "align_self": null,
            "border": null,
            "bottom": null,
            "display": null,
            "flex": null,
            "flex_flow": null,
            "grid_area": null,
            "grid_auto_columns": null,
            "grid_auto_flow": null,
            "grid_auto_rows": null,
            "grid_column": null,
            "grid_gap": null,
            "grid_row": null,
            "grid_template_areas": null,
            "grid_template_columns": null,
            "grid_template_rows": null,
            "height": null,
            "justify_content": null,
            "justify_items": null,
            "left": null,
            "margin": null,
            "max_height": null,
            "max_width": null,
            "min_height": null,
            "min_width": null,
            "object_fit": null,
            "object_position": null,
            "order": null,
            "overflow": null,
            "overflow_x": null,
            "overflow_y": null,
            "padding": null,
            "right": null,
            "top": null,
            "visibility": null,
            "width": null
          }
        }
      }
    }
  },
  "nbformat": 4,
  "nbformat_minor": 0
}